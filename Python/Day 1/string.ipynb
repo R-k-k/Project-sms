{
 "cells": [
  {
   "cell_type": "markdown",
   "id": "4ba5bb93",
   "metadata": {},
   "source": [
    "# String"
   ]
  },
  {
   "cell_type": "code",
   "execution_count": 1,
   "id": "56e8f9d0",
   "metadata": {},
   "outputs": [
    {
     "name": "stdout",
     "output_type": "stream",
     "text": [
      "<class 'str'>\n",
      "2659446607744\n"
     ]
    }
   ],
   "source": [
    "variable = 'This is a python class'\n",
    "print(type(variable))\n",
    "print(id(variable))"
   ]
  },
  {
   "cell_type": "code",
   "execution_count": 15,
   "id": "f7928e43",
   "metadata": {
    "scrolled": true
   },
   "outputs": [
    {
     "name": "stdout",
     "output_type": "stream",
     "text": [
      "class : Learnbay provides\n",
      "\"Java\", \"Python\" \n",
      "classes\n"
     ]
    }
   ],
   "source": [
    "variable = '''Learnbay provides\n",
    "\"Java\", \"Python\" \n",
    "classes'''\n",
    "print(\"class :\", variable)"
   ]
  },
  {
   "cell_type": "code",
   "execution_count": null,
   "id": "1d0b7d0a",
   "metadata": {},
   "outputs": [],
   "source": [
    "1. 'This is Python class'\n",
    "valid\n",
    "\n",
    "2. \"This is Python class\"\n",
    "valid\n",
    "\n",
    "3. '''This is Python class'''\n",
    "valid\n",
    "\n",
    "4. \"\"\"This is Python class\"\"\"\n",
    "valid\n",
    "\n",
    "5. 'This is Python's class'\n",
    "invalid\n",
    "\n",
    "6. \"Learnbay provides \"Java\", \"Python\" classes\"\n",
    "invalid\n",
    "\n",
    "7. \"Learnbay provides 'Java', 'Python' classes\"\n",
    "valid\n",
    "\n",
    "8. \"This is Python's class\"\n",
    "valid\n",
    "\n",
    "9. \"\"\"Learnbay provides \"Java\", \"Python\" classes\"\"\"\n",
    "valid\n",
    "\n",
    "10. '''Learnbay provides \"Java\", \"Python\" classes'''\n",
    "valid\n",
    "\n",
    "11. '''Learnbay provides\n",
    "\"Java\", \"Python\" \n",
    "classes'''\n",
    "valid\n",
    "\n",
    "12. 'This is\n",
    "Python \n",
    "class'\n",
    "invalid"
   ]
  },
  {
   "cell_type": "code",
   "execution_count": 23,
   "id": "9892f0f4",
   "metadata": {},
   "outputs": [
    {
     "name": "stdout",
     "output_type": "stream",
     "text": [
      "The length of my_str is 66\n",
      "The length of my_str1 is 66\n",
      "id of my_str and my_str1 is same True\n",
      "Type of my_str is: <class 'str'>\n"
     ]
    }
   ],
   "source": [
    "my_str = \"Although that way may not be obvious at first unless you're Dutch.\"\n",
    "my_str1 = \"Although that way may not be obvious at first unless you're Dutch.\"\n",
    "my_str=my_str1\n",
    "\n",
    "print(\"The length of my_str is\",len(my_str))\n",
    "print(\"The length of my_str1 is\",len(my_str1))\n",
    "print(\"id of my_str and my_str1 is same\",id(my_str)==id(my_str1))\n",
    "print(\"Type of my_str is:\",type(my_str))"
   ]
  },
  {
   "cell_type": "markdown",
   "id": "22710886",
   "metadata": {},
   "source": [
    "# Indexing"
   ]
  },
  {
   "cell_type": "code",
   "execution_count": 34,
   "id": "c917c281",
   "metadata": {},
   "outputs": [
    {
     "name": "stdout",
     "output_type": "stream",
     "text": [
      "The first character in my_str is: A\n",
      "The first character in my_str is: h\n",
      "The first character in my_str is:  \n",
      "The last character in my_str is: h\n",
      "The last character in my_str is: h\n",
      "The character in my_str is: 8\n"
     ]
    }
   ],
   "source": [
    "my_str = \"Although 8 that way may not be obvious at first unless you're Dutch\"\n",
    "\n",
    "print(\"The first character in my_str is:\",my_str[0])\n",
    "print(\"The first character in my_str is:\",my_str[-1])\n",
    "print(\"The first character in my_str is:\",my_str[10])\n",
    "print(\"The last character in my_str is:\",my_str[-1])\n",
    "print(\"The last character in my_str is:\", my_str[len(my_str)-1])\n",
    "print(\"The character in my_str is:\",my_str[9])"
   ]
  },
  {
   "cell_type": "markdown",
   "id": "e1977c41",
   "metadata": {},
   "source": [
    "# Slicing"
   ]
  },
  {
   "cell_type": "code",
   "execution_count": 113,
   "id": "5087fcab",
   "metadata": {},
   "outputs": [
    {
     "name": "stdout",
     "output_type": "stream",
     "text": [
      "you have sliced: Although that way may not be obvious at first unless you're Dutch.\n",
      "\n",
      "you have sliced: Although that way may not be obvious at first unless you're Dutch.\n",
      "\n",
      "you have sliced: Although that way may not be obvious at first unless you're Dutch.\n",
      "\n",
      "you have sliced: Although that way may not be obvious at first unless you're Dutch.\n",
      "\n",
      "you have sliced: \n",
      "\n",
      "you have sliced: Atog htwymyntb biu tfrtuls o'eDth\n",
      "\n",
      "you have sliced: Ahgttam tebo  r lsorDc\n",
      "\n",
      "you have sliced: .hctuD er'uoy sselnu tsrif ta suoivbo eb ton yam yaw taht hguohtlA\n",
      "\n",
      "you have sliced: .hctuD er'uoy sselnu tsrif ta suoivbo eb ton yam yaw taht hguohtl\n",
      "\n",
      "you have sliced: Atog htwymyntb biu tfrtuls o'eDth\n",
      "\n",
      "you have sliced: .cu ruysen si asovoe o a a athuhl\n",
      "\n",
      "you have sliced: .cu ruysen si asovoe o a a athuhl\n",
      "\n",
      "you have sliced: \n",
      "\n",
      "you have sliced:  yaw ta\n",
      "\n",
      "you have sliced: ess you\n"
     ]
    }
   ],
   "source": [
    "my_str = \"Although that way may not be obvious at first unless you're Dutch.\"\n",
    "#You have sliced: Although that way may not be obvious at first unless you're Dutch.Without begin, end and step\n",
    "print(\"you have sliced:\",my_str[:])\n",
    "print()\n",
    "#You have sliced: Although that way may not be obvious at first unless you're Dutch.with begin as 0 end using len and without step\n",
    "print(\"you have sliced:\",my_str[:len(my_str)])\n",
    "print()\n",
    "#You have sliced: Although that way may not be obvious at first unless you're Dutch.without begin and end but using step\n",
    "print(\"you have sliced:\",my_str[::1])\n",
    "print()\n",
    "#You have sliced: Although that way may not be obvious at first unless you're Dutch.With begin, end and step\n",
    "print(\"you have sliced:\",my_str[0:len(my_str):1])\n",
    "print()\n",
    "#You have sliced:   .with using begin and end using postive values and step as negative values.\n",
    "#Slicing command should print empty string.\n",
    "print(\"you have sliced:\",my_str[0:0:-1])\n",
    "print()\n",
    "#output:- You have sliced: Atog htwymyntb biu tfrtuls o'eDth\n",
    "print(\"you have sliced:\",my_str[0:len(my_str):2])\n",
    "print()\n",
    "#output:- You have sliced: Ahgttam tebo  r lsorDc\n",
    "print(\"you have sliced:\",my_str[0:len(my_str):3])\n",
    "print()\n",
    "#output:- You have sliced: .hctuD er'uoy sselnu tsrif ta suoivbo eb ton yam yaw taht hguohtlA. Use only step\n",
    "print(\"you have sliced:\",my_str[::-1])\n",
    "print()\n",
    "#output:- You have sliced: .hctuD er'uoy sselnu tsrif ta suoivbo eb ton yam yaw taht hguohtlA. Use begin end and step.\n",
    "print(\"you have sliced:\",my_str[66:0:-1])\n",
    "print()\n",
    "#output:- You have sliced: Atog htwymyntb biu tfrtuls o'eDth\n",
    "print(\"you have sliced:\",my_str[0:66:2])\n",
    "print()\n",
    "#output:- You have sliced: .cu ruysen si asovoe o a a athuhl. use only step\n",
    "print(\"you have sliced:\",my_str[::-2])\n",
    "print()\n",
    "#output:- You have sliced: .cu ruysen si asovoe o a a athuhl. use begin, end and step.\n",
    "print(\"you have sliced:\",my_str[66:0:-2])\n",
    "print()\n",
    "print(\"you have sliced:\",my_str[10:17:-1])\n",
    "print()\n",
    "#output:- You have sliced: yaw ta, Using begin, end and step.\n",
    "print(\"you have sliced:\",my_str[17:10:-1])\n",
    "print()\n",
    "#output:- You have sliced: ess you. Using begin, end and step.\n",
    "print(\"you have sliced:\",my_str[-17:-10:1])"
   ]
  },
  {
   "cell_type": "code",
   "execution_count": 121,
   "id": "dd69defb",
   "metadata": {},
   "outputs": [
    {
     "name": "stdout",
     "output_type": "stream",
     "text": [
      "Learnbay Python\n"
     ]
    }
   ],
   "source": [
    "str1 = 'Learnbay'\n",
    "str2 = 'Python'\n",
    "print(str1,str2)\n"
   ]
  },
  {
   "cell_type": "code",
   "execution_count": 124,
   "id": "f56ca5d8",
   "metadata": {},
   "outputs": [
    {
     "ename": "NameError",
     "evalue": "name 'Learnbay' is not defined",
     "output_type": "error",
     "traceback": [
      "\u001b[1;31m---------------------------------------------------------------------------\u001b[0m",
      "\u001b[1;31mNameError\u001b[0m                                 Traceback (most recent call last)",
      "Cell \u001b[1;32mIn[124], line 1\u001b[0m\n\u001b[1;32m----> 1\u001b[0m str1 \u001b[38;5;241m=\u001b[39m \u001b[43mLearnbay\u001b[49m\n\u001b[0;32m      2\u001b[0m str2 \u001b[38;5;241m=\u001b[39m Python\n\u001b[0;32m      4\u001b[0m \u001b[38;5;28mprint\u001b[39m(\u001b[38;5;28mstr\u001b[39m(str1)\u001b[38;5;241m+\u001b[39m\u001b[38;5;124m'\u001b[39m\u001b[38;5;124m \u001b[39m\u001b[38;5;124m'\u001b[39m\u001b[38;5;241m+\u001b[39m\u001b[38;5;28mstr\u001b[39m(str2))\n",
      "\u001b[1;31mNameError\u001b[0m: name 'Learnbay' is not defined"
     ]
    }
   ],
   "source": [
    "str1 = Learnbay\n",
    "str2 = Python\n",
    "\n",
    "print(str(str1)+' '+str(str2))"
   ]
  },
  {
   "cell_type": "code",
   "execution_count": 125,
   "id": "288ba0af",
   "metadata": {},
   "outputs": [
    {
     "name": "stdout",
     "output_type": "stream",
     "text": [
      "Learnbay Python\n",
      "10 20\n",
      "3.14 2.71\n"
     ]
    }
   ],
   "source": [
    "str1 = 'Learnbay'\n",
    "str2 = 'Python'\n",
    "\n",
    "# Output: Learnbay Python\n",
    "print(str1 + ' ' + str2)\n",
    "\n",
    "# Error: TypeError: can only concatenate str (not \"int\") to str\n",
    "num1 = 10\n",
    "num2 = 20\n",
    "print(str(num1) + ' ' + str(num2))\n",
    "\n",
    "# Error: TypeError: can only concatenate str (not \"float\") to str\n",
    "num1 = 3.14\n",
    "num2 = 2.71\n",
    "print(str(num1) + ' ' + str(num2))\n"
   ]
  },
  {
   "cell_type": "code",
   "execution_count": 126,
   "id": "c7db2028",
   "metadata": {},
   "outputs": [
    {
     "name": "stdout",
     "output_type": "stream",
     "text": [
      "LearnbayLearnbayLearnbay\n"
     ]
    },
    {
     "ename": "TypeError",
     "evalue": "can't multiply sequence by non-int of type 'float'",
     "output_type": "error",
     "traceback": [
      "\u001b[1;31m---------------------------------------------------------------------------\u001b[0m",
      "\u001b[1;31mTypeError\u001b[0m                                 Traceback (most recent call last)",
      "Cell \u001b[1;32mIn[126], line 8\u001b[0m\n\u001b[0;32m      6\u001b[0m \u001b[38;5;66;03m# Error: TypeError: can't multiply sequence by non-int of type 'float'\u001b[39;00m\n\u001b[0;32m      7\u001b[0m num \u001b[38;5;241m=\u001b[39m \u001b[38;5;241m2.5\u001b[39m\n\u001b[1;32m----> 8\u001b[0m \u001b[38;5;28mprint\u001b[39m(\u001b[43mstr1\u001b[49m\u001b[43m \u001b[49m\u001b[38;5;241;43m*\u001b[39;49m\u001b[43m \u001b[49m\u001b[43mnum\u001b[49m)\n\u001b[0;32m     10\u001b[0m \u001b[38;5;66;03m# Error: TypeError: can't multiply sequence by non-int of type 'str'\u001b[39;00m\n\u001b[0;32m     11\u001b[0m text \u001b[38;5;241m=\u001b[39m \u001b[38;5;124m'\u001b[39m\u001b[38;5;124mPython\u001b[39m\u001b[38;5;124m'\u001b[39m\n",
      "\u001b[1;31mTypeError\u001b[0m: can't multiply sequence by non-int of type 'float'"
     ]
    }
   ],
   "source": [
    "str1 = 'Learnbay'\n",
    "\n",
    "# Output: LearnbayLearnbayLearnbay\n",
    "print(str1 * 3)\n",
    "\n",
    "# Error: TypeError: can't multiply sequence by non-int of type 'float'\n",
    "num = 2.5\n",
    "print(str1 * num)\n",
    "\n",
    "# Error: TypeError: can't multiply sequence by non-int of type 'str'\n",
    "text = 'Python'\n",
    "print(text * str1)\n"
   ]
  },
  {
   "cell_type": "code",
   "execution_count": 138,
   "id": "df605e50",
   "metadata": {},
   "outputs": [
    {
     "name": "stdout",
     "output_type": "stream",
     "text": [
      "True\n",
      "\n",
      "False\n",
      "\n",
      "False\n",
      "\n",
      "True\n",
      "\n",
      "True\n",
      "\n",
      "True\n"
     ]
    }
   ],
   "source": [
    "str1 = 'Python'\n",
    "str2 = 'Python'\n",
    "str3 = 'Python$'\n",
    "str4 = 'Python$'\n",
    "\n",
    "\n",
    "#print True by using identity operator between str1 and str2\n",
    "print(str1==str2)\n",
    "print()\n",
    "#print False by using identity operator between str1 and str3\n",
    "print(str1==str3)\n",
    "print()\n",
    "#print False by using identity operator between str4 and str3\n",
    "print(str4!=str3)\n",
    "print()\n",
    "#Check if P is available in str1 and print True by using membership operator\n",
    "print(\"P\" in str1)\n",
    "print()\n",
    "#Check if $ is available in str3 and print True by using membership operator\n",
    "print(\"$\" in str3)\n",
    "print()\n",
    "#Check if N is available in str3 and print False by using membership operator\n",
    "print(\"n\" in str3)"
   ]
  },
  {
   "cell_type": "code",
   "execution_count": 142,
   "id": "76f37835",
   "metadata": {
    "scrolled": true
   },
   "outputs": [
    {
     "name": "stdout",
     "output_type": "stream",
     "text": [
      "This is java class\n"
     ]
    }
   ],
   "source": [
    "str1 = 'This is Python class'\n",
    "str1=str1.replace('Python','java')\n",
    "print(str1)"
   ]
  },
  {
   "cell_type": "code",
   "execution_count": 143,
   "id": "337cf781",
   "metadata": {},
   "outputs": [
    {
     "name": "stdout",
     "output_type": "stream",
     "text": [
      "True\n",
      "True\n",
      "False\n",
      "False\n"
     ]
    }
   ],
   "source": [
    "str1 = 'A'\n",
    "str2 = 'A'\n",
    "str1 = 'A'\n",
    "str2 = 'A'\n",
    "\n",
    "# Compare str1 and str2 and print True using comparison operator\n",
    "print(str1 == str2)\n",
    "\n",
    "# Compare str1 and str2 and print True using equality operator\n",
    "print(str1 == str2)\n",
    "\n",
    "# Compare str1 and str2 and print False using equality operator\n",
    "print(str1 != str2)\n",
    "\n",
    "# Compare str1 and str2 and print False using comparison operator\n",
    "print(str1 != str2)\n"
   ]
  },
  {
   "cell_type": "code",
   "execution_count": 144,
   "id": "88b61c94",
   "metadata": {},
   "outputs": [
    {
     "name": "stdout",
     "output_type": "stream",
     "text": [
      "True\n",
      "True\n",
      "False\n",
      "True\n"
     ]
    }
   ],
   "source": [
    "str1 = 'A'\n",
    "str2 = 'a'\n",
    "\n",
    "# Compare str1 and str2 and print True using comparison operator\n",
    "print(str1 < str2 or str1 > str2)\n",
    "\n",
    "# Compare str1 and str2 and print True using equality operator\n",
    "print(str1.lower() == str2.lower())\n",
    "\n",
    "# Compare str1 and str2 and print False using equality operator\n",
    "print(str1.lower() != str2.lower())\n",
    "\n",
    "# Compare str1 and str2 and print False using comparison operator\n",
    "print(str1 > str2 or str1 < str2)\n"
   ]
  },
  {
   "cell_type": "code",
   "execution_count": 146,
   "id": "29e7af1c",
   "metadata": {},
   "outputs": [
    {
     "name": "stdout",
     "output_type": "stream",
     "text": [
      "\n",
      "Python\n",
      "False\n",
      "True\n",
      "True\n"
     ]
    }
   ],
   "source": [
    "a = 'Python'\n",
    "b = ''\n",
    "\n",
    "# Apply logical operators (and, or & not) on above string values and observe the output.\n",
    "print(a and b)   \n",
    "print(a or b)    \n",
    "print(not a)     \n",
    "print(not b)     \n",
    "print(not '')    \n"
   ]
  },
  {
   "cell_type": "code",
   "execution_count": 147,
   "id": "0272856e",
   "metadata": {},
   "outputs": [
    {
     "name": "stdout",
     "output_type": "stream",
     "text": [
      "learnbay\n",
      "Python\n",
      "False\n",
      "False\n"
     ]
    }
   ],
   "source": [
    "a = 'Python'\n",
    "b = 'learnbay'\n",
    "\n",
    "# Apply logical operators (and, or & not) on above string values and observe the output.\n",
    "print(a and b)   \n",
    "print(a or b)    \n",
    "print(not a)    \n",
    "print(not b)      \n"
   ]
  }
 ],
 "metadata": {
  "kernelspec": {
   "display_name": "Python 3 (ipykernel)",
   "language": "python",
   "name": "python3"
  },
  "language_info": {
   "codemirror_mode": {
    "name": "ipython",
    "version": 3
   },
   "file_extension": ".py",
   "mimetype": "text/x-python",
   "name": "python",
   "nbconvert_exporter": "python",
   "pygments_lexer": "ipython3",
   "version": "3.10.9"
  }
 },
 "nbformat": 4,
 "nbformat_minor": 5
}
