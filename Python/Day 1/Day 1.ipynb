{
 "cells": [
  {
   "cell_type": "code",
   "execution_count": 1,
   "id": "da99f99a",
   "metadata": {},
   "outputs": [
    {
     "name": "stdout",
     "output_type": "stream",
     "text": [
      "16\n"
     ]
    }
   ],
   "source": [
    "print (4*4)"
   ]
  },
  {
   "cell_type": "code",
   "execution_count": 2,
   "id": "fe18b952",
   "metadata": {},
   "outputs": [
    {
     "name": "stdout",
     "output_type": "stream",
     "text": [
      "16\n"
     ]
    }
   ],
   "source": [
    "print (4*4)"
   ]
  },
  {
   "cell_type": "code",
   "execution_count": 3,
   "id": "df4f5c0e",
   "metadata": {},
   "outputs": [
    {
     "ename": "SyntaxError",
     "evalue": "invalid decimal literal (1119118143.py, line 1)",
     "output_type": "error",
     "traceback": [
      "\u001b[1;36m  Cell \u001b[1;32mIn[3], line 1\u001b[1;36m\u001b[0m\n\u001b[1;33m    print (0i+1j)\u001b[0m\n\u001b[1;37m           ^\u001b[0m\n\u001b[1;31mSyntaxError\u001b[0m\u001b[1;31m:\u001b[0m invalid decimal literal\n"
     ]
    }
   ],
   "source": [
    "print (0i+1j)"
   ]
  },
  {
   "cell_type": "code",
   "execution_count": 4,
   "id": "a8347baa",
   "metadata": {},
   "outputs": [
    {
     "name": "stdout",
     "output_type": "stream",
     "text": [
      "1j\n"
     ]
    }
   ],
   "source": [
    "print(0+1j)"
   ]
  },
  {
   "cell_type": "markdown",
   "id": "628952d8",
   "metadata": {},
   "source": [
    "# stringName = \"python is amazing language\"\n",
    "print (\"is\" in stringName)"
   ]
  },
  {
   "cell_type": "code",
   "execution_count": 10,
   "id": "5cec71bc",
   "metadata": {},
   "outputs": [
    {
     "data": {
      "text/plain": [
       "2292120620368"
      ]
     },
     "execution_count": 10,
     "metadata": {},
     "output_type": "execute_result"
    }
   ],
   "source": [
    "x=100\n",
    "id(x)"
   ]
  },
  {
   "cell_type": "code",
   "execution_count": null,
   "id": "5bb1e403",
   "metadata": {},
   "outputs": [],
   "source": [
    "stringName = rohith \\n"
   ]
  }
 ],
 "metadata": {
  "kernelspec": {
   "display_name": "Python 3 (ipykernel)",
   "language": "python",
   "name": "python3"
  },
  "language_info": {
   "codemirror_mode": {
    "name": "ipython",
    "version": 3
   },
   "file_extension": ".py",
   "mimetype": "text/x-python",
   "name": "python",
   "nbconvert_exporter": "python",
   "pygments_lexer": "ipython3",
   "version": "3.10.9"
  }
 },
 "nbformat": 4,
 "nbformat_minor": 5
}
