{
 "cells": [
  {
   "cell_type": "code",
   "execution_count": 2,
   "id": "46a794d0",
   "metadata": {},
   "outputs": [
    {
     "name": "stdout",
     "output_type": "stream",
     "text": [
      "<class 'list'>\n"
     ]
    }
   ],
   "source": [
    "s1=[]\n",
    "print(type(s1))"
   ]
  },
  {
   "cell_type": "code",
   "execution_count": 3,
   "id": "92d42090",
   "metadata": {},
   "outputs": [
    {
     "name": "stdout",
     "output_type": "stream",
     "text": [
      "<class 'list'>\n"
     ]
    },
    {
     "data": {
      "text/plain": [
       "['delhi', 2j, 14, -6.4, False]"
      ]
     },
     "execution_count": 3,
     "metadata": {},
     "output_type": "execute_result"
    }
   ],
   "source": [
    "s1 = [\"delhi\", 2j, 14, -6.4, False]\n",
    "print(type(s1))\n",
    "s1"
   ]
  },
  {
   "cell_type": "code",
   "execution_count": 4,
   "id": "49ce8c4d",
   "metadata": {
    "scrolled": true
   },
   "outputs": [
    {
     "name": "stdout",
     "output_type": "stream",
     "text": [
      "Total elements= 5\n",
      "total elements= 5\n"
     ]
    }
   ],
   "source": [
    "s1 = [\"delhi\", 2j, 14, -6.4, False]\n",
    "print('Total elements=',len(s1))\n",
    "print(f'total elements= {len(s1)}')"
   ]
  },
  {
   "cell_type": "code",
   "execution_count": 5,
   "id": "d4a33c82",
   "metadata": {},
   "outputs": [
    {
     "name": "stdout",
     "output_type": "stream",
     "text": [
      "14\n",
      "False\n",
      "False\n",
      "False\n"
     ]
    }
   ],
   "source": [
    "s1 = [\"delhi\", 2j, 14, -6.4, False]\n",
    "print(s1[2])\n",
    "print(s1[4])\n",
    "print(s1[-1])\n",
    "print(s1[len(s1)-1])\n"
   ]
  },
  {
   "cell_type": "code",
   "execution_count": null,
   "id": "4ece4ad7",
   "metadata": {},
   "outputs": [],
   "source": []
  },
  {
   "attachments": {
    "image.png": {
     "image/png": "[encoded data removed]"
    }
   },
   "cell_type": "markdown",
   "id": "9f7cc896",
   "metadata": {},
   "source": [
    "![image.png](attachment:image.png)"
   ]
  },
  {
   "cell_type": "code",
   "execution_count": 6,
   "id": "863a0feb",
   "metadata": {},
   "outputs": [
    {
     "name": "stdout",
     "output_type": "stream",
     "text": [
      "['delhi', 2j, 14]\n"
     ]
    }
   ],
   "source": [
    "#slicing\n",
    "# read the first 3 elements\n",
    "s1 = [\"delhi\", 2j, 14, -6.4, False]\n",
    "print(s1[:3:1])"
   ]
  },
  {
   "cell_type": "code",
   "execution_count": 7,
   "id": "0a2df4c5",
   "metadata": {},
   "outputs": [
    {
     "name": "stdout",
     "output_type": "stream",
     "text": [
      "['delhi', 2j, 14, -6.4, False]\n",
      "[False, -6.4, 14, 2j, 'delhi']\n",
      "['delhi', 2j, 14, -6.4, False]\n",
      "[False, -6.4, 14, 2j, 'delhi']\n"
     ]
    }
   ],
   "source": [
    "# read the entire list using slicing\n",
    "print(s1[::1])\n",
    "print(s1[::-1])\n",
    "print(s1[:len(s1):1])\n",
    "print(s1[-1:-(len(s1)+1):-1])"
   ]
  },
  {
   "cell_type": "code",
   "execution_count": 8,
   "id": "741d464e",
   "metadata": {},
   "outputs": [
    {
     "name": "stdout",
     "output_type": "stream",
     "text": [
      "[1, 4, 8, -3, False, 2j]\n"
     ]
    }
   ],
   "source": [
    "# 4. concat - merge 2 or more list to create a single list\n",
    "\n",
    "[1 , 4] + [8 , -3, False, 2j]\n",
    "a=[1 , 4]\n",
    "b=[8 , -3, False, 2j]\n",
    "c=a+b\n",
    "print(c)"
   ]
  },
  {
   "cell_type": "code",
   "execution_count": 9,
   "id": "ed3e4e2a",
   "metadata": {},
   "outputs": [
    {
     "name": "stdout",
     "output_type": "stream",
     "text": [
      "[7, 'P', False, 4.0, 7, 'P', False, 4.0]\n",
      "['P', False, 'P', False, 'P', False]\n",
      "[False, False, False]\n",
      "77777\n"
     ]
    }
   ],
   "source": [
    "#Repeat\n",
    "s2 = [7 , \"P\", False, 4.0]\n",
    "print(s2*2)\n",
    "print(s2[1:len(s2)-1]*3)\n",
    "print(s2[2:len(s2)-1]*3)\n",
    "print(str(s2[0])*5)"
   ]
  },
  {
   "cell_type": "code",
   "execution_count": 10,
   "id": "f62eef57",
   "metadata": {},
   "outputs": [
    {
     "name": "stdout",
     "output_type": "stream",
     "text": [
      "True\n",
      "True\n",
      "False\n"
     ]
    }
   ],
   "source": [
    "# 6. membership - return TRUE if element is present inside the seq\n",
    "\n",
    "s1 = [\"delhi\", 2j, 14, -6.4, False]\n",
    "print(2j in s1)\n",
    "print(0 in s1)\n",
    "print(\"False\" in s1)"
   ]
  },
  {
   "cell_type": "code",
   "execution_count": 11,
   "id": "449cd826",
   "metadata": {},
   "outputs": [
    {
     "name": "stdout",
     "output_type": "stream",
     "text": [
      "1\n",
      "0\n"
     ]
    }
   ],
   "source": [
    "# 1. count : occurenece of the element if present, eelse return 0\n",
    "\n",
    "s1 = [\"delhi\", 14, 2j, 14, -6.4, False, 14 , 14] \n",
    "print(s1.count(\"delhi\"))\n",
    "print(s1.count(\"False\"))"
   ]
  },
  {
   "cell_type": "code",
   "execution_count": 12,
   "id": "46102cef",
   "metadata": {},
   "outputs": [
    {
     "name": "stdout",
     "output_type": "stream",
     "text": [
      "[]\n"
     ]
    }
   ],
   "source": [
    "# 2. clear : (flush out) remove all the elements from the list \n",
    "\n",
    "s1 = [\"delhi\", 14, 2j, 14, -6.4, False, 14 , 14] \n",
    "s1.clear()\n",
    "print(s1)"
   ]
  },
  {
   "cell_type": "code",
   "execution_count": 13,
   "id": "42b8b707",
   "metadata": {},
   "outputs": [
    {
     "name": "stdout",
     "output_type": "stream",
     "text": [
      "[]\n"
     ]
    }
   ],
   "source": [
    "#reverse\n",
    "s1.reverse()\n",
    "print(s1)"
   ]
  },
  {
   "cell_type": "code",
   "execution_count": 14,
   "id": "33546dd3",
   "metadata": {},
   "outputs": [
    {
     "name": "stdout",
     "output_type": "stream",
     "text": [
      "None\n",
      "[-6.4, False, 14, 14, 14, 14]\n"
     ]
    }
   ],
   "source": [
    "s1 = [14,14, -6.4, False, 14 , 14] \n",
    "print( s1.sort() )\n",
    "print(s1)"
   ]
  },
  {
   "cell_type": "code",
   "execution_count": 15,
   "id": "30737a69",
   "metadata": {},
   "outputs": [
    {
     "name": "stdout",
     "output_type": "stream",
     "text": [
      "None\n",
      "['punjab', 'delhi', 'antartica']\n"
     ]
    },
    {
     "data": {
      "text/plain": [
       "['antartica', 'delhi', 'punjab']"
      ]
     },
     "execution_count": 15,
     "metadata": {},
     "output_type": "execute_result"
    }
   ],
   "source": [
    "s1=[\"delhi\",\"punjab\",\"antartica\"]\n",
    "print( s1.sort(reverse=True) )\n",
    "print(s1)\n",
    "s1.sort()\n",
    "s1"
   ]
  },
  {
   "cell_type": "code",
   "execution_count": 16,
   "id": "ec6b0ef9",
   "metadata": {},
   "outputs": [
    {
     "data": {
      "text/plain": [
       "['delhi', 'mumbai', 100, 50]"
      ]
     },
     "execution_count": 16,
     "metadata": {},
     "output_type": "execute_result"
    }
   ],
   "source": [
    "a1 = [100, 50]\n",
    "a2 = [\"delhi\", \"mumbai\"]\n",
    "a2.extend(a1)\n",
    "a2\n"
   ]
  },
  {
   "cell_type": "code",
   "execution_count": 17,
   "id": "21aa35fe",
   "metadata": {},
   "outputs": [
    {
     "name": "stdout",
     "output_type": "stream",
     "text": [
      "['delhi', 'mumbai', 100, 50]\n"
     ]
    }
   ],
   "source": [
    "a1 = [100, 50]\n",
    "a2 = [\"delhi\", \"mumbai\"]\n",
    "a2=a2+a1\n",
    "print(a2)"
   ]
  },
  {
   "cell_type": "code",
   "execution_count": 18,
   "id": "e2000353",
   "metadata": {},
   "outputs": [
    {
     "data": {
      "text/plain": [
       "5"
      ]
     },
     "execution_count": 18,
     "metadata": {},
     "output_type": "execute_result"
    }
   ],
   "source": [
    "s1 = [\"delhi\", 14, 2j, 14, -6.4, False, 14 , 14] \n",
    "s1.index(False)"
   ]
  },
  {
   "cell_type": "code",
   "execution_count": 19,
   "id": "c033497a",
   "metadata": {},
   "outputs": [
    {
     "name": "stdout",
     "output_type": "stream",
     "text": [
      "result of s1= ['delhi', 14, 2j, 14, -6.4, False, 14, 14, 90]\n",
      "['delhi', 14, 2j, 44, 14, -6.4, False, 14, 14, 90]\n",
      "['delhi', 14, 2j, 44, 14, -6.4, 'nothing', 14, 14, 90]\n",
      "['delhi', 14, 2j, 44, 14, -6.4, 14, 14, 90]\n"
     ]
    }
   ],
   "source": [
    "s1 = [\"delhi\", 14, 2j, 14, -6.4, False, 14 , 14] \n",
    "s1.append(90)\n",
    "print('result of s1=',s1)\n",
    "\n",
    "s1.insert(3,44)\n",
    "print(s1)\n",
    "\n",
    "#replace\n",
    "s1[6]=\"nothing\"\n",
    "print(s1)\n",
    "\n",
    "s1.remove(\"nothing\")\n",
    "print(s1)\n"
   ]
  },
  {
   "cell_type": "code",
   "execution_count": 20,
   "id": "0473388f",
   "metadata": {},
   "outputs": [
    {
     "name": "stdout",
     "output_type": "stream",
     "text": [
      "['delhi', 2j, 14, -6.4]\n",
      "['delhi', 2j, 14]\n",
      "['delhi', 2j]\n",
      "['delhi']\n",
      "[]\n"
     ]
    }
   ],
   "source": [
    "s1 = [\"delhi\", 2j, 14, -6.4, False]\n",
    "s1.pop()\n",
    "print(s1)\n",
    "\n",
    "s1.pop()\n",
    "print(s1)\n",
    "\n",
    "s1.pop()\n",
    "print(s1)\n",
    "\n",
    "s1.pop()\n",
    "print(s1)\n",
    "\n",
    "s1.pop()\n",
    "print(s1)\n",
    "\n"
   ]
  },
  {
   "cell_type": "code",
   "execution_count": 21,
   "id": "57d0c57c",
   "metadata": {},
   "outputs": [
    {
     "name": "stdout",
     "output_type": "stream",
     "text": [
      "['this', 'is', '1478', 'python', '@programming', 'class', '578', 'scheduled', '@ON', 's@turday']\n",
      "['this is 1478 python @programming ', ' 578 scheduled @ON s@turday']\n",
      "<class 'list'>\n"
     ]
    }
   ],
   "source": [
    "myString = \"this is 1478 python @programming class 578 scheduled @ON s@turday\"\n",
    "res=myString.split(\" \")\n",
    "print(res)\n",
    "\n",
    "res=myString.split(\"class\")\n",
    "print(res)\n",
    "print(type(res))"
   ]
  },
  {
   "cell_type": "code",
   "execution_count": 22,
   "id": "12fc9dee",
   "metadata": {},
   "outputs": [
    {
     "name": "stdout",
     "output_type": "stream",
     "text": [
      "['Nitish', 'birthday', 'is', 'coming', 'soon,', 'set', 'a', 'reminder', 'for', '15-June']\n",
      "15-June\n",
      "['15', 'June']\n",
      "Date 15\n",
      "Month June\n"
     ]
    }
   ],
   "source": [
    "message = \"Nitish birthday is coming soon, set a reminder for 15-June\"\n",
    "res=message.split(\" \")\n",
    "print(res)\n",
    "\n",
    "res=message.split(\" \")[-1]\n",
    "print(res)\n",
    "\n",
    "output=res.split(\"-\")\n",
    "print(output)\n",
    "\n",
    "print(\"Date\",output[0])\n",
    "print(\"Month\",output[1])\n"
   ]
  },
  {
   "cell_type": "code",
   "execution_count": 23,
   "id": "f3463c20",
   "metadata": {},
   "outputs": [
    {
     "name": "stdout",
     "output_type": "stream",
     "text": [
      "rohith kumar k\n",
      "ROHITH KUMAR K\n"
     ]
    },
    {
     "data": {
      "text/plain": [
       "'KUMAR'"
      ]
     },
     "execution_count": 23,
     "metadata": {},
     "output_type": "execute_result"
    }
   ],
   "source": [
    "name=\"rohith kumar k\"\n",
    "s= name.strip()\n",
    "print(s)\n",
    "\n",
    "s1=s.upper()\n",
    "print(s1)\n",
    "\n",
    "name.strip().upper().split(\" \")\n",
    "name.strip().upper().split(\" \")[-2]\n",
    "name.strip().upper().split(\" \")[-2]"
   ]
  },
  {
   "cell_type": "code",
   "execution_count": 24,
   "id": "69fa62c0",
   "metadata": {},
   "outputs": [
    {
     "name": "stdout",
     "output_type": "stream",
     "text": [
      "['this is 1478 python ', 'programming class 578 scheduled ', 'ON s', 'turday']\n",
      "this is 1478 python #programming class 578 scheduled #ON s#turday\n"
     ]
    }
   ],
   "source": [
    "myString = \"this is 1478 python @programming class 578 scheduled @ON s@turday\"\n",
    "\n",
    "res=myString.split(\"@\")\n",
    "print(res)\n",
    "\n",
    "output='#'.join(res)\n",
    "print(output)"
   ]
  },
  {
   "cell_type": "code",
   "execution_count": 25,
   "id": "dae355bf",
   "metadata": {},
   "outputs": [
    {
     "name": "stdout",
     "output_type": "stream",
     "text": [
      "(10, -6, 11, -4)\n"
     ]
    },
    {
     "data": {
      "text/plain": [
       "(10, -6, 0, 11, -4)"
      ]
     },
     "execution_count": 25,
     "metadata": {},
     "output_type": "execute_result"
    }
   ],
   "source": [
    "tt = (10 , -6 , 7 , 11 , -4)\n",
    "tt.index(7)\n",
    "print(tt[:2]+tt[3:])\n",
    "res=tt[:2]+(0,)+tt[3:]\n",
    "res"
   ]
  },
  {
   "cell_type": "code",
   "execution_count": 26,
   "id": "52d8e9c6",
   "metadata": {},
   "outputs": [
    {
     "ename": "KeyboardInterrupt",
     "evalue": "Interrupted by user",
     "output_type": "error",
     "traceback": [
      "\u001b[1;31m---------------------------------------------------------------------------\u001b[0m",
      "\u001b[1;31mKeyboardInterrupt\u001b[0m                         Traceback (most recent call last)",
      "Cell \u001b[1;32mIn[26], line 1\u001b[0m\n\u001b[1;32m----> 1\u001b[0m message \u001b[38;5;241m=\u001b[39m \u001b[38;5;28;43minput\u001b[39;49m\u001b[43m(\u001b[49m\u001b[38;5;124;43m\"\u001b[39;49m\u001b[38;5;124;43mMessage\u001b[39;49m\u001b[38;5;124;43m\"\u001b[39;49m\u001b[43m)\u001b[49m\n\u001b[0;32m      2\u001b[0m \u001b[38;5;28;01mif\u001b[39;00m message\u001b[38;5;241m==\u001b[39mmessage\u001b[38;5;241m.\u001b[39mupper():\n\u001b[0;32m      3\u001b[0m     \u001b[38;5;28mprint\u001b[39m(\u001b[38;5;124m'\u001b[39m\u001b[38;5;124mmessage=upper case\u001b[39m\u001b[38;5;124m'\u001b[39m)\n",
      "File \u001b[1;32m~\\anaconda3\\lib\\site-packages\\ipykernel\\kernelbase.py:1175\u001b[0m, in \u001b[0;36mKernel.raw_input\u001b[1;34m(self, prompt)\u001b[0m\n\u001b[0;32m   1171\u001b[0m \u001b[38;5;28;01mif\u001b[39;00m \u001b[38;5;129;01mnot\u001b[39;00m \u001b[38;5;28mself\u001b[39m\u001b[38;5;241m.\u001b[39m_allow_stdin:\n\u001b[0;32m   1172\u001b[0m     \u001b[38;5;28;01mraise\u001b[39;00m StdinNotImplementedError(\n\u001b[0;32m   1173\u001b[0m         \u001b[38;5;124m\"\u001b[39m\u001b[38;5;124mraw_input was called, but this frontend does not support input requests.\u001b[39m\u001b[38;5;124m\"\u001b[39m\n\u001b[0;32m   1174\u001b[0m     )\n\u001b[1;32m-> 1175\u001b[0m \u001b[38;5;28;01mreturn\u001b[39;00m \u001b[38;5;28;43mself\u001b[39;49m\u001b[38;5;241;43m.\u001b[39;49m\u001b[43m_input_request\u001b[49m\u001b[43m(\u001b[49m\n\u001b[0;32m   1176\u001b[0m \u001b[43m    \u001b[49m\u001b[38;5;28;43mstr\u001b[39;49m\u001b[43m(\u001b[49m\u001b[43mprompt\u001b[49m\u001b[43m)\u001b[49m\u001b[43m,\u001b[49m\n\u001b[0;32m   1177\u001b[0m \u001b[43m    \u001b[49m\u001b[38;5;28;43mself\u001b[39;49m\u001b[38;5;241;43m.\u001b[39;49m\u001b[43m_parent_ident\u001b[49m\u001b[43m[\u001b[49m\u001b[38;5;124;43m\"\u001b[39;49m\u001b[38;5;124;43mshell\u001b[39;49m\u001b[38;5;124;43m\"\u001b[39;49m\u001b[43m]\u001b[49m\u001b[43m,\u001b[49m\n\u001b[0;32m   1178\u001b[0m \u001b[43m    \u001b[49m\u001b[38;5;28;43mself\u001b[39;49m\u001b[38;5;241;43m.\u001b[39;49m\u001b[43mget_parent\u001b[49m\u001b[43m(\u001b[49m\u001b[38;5;124;43m\"\u001b[39;49m\u001b[38;5;124;43mshell\u001b[39;49m\u001b[38;5;124;43m\"\u001b[39;49m\u001b[43m)\u001b[49m\u001b[43m,\u001b[49m\n\u001b[0;32m   1179\u001b[0m \u001b[43m    \u001b[49m\u001b[43mpassword\u001b[49m\u001b[38;5;241;43m=\u001b[39;49m\u001b[38;5;28;43;01mFalse\u001b[39;49;00m\u001b[43m,\u001b[49m\n\u001b[0;32m   1180\u001b[0m \u001b[43m\u001b[49m\u001b[43m)\u001b[49m\n",
      "File \u001b[1;32m~\\anaconda3\\lib\\site-packages\\ipykernel\\kernelbase.py:1217\u001b[0m, in \u001b[0;36mKernel._input_request\u001b[1;34m(self, prompt, ident, parent, password)\u001b[0m\n\u001b[0;32m   1214\u001b[0m             \u001b[38;5;28;01mbreak\u001b[39;00m\n\u001b[0;32m   1215\u001b[0m \u001b[38;5;28;01mexcept\u001b[39;00m \u001b[38;5;167;01mKeyboardInterrupt\u001b[39;00m:\n\u001b[0;32m   1216\u001b[0m     \u001b[38;5;66;03m# re-raise KeyboardInterrupt, to truncate traceback\u001b[39;00m\n\u001b[1;32m-> 1217\u001b[0m     \u001b[38;5;28;01mraise\u001b[39;00m \u001b[38;5;167;01mKeyboardInterrupt\u001b[39;00m(\u001b[38;5;124m\"\u001b[39m\u001b[38;5;124mInterrupted by user\u001b[39m\u001b[38;5;124m\"\u001b[39m) \u001b[38;5;28;01mfrom\u001b[39;00m \u001b[38;5;28mNone\u001b[39m\n\u001b[0;32m   1218\u001b[0m \u001b[38;5;28;01mexcept\u001b[39;00m \u001b[38;5;167;01mException\u001b[39;00m:\n\u001b[0;32m   1219\u001b[0m     \u001b[38;5;28mself\u001b[39m\u001b[38;5;241m.\u001b[39mlog\u001b[38;5;241m.\u001b[39mwarning(\u001b[38;5;124m\"\u001b[39m\u001b[38;5;124mInvalid Message:\u001b[39m\u001b[38;5;124m\"\u001b[39m, exc_info\u001b[38;5;241m=\u001b[39m\u001b[38;5;28;01mTrue\u001b[39;00m)\n",
      "\u001b[1;31mKeyboardInterrupt\u001b[0m: Interrupted by user"
     ]
    }
   ],
   "source": [
    "message = input(\"Message\")\n",
    "if message==message.upper():\n",
    "    print('message=upper case')\n",
    "else :\n",
    "    print('message=lower case')"
   ]
  },
  {
   "cell_type": "code",
   "execution_count": null,
   "id": "c14d93f2",
   "metadata": {},
   "outputs": [],
   "source": [
    "# Make a program to find out which is greater among 2 numbers\n",
    "\n",
    "x1 = int(input(\"First Number --> \"))\n",
    "x2 = int(input(\"Second Number --> \"))\n",
    "if x1>x2:\n",
    "    print('x1 is greater thatn x2')\n",
    "else:\n",
    "    print('x2 is greater that x1')"
   ]
  },
  {
   "cell_type": "code",
   "execution_count": null,
   "id": "9ebbc37e",
   "metadata": {},
   "outputs": [],
   "source": [
    "# Make a program to find out weather words are in Palindrome\n",
    "# madam, naman, \"12321\"\n",
    "\n",
    "\n",
    "word = input(\"Word --> \")\n",
    "\n",
    "\n",
    "\n"
   ]
  },
  {
   "cell_type": "code",
   "execution_count": null,
   "id": "4b0ff071",
   "metadata": {},
   "outputs": [],
   "source": [
    "# Make a program to find out weather the mobile number written is valid???\n",
    "number = int(input(\"Number --> \"))\n",
    "if len(string(number))==10:\n",
    "    print(\"number is valid\")\n",
    "else:\n",
    "    print(\"number is not valid\")"
   ]
  },
  {
   "cell_type": "code",
   "execution_count": null,
   "id": "32f03e4b",
   "metadata": {
    "scrolled": true
   },
   "outputs": [],
   "source": [
    "dir(int)"
   ]
  },
  {
   "cell_type": "code",
   "execution_count": null,
   "id": "c2c26540",
   "metadata": {},
   "outputs": [],
   "source": [
    "filename='working in python'\n",
    "pos=filename.rfind('o')\n",
    "print(pos)"
   ]
  },
  {
   "cell_type": "code",
   "execution_count": null,
   "id": "4a6d2e41",
   "metadata": {},
   "outputs": [],
   "source": [
    "input=\n",
    "message= f\"{name} is earning ${sal} at the age of %{age}\"\n",
    "print( message )\n"
   ]
  },
  {
   "cell_type": "code",
   "execution_count": null,
   "id": "2361c4f5",
   "metadata": {},
   "outputs": [],
   "source": [
    "number = int( input( \"Mention Number : \" ) )\n",
    "\n",
    "if number == 10 :  \n",
    "    print(\"Yellow\")\n",
    "\n",
    "if number == 20 :  \n",
    "    print(\"Black\")\n",
    "\n",
    "if number == 30 :  \n",
    "    print(\"Red\")\n",
    "\n",
    "print(\"---\" * 30)"
   ]
  },
  {
   "cell_type": "code",
   "execution_count": null,
   "id": "3bbe6bb8",
   "metadata": {},
   "outputs": [],
   "source": [
    "num1=int(input('Enter the num1'))\n",
    "num2=int(input('Enter the num2'))\n",
    "\n",
    "if num1>num2:\n",
    "    print(\"num1 is greter than num2\")\n",
    "if num1<num2:\n",
    "    print(\"num2 is greter than num1\")\n",
    "if num1==num2:\n",
    "    print(\"num1 is equal to num2\")"
   ]
  },
  {
   "cell_type": "code",
   "execution_count": null,
   "id": "22d60187",
   "metadata": {},
   "outputs": [],
   "source": [
    "\n",
    "number=(input('enter the mobile no'))\n",
    "\n",
    "if (len(number)==10) and number.isdigit():\n",
    "    print('the number is valid')\n",
    "else:\n",
    "    \n",
    "    print('not valid')\n"
   ]
  },
  {
   "cell_type": "code",
   "execution_count": null,
   "id": "e4d9cf8e",
   "metadata": {
    "scrolled": true
   },
   "outputs": [],
   "source": [
    "s1 = [\"delhi\", 2j, 14, -6.4, False]\n",
    "print(s1[0:3:1])\n",
    "print(s1[ : : -1])\n",
    "print(s1[ 1: 3:-1])"
   ]
  },
  {
   "cell_type": "code",
   "execution_count": null,
   "id": "0c994f37",
   "metadata": {},
   "outputs": [],
   "source": [
    "[1 , 4] + [8 , -3, False, 2j]"
   ]
  },
  {
   "cell_type": "code",
   "execution_count": null,
   "id": "af783984",
   "metadata": {},
   "outputs": [],
   "source": [
    "s2 = [7 , \"P\", False, 4.0]\n",
    "print(s2*2)\n",
    "print(s2[1:3]*3)\n",
    "print(str(s2[0])*5)\n",
    "print(0 in s2)\n"
   ]
  },
  {
   "cell_type": "code",
   "execution_count": null,
   "id": "fc705d59",
   "metadata": {},
   "outputs": [],
   "source": [
    "s1 = [\"delhi\", 2j, 14, -6.4, False]\n",
    "print(s1.count(14))\n",
    "s1.reverse()\n",
    "s1"
   ]
  },
  {
   "cell_type": "code",
   "execution_count": null,
   "id": "61c807bc",
   "metadata": {},
   "outputs": [],
   "source": [
    "s1 = [ 14, -6.4, False]\n",
    "print(s1.sort())\n",
    "print(s1)\n",
    "print(s1.sort(reverse=True))\n",
    "print(s1)"
   ]
  },
  {
   "cell_type": "code",
   "execution_count": null,
   "id": "ed87507a",
   "metadata": {},
   "outputs": [],
   "source": [
    "tt = [10 , -6 , 7 , 11 , -4]\n",
    "pos=tt.index(7)\n",
    "pos\n",
    "res=tt[ :pos]+tt[pos+1:]\n",
    "res"
   ]
  },
  {
   "cell_type": "code",
   "execution_count": null,
   "id": "d5510f46",
   "metadata": {},
   "outputs": [],
   "source": [
    "tt = (10 , -6 , 7 , 11 , -4)\n",
    "\n",
    "# replace 7 by 0\n",
    "\n",
    "pos=tt.index(7)\n",
    "pos\n",
    "res=tt[:pos]+(0,)+tt[pos+1:]\n",
    "res"
   ]
  },
  {
   "cell_type": "code",
   "execution_count": null,
   "id": "ce9b6369",
   "metadata": {},
   "outputs": [],
   "source": [
    "for i in range(0,5):\n",
    "    print(\"earth\")\n",
    "    "
   ]
  },
  {
   "cell_type": "code",
   "execution_count": null,
   "id": "21493593",
   "metadata": {},
   "outputs": [],
   "source": [
    "for i in range (0,3):\n",
    "    animalname=input(\"enter the animal name\").strip()\n",
    "\n",
    "    print(\"the animal name taken as input\",animalname)\n"
   ]
  },
  {
   "cell_type": "code",
   "execution_count": 27,
   "id": "e82e48fa",
   "metadata": {},
   "outputs": [
    {
     "name": "stdout",
     "output_type": "stream",
     "text": [
      "0 10\n",
      "1 20\n",
      "2 50\n"
     ]
    }
   ],
   "source": [
    "listName = [10, 20 , 50]\n",
    "for i in range(len(listName)):\n",
    "    print(i,listName[i])"
   ]
  },
  {
   "cell_type": "code",
   "execution_count": 30,
   "id": "c6adff34",
   "metadata": {
    "scrolled": true
   },
   "outputs": [
    {
     "name": "stdout",
     "output_type": "stream",
     "text": [
      "enter the animal nameTiger\n",
      "the animal name taken as input Tiger\n",
      "lentght of the given aimalname 5\n"
     ]
    },
    {
     "ename": "KeyboardInterrupt",
     "evalue": "Interrupted by user",
     "output_type": "error",
     "traceback": [
      "\u001b[1;31m---------------------------------------------------------------------------\u001b[0m",
      "\u001b[1;31mKeyboardInterrupt\u001b[0m                         Traceback (most recent call last)",
      "Cell \u001b[1;32mIn[30], line 2\u001b[0m\n\u001b[0;32m      1\u001b[0m \u001b[38;5;28;01mfor\u001b[39;00m i \u001b[38;5;129;01min\u001b[39;00m \u001b[38;5;28mrange\u001b[39m (\u001b[38;5;241m0\u001b[39m,\u001b[38;5;241m3\u001b[39m):\n\u001b[1;32m----> 2\u001b[0m     animalname\u001b[38;5;241m=\u001b[39m\u001b[38;5;28;43minput\u001b[39;49m\u001b[43m(\u001b[49m\u001b[38;5;124;43m\"\u001b[39;49m\u001b[38;5;124;43menter the animal name\u001b[39;49m\u001b[38;5;124;43m\"\u001b[39;49m\u001b[43m)\u001b[49m\u001b[38;5;241m.\u001b[39mstrip()\n\u001b[0;32m      4\u001b[0m     \u001b[38;5;28mprint\u001b[39m(\u001b[38;5;124m\"\u001b[39m\u001b[38;5;124mthe animal name taken as input\u001b[39m\u001b[38;5;124m\"\u001b[39m,animalname)\n\u001b[0;32m      5\u001b[0m     \u001b[38;5;28mprint\u001b[39m(\u001b[38;5;124m\"\u001b[39m\u001b[38;5;124mlentght of the given aimalname\u001b[39m\u001b[38;5;124m\"\u001b[39m,\u001b[38;5;28mlen\u001b[39m(animalname))\n",
      "File \u001b[1;32m~\\anaconda3\\lib\\site-packages\\ipykernel\\kernelbase.py:1175\u001b[0m, in \u001b[0;36mKernel.raw_input\u001b[1;34m(self, prompt)\u001b[0m\n\u001b[0;32m   1171\u001b[0m \u001b[38;5;28;01mif\u001b[39;00m \u001b[38;5;129;01mnot\u001b[39;00m \u001b[38;5;28mself\u001b[39m\u001b[38;5;241m.\u001b[39m_allow_stdin:\n\u001b[0;32m   1172\u001b[0m     \u001b[38;5;28;01mraise\u001b[39;00m StdinNotImplementedError(\n\u001b[0;32m   1173\u001b[0m         \u001b[38;5;124m\"\u001b[39m\u001b[38;5;124mraw_input was called, but this frontend does not support input requests.\u001b[39m\u001b[38;5;124m\"\u001b[39m\n\u001b[0;32m   1174\u001b[0m     )\n\u001b[1;32m-> 1175\u001b[0m \u001b[38;5;28;01mreturn\u001b[39;00m \u001b[38;5;28;43mself\u001b[39;49m\u001b[38;5;241;43m.\u001b[39;49m\u001b[43m_input_request\u001b[49m\u001b[43m(\u001b[49m\n\u001b[0;32m   1176\u001b[0m \u001b[43m    \u001b[49m\u001b[38;5;28;43mstr\u001b[39;49m\u001b[43m(\u001b[49m\u001b[43mprompt\u001b[49m\u001b[43m)\u001b[49m\u001b[43m,\u001b[49m\n\u001b[0;32m   1177\u001b[0m \u001b[43m    \u001b[49m\u001b[38;5;28;43mself\u001b[39;49m\u001b[38;5;241;43m.\u001b[39;49m\u001b[43m_parent_ident\u001b[49m\u001b[43m[\u001b[49m\u001b[38;5;124;43m\"\u001b[39;49m\u001b[38;5;124;43mshell\u001b[39;49m\u001b[38;5;124;43m\"\u001b[39;49m\u001b[43m]\u001b[49m\u001b[43m,\u001b[49m\n\u001b[0;32m   1178\u001b[0m \u001b[43m    \u001b[49m\u001b[38;5;28;43mself\u001b[39;49m\u001b[38;5;241;43m.\u001b[39;49m\u001b[43mget_parent\u001b[49m\u001b[43m(\u001b[49m\u001b[38;5;124;43m\"\u001b[39;49m\u001b[38;5;124;43mshell\u001b[39;49m\u001b[38;5;124;43m\"\u001b[39;49m\u001b[43m)\u001b[49m\u001b[43m,\u001b[49m\n\u001b[0;32m   1179\u001b[0m \u001b[43m    \u001b[49m\u001b[43mpassword\u001b[49m\u001b[38;5;241;43m=\u001b[39;49m\u001b[38;5;28;43;01mFalse\u001b[39;49;00m\u001b[43m,\u001b[49m\n\u001b[0;32m   1180\u001b[0m \u001b[43m\u001b[49m\u001b[43m)\u001b[49m\n",
      "File \u001b[1;32m~\\anaconda3\\lib\\site-packages\\ipykernel\\kernelbase.py:1217\u001b[0m, in \u001b[0;36mKernel._input_request\u001b[1;34m(self, prompt, ident, parent, password)\u001b[0m\n\u001b[0;32m   1214\u001b[0m             \u001b[38;5;28;01mbreak\u001b[39;00m\n\u001b[0;32m   1215\u001b[0m \u001b[38;5;28;01mexcept\u001b[39;00m \u001b[38;5;167;01mKeyboardInterrupt\u001b[39;00m:\n\u001b[0;32m   1216\u001b[0m     \u001b[38;5;66;03m# re-raise KeyboardInterrupt, to truncate traceback\u001b[39;00m\n\u001b[1;32m-> 1217\u001b[0m     \u001b[38;5;28;01mraise\u001b[39;00m \u001b[38;5;167;01mKeyboardInterrupt\u001b[39;00m(\u001b[38;5;124m\"\u001b[39m\u001b[38;5;124mInterrupted by user\u001b[39m\u001b[38;5;124m\"\u001b[39m) \u001b[38;5;28;01mfrom\u001b[39;00m \u001b[38;5;28mNone\u001b[39m\n\u001b[0;32m   1218\u001b[0m \u001b[38;5;28;01mexcept\u001b[39;00m \u001b[38;5;167;01mException\u001b[39;00m:\n\u001b[0;32m   1219\u001b[0m     \u001b[38;5;28mself\u001b[39m\u001b[38;5;241m.\u001b[39mlog\u001b[38;5;241m.\u001b[39mwarning(\u001b[38;5;124m\"\u001b[39m\u001b[38;5;124mInvalid Message:\u001b[39m\u001b[38;5;124m\"\u001b[39m, exc_info\u001b[38;5;241m=\u001b[39m\u001b[38;5;28;01mTrue\u001b[39;00m)\n",
      "\u001b[1;31mKeyboardInterrupt\u001b[0m: Interrupted by user"
     ]
    }
   ],
   "source": [
    "for i in range (0,3):\n",
    "    animalname=input(\"enter the animal name\").strip()\n",
    "\n",
    "    print(\"the animal name taken as input\",animalname)\n",
    "    print(\"lentght of the given aimalname\",len(animalname))"
   ]
  },
  {
   "cell_type": "code",
   "execution_count": 33,
   "id": "c75c511d",
   "metadata": {},
   "outputs": [
    {
     "name": "stdout",
     "output_type": "stream",
     "text": [
      "Please enter the fruit Nameapple\n",
      "Apple has lenght 5\n"
     ]
    },
    {
     "ename": "KeyboardInterrupt",
     "evalue": "Interrupted by user",
     "output_type": "error",
     "traceback": [
      "\u001b[1;31m---------------------------------------------------------------------------\u001b[0m",
      "\u001b[1;31mKeyboardInterrupt\u001b[0m                         Traceback (most recent call last)",
      "Cell \u001b[1;32mIn[33], line 2\u001b[0m\n\u001b[0;32m      1\u001b[0m \u001b[38;5;28;01mfor\u001b[39;00m i \u001b[38;5;129;01min\u001b[39;00m \u001b[38;5;28mrange\u001b[39m (\u001b[38;5;241m0\u001b[39m,\u001b[38;5;241m3\u001b[39m):\n\u001b[1;32m----> 2\u001b[0m     fruitName\u001b[38;5;241m=\u001b[39m\u001b[38;5;28;43minput\u001b[39;49m\u001b[43m(\u001b[49m\u001b[38;5;124;43m\"\u001b[39;49m\u001b[38;5;124;43mPlease enter the fruit Name\u001b[39;49m\u001b[38;5;124;43m\"\u001b[39;49m\u001b[43m)\u001b[49m\n\u001b[0;32m      3\u001b[0m     \u001b[38;5;28mprint\u001b[39m(\u001b[38;5;124mf\u001b[39m\u001b[38;5;124m\"\u001b[39m\u001b[38;5;132;01m{\u001b[39;00mfruitName\u001b[38;5;241m.\u001b[39mtitle()\u001b[38;5;132;01m}\u001b[39;00m\u001b[38;5;124m has lenght \u001b[39m\u001b[38;5;132;01m{\u001b[39;00m\u001b[38;5;28mlen\u001b[39m(fruitName)\u001b[38;5;132;01m}\u001b[39;00m\u001b[38;5;124m\"\u001b[39m)\n",
      "File \u001b[1;32m~\\anaconda3\\lib\\site-packages\\ipykernel\\kernelbase.py:1175\u001b[0m, in \u001b[0;36mKernel.raw_input\u001b[1;34m(self, prompt)\u001b[0m\n\u001b[0;32m   1171\u001b[0m \u001b[38;5;28;01mif\u001b[39;00m \u001b[38;5;129;01mnot\u001b[39;00m \u001b[38;5;28mself\u001b[39m\u001b[38;5;241m.\u001b[39m_allow_stdin:\n\u001b[0;32m   1172\u001b[0m     \u001b[38;5;28;01mraise\u001b[39;00m StdinNotImplementedError(\n\u001b[0;32m   1173\u001b[0m         \u001b[38;5;124m\"\u001b[39m\u001b[38;5;124mraw_input was called, but this frontend does not support input requests.\u001b[39m\u001b[38;5;124m\"\u001b[39m\n\u001b[0;32m   1174\u001b[0m     )\n\u001b[1;32m-> 1175\u001b[0m \u001b[38;5;28;01mreturn\u001b[39;00m \u001b[38;5;28;43mself\u001b[39;49m\u001b[38;5;241;43m.\u001b[39;49m\u001b[43m_input_request\u001b[49m\u001b[43m(\u001b[49m\n\u001b[0;32m   1176\u001b[0m \u001b[43m    \u001b[49m\u001b[38;5;28;43mstr\u001b[39;49m\u001b[43m(\u001b[49m\u001b[43mprompt\u001b[49m\u001b[43m)\u001b[49m\u001b[43m,\u001b[49m\n\u001b[0;32m   1177\u001b[0m \u001b[43m    \u001b[49m\u001b[38;5;28;43mself\u001b[39;49m\u001b[38;5;241;43m.\u001b[39;49m\u001b[43m_parent_ident\u001b[49m\u001b[43m[\u001b[49m\u001b[38;5;124;43m\"\u001b[39;49m\u001b[38;5;124;43mshell\u001b[39;49m\u001b[38;5;124;43m\"\u001b[39;49m\u001b[43m]\u001b[49m\u001b[43m,\u001b[49m\n\u001b[0;32m   1178\u001b[0m \u001b[43m    \u001b[49m\u001b[38;5;28;43mself\u001b[39;49m\u001b[38;5;241;43m.\u001b[39;49m\u001b[43mget_parent\u001b[49m\u001b[43m(\u001b[49m\u001b[38;5;124;43m\"\u001b[39;49m\u001b[38;5;124;43mshell\u001b[39;49m\u001b[38;5;124;43m\"\u001b[39;49m\u001b[43m)\u001b[49m\u001b[43m,\u001b[49m\n\u001b[0;32m   1179\u001b[0m \u001b[43m    \u001b[49m\u001b[43mpassword\u001b[49m\u001b[38;5;241;43m=\u001b[39;49m\u001b[38;5;28;43;01mFalse\u001b[39;49;00m\u001b[43m,\u001b[49m\n\u001b[0;32m   1180\u001b[0m \u001b[43m\u001b[49m\u001b[43m)\u001b[49m\n",
      "File \u001b[1;32m~\\anaconda3\\lib\\site-packages\\ipykernel\\kernelbase.py:1217\u001b[0m, in \u001b[0;36mKernel._input_request\u001b[1;34m(self, prompt, ident, parent, password)\u001b[0m\n\u001b[0;32m   1214\u001b[0m             \u001b[38;5;28;01mbreak\u001b[39;00m\n\u001b[0;32m   1215\u001b[0m \u001b[38;5;28;01mexcept\u001b[39;00m \u001b[38;5;167;01mKeyboardInterrupt\u001b[39;00m:\n\u001b[0;32m   1216\u001b[0m     \u001b[38;5;66;03m# re-raise KeyboardInterrupt, to truncate traceback\u001b[39;00m\n\u001b[1;32m-> 1217\u001b[0m     \u001b[38;5;28;01mraise\u001b[39;00m \u001b[38;5;167;01mKeyboardInterrupt\u001b[39;00m(\u001b[38;5;124m\"\u001b[39m\u001b[38;5;124mInterrupted by user\u001b[39m\u001b[38;5;124m\"\u001b[39m) \u001b[38;5;28;01mfrom\u001b[39;00m \u001b[38;5;28mNone\u001b[39m\n\u001b[0;32m   1218\u001b[0m \u001b[38;5;28;01mexcept\u001b[39;00m \u001b[38;5;167;01mException\u001b[39;00m:\n\u001b[0;32m   1219\u001b[0m     \u001b[38;5;28mself\u001b[39m\u001b[38;5;241m.\u001b[39mlog\u001b[38;5;241m.\u001b[39mwarning(\u001b[38;5;124m\"\u001b[39m\u001b[38;5;124mInvalid Message:\u001b[39m\u001b[38;5;124m\"\u001b[39m, exc_info\u001b[38;5;241m=\u001b[39m\u001b[38;5;28;01mTrue\u001b[39;00m)\n",
      "\u001b[1;31mKeyboardInterrupt\u001b[0m: Interrupted by user"
     ]
    }
   ],
   "source": [
    "for i in range (0,3):\n",
    "    fruitName=input(\"Please enter the fruit Name\")\n",
    "    print(f\"{fruitName.title()} has lenght {len(fruitName)}\")"
   ]
  },
  {
   "cell_type": "code",
   "execution_count": 40,
   "id": "757830b0",
   "metadata": {
    "scrolled": true
   },
   "outputs": [
    {
     "name": "stdout",
     "output_type": "stream",
     "text": [
      "*****\n",
      "****\n",
      "***\n",
      "**\n",
      "*\n"
     ]
    }
   ],
   "source": [
    "for i in range(5,0,-1):\n",
    "    print(\"*\"*i)"
   ]
  },
  {
   "cell_type": "code",
   "execution_count": 41,
   "id": "2f2b5a04",
   "metadata": {},
   "outputs": [
    {
     "name": "stdout",
     "output_type": "stream",
     "text": [
      "\n",
      "*\n",
      "**\n",
      "***\n",
      "****\n"
     ]
    }
   ],
   "source": [
    "for i in range(0,5):\n",
    "    print(\"*\"*i)"
   ]
  },
  {
   "cell_type": "code",
   "execution_count": 48,
   "id": "0385d712",
   "metadata": {},
   "outputs": [
    {
     "name": "stdout",
     "output_type": "stream",
     "text": [
      "1\n",
      "22\n",
      "333\n",
      "4444\n",
      "55555\n"
     ]
    }
   ],
   "source": [
    "for i in range (1,6):\n",
    "    print(str(i)*ib\n",
    "         )"
   ]
  },
  {
   "cell_type": "code",
   "execution_count": 54,
   "id": "a29eeb4d",
   "metadata": {},
   "outputs": [
    {
     "name": "stdout",
     "output_type": "stream",
     "text": [
      "0 J\n",
      "1 a\n",
      "2 v\n",
      "3 a\n"
     ]
    }
   ],
   "source": [
    "word = \"Java\"\n",
    "for i in range (len(word)):\n",
    "    print(i,word[i])"
   ]
  },
  {
   "cell_type": "code",
   "execution_count": 59,
   "id": "8e5660fa",
   "metadata": {},
   "outputs": [
    {
     "name": "stdout",
     "output_type": "stream",
     "text": [
      "J\n",
      "aa\n",
      "vvv\n",
      "aaaa\n"
     ]
    }
   ],
   "source": [
    "word = \"Java\"\n",
    "for i in range (len(word)):\n",
    "    print((i+1)*word[i])"
   ]
  },
  {
   "cell_type": "code",
   "execution_count": 65,
   "id": "ba650596",
   "metadata": {},
   "outputs": [
    {
     "name": "stdout",
     "output_type": "stream",
     "text": [
      "i=0 0=p\n",
      "i=1 1=y\n",
      "i=2 2=t\n",
      "i=3 3=h\n",
      "i=4 4=o\n",
      "i=5 5=n\n"
     ]
    }
   ],
   "source": [
    "StringName = \"python\"\n",
    "\n",
    "for i in range (len(StringName)):\n",
    "    print(f\"i={i} {i}={StringName[i]}\")"
   ]
  },
  {
   "cell_type": "code",
   "execution_count": 73,
   "id": "1b905134",
   "metadata": {},
   "outputs": [
    {
     "name": "stdout",
     "output_type": "stream",
     "text": [
      "A\n",
      "I\n",
      "M\n"
     ]
    }
   ],
   "source": [
    "encryptedCode = \"#$%^&A]['.55I585/*-*&^%$M']\"\n",
    "\n",
    "for i in range(len(encryptedCode)):\n",
    "    #print(f\"{i}={encryptedCode[i]}\")\n",
    "    if encryptedCode[i].isalpha():\n",
    "        print(encryptedCode[i])"
   ]
  },
  {
   "cell_type": "code",
   "execution_count": 75,
   "id": "98b61379",
   "metadata": {},
   "outputs": [
    {
     "name": "stdout",
     "output_type": "stream",
     "text": [
      "0=10\n",
      "1=25\n",
      "2=47\n",
      "3=-54\n",
      "4=23\n"
     ]
    }
   ],
   "source": [
    "listName = [10, 25, 47, -54 , 23]\n",
    "for i in range(len(listName)):\n",
    "    print(f\"{i}={listName[i]}\")"
   ]
  },
  {
   "cell_type": "code",
   "execution_count": 79,
   "id": "7951fa97",
   "metadata": {},
   "outputs": [
    {
     "name": "stdout",
     "output_type": "stream",
     "text": [
      "5\n",
      "4\n",
      "5\n",
      "4\n"
     ]
    }
   ],
   "source": [
    "message = \"an otp 5454 is shared on mobile. \"\n",
    "for i in range(len(message)):\n",
    "    #print(f\"{i}={message[i]}\")\n",
    "    if message[i].isdigit():\n",
    "        print(message[i])"
   ]
  },
  {
   "cell_type": "code",
   "execution_count": 92,
   "id": "6178ab3e",
   "metadata": {},
   "outputs": [
    {
     "name": "stdout",
     "output_type": "stream",
     "text": [
      "the given otp is = 5454 has len 4\n"
     ]
    }
   ],
   "source": [
    "message = \"an otp 5454 is shared on mobile. \"\n",
    "res=message.split(\" \")\n",
    "res\n",
    "\n",
    "for i in range(len(res)):\n",
    "    #print(f\"{i}={res[i]}\")\n",
    "    if res[i].isdigit():\n",
    "        print(f\"the given otp is = {res[i]} has len {len(res[i])}\")"
   ]
  },
  {
   "cell_type": "code",
   "execution_count": 101,
   "id": "9c1034b5",
   "metadata": {},
   "outputs": [
    {
     "name": "stdout",
     "output_type": "stream",
     "text": [
      "the given otp is = 5454\n",
      "the given mobile no is = 8745121203\n"
     ]
    }
   ],
   "source": [
    "message = \"an otp 5454 is shared on mobile number 8745121203\"\n",
    "res=message.split(\" \")\n",
    "res\n",
    "for i in range(len(res)):\n",
    "    if res[i].isdigit()  and len(res[i])==10:\n",
    "        print(f\"the given mobile no is = {res[i]}\")\n",
    "    elif res[i].isdigit()  and len(res[i])==4:\n",
    "        print(f\"the given otp is = {res[i]}\")"
   ]
  },
  {
   "cell_type": "code",
   "execution_count": 113,
   "id": "a0cacd26",
   "metadata": {},
   "outputs": [
    {
     "name": "stdout",
     "output_type": "stream",
     "text": [
      "the given mobile no is = 8745121203\n",
      "the given mail id is = nitish@gmail.com\n"
     ]
    }
   ],
   "source": [
    "message = \"an otp 5454 is shared on mobile number 8745121203 and nitish@gmail.com\"\n",
    "res=message.split(\" \")\n",
    "res\n",
    "for i in range(len(res)):\n",
    "        if res[i].isdigit()  and len(res[i])==10:\n",
    "            print(f\"the given mobile no is = {res[i]}\")\n",
    " #   elif res[i].isdigit()  and len(res[i])==4:\n",
    "     #   print(f\"the given otp is = {res[i]}\")\n",
    "        elif \"@\" in res[i]:\n",
    "            print(f\"the given mail id is = {res[i]}\")"
   ]
  },
  {
   "cell_type": "code",
   "execution_count": 126,
   "id": "eda6a29d",
   "metadata": {},
   "outputs": [
    {
     "name": "stdout",
     "output_type": "stream",
     "text": [
      "the given valid mobile no is = 8745121203\n",
      "the given valid mail id is = nitish@gmail.com\n",
      "['8745121203']\n",
      "['nitish@gmail.com']\n"
     ]
    }
   ],
   "source": [
    "message = \"an otp 5454 is shared on mobile number 8745121203 9965842 nitish@gmail.com and company@yahoo@.com\"\n",
    "res=message.split(\" \")\n",
    "res\n",
    "\n",
    "mobilenumber = []\n",
    "email = []\n",
    "for i in range(len(res)):\n",
    "        if res[i].isdigit()  and len(res[i])==10:\n",
    "            print(f\"the given valid mobile no is = {res[i]}\")\n",
    "            mobilenumber.append(res[i])\n",
    "        elif \"@\" in res[i] and res[i].count(\"@\")==1:\n",
    "            print(f\"the given valid mail id is = {res[i]}\")\n",
    "            email.append(res[i])\n",
    "            \n",
    "print(mobilenumber)\n",
    "print(email)"
   ]
  },
  {
   "cell_type": "code",
   "execution_count": 131,
   "id": "6800d2ef",
   "metadata": {},
   "outputs": [
    {
     "name": "stdout",
     "output_type": "stream",
     "text": [
      "enter the fruit name dfasd\n",
      "the given fruit name is :dfasd \n",
      "enter the fruit name sdff\n",
      "the given fruit name is :sdff \n",
      "enter the fruit name 16\n",
      "enter the fruit name 65165\n",
      "enter the fruit name 1651\n"
     ]
    }
   ],
   "source": [
    "#Take fruit name from the user and if that word is digit then stop\n",
    "# maximum loop is 5\n",
    "\n",
    "for i in range(0,5):\n",
    "    fruitname=input(\"enter the fruit name \")\n",
    "    if fruitname.isdigit():\n",
    "        pass\n",
    "    else:\n",
    "        print(f\"the given fruit name is :{fruitname} \")"
   ]
  },
  {
   "cell_type": "code",
   "execution_count": null,
   "id": "4ca31a8c",
   "metadata": {},
   "outputs": [],
   "source": [
    "if expression : output_if else : output_else\n",
    "output_if if expression else output_else"
   ]
  },
  {
   "cell_type": "code",
   "execution_count": 136,
   "id": "b082367c",
   "metadata": {},
   "outputs": [
    {
     "name": "stdout",
     "output_type": "stream",
     "text": [
      "enter a palindromedssdfasdf\n",
      "not a palindrome\n"
     ]
    }
   ],
   "source": [
    "word=input('enter a palindrome')\n",
    "if word[::1]==word[::-1]:\n",
    "    print(f\"the given word is a palindrome = {word}\")\n",
    "else:\n",
    "        print(f\"not a palindrome\")"
   ]
  },
  {
   "cell_type": "code",
   "execution_count": 139,
   "id": "1a8e05c8",
   "metadata": {},
   "outputs": [
    {
     "name": "stdout",
     "output_type": "stream",
     "text": [
      "enter a palindromedsfasdf\n",
      "not a palindrome\n"
     ]
    }
   ],
   "source": [
    "word=input('enter a palindrome')\n",
    "output= \"the given word is a palindrome \" if word[::1]==word[::-1] else \"not a palindrome\"\n",
    "print(output)"
   ]
  },
  {
   "cell_type": "code",
   "execution_count": 141,
   "id": "7e10629d",
   "metadata": {},
   "outputs": [
    {
     "name": "stdout",
     "output_type": "stream",
     "text": [
      "[10, -6, 70, 4, -14]\n"
     ]
    }
   ],
   "source": [
    "inputList = [10 , -6 , 70 , 4 , -14]\n",
    "mylist=inputList .copy()\n",
    "print(mylist)"
   ]
  },
  {
   "cell_type": "code",
   "execution_count": 142,
   "id": "4d839ac9",
   "metadata": {},
   "outputs": [
    {
     "name": "stdout",
     "output_type": "stream",
     "text": [
      "[10, 70, 4]\n"
     ]
    }
   ],
   "source": [
    "inputList = [10 , -6 , 70 , 4 , -14]\n",
    "mylist=[]\n",
    "for i in inputList:\n",
    "    if i >0:\n",
    "        mylist.append(i)\n",
    "print(mylist)\n",
    "        "
   ]
  },
  {
   "cell_type": "code",
   "execution_count": 143,
   "id": "e59e1822",
   "metadata": {},
   "outputs": [
    {
     "ename": "SyntaxError",
     "evalue": "expected 'else' after 'if' expression (1391250285.py, line 3)",
     "output_type": "error",
     "traceback": [
      "\u001b[1;36m  Cell \u001b[1;32mIn[143], line 3\u001b[1;36m\u001b[0m\n\u001b[1;33m    output= mylist.append(i) if i>0\u001b[0m\n\u001b[1;37m            ^\u001b[0m\n\u001b[1;31mSyntaxError\u001b[0m\u001b[1;31m:\u001b[0m expected 'else' after 'if' expression\n"
     ]
    }
   ],
   "source": [
    "inputList = [10 , -6 , 70 , 4 , -14]\n",
    "mylist=[]\n",
    "output= mylist.append(i) if i>0 else"
   ]
  },
  {
   "cell_type": "code",
   "execution_count": 157,
   "id": "7b47ef5c",
   "metadata": {},
   "outputs": [
    {
     "name": "stdout",
     "output_type": "stream",
     "text": [
      "['apple', 'CustARD Apple', 'pineAPPLE']\n"
     ]
    }
   ],
   "source": [
    "fruit = [ \"apple\", \"CustARD Apple\", \" ManGO   \", \"   kiWI\", \" pineAPPLE  \" ]\n",
    "mylist=[]\n",
    "for i in range(len(fruit)):\n",
    "    if 'apple' in fruit[i].lower():\n",
    "        mylist.append(fruit[i].strip())\n",
    "print(mylist)\n",
    "        "
   ]
  }
 ],
 "metadata": {
  "kernelspec": {
   "display_name": "Python 3 (ipykernel)",
   "language": "python",
   "name": "python3"
  },
  "language_info": {
   "codemirror_mode": {
    "name": "ipython",
    "version": 3
   },
   "file_extension": ".py",
   "mimetype": "text/x-python",
   "name": "python",
   "nbconvert_exporter": "python",
   "pygments_lexer": "ipython3",
   "version": "3.10.9"
  }
 },
 "nbformat": 4,
 "nbformat_minor": 5
}
