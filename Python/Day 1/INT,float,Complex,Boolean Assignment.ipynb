{
 "cells": [
  {
   "cell_type": "markdown",
   "id": "a79725c6",
   "metadata": {},
   "source": [
    "# INT"
   ]
  },
  {
   "cell_type": "code",
   "execution_count": 10,
   "id": "c3aa8de5",
   "metadata": {},
   "outputs": [
    {
     "name": "stdout",
     "output_type": "stream",
     "text": [
      "18\n"
     ]
    }
   ],
   "source": [
    "Rohith_roll_no=\"18\"\n",
    "print (Rohith_roll_no)"
   ]
  },
  {
   "cell_type": "code",
   "execution_count": 12,
   "id": "58a22a43",
   "metadata": {},
   "outputs": [
    {
     "name": "stdout",
     "output_type": "stream",
     "text": [
      "<class 'str'>\n",
      "1980907746480\n"
     ]
    }
   ],
   "source": [
    "print(type(Rohith_roll_no))\n",
    "print(id(Rohith_roll_no))"
   ]
  },
  {
   "cell_type": "code",
   "execution_count": 1,
   "id": "3ae33af4",
   "metadata": {},
   "outputs": [
    {
     "name": "stdout",
     "output_type": "stream",
     "text": [
      "2969156999088\n",
      "2969156999088\n"
     ]
    }
   ],
   "source": [
    "x=\"300\"\n",
    "y=\"300\"\n",
    "print(id(x))\n",
    "print(id(y))\n",
    "# doubt - when i tried for no's after 256 for this also showing same location\n",
    "# This is due to a feature known as \"integer caching\" or \"small integer optimization\" implemented in Python to optimize memory usage and improve performance."
   ]
  },
  {
   "cell_type": "code",
   "execution_count": null,
   "id": "e41fa5d8",
   "metadata": {},
   "outputs": [],
   "source": []
  },
  {
   "cell_type": "code",
   "execution_count": 23,
   "id": "ce2378cd",
   "metadata": {},
   "outputs": [
    {
     "name": "stdout",
     "output_type": "stream",
     "text": [
      "1980907905520\n",
      "1980907908208\n"
     ]
    }
   ],
   "source": [
    "x=\"-116\"\n",
    "y=\"-116\"\n",
    "print(id(x))\n",
    "print(id(y))\n",
    "# doubt - only working for -ve values but for values after 256 it's showing the same memory location\n",
    "#integer caching optimization is limited to the range of -5 to 256"
   ]
  },
  {
   "cell_type": "code",
   "execution_count": 49,
   "id": "09295b5d",
   "metadata": {},
   "outputs": [
    {
     "name": "stdout",
     "output_type": "stream",
     "text": [
      "sum of the no's: 17\n",
      "difference between two no's: 1\n",
      "product of two no's: 72\n",
      "divison of two no's: 1.125\n",
      "remainder is : 1\n",
      "quotient of two no's: 1\n",
      "exponentiation: 43046721\n"
     ]
    }
   ],
   "source": [
    "x=9\n",
    "y=8\n",
    "\n",
    "Add=x+y\n",
    "difference = x-y\n",
    "product=x*y\n",
    "division=x/y\n",
    "remainder=x%y\n",
    "quotient=x//y\n",
    "exponentiation=x**y\n",
    "\n",
    "print(\"sum of the no's:\", Add)\n",
    "print(\"difference between two no's:\", difference)\n",
    "print(\"product of two no's:\", product)\n",
    "print(\"divison of two no's:\", division)\n",
    "print(\"remainder is :\", remainder)\n",
    "print(\"quotient of two no's:\", quotient)\n",
    "print(\"exponentiation:\", exponentiation)"
   ]
  },
  {
   "cell_type": "code",
   "execution_count": 53,
   "id": "dc2dd46f",
   "metadata": {},
   "outputs": [
    {
     "name": "stdout",
     "output_type": "stream",
     "text": [
      "True\n",
      "False\n",
      "True\n",
      "False\n"
     ]
    }
   ],
   "source": [
    "x=9\n",
    "y=8\n",
    "print(x>y)\n",
    "print(x<y)\n",
    "print(x>=y)\n",
    "print(x<=y)"
   ]
  },
  {
   "cell_type": "code",
   "execution_count": 54,
   "id": "b37be42c",
   "metadata": {},
   "outputs": [
    {
     "name": "stdout",
     "output_type": "stream",
     "text": [
      "False\n",
      "True\n"
     ]
    }
   ],
   "source": [
    "x=9\n",
    "y=8\n",
    "print(x==y)\n",
    "print(x!=y)"
   ]
  },
  {
   "cell_type": "code",
   "execution_count": 57,
   "id": "f0ef0de2",
   "metadata": {},
   "outputs": [
    {
     "name": "stdout",
     "output_type": "stream",
     "text": [
      "20\n",
      "0\n",
      "0\n",
      "0\n"
     ]
    }
   ],
   "source": [
    "print(10 and 20)      \n",
    "print(0 and 20)       \n",
    "print(20 and 0)      \n",
    "print(0 and 0)  \n",
    "# and operator returns true if all the expressions are true,\n",
    "# here 10 and 20 are non zero integeres so it will be true rest all are false"
   ]
  },
  {
   "cell_type": "code",
   "execution_count": null,
   "id": "1c1d3186",
   "metadata": {},
   "outputs": [],
   "source": []
  },
  {
   "cell_type": "code",
   "execution_count": 61,
   "id": "49f1a356",
   "metadata": {},
   "outputs": [
    {
     "name": "stdout",
     "output_type": "stream",
     "text": [
      "True\n",
      "False\n",
      "False\n",
      "True\n"
     ]
    }
   ],
   "source": [
    "a=10\n",
    "b=10\n",
    "print(a is b)\n",
    "print(a is not b)\n",
    "\n",
    "a=1000\n",
    "b=1000\n",
    "print(a is b)\n",
    "print(a is not b)\n",
    "#The is and is not operators in Python are used to check if two variables refer to the same object in memory\n"
   ]
  },
  {
   "cell_type": "code",
   "execution_count": 62,
   "id": "10779657",
   "metadata": {},
   "outputs": [
    {
     "name": "stdout",
     "output_type": "stream",
     "text": [
      "20\n"
     ]
    }
   ],
   "source": [
    "print(10+(10*32)//2**5&20+(~(-10))<<2)"
   ]
  },
  {
   "cell_type": "code",
   "execution_count": 5,
   "id": "77850c60",
   "metadata": {},
   "outputs": [
    {
     "name": "stdout",
     "output_type": "stream",
     "text": [
      "True\n",
      "False\n"
     ]
    }
   ],
   "source": [
    "python= \"python is easier than java\"\n",
    "print(\"is\" in python)\n",
    "print(\"or\" in python)"
   ]
  },
  {
   "cell_type": "code",
   "execution_count": 9,
   "id": "cec8eb47",
   "metadata": {},
   "outputs": [
    {
     "name": "stdout",
     "output_type": "stream",
     "text": [
      "0\n",
      "30\n",
      "30\n",
      "-11\n",
      "40\n",
      "2\n"
     ]
    }
   ],
   "source": [
    "#Bitwise\n",
    "print(10&20)\n",
    "print(10|20)\n",
    "print(10^20)\n",
    "print(~10)\n",
    "print(10<<2)\n",
    "print(10>>2)"
   ]
  },
  {
   "cell_type": "code",
   "execution_count": null,
   "id": "9f208679",
   "metadata": {},
   "outputs": [],
   "source": []
  },
  {
   "cell_type": "code",
   "execution_count": 10,
   "id": "b79378a1",
   "metadata": {},
   "outputs": [
    {
     "name": "stdout",
     "output_type": "stream",
     "text": [
      "80\n",
      "3870\n",
      "64222\n",
      "0b1010000\n",
      "0o7436\n",
      "0xfade\n",
      "0b1010000\n",
      "0b1111101011011110\n",
      "0o175336\n",
      "0o7436\n",
      "0x50\n",
      "0xfade\n"
     ]
    }
   ],
   "source": [
    "a = 0b1010000\n",
    "print(a)\n",
    "\n",
    "b = 0o7436\n",
    "print(b)\n",
    "\n",
    "c = 0xfade\n",
    "print(c)\n",
    "\n",
    "print(bin(80))\n",
    "\n",
    "print(oct(3870))\n",
    "\n",
    "print(hex(64222))\n",
    "\n",
    "print(bin(0b1010000))\n",
    "\n",
    "print(bin(0xfade))\n",
    "\n",
    "print(oct(0xfade))\n",
    "\n",
    "print(oct(0o7436))\n",
    "\n",
    "print(hex(0b1010000))\n",
    "\n",
    "print(hex(0xfade))"
   ]
  },
  {
   "cell_type": "code",
   "execution_count": 1,
   "id": "37fa53e8",
   "metadata": {
    "scrolled": false
   },
   "outputs": [
    {
     "name": "stdout",
     "output_type": "stream",
     "text": [
      "12.8\n",
      "<class 'float'>\n",
      "2845218926352\n"
     ]
    }
   ],
   "source": [
    "num= 12.8\n",
    "print(num)\n",
    "print(type(num))\n",
    "print(id(num))\n"
   ]
  },
  {
   "cell_type": "markdown",
   "id": "aa969c94",
   "metadata": {},
   "source": [
    "# Float"
   ]
  },
  {
   "cell_type": "code",
   "execution_count": 6,
   "id": "d55075a6",
   "metadata": {},
   "outputs": [
    {
     "name": "stdout",
     "output_type": "stream",
     "text": [
      "False\n",
      "True\n",
      "False\n",
      "True\n"
     ]
    }
   ],
   "source": [
    "num_1=13.5\n",
    "num_2=17.5\n",
    "print(num_1>num_2)\n",
    "print(num_1<num_2)\n",
    "print(num_1>=num_2)\n",
    "print(num_1<=num_2)\n"
   ]
  },
  {
   "cell_type": "code",
   "execution_count": 8,
   "id": "e244404c",
   "metadata": {},
   "outputs": [
    {
     "name": "stdout",
     "output_type": "stream",
     "text": [
      "False\n",
      "True\n"
     ]
    }
   ],
   "source": [
    "num_1=16.25\n",
    "num_2=16.225\n",
    "print(num_1==num_2)\n",
    "print(num_1!=num_2)"
   ]
  },
  {
   "cell_type": "code",
   "execution_count": 9,
   "id": "96eedd4c",
   "metadata": {},
   "outputs": [
    {
     "name": "stdout",
     "output_type": "stream",
     "text": [
      "20.3\n",
      "0.0\n",
      "0.0\n",
      "0.0\n",
      "10.2\n",
      "20.3\n",
      "20.3\n",
      "0.0\n",
      "False\n",
      "True\n"
     ]
    }
   ],
   "source": [
    "\n",
    "print(10.20 and 20.30)    \n",
    "print(0.0 and 20.30)        \n",
    "print(20.30 and 0.0)        \n",
    "print(0.0 and 0.0)         \n",
    "\n",
    "print(10.20 or 20.30)        \n",
    "print(0.0 or 20.30)         \n",
    "print(20.30 or 0.0)         \n",
    "print(0.0 or 0.0)           \n",
    "\n",
    "print(not 10.20)           \n",
    "print(not 0.0)             "
   ]
  },
  {
   "cell_type": "code",
   "execution_count": 12,
   "id": "74437137",
   "metadata": {},
   "outputs": [
    {
     "name": "stdout",
     "output_type": "stream",
     "text": [
      "2845246879632\n",
      "2845246875984\n"
     ]
    }
   ],
   "source": [
    "a=10.5\n",
    "b=10.5\n",
    "print(id(a))\n",
    "print(id(b))"
   ]
  },
  {
   "cell_type": "code",
   "execution_count": 11,
   "id": "0403876f",
   "metadata": {},
   "outputs": [
    {
     "name": "stdout",
     "output_type": "stream",
     "text": [
      "2845246878320\n",
      "2845246878320\n"
     ]
    }
   ],
   "source": [
    "a=10.5\n",
    "b=10.5\n",
    "a=b\n",
    "print(id(a))\n",
    "print(id(b))"
   ]
  },
  {
   "cell_type": "markdown",
   "id": "d37cceee",
   "metadata": {},
   "source": [
    "# complex"
   ]
  },
  {
   "cell_type": "code",
   "execution_count": 13,
   "id": "05f5cbe1",
   "metadata": {},
   "outputs": [
    {
     "name": "stdout",
     "output_type": "stream",
     "text": [
      "<class 'complex'>\n",
      "2845246880176\n"
     ]
    }
   ],
   "source": [
    "a=10+20j\n",
    "print(type(a))\n",
    "print(id(a))"
   ]
  },
  {
   "cell_type": "code",
   "execution_count": 14,
   "id": "a1f78ef8",
   "metadata": {},
   "outputs": [
    {
     "name": "stdout",
     "output_type": "stream",
     "text": [
      "sum of num's : (30+50j)\n",
      "difference of two num's : (-10-10j)\n",
      "division (0.6153846153846154+0.0769230769230769j)\n",
      "quotient (-2348247776258.4404+2822337984266.558j)\n"
     ]
    }
   ],
   "source": [
    "a=10+20j\n",
    "b=20+30j\n",
    "Add= a+b\n",
    "difference= a-b\n",
    "product= a*b\n",
    "divide= a/b\n",
    "quotient= a**b\n",
    "print(\"sum of num's :\", Add)\n",
    "print(\"difference of two num's :\",difference)\n",
    "print('division',divide)\n",
    "print(\"quotient\", quotient)\n"
   ]
  },
  {
   "cell_type": "code",
   "execution_count": 15,
   "id": "140f0d10",
   "metadata": {},
   "outputs": [
    {
     "name": "stdout",
     "output_type": "stream",
     "text": [
      "False\n",
      "True\n"
     ]
    }
   ],
   "source": [
    "a=10+20j\n",
    "b=20+30j\n",
    "print(a==b)\n",
    "print(a!=b)"
   ]
  },
  {
   "cell_type": "code",
   "execution_count": 16,
   "id": "66ed788b",
   "metadata": {},
   "outputs": [
    {
     "name": "stdout",
     "output_type": "stream",
     "text": [
      "(20+30j)\n",
      "0j\n",
      "0j\n",
      "0j\n",
      "(10+20j)\n",
      "(20+30j)\n",
      "(20+30j)\n",
      "0j\n",
      "False\n",
      "True\n"
     ]
    }
   ],
   "source": [
    "print(10+20j and 20+30j)   \n",
    "print(0+0j and 20+30j)      \n",
    "print(20+30j and 0+0j)     \n",
    "print(0+0j and 0+0j)        \n",
    "\n",
    "print(10+20j or 20+30j)   \n",
    "print(0+0j or 20+30j)      \n",
    "print(20+30j or 0+0j)    \n",
    "print(0+0j or 0+0j)        \n",
    "\n",
    "print(not 10+20j)         \n",
    "print(not 0+0j)       "
   ]
  },
  {
   "cell_type": "code",
   "execution_count": 17,
   "id": "5cf740db",
   "metadata": {},
   "outputs": [
    {
     "name": "stdout",
     "output_type": "stream",
     "text": [
      "False\n",
      "True\n"
     ]
    }
   ],
   "source": [
    "a=10+20j\n",
    "b=10+20j\n",
    "print(a is b)\n",
    "print(a is not b)"
   ]
  },
  {
   "cell_type": "markdown",
   "id": "23751ff5",
   "metadata": {},
   "source": [
    "# Boolean"
   ]
  },
  {
   "cell_type": "code",
   "execution_count": 2,
   "id": "34d6f942",
   "metadata": {},
   "outputs": [
    {
     "name": "stdout",
     "output_type": "stream",
     "text": [
      "<class 'bool'>\n",
      "140736605276368\n"
     ]
    }
   ],
   "source": [
    "a= True\n",
    "print(type(a))\n",
    "print(id(a))"
   ]
  },
  {
   "cell_type": "code",
   "execution_count": 4,
   "id": "19f1965b",
   "metadata": {},
   "outputs": [
    {
     "name": "stdout",
     "output_type": "stream",
     "text": [
      "2483019384080\n",
      "2483019386928\n"
     ]
    }
   ],
   "source": [
    "a=34\n",
    "b=123\n",
    "print(id(a))\n",
    "print(id(b))"
   ]
  },
  {
   "cell_type": "markdown",
   "id": "bd541229",
   "metadata": {},
   "source": [
    "Any non-zero value within the range 0 - 256 has same id\n",
    "\n",
    "2483019384080\n",
    "2483019386928"
   ]
  },
  {
   "cell_type": "code",
   "execution_count": 7,
   "id": "2439cf2e",
   "metadata": {},
   "outputs": [
    {
     "name": "stdout",
     "output_type": "stream",
     "text": [
      "Sum: 149\n",
      "Difference: -83\n",
      "Product: 3828\n",
      "Division: 0.28448275862068967\n",
      "Remainder: 33\n",
      "Quotient: 0\n",
      "Power: 140480817492157101714681650001417870816399396626767640507265025947582134754624289653211347072774383015726130402998042766126243204368705054673180340332597934179904752712113342081\n"
     ]
    }
   ],
   "source": [
    "value1 = 33\n",
    "value2 = 116\n",
    "\n",
    "# Find sum of both values\n",
    "sum_result = value1 + value2\n",
    "\n",
    "# Find difference between them\n",
    "difference_result = value1 - value2\n",
    "\n",
    "# Find the product of both\n",
    "product_result = value1 * value2\n",
    "\n",
    "# Find value after dividing first value with second value\n",
    "division_result = value1 / value2\n",
    "\n",
    "# Find the remainder after dividing first value with second value\n",
    "remainder_result = value1 % value2\n",
    "\n",
    "# Find the quotient after dividing first value with second value\n",
    "quotient_result = value1 // value2\n",
    "\n",
    "# Find the result of first value to the power of second value\n",
    "power_result = value1 ** value2\n",
    "\n",
    "print(\"Sum:\", sum_result)\n",
    "print(\"Difference:\", difference_result)\n",
    "print(\"Product:\", product_result)\n",
    "print(\"Division:\", division_result)\n",
    "print(\"Remainder:\", remainder_result)\n",
    "print(\"Quotient:\", quotient_result)\n",
    "print(\"Power:\", power_result)\n"
   ]
  },
  {
   "cell_type": "code",
   "execution_count": 8,
   "id": "95b38720",
   "metadata": {
    "scrolled": true
   },
   "outputs": [
    {
     "name": "stdout",
     "output_type": "stream",
     "text": [
      "True\n",
      "False\n",
      "True\n",
      "False\n"
     ]
    }
   ],
   "source": [
    "value1 = True\n",
    "value2 = False\n",
    "print(value1>value2)\n",
    "print(value1<value2)\n",
    "print(value1>=value2)\n",
    "print(value1<=value2)"
   ]
  },
  {
   "cell_type": "code",
   "execution_count": 10,
   "id": "7bba346a",
   "metadata": {
    "scrolled": true
   },
   "outputs": [
    {
     "name": "stdout",
     "output_type": "stream",
     "text": [
      "False\n",
      "True\n"
     ]
    }
   ],
   "source": [
    "value1 = True\n",
    "value2 = False\n",
    "print(value1==value2)\n",
    "print(value1!=value2)"
   ]
  },
  {
   "cell_type": "code",
   "execution_count": 13,
   "id": "f72bfc73",
   "metadata": {},
   "outputs": [
    {
     "name": "stdout",
     "output_type": "stream",
     "text": [
      "True\n",
      "False\n",
      "False\n",
      "False\n",
      "\n",
      "True\n",
      "True\n",
      "True\n",
      "False\n",
      "\n",
      "False\n",
      "True\n"
     ]
    }
   ],
   "source": [
    "print(True and True)\n",
    "print(False and True)\n",
    "print(True and False)\n",
    "print(False and False)\n",
    "print()\n",
    "print(True or True)\n",
    "print(False or True)\n",
    "print(True or False)\n",
    "print(False or False)\n",
    "print()\n",
    "print(not True)\n",
    "print(not False)"
   ]
  },
  {
   "cell_type": "code",
   "execution_count": 14,
   "id": "982909db",
   "metadata": {},
   "outputs": [
    {
     "name": "stdout",
     "output_type": "stream",
     "text": [
      "Bitwise AND: False\n",
      "Bitwise OR: True\n",
      "Bitwise XOR: True\n",
      "Bitwise negation: -2\n",
      "Bitwise left shift: 4\n",
      "Bitwise right shift: 0\n"
     ]
    }
   ],
   "source": [
    "value1 = True\n",
    "value2 = False\n",
    "\n",
    " #Bitwise and(&)\n",
    "and_result = value1 & value2\n",
    "\n",
    "   #Bitwise or(|)\n",
    "or_result = value1 | value2\n",
    "\n",
    " #Bitwise XOR(^)\n",
    "xor_result = value1 ^ value2\n",
    "\n",
    "#Bitwise negation(~)\n",
    "negation_result = ~value1\n",
    "\n",
    "  #Bitwise left shift\n",
    "left_shift_result = value1 << 2\n",
    "\n",
    "##Bitwise right shift\n",
    "right_shift_result = value1 >> 2\n",
    "\n",
    "print(\"Bitwise AND:\", and_result)\n",
    "print(\"Bitwise OR:\", or_result) \n",
    "print(\"Bitwise XOR:\", xor_result)\n",
    "print(\"Bitwise negation:\", negation_result)\n",
    "print(\"Bitwise left shift:\", left_shift_result)\n",
    "print(\"Bitwise right shift:\", right_shift_result)\n"
   ]
  },
  {
   "cell_type": "code",
   "execution_count": 5,
   "id": "125e5b35",
   "metadata": {
    "scrolled": true
   },
   "outputs": [
    {
     "ename": "NameError",
     "evalue": "name 'pirnt' is not defined",
     "output_type": "error",
     "traceback": [
      "\u001b[1;31m---------------------------------------------------------------------------\u001b[0m",
      "\u001b[1;31mNameError\u001b[0m                                 Traceback (most recent call last)",
      "Cell \u001b[1;32mIn[5], line 3\u001b[0m\n\u001b[0;32m      1\u001b[0m message \u001b[38;5;241m=\u001b[39m \u001b[38;5;124m\"\u001b[39m\u001b[38;5;124mNitish birthday is coming soon, set a reminder for 15-June\u001b[39m\u001b[38;5;124m\"\u001b[39m \u001b[38;5;66;03m#date= 15 month=june\u001b[39;00m\n\u001b[0;32m      2\u001b[0m res\u001b[38;5;241m=\u001b[39mmessage\u001b[38;5;241m.\u001b[39msplit()\n\u001b[1;32m----> 3\u001b[0m \u001b[43mpirnt\u001b[49m(res)\n",
      "\u001b[1;31mNameError\u001b[0m: name 'pirnt' is not defined"
     ]
    }
   ],
   "source": [
    "message = \"Nitish birthday is coming soon, set a reminder for 15-June\" #date= 15 month=june\n",
    "res=message.split()\n",
    "pirnt(res)"
   ]
  },
  {
   "cell_type": "code",
   "execution_count": 8,
   "id": "fc47a84b",
   "metadata": {},
   "outputs": [
    {
     "name": "stdout",
     "output_type": "stream",
     "text": [
      "['delhi', 'mumbai', 100, 50]\n"
     ]
    }
   ],
   "source": [
    "a1 = [100, 50]\n",
    "a2 = [\"delhi\", \"mumbai\"]\n",
    "\n",
    "#############################\n",
    "a2.extend(a1)\n",
    "print(a2)"
   ]
  }
 ],
 "metadata": {
  "kernelspec": {
   "display_name": "Python 3 (ipykernel)",
   "language": "python",
   "name": "python3"
  },
  "language_info": {
   "codemirror_mode": {
    "name": "ipython",
    "version": 3
   },
   "file_extension": ".py",
   "mimetype": "text/x-python",
   "name": "python",
   "nbconvert_exporter": "python",
   "pygments_lexer": "ipython3",
   "version": "3.10.9"
  }
 },
 "nbformat": 4,
 "nbformat_minor": 5
}
