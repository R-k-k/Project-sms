{
 "cells": [
  {
   "cell_type": "code",
   "execution_count": 6,
   "id": "223bc060",
   "metadata": {},
   "outputs": [
    {
     "name": "stdout",
     "output_type": "stream",
     "text": [
      "1\n",
      "22\n",
      "333\n",
      "4444\n",
      "55555\n",
      "666666\n"
     ]
    }
   ],
   "source": [
    "for i in range(1,7):\n",
    "    print(str(i)*i)"
   ]
  },
  {
   "cell_type": "code",
   "execution_count": null,
   "id": "c8004a26",
   "metadata": {},
   "outputs": [],
   "source": [
    "stringName = \"python\"\n",
    "             #0 1 2 3 4 5 \n",
    "\n",
    "for i in range( 0, len(stringName) ) : \n",
    "    print( f\"i = {i}\", f\"Charachter Value : {stringName[i]}\" )"
   ]
  },
  {
   "cell_type": "code",
   "execution_count": 7,
   "id": "3de6b62a",
   "metadata": {},
   "outputs": [
    {
     "name": "stdout",
     "output_type": "stream",
     "text": [
      "i = 0 Charachter Value : 10\n",
      "i = 1 Charachter Value : 25\n",
      "i = 2 Charachter Value : 47\n",
      "i = 3 Charachter Value : -54\n",
      "i = 4 Charachter Value : 23\n"
     ]
    }
   ],
   "source": [
    "listName = [10, 25, 47, -54 , 23]\n",
    "for i in range( 0, len(listName) ) : \n",
    "    print( f\"i = {i}\", f\"Charachter Value : {listName[i]}\" )"
   ]
  },
  {
   "cell_type": "code",
   "execution_count": null,
   "id": "305f58a1",
   "metadata": {},
   "outputs": [],
   "source": [
    "## Hint : string split + testcase\n",
    "\n",
    "# Find the OTP\n",
    "# message = an otp 5454 is shared on mobile. \n",
    "\n",
    "# Find the OTP and mobile number\n",
    "# message = an otp 5454 is shared on mobile number 8745121203\n",
    "\n",
    "# Find Valid mobile number and email\n",
    "\n",
    "# message = an otp 5454 is shared on mobile number 8745121203 and nitish@gmail.com\n",
    "\n",
    "# Find Valid mobile number and email\n",
    "# message = an otp 5454 is shared on mobile number 8745121203 9965842 nitish@gmail.com and company@yahoo@.com"
   ]
  },
  {
   "cell_type": "code",
   "execution_count": 21,
   "id": "79d52dec",
   "metadata": {},
   "outputs": [
    {
     "name": "stdout",
     "output_type": "stream",
     "text": [
      "i=0 otp: a\n",
      "i=1 otp: n\n",
      "i=2 otp:  \n",
      "i=3 otp: o\n",
      "i=4 otp: t\n",
      "i=5 otp: p\n",
      "i=6 otp:  \n",
      "i=7 otp: 5\n",
      "i=8 otp: 4\n",
      "i=9 otp: 5\n",
      "i=10 otp: 4\n",
      "i=11 otp:  \n",
      "i=12 otp: i\n",
      "i=13 otp: s\n",
      "i=14 otp:  \n",
      "i=15 otp: s\n",
      "i=16 otp: h\n",
      "i=17 otp: a\n",
      "i=18 otp: r\n",
      "i=19 otp: e\n",
      "i=20 otp: d\n",
      "i=21 otp:  \n",
      "i=22 otp: o\n",
      "i=23 otp: n\n",
      "i=24 otp:  \n",
      "i=25 otp: m\n",
      "i=26 otp: o\n",
      "i=27 otp: b\n",
      "i=28 otp: i\n",
      "i=29 otp: l\n",
      "i=30 otp: e\n",
      "i=31 otp: .\n"
     ]
    }
   ],
   "source": [
    "# Find the OTP\n",
    "message = \"an otp 5454 is shared on mobile.\"\n",
    "for i in range (len(message)):\n",
    "    print(f\"i={i}\",f\"otp: {message[i]}\")\n",
    "    "
   ]
  }
 ],
 "metadata": {
  "kernelspec": {
   "display_name": "Python 3 (ipykernel)",
   "language": "python",
   "name": "python3"
  },
  "language_info": {
   "codemirror_mode": {
    "name": "ipython",
    "version": 3
   },
   "file_extension": ".py",
   "mimetype": "text/x-python",
   "name": "python",
   "nbconvert_exporter": "python",
   "pygments_lexer": "ipython3",
   "version": "3.10.9"
  }
 },
 "nbformat": 4,
 "nbformat_minor": 5
}
