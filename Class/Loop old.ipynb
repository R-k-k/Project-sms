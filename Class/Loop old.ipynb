{
 "cells": [
  {
   "cell_type": "markdown",
   "id": "1db10ca1",
   "metadata": {},
   "source": [
    "# Loops\n",
    "\n",
    "- repeat something\n",
    "- how many times ???\n",
    "- define it with range...\n"
   ]
  },
  {
   "cell_type": "markdown",
   "id": "abac1b6f",
   "metadata": {},
   "source": [
    "### Syntax of FOR LOOP\n",
    "\n",
    "- i in iterator. this can be any variable (only alphabets) \n",
    "- the life cycle of iterator is limited to loops and if used outside , then it will refer to the last value\n",
    "- range is the sequence within which it defines, how many times to repeat\n",
    "- at the end of the for block, i is automatically incremented by 1\n",
    "\n",
    "\n",
    "for i in range(start, end) : \n",
    "    statements\n",
    "    statements\n",
    "    last_statements\n"
   ]
  },
  {
   "cell_type": "code",
   "execution_count": null,
   "id": "3a7b1e9f",
   "metadata": {},
   "outputs": [],
   "source": [
    "1 - 3\n",
    "1 - 5"
   ]
  },
  {
   "cell_type": "code",
   "execution_count": 1,
   "id": "d8af11c0",
   "metadata": {},
   "outputs": [],
   "source": [
    "# range(start, end, step) : provides a sequence of numbers between start to end\n",
    "# end is not included...\n",
    "# default value of start is 0\n",
    "# step is default 1"
   ]
  },
  {
   "cell_type": "code",
   "execution_count": 2,
   "id": "2971691b",
   "metadata": {},
   "outputs": [
    {
     "data": {
      "text/plain": [
       "range(1, 10)"
      ]
     },
     "execution_count": 2,
     "metadata": {},
     "output_type": "execute_result"
    }
   ],
   "source": [
    "range(1 , 10)"
   ]
  },
  {
   "cell_type": "code",
   "execution_count": 3,
   "id": "9cbd7272",
   "metadata": {},
   "outputs": [
    {
     "data": {
      "text/plain": [
       "[1, 2, 3, 4, 5, 6, 7, 8, 9]"
      ]
     },
     "execution_count": 3,
     "metadata": {},
     "output_type": "execute_result"
    }
   ],
   "source": [
    "list( range(1 , 10) )"
   ]
  },
  {
   "cell_type": "code",
   "execution_count": 4,
   "id": "1637bce5",
   "metadata": {},
   "outputs": [
    {
     "data": {
      "text/plain": [
       "[0, 1, 2, 3, 4, 5, 6, 7, 8, 9]"
      ]
     },
     "execution_count": 4,
     "metadata": {},
     "output_type": "execute_result"
    }
   ],
   "source": [
    "list( range(10) )"
   ]
  },
  {
   "cell_type": "code",
   "execution_count": 5,
   "id": "54225d17",
   "metadata": {},
   "outputs": [
    {
     "name": "stdout",
     "output_type": "stream",
     "text": [
      "1\n",
      "2\n",
      "3\n",
      "4\n",
      "5\n",
      "6\n",
      "7\n",
      "8\n",
      "9\n"
     ]
    }
   ],
   "source": [
    "for i in range(1, 10) : \n",
    "    print(i)"
   ]
  },
  {
   "cell_type": "code",
   "execution_count": 9,
   "id": "9cb64b4b",
   "metadata": {},
   "outputs": [
    {
     "name": "stdout",
     "output_type": "stream",
     "text": [
      "Earth\n",
      "Earth\n",
      "Earth\n",
      "Earth\n",
      "Earth\n"
     ]
    }
   ],
   "source": [
    "# Repeat earth 5 times\n",
    "\n",
    "print(\"Earth\")\n",
    "print(\"Earth\")\n",
    "print(\"Earth\")\n",
    "print(\"Earth\")\n",
    "print(\"Earth\")\n"
   ]
  },
  {
   "cell_type": "code",
   "execution_count": 6,
   "id": "a6c6f9ed",
   "metadata": {},
   "outputs": [
    {
     "name": "stdout",
     "output_type": "stream",
     "text": [
      "Earth\n",
      "Earth\n",
      "Earth\n",
      "Earth\n",
      "Earth\n"
     ]
    }
   ],
   "source": [
    "# Repeat earth 5 times\n",
    "\n",
    "for i in range(1, 6) : # 1 2 3 4 5\n",
    "    print(\"Earth\")\n"
   ]
  },
  {
   "cell_type": "code",
   "execution_count": 8,
   "id": "b9b401f7",
   "metadata": {},
   "outputs": [
    {
     "name": "stdout",
     "output_type": "stream",
     "text": [
      "i =>  1\n",
      "Earth\n",
      "i =>  2\n",
      "Earth\n",
      "i =>  3\n",
      "Earth\n",
      "i =>  4\n",
      "Earth\n",
      "i =>  5\n",
      "Earth\n",
      "------------------------------------------------------------------------------------------\n"
     ]
    }
   ],
   "source": [
    "# Repeat earth 5 times\n",
    "\n",
    "for i in range(1, 6) : # 1 2 3 4 5\n",
    "    print('i => ', i)\n",
    "    print(\"Earth\")  # ................... i = i + 1\n",
    "\n",
    "print(\"---\" * 30)"
   ]
  },
  {
   "cell_type": "code",
   "execution_count": 10,
   "id": "534f209a",
   "metadata": {},
   "outputs": [
    {
     "name": "stdout",
     "output_type": "stream",
     "text": [
      "Mention Animal Name => lion\n",
      "Animal Name taken as INPUT ::  lion\n",
      "Mention Animal Name => tiger\n",
      "Animal Name taken as INPUT ::  tiger\n",
      "Mention Animal Name => zebra\n",
      "Animal Name taken as INPUT ::  zebra\n"
     ]
    }
   ],
   "source": [
    "# take 3 animal names from the user and display it\n",
    "\n",
    "animalName = input(\"Mention Animal Name => \")\n",
    "print(\"Animal Name taken as INPUT :: \", animalName)\n",
    "\n",
    "animalName = input(\"Mention Animal Name => \")\n",
    "print(\"Animal Name taken as INPUT :: \", animalName)\n",
    "\n",
    "animalName = input(\"Mention Animal Name => \")\n",
    "print(\"Animal Name taken as INPUT :: \", animalName)\n",
    "\n"
   ]
  },
  {
   "cell_type": "code",
   "execution_count": 11,
   "id": "682a5fbc",
   "metadata": {},
   "outputs": [
    {
     "name": "stdout",
     "output_type": "stream",
     "text": [
      "Mention Animal Name => lion\n",
      "Animal Name taken as INPUT ::  lion\n",
      "Mention Animal Name => tiger\n",
      "Animal Name taken as INPUT ::  tiger\n",
      "Mention Animal Name => zebra\n",
      "Animal Name taken as INPUT ::  zebra\n"
     ]
    }
   ],
   "source": [
    "# take 3 animal names from the user and display it\n",
    "\n",
    "for i in range(3) : # 0 1 2\n",
    "\n",
    "    animalName = input(\"Mention Animal Name => \")\n",
    "    print(\"Animal Name taken as INPUT :: \", animalName)\n",
    "\n"
   ]
  },
  {
   "cell_type": "code",
   "execution_count": null,
   "id": "6e23e7da",
   "metadata": {},
   "outputs": [],
   "source": []
  },
  {
   "cell_type": "code",
   "execution_count": 12,
   "id": "2f769476",
   "metadata": {},
   "outputs": [
    {
     "name": "stdout",
     "output_type": "stream",
     "text": [
      "Mention Animal Name => lion tiger zebra\n"
     ]
    }
   ],
   "source": [
    "animalName = input(\"Mention Animal Name => \")"
   ]
  },
  {
   "cell_type": "code",
   "execution_count": 14,
   "id": "471ca7a7",
   "metadata": {},
   "outputs": [],
   "source": [
    "res = animalName.split(\" \")"
   ]
  },
  {
   "cell_type": "code",
   "execution_count": 15,
   "id": "1a48c697",
   "metadata": {},
   "outputs": [
    {
     "data": {
      "text/plain": [
       "['lion', 'tiger', 'zebra']"
      ]
     },
     "execution_count": 15,
     "metadata": {},
     "output_type": "execute_result"
    }
   ],
   "source": [
    "res"
   ]
  },
  {
   "cell_type": "code",
   "execution_count": 17,
   "id": "0c2bed6a",
   "metadata": {},
   "outputs": [
    {
     "name": "stdout",
     "output_type": "stream",
     "text": [
      "lion\n",
      "tiger\n",
      "zebra\n"
     ]
    }
   ],
   "source": [
    "a1 = res[0]\n",
    "a2 = res[1]\n",
    "a3 = res[2]\n",
    "\n",
    "print(a1)\n",
    "print(a2)\n",
    "print(a3)\n"
   ]
  },
  {
   "cell_type": "code",
   "execution_count": 29,
   "id": "010d56c8",
   "metadata": {},
   "outputs": [
    {
     "name": "stdout",
     "output_type": "stream",
     "text": [
      "Mention Animal Name with SPACES =>     10 20 30                 \n",
      "10\n",
      "20\n",
      "30\n"
     ]
    }
   ],
   "source": [
    "a1, a2, a3 = input(\"Mention Animal Name with SPACES => \").strip().split(\" \")\n",
    "\n",
    "print(a1)\n",
    "print(a2)\n",
    "print(a3)"
   ]
  },
  {
   "cell_type": "code",
   "execution_count": 21,
   "id": "c2d259b8",
   "metadata": {},
   "outputs": [
    {
     "name": "stdout",
     "output_type": "stream",
     "text": [
      "10\n",
      "20\n"
     ]
    }
   ],
   "source": [
    "x, y = 10, 20\n",
    "\n",
    "print(x)\n",
    "print(y)\n"
   ]
  },
  {
   "cell_type": "code",
   "execution_count": 22,
   "id": "35888921",
   "metadata": {},
   "outputs": [
    {
     "ename": "ValueError",
     "evalue": "not enough values to unpack (expected 3, got 2)",
     "output_type": "error",
     "traceback": [
      "\u001b[1;31m---------------------------------------------------------------------------\u001b[0m",
      "\u001b[1;31mValueError\u001b[0m                                Traceback (most recent call last)",
      "\u001b[1;32m~\\AppData\\Local\\Temp\\ipykernel_3536\\1815530313.py\u001b[0m in \u001b[0;36m<module>\u001b[1;34m\u001b[0m\n\u001b[1;32m----> 1\u001b[1;33m \u001b[0mx\u001b[0m\u001b[1;33m,\u001b[0m \u001b[0my\u001b[0m\u001b[1;33m,\u001b[0m \u001b[0mz\u001b[0m \u001b[1;33m=\u001b[0m \u001b[1;36m10\u001b[0m\u001b[1;33m,\u001b[0m \u001b[1;36m20\u001b[0m\u001b[1;33m\u001b[0m\u001b[1;33m\u001b[0m\u001b[0m\n\u001b[0m\u001b[0;32m      2\u001b[0m \u001b[1;33m\u001b[0m\u001b[0m\n\u001b[0;32m      3\u001b[0m \u001b[0mprint\u001b[0m\u001b[1;33m(\u001b[0m\u001b[0mx\u001b[0m\u001b[1;33m)\u001b[0m\u001b[1;33m\u001b[0m\u001b[1;33m\u001b[0m\u001b[0m\n\u001b[0;32m      4\u001b[0m \u001b[0mprint\u001b[0m\u001b[1;33m(\u001b[0m\u001b[0my\u001b[0m\u001b[1;33m)\u001b[0m\u001b[1;33m\u001b[0m\u001b[1;33m\u001b[0m\u001b[0m\n",
      "\u001b[1;31mValueError\u001b[0m: not enough values to unpack (expected 3, got 2)"
     ]
    }
   ],
   "source": [
    "x, y, z = 10, 20\n",
    "\n",
    "print(x)\n",
    "print(y)\n"
   ]
  },
  {
   "cell_type": "code",
   "execution_count": 23,
   "id": "76f692b9",
   "metadata": {},
   "outputs": [
    {
     "ename": "ValueError",
     "evalue": "too many values to unpack (expected 2)",
     "output_type": "error",
     "traceback": [
      "\u001b[1;31m---------------------------------------------------------------------------\u001b[0m",
      "\u001b[1;31mValueError\u001b[0m                                Traceback (most recent call last)",
      "\u001b[1;32m~\\AppData\\Local\\Temp\\ipykernel_3536\\1007611863.py\u001b[0m in \u001b[0;36m<module>\u001b[1;34m\u001b[0m\n\u001b[1;32m----> 1\u001b[1;33m \u001b[0mx\u001b[0m\u001b[1;33m,\u001b[0m \u001b[0my\u001b[0m \u001b[1;33m=\u001b[0m \u001b[1;36m10\u001b[0m\u001b[1;33m,\u001b[0m \u001b[1;36m20\u001b[0m\u001b[1;33m,\u001b[0m \u001b[1;36m30\u001b[0m\u001b[1;33m\u001b[0m\u001b[1;33m\u001b[0m\u001b[0m\n\u001b[0m\u001b[0;32m      2\u001b[0m \u001b[1;33m\u001b[0m\u001b[0m\n\u001b[0;32m      3\u001b[0m \u001b[0mprint\u001b[0m\u001b[1;33m(\u001b[0m\u001b[0mx\u001b[0m\u001b[1;33m)\u001b[0m\u001b[1;33m\u001b[0m\u001b[1;33m\u001b[0m\u001b[0m\n\u001b[0;32m      4\u001b[0m \u001b[0mprint\u001b[0m\u001b[1;33m(\u001b[0m\u001b[0my\u001b[0m\u001b[1;33m)\u001b[0m\u001b[1;33m\u001b[0m\u001b[1;33m\u001b[0m\u001b[0m\n",
      "\u001b[1;31mValueError\u001b[0m: too many values to unpack (expected 2)"
     ]
    }
   ],
   "source": [
    "x, y = 10, 20, 30\n",
    "\n",
    "print(x)\n",
    "print(y)\n"
   ]
  },
  {
   "cell_type": "code",
   "execution_count": 24,
   "id": "6b8c4055",
   "metadata": {},
   "outputs": [
    {
     "name": "stdout",
     "output_type": "stream",
     "text": [
      "10\n",
      "20\n"
     ]
    }
   ],
   "source": [
    "x, y = [10, 20]\n",
    "\n",
    "print(x)\n",
    "print(y)\n"
   ]
  },
  {
   "cell_type": "code",
   "execution_count": null,
   "id": "c34f20a8",
   "metadata": {},
   "outputs": [],
   "source": []
  },
  {
   "cell_type": "code",
   "execution_count": 30,
   "id": "b22f617c",
   "metadata": {},
   "outputs": [],
   "source": [
    "stringName = \"python\" # 6\n",
    "listName = [10, 20 , 50] # 3"
   ]
  },
  {
   "cell_type": "code",
   "execution_count": 33,
   "id": "221dd44e",
   "metadata": {},
   "outputs": [
    {
     "name": "stdout",
     "output_type": "stream",
     "text": [
      "0 p\n",
      "1 y\n",
      "2 t\n",
      "3 h\n",
      "4 o\n",
      "5 n\n"
     ]
    }
   ],
   "source": [
    "for i in range(0, len(stringName)) : \n",
    "    print(i, stringName[i])"
   ]
  },
  {
   "cell_type": "code",
   "execution_count": 34,
   "id": "2b702bb6",
   "metadata": {},
   "outputs": [
    {
     "name": "stdout",
     "output_type": "stream",
     "text": [
      "0 10\n",
      "1 20\n",
      "2 50\n"
     ]
    }
   ],
   "source": [
    "for i in range(0, len(listName)) : \n",
    "    print(i, listName[i])"
   ]
  },
  {
   "cell_type": "code",
   "execution_count": null,
   "id": "a6fa2929",
   "metadata": {},
   "outputs": [],
   "source": []
  },
  {
   "cell_type": "code",
   "execution_count": null,
   "id": "034980e7",
   "metadata": {},
   "outputs": [],
   "source": []
  },
  {
   "cell_type": "code",
   "execution_count": null,
   "id": "1cf10943",
   "metadata": {},
   "outputs": [],
   "source": []
  },
  {
   "cell_type": "code",
   "execution_count": null,
   "id": "a78560cc",
   "metadata": {},
   "outputs": [],
   "source": []
  },
  {
   "cell_type": "code",
   "execution_count": null,
   "id": "2a9b66b8",
   "metadata": {},
   "outputs": [],
   "source": []
  }
 ],
 "metadata": {
  "kernelspec": {
   "display_name": "Python 3 (ipykernel)",
   "language": "python",
   "name": "python3"
  },
  "language_info": {
   "codemirror_mode": {
    "name": "ipython",
    "version": 3
   },
   "file_extension": ".py",
   "mimetype": "text/x-python",
   "name": "python",
   "nbconvert_exporter": "python",
   "pygments_lexer": "ipython3",
   "version": "3.10.9"
  }
 },
 "nbformat": 4,
 "nbformat_minor": 5
}
