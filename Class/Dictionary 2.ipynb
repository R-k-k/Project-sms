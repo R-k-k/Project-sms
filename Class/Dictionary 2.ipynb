{
 "cells": [
  {
   "cell_type": "code",
   "execution_count": null,
   "id": "ea7d8d6f",
   "metadata": {},
   "outputs": [],
   "source": [
    "## Q. Make a employee dictionary such that emp id refere to emp name, age, email.\n",
    "## stopping criteria can be a limit here or by user.\n",
    "# upto 5"
   ]
  },
  {
   "cell_type": "code",
   "execution_count": null,
   "id": "21739615",
   "metadata": {},
   "outputs": [],
   "source": [
    "e1 - name, age, email\n",
    "e2 - name, age, email\n",
    "e4 - name, age, email\n",
    "e54 - name, age, email"
   ]
  },
  {
   "cell_type": "code",
   "execution_count": 1,
   "id": "232f4c69",
   "metadata": {},
   "outputs": [
    {
     "name": "stdout",
     "output_type": "stream",
     "text": [
      "Mention your ID : 10\n",
      "Name : nitish\n",
      "AGE : 30\n",
      "EMAIL : n@g.com\n",
      "-------------------------------------------------------------\n",
      "{10: ['nitish', 30, 'n@g.com']}\n"
     ]
    }
   ],
   "source": [
    "emp = {}\n",
    "# empList = []\n",
    "\n",
    "for i in range(1) : \n",
    "    empID = int( input( \"Mention your ID : \" ) )\n",
    "    name = input(\"Name : \")\n",
    "    age = int( input('AGE : ') )\n",
    "    email = input(\"EMAIL : \")\n",
    "    \n",
    "    emp[empID] = [name, age, email]\n",
    "\n",
    "print(\"-------------------------------------------------------------\")\n",
    "print(emp )"
   ]
  },
  {
   "cell_type": "code",
   "execution_count": null,
   "id": "9f4a723c",
   "metadata": {},
   "outputs": [],
   "source": [
    "emp = {}\n",
    "# empList = []\n",
    "\n",
    "for i in range(5) : \n",
    "    empID = int( input( \"Mention your ID : \" ) )\n",
    "    name = input(\"Name : \")\n",
    "    age = int( input('AGE : ') )\n",
    "    email = input(\"EMAIL : \")\n",
    "    \n",
    "    emp[empID] = [name, age, email]\n",
    "\n",
    "print(\"-------------------------------------------------------------\")\n",
    "print(emp )"
   ]
  },
  {
   "cell_type": "code",
   "execution_count": null,
   "id": "366b496e",
   "metadata": {},
   "outputs": [],
   "source": []
  },
  {
   "cell_type": "code",
   "execution_count": 3,
   "id": "62675ad8",
   "metadata": {},
   "outputs": [
    {
     "data": {
      "text/plain": [
       "{1: 1, -6: 36, 4: 16, -7: 49, 11: 121, 0: 0, -1: 1}"
      ]
     },
     "execution_count": 3,
     "metadata": {},
     "output_type": "execute_result"
    }
   ],
   "source": [
    "## a list is given below. you have to make use of dictinary such that you show its value and its square simulatneously...\n",
    "\n",
    "myList = [1, -6, 4, -7, 11, 0, -1]\n",
    "# 1 : 1, \n",
    "# -6 : 36, \n",
    "# 4 : 16, \n",
    "# -7 : 49, \n",
    "# 11 : 121, \n",
    "# 0 : 0, \n",
    "# -1 : 1\n",
    "\n",
    "\n",
    "dt = {}\n",
    "for i in myList : \n",
    "    dt[i] = i * i\n",
    "dt\n"
   ]
  },
  {
   "cell_type": "code",
   "execution_count": 4,
   "id": "2bf54f2d",
   "metadata": {},
   "outputs": [
    {
     "name": "stdout",
     "output_type": "stream",
     "text": [
      "Key Name : key5\n",
      "Write Fruit Name : kiwi\n"
     ]
    },
    {
     "data": {
      "text/plain": [
       "{'key1': 'apple', 'key2': 'mango', 'key5': 'kiwi'}"
      ]
     },
     "execution_count": 4,
     "metadata": {},
     "output_type": "execute_result"
    }
   ],
   "source": [
    "## From the dictionary below, insert a fruit name if key is not there else insert a key - fruit name\n",
    "\n",
    "# {'key1' : 'apple', \n",
    "# \"key2\" : 'mango'}\n",
    "\n",
    "# 'key3' : \"kiwi\"\n",
    "# 'key1' : XXXXX\n",
    "\n",
    "\n",
    "fruits = {'key1' : 'apple', \n",
    "            \"key2\" : 'mango'}\n",
    "\n",
    "keyName = input(\"Key Name : \")\n",
    "if keyName not in fruits : \n",
    "    value = input(\"Write Fruit Name : \")\n",
    "    fruits[keyName] = value\n",
    "else : \n",
    "    print(\"Key Already Exist....\")\n",
    "    \n",
    "fruits    \n"
   ]
  },
  {
   "cell_type": "code",
   "execution_count": 5,
   "id": "b0e92917",
   "metadata": {},
   "outputs": [
    {
     "name": "stdout",
     "output_type": "stream",
     "text": [
      "Key Name : key2\n",
      "Key Already Exist....\n"
     ]
    },
    {
     "data": {
      "text/plain": [
       "{'key1': 'apple', 'key2': 'mango'}"
      ]
     },
     "execution_count": 5,
     "metadata": {},
     "output_type": "execute_result"
    }
   ],
   "source": [
    "## From the dictionary below, insert a fruit name if key is not there else insert a key - fruit name\n",
    "\n",
    "# {'key1' : 'apple', \n",
    "# \"key2\" : 'mango'}\n",
    "\n",
    "# 'key3' : \"kiwi\"\n",
    "# 'key1' : XXXXX\n",
    "\n",
    "\n",
    "fruits = {'key1' : 'apple', \n",
    "            \"key2\" : 'mango'}\n",
    "\n",
    "keyName = input(\"Key Name : \")\n",
    "if keyName not in fruits : \n",
    "    value = input(\"Write Fruit Name : \")\n",
    "    fruits[keyName] = value\n",
    "else : \n",
    "    print(\"Key Already Exist....\")\n",
    "    \n",
    "fruits    \n"
   ]
  },
  {
   "cell_type": "code",
   "execution_count": 19,
   "id": "47dd3daa",
   "metadata": {},
   "outputs": [
    {
     "name": "stdout",
     "output_type": "stream",
     "text": [
      "121\n",
      "[1, 36, 16, 49, 121, 0, 1]\n",
      "[0, 1, 1, 16, 36, 49, 121]\n",
      "Maximum Value :  121\n"
     ]
    }
   ],
   "source": [
    "## Q1. You have been given a dictionary. you have to find out the value which contains the maximum value\n",
    "## Q2. You have been given a dictionary. you have to find out the key which contains the maximum value\n",
    "\n",
    "dt = {1 : 1, \n",
    "-6 : 36, \n",
    "4 : 16, \n",
    "-7 : 49, \n",
    "11 : 121, \n",
    "0 : 0, \n",
    "-1 : 1}\n",
    "\n",
    "# max_value = 121\n",
    "# key_for_max_value = 11\n",
    "\n",
    "print( max( dt.values() ) )\n",
    "\n",
    "newList = []\n",
    "for v in dt.values() : \n",
    "#     print(v)\n",
    "    newList.append(v)\n",
    "\n",
    "print( newList )\n",
    "newList.sort()\n",
    "print( newList )\n",
    "print( \"Maximum Value : \",  newList[-1] )\n"
   ]
  },
  {
   "cell_type": "code",
   "execution_count": 22,
   "id": "b4b55c6b",
   "metadata": {},
   "outputs": [
    {
     "name": "stdout",
     "output_type": "stream",
     "text": [
      "Maximum Key =  11\n"
     ]
    }
   ],
   "source": [
    "## Q1. You have been given a dictionary. you have to find out the value which contains the maximum value\n",
    "## Q2. You have been given a dictionary. you have to find out the key which contains the maximum value\n",
    "\n",
    "dt = {1 : 1, \n",
    "-6 : 36, \n",
    "4 : 16, \n",
    "-7 : 49, \n",
    "11 : 121, \n",
    "0 : 0, \n",
    "-1 : 1}\n",
    "\n",
    "# max_value = 121\n",
    "# key_for_max_value = 11\n",
    "\n",
    "newList = []\n",
    "for v in dt.values() : \n",
    "#     print(v)\n",
    "    newList.append(v)\n",
    "\n",
    "newList.sort()\n",
    "max_value = newList[-1]\n",
    "\n",
    "for k, v in dt.items() : \n",
    "    if v == max_value : \n",
    "        print(\"Maximum Key = \", k)\n",
    "    else : \n",
    "        continue"
   ]
  },
  {
   "cell_type": "code",
   "execution_count": 26,
   "id": "54cc226b",
   "metadata": {},
   "outputs": [
    {
     "name": "stdout",
     "output_type": "stream",
     "text": [
      "Maximum Key =  11\n",
      "Maximum Key =  16\n"
     ]
    }
   ],
   "source": [
    "## Q1. You have been given a dictionary. you have to find out the value which contains the maximum value\n",
    "## Q2. You have been given a dictionary. you have to find out the key which contains the maximum value\n",
    "\n",
    "dt = {1 : 1, \n",
    "-6 : 36, \n",
    "4 : 16, \n",
    "-7 : 49, \n",
    "11 : 121, \n",
    "0 : 0, \n",
    "-1 : 1, \n",
    "16 : 121}\n",
    "\n",
    "# max_value = 121\n",
    "# key_for_max_value = 11\n",
    "\n",
    "newList = []\n",
    "for v in dt.values() : \n",
    "#     print(v)\n",
    "    newList.append(v)\n",
    "\n",
    "newList.sort()\n",
    "max_value = newList[-1]\n",
    "\n",
    "for k, v in dt.items() : \n",
    "    if v == max_value : \n",
    "        print(\"Maximum Key = \", k)\n",
    "        \n",
    "    else : \n",
    "        continue"
   ]
  },
  {
   "cell_type": "code",
   "execution_count": null,
   "id": "61fbbe39",
   "metadata": {},
   "outputs": [],
   "source": []
  },
  {
   "cell_type": "code",
   "execution_count": null,
   "id": "2581c9aa",
   "metadata": {},
   "outputs": [],
   "source": []
  },
  {
   "cell_type": "code",
   "execution_count": 37,
   "id": "14e1151c",
   "metadata": {},
   "outputs": [
    {
     "name": "stdout",
     "output_type": "stream",
     "text": [
      "-6.4\n",
      "-6.4\n",
      "None\n",
      "delhi\n",
      "Key Not present\n"
     ]
    }
   ],
   "source": [
    "## 8. get retrieve only value against the key if present, else return None\n",
    "\n",
    "dt = {1 : \"delhi\", \n",
    "      2 : 2j, \n",
    "      3 : 14, \n",
    "      4 : -6.4,\n",
    "      5 : False}\n",
    "\n",
    "print( dt[4] )\n",
    "print( dt.get(4) )\n",
    "\n",
    "# print( dt[8] )  # throws error \n",
    "print( dt.get(8) )\n",
    "\n",
    "print( dt.get(1, \"Key not present\") )\n",
    "\n",
    "key = 8\n",
    "if key in dt : \n",
    "    print(dt[key])\n",
    "else : \n",
    "    print('Key Not present')\n"
   ]
  },
  {
   "cell_type": "code",
   "execution_count": 38,
   "id": "94fee72f",
   "metadata": {},
   "outputs": [
    {
     "data": {
      "text/plain": [
       "{10: 'Nitish', 20: 'Nitish', 30: 'Nitish'}"
      ]
     },
     "execution_count": 38,
     "metadata": {},
     "output_type": "execute_result"
    }
   ],
   "source": [
    "## 9. fromkeys : geenrate a key-value pairs\n",
    "myList = [10, 20, 30]\n",
    "value = 'Nitish'\n",
    "\n",
    "dt = {}\n",
    "dt.fromkeys(myList, value)\n"
   ]
  },
  {
   "cell_type": "code",
   "execution_count": 39,
   "id": "8bae7daa",
   "metadata": {},
   "outputs": [
    {
     "data": {
      "text/plain": [
       "{10: [100, 200, 300], 20: [100, 200, 300], 30: [100, 200, 300]}"
      ]
     },
     "execution_count": 39,
     "metadata": {},
     "output_type": "execute_result"
    }
   ],
   "source": [
    "## 9. fromkeys : geenrate a key-value pairs\n",
    "myList = [10, 20, 30]\n",
    "value = [100, 200, 300]\n",
    "\n",
    "dt = {}\n",
    "dt.fromkeys(myList, value)\n"
   ]
  },
  {
   "cell_type": "code",
   "execution_count": null,
   "id": "1b06b031",
   "metadata": {},
   "outputs": [],
   "source": [
    "# 10. setdefault : \n",
    "# inserts a key value pair.\n",
    "# assign a default value for the particular key. \n",
    "# if value is not given then None is taken"
   ]
  },
  {
   "cell_type": "code",
   "execution_count": 40,
   "id": "4b5bd97f",
   "metadata": {},
   "outputs": [
    {
     "data": {
      "text/plain": [
       "{1: 100, 2: 200, 3: 500}"
      ]
     },
     "execution_count": 40,
     "metadata": {},
     "output_type": "execute_result"
    }
   ],
   "source": [
    "dt = {1: 100, 2 : 200}\n",
    "dt.setdefault(3, 500)\n",
    "\n",
    "dt"
   ]
  },
  {
   "cell_type": "code",
   "execution_count": 41,
   "id": "293183c0",
   "metadata": {},
   "outputs": [
    {
     "data": {
      "text/plain": [
       "{1: 100, 2: 200, 3: None}"
      ]
     },
     "execution_count": 41,
     "metadata": {},
     "output_type": "execute_result"
    }
   ],
   "source": [
    "dt = {1: 100, 2 : 200}\n",
    "dt.setdefault(3)\n",
    "\n",
    "dt"
   ]
  },
  {
   "cell_type": "code",
   "execution_count": 42,
   "id": "68035855",
   "metadata": {},
   "outputs": [
    {
     "data": {
      "text/plain": [
       "{1: 100, 2: 200, 3: [10, 5, 7]}"
      ]
     },
     "execution_count": 42,
     "metadata": {},
     "output_type": "execute_result"
    }
   ],
   "source": [
    "dt = {1: 100, 2 : 200}\n",
    "dt.setdefault(3, [10, 5, 7])\n",
    "\n",
    "dt"
   ]
  },
  {
   "cell_type": "code",
   "execution_count": null,
   "id": "1d764924",
   "metadata": {},
   "outputs": [],
   "source": [
    "# {\n",
    "#     \"NAme\" : \n",
    "#     \"Mobile\" : \n",
    "#     \"Address\" : \n",
    "#     \"Alternate Number\" : THIS IS NOT MANDATORY\n",
    "    \n",
    "# }"
   ]
  },
  {
   "cell_type": "code",
   "execution_count": 44,
   "id": "e7203cec",
   "metadata": {
    "scrolled": true
   },
   "outputs": [
    {
     "name": "stdout",
     "output_type": "stream",
     "text": [
      "p 2\n",
      "y 1\n",
      "t 1\n",
      "h 1\n",
      "o 2\n",
      "n 1\n",
      "  1\n",
      "p 2\n",
      "r 2\n",
      "o 2\n",
      "g 1\n",
      "r 2\n",
      "a 1\n",
      "m 1\n"
     ]
    }
   ],
   "source": [
    "## \n",
    "\n",
    "stringName = \"python program\"\n",
    "for each in stringName : \n",
    "    print(each, stringName.count(each))"
   ]
  },
  {
   "cell_type": "code",
   "execution_count": 45,
   "id": "be70bf1f",
   "metadata": {},
   "outputs": [
    {
     "data": {
      "text/plain": [
       "{'p': 2,\n",
       " 'y': 1,\n",
       " 't': 1,\n",
       " 'h': 1,\n",
       " 'o': 2,\n",
       " 'n': 1,\n",
       " ' ': 1,\n",
       " 'r': 2,\n",
       " 'g': 1,\n",
       " 'a': 1,\n",
       " 'm': 1}"
      ]
     },
     "execution_count": 45,
     "metadata": {},
     "output_type": "execute_result"
    }
   ],
   "source": [
    "## \n",
    "dt = {}\n",
    "stringName = \"python program\"\n",
    "for each in stringName : \n",
    "    dt[each] = stringName.count(each)\n",
    "dt"
   ]
  },
  {
   "cell_type": "code",
   "execution_count": null,
   "id": "8f60d80d",
   "metadata": {},
   "outputs": [],
   "source": []
  },
  {
   "cell_type": "code",
   "execution_count": null,
   "id": "20f9cfdc",
   "metadata": {},
   "outputs": [],
   "source": []
  },
  {
   "cell_type": "code",
   "execution_count": null,
   "id": "07ffc3cf",
   "metadata": {},
   "outputs": [],
   "source": []
  },
  {
   "cell_type": "code",
   "execution_count": null,
   "id": "a6608f52",
   "metadata": {},
   "outputs": [],
   "source": []
  }
 ],
 "metadata": {
  "kernelspec": {
   "display_name": "Python 3 (ipykernel)",
   "language": "python",
   "name": "python3"
  },
  "language_info": {
   "codemirror_mode": {
    "name": "ipython",
    "version": 3
   },
   "file_extension": ".py",
   "mimetype": "text/x-python",
   "name": "python",
   "nbconvert_exporter": "python",
   "pygments_lexer": "ipython3",
   "version": "3.10.9"
  }
 },
 "nbformat": 4,
 "nbformat_minor": 5
}
