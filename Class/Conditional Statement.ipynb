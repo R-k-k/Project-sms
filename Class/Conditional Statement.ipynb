{
 "cells": [
  {
   "cell_type": "markdown",
   "id": "ef33b828",
   "metadata": {},
   "source": [
    "# Conditional Statement\n",
    "\n",
    "- helps to make cases\n",
    "- it will execute a block if ONE OF the EXPRESSION is TRUE, else it will NOT EXECUTE or SKIP\n"
   ]
  },
  {
   "cell_type": "markdown",
   "id": "f1cbf4da",
   "metadata": {},
   "source": [
    "if expression : \n",
    "    statement\n",
    "    statement\n",
    "    statement\n",
    "    \n",
    "elif expression : \n",
    "    statement\n",
    "    statement\n",
    "    statement\n",
    "    \n",
    "else :\n",
    "    statement\n",
    "    statement\n"
   ]
  },
  {
   "cell_type": "markdown",
   "id": "30d46677",
   "metadata": {},
   "source": [
    "### Analysis : \n",
    "\n",
    "- We can have multiple IF statements. Each of the if statement is independent.\n",
    "- elif and else block cannot execute without if block\n",
    "- else block is EXECUTED, if ALL the if-elif blocks are FALSE\n"
   ]
  },
  {
   "cell_type": "code",
   "execution_count": 8,
   "id": "8b504c9a",
   "metadata": {},
   "outputs": [
    {
     "name": "stdout",
     "output_type": "stream",
     "text": [
      "Mention Number : 50\n",
      "------------------------------------------------------------------------------------------\n"
     ]
    }
   ],
   "source": [
    "# Take the number from the user and display color\n",
    "\n",
    "number = int( input( \"Mention Number : \" ) )\n",
    "\n",
    "if number == 10 :  \n",
    "    print(\"Yellow\")\n",
    "\n",
    "if number == 20 :  \n",
    "    print(\"Black\")\n",
    "\n",
    "if number == 30 :  \n",
    "    print(\"Red\")\n",
    "\n",
    "    \n",
    "print(\"---\" * 30)"
   ]
  },
  {
   "cell_type": "code",
   "execution_count": 9,
   "id": "061b8a56",
   "metadata": {},
   "outputs": [
    {
     "name": "stdout",
     "output_type": "stream",
     "text": [
      "Mention Number : 10\n",
      "Yellow\n",
      "------------------------------------------------------------------------------------------\n"
     ]
    }
   ],
   "source": [
    "# Take the number from the user and display color\n",
    "\n",
    "number = int( input( \"Mention Number : \" ) )\n",
    "\n",
    "if number == 10 :  \n",
    "    print(\"Yellow\")\n",
    "\n",
    "if number == 20 :  \n",
    "    print(\"Black\")\n",
    "\n",
    "if number == 30 :  \n",
    "    print(\"Red\")\n",
    "\n",
    "    \n",
    "print(\"---\" * 30)"
   ]
  },
  {
   "cell_type": "code",
   "execution_count": 18,
   "id": "faff62ee",
   "metadata": {},
   "outputs": [
    {
     "name": "stdout",
     "output_type": "stream",
     "text": [
      "Mention Number : 20\n",
      "Black\n",
      "------------------------------------------------------------------------------------------\n"
     ]
    }
   ],
   "source": [
    "# Take the number from the user and display color\n",
    "\n",
    "number = int( input( \"Mention Number : \" ) )\n",
    "\n",
    "if number == 10 :  \n",
    "    print(\"Yellow\")\n",
    "\n",
    "if number == 20 :  \n",
    "    print(\"Black\")\n",
    "\n",
    "if number == 30 :  \n",
    "    print(\"Red\")\n",
    "\n",
    "    \n",
    "print(\"---\" * 30)"
   ]
  },
  {
   "cell_type": "code",
   "execution_count": 19,
   "id": "a1cc46b9",
   "metadata": {},
   "outputs": [
    {
     "name": "stdout",
     "output_type": "stream",
     "text": [
      "Mention Number : 30\n",
      "Red\n",
      "------------------------------------------------------------------------------------------\n"
     ]
    }
   ],
   "source": [
    "# Take the number from the user and display color\n",
    "\n",
    "number = int( input( \"Mention Number : \" ) )\n",
    "\n",
    "if number == 10 :  \n",
    "    print(\"Yellow\")\n",
    "\n",
    "if number == 20 :  \n",
    "    print(\"Black\")\n",
    "\n",
    "if number == 30 :  \n",
    "    print(\"Red\")\n",
    "\n",
    "    \n",
    "print(\"---\" * 30)"
   ]
  },
  {
   "cell_type": "code",
   "execution_count": 23,
   "id": "1132be7c",
   "metadata": {},
   "outputs": [
    {
     "name": "stdout",
     "output_type": "stream",
     "text": [
      "Mention Number : 2121\n",
      "------------------------------------------------------------------------------------------\n"
     ]
    }
   ],
   "source": [
    "# Take the number from the user and display color\n",
    "\n",
    "number = int( input( \"Mention Number : \" ) )\n",
    "\n",
    "# if - elif\n",
    "if number == 10 :  \n",
    "    print(\"Yellow\")\n",
    "\n",
    "elif number == 20 :  \n",
    "    print(\"Black\")\n",
    "\n",
    "elif number == 30 :  \n",
    "    print(\"Red\")\n",
    "\n",
    "# if block\n",
    "if number == 40 : \n",
    "    print(\"Green\")\n",
    "\n",
    "print(\"---\" * 30)"
   ]
  },
  {
   "cell_type": "code",
   "execution_count": 24,
   "id": "24d2aacd",
   "metadata": {},
   "outputs": [
    {
     "ename": "SyntaxError",
     "evalue": "invalid syntax (4186764038.py, line 6)",
     "output_type": "error",
     "traceback": [
      "\u001b[1;36m  File \u001b[1;32m\"C:\\Users\\Nitish\\AppData\\Local\\Temp\\ipykernel_17116\\4186764038.py\"\u001b[1;36m, line \u001b[1;32m6\u001b[0m\n\u001b[1;33m    elif number == 20 :\u001b[0m\n\u001b[1;37m    ^\u001b[0m\n\u001b[1;31mSyntaxError\u001b[0m\u001b[1;31m:\u001b[0m invalid syntax\n"
     ]
    }
   ],
   "source": [
    "# Take the number from the user and display color\n",
    "\n",
    "number = int( input( \"Mention Number : \" ) )\n",
    "\n",
    "# if - elif\n",
    "elif number == 20 :  \n",
    "    print(\"Black\")\n",
    "\n",
    "elif number == 30 :  \n",
    "    print(\"Red\")\n",
    "\n",
    "# if block\n",
    "if number == 40 : \n",
    "    print(\"Green\")\n",
    "\n",
    "print(\"---\" * 30)"
   ]
  },
  {
   "cell_type": "code",
   "execution_count": 29,
   "id": "162e6f6d",
   "metadata": {},
   "outputs": [
    {
     "name": "stdout",
     "output_type": "stream",
     "text": [
      "Mention Number : 40\n",
      "Incorrect Response\n",
      "Green\n",
      "------------------------------------------------------------------------------------------\n"
     ]
    }
   ],
   "source": [
    "# Take the number from the user and display color\n",
    "\n",
    "number = int( input( \"Mention Number : \" ) )\n",
    "\n",
    "# if - elif - else \n",
    "if number == 10 :  \n",
    "    print(\"Yellow\")\n",
    "\n",
    "elif number == 20 :  \n",
    "    print(\"Black\")\n",
    "\n",
    "elif number == 30 :  \n",
    "    print(\"Red\")\n",
    "    \n",
    "else : \n",
    "    print(\"Incorrect Response\")\n",
    "\n",
    "# if block\n",
    "if number == 40 : \n",
    "    print(\"Green\")\n",
    "else : \n",
    "    print(\"Green is nOt there\")\n",
    "\n",
    "print(\"---\" * 30)"
   ]
  },
  {
   "cell_type": "code",
   "execution_count": 36,
   "id": "b0a43fd0",
   "metadata": {},
   "outputs": [
    {
     "ename": "SyntaxError",
     "evalue": "invalid syntax (3575423936.py, line 9)",
     "output_type": "error",
     "traceback": [
      "\u001b[1;36m  File \u001b[1;32m\"C:\\Users\\Nitish\\AppData\\Local\\Temp\\ipykernel_17116\\3575423936.py\"\u001b[1;36m, line \u001b[1;32m9\u001b[0m\n\u001b[1;33m    else :\u001b[0m\n\u001b[1;37m    ^\u001b[0m\n\u001b[1;31mSyntaxError\u001b[0m\u001b[1;31m:\u001b[0m invalid syntax\n"
     ]
    }
   ],
   "source": [
    "# Take the number from the user and display color\n",
    "\n",
    "number = int( input( \"Mention Number : \" ) )\n",
    "\n",
    "# if - elif - else \n",
    "\n",
    "else : \n",
    "    print(\"Incorrect Response\")\n",
    "\n",
    "# if block\n",
    "if number == 40 : \n",
    "    print(\"Green\")\n",
    "else : \n",
    "    print(\"Green is nOt there\")\n",
    "\n",
    "print(\"---\" * 30)"
   ]
  },
  {
   "cell_type": "code",
   "execution_count": 41,
   "id": "ebf991d9",
   "metadata": {},
   "outputs": [
    {
     "name": "stdout",
     "output_type": "stream",
     "text": [
      "Message --> VCDTYJKMNBVCF\n",
      "Message is in upper\n"
     ]
    }
   ],
   "source": [
    "# Make a program to find out if message given is in uppercase ???\n",
    "\n",
    "message = input(\"Message --> \")\n",
    "\n",
    "if message.isupper() : \n",
    "    print(\"Message is in upper\")\n",
    "else : \n",
    "    print(\"Not UPPER\")\n",
    "\n"
   ]
  },
  {
   "cell_type": "code",
   "execution_count": null,
   "id": "6bd82a47",
   "metadata": {},
   "outputs": [],
   "source": []
  },
  {
   "cell_type": "code",
   "execution_count": 49,
   "id": "918cc459",
   "metadata": {},
   "outputs": [
    {
     "name": "stdout",
     "output_type": "stream",
     "text": [
      "First Number --> 10\n",
      "Second Number --> 10\n",
      "Both {x1} and {x2} are same\n"
     ]
    }
   ],
   "source": [
    "# Make a program to find out which is greater among 2 numbers\n",
    "\n",
    "x1 = int(input(\"First Number --> \"))\n",
    "x2 = int(input(\"Second Number --> \"))\n",
    "\n",
    "if x1 > x2 : \n",
    "    print(\"{x1} is more than {x2}\")\n",
    "elif x2 > x1 : \n",
    "    print(\"{x2} is more than {x1}\")\n",
    "else : \n",
    "    print(\"Both {x1} and {x2} are same\")\n",
    "\n"
   ]
  },
  {
   "cell_type": "code",
   "execution_count": 53,
   "id": "3f684792",
   "metadata": {},
   "outputs": [
    {
     "name": "stdout",
     "output_type": "stream",
     "text": [
      "Palindrome\n"
     ]
    }
   ],
   "source": [
    "# Make a program to find out weather words are in Palindrome\n",
    "# madam, naman, \"12321\"\n",
    "\n",
    "\n",
    "# word = input(\"Word --> \")\n",
    "word = \"madam\"\n",
    "# print( word[ : : 1] )\n",
    "# print( word[ : : -1] )\n",
    "\n",
    "if word[ : : 1] == word[ : : -1] : \n",
    "    print(\"Palindrome\")\n",
    "else : \n",
    "    print(\"Not a Palindrome\")\n",
    "\n"
   ]
  },
  {
   "cell_type": "code",
   "execution_count": null,
   "id": "ae05b575",
   "metadata": {},
   "outputs": [],
   "source": []
  },
  {
   "cell_type": "code",
   "execution_count": 59,
   "id": "8d08b9d0",
   "metadata": {},
   "outputs": [
    {
     "name": "stdout",
     "output_type": "stream",
     "text": [
      "Invalid Number\n",
      "Invalid Number\n"
     ]
    }
   ],
   "source": [
    "# Make a program to find out weather the mobile number written is valid???\n",
    "\n",
    "# number = input(\"Number --> \")\n",
    "# number = \"8745874587\"\n",
    "# number = \"87458744de\"\n",
    "number = \"87458\"\n",
    "\n",
    "if ( len(number) == 10 ) and (number.isdigit()) : \n",
    "    print(\"Valie Mobile Number\")\n",
    "else : \n",
    "    print(\"Invalid Number\")\n",
    "\n",
    "\n",
    "if len(number) == 10  : \n",
    "    print(\"Valie Mobile Number\")\n",
    "else : \n",
    "    print(\"Invalid Number\")\n",
    "\n"
   ]
  },
  {
   "cell_type": "code",
   "execution_count": null,
   "id": "3104fae7",
   "metadata": {},
   "outputs": [],
   "source": []
  },
  {
   "cell_type": "code",
   "execution_count": 80,
   "id": "a73e5153",
   "metadata": {},
   "outputs": [
    {
     "name": "stdout",
     "output_type": "stream",
     "text": [
      ".. INVALID\n"
     ]
    }
   ],
   "source": [
    "word = \"1456\"\n",
    "\n",
    "if len(word) == 4 : \n",
    "    print(\"Valid OTP\")\n",
    "else : \n",
    "    print(\".. INVALID\")"
   ]
  },
  {
   "cell_type": "code",
   "execution_count": 63,
   "id": "9414fac5",
   "metadata": {},
   "outputs": [
    {
     "name": "stdout",
     "output_type": "stream",
     "text": [
      "Valid OTP\n"
     ]
    }
   ],
   "source": [
    "if True : # 1\n",
    "    print(\"Valid OTP\")\n",
    "else : \n",
    "    print(\".. INVALID\")"
   ]
  },
  {
   "cell_type": "code",
   "execution_count": 64,
   "id": "d5161013",
   "metadata": {},
   "outputs": [
    {
     "name": "stdout",
     "output_type": "stream",
     "text": [
      ".. INVALID\n"
     ]
    }
   ],
   "source": [
    "if 0 :  # False\n",
    "    print(\"Valid OTP\")\n",
    "else : \n",
    "    print(\".. INVALID\")"
   ]
  },
  {
   "cell_type": "code",
   "execution_count": 81,
   "id": "9c137868",
   "metadata": {},
   "outputs": [
    {
     "name": "stdout",
     "output_type": "stream",
     "text": [
      "Valid \n"
     ]
    }
   ],
   "source": [
    "anyObject = \"@\"\n",
    "\n",
    "\n",
    "if anyObject : \n",
    "    print(\"Valid \")\n",
    "else : \n",
    "    print(\".. INVALID\")"
   ]
  },
  {
   "cell_type": "code",
   "execution_count": 79,
   "id": "56ef5fa0",
   "metadata": {},
   "outputs": [
    {
     "data": {
      "text/plain": [
       "False"
      ]
     },
     "execution_count": 79,
     "metadata": {},
     "output_type": "execute_result"
    }
   ],
   "source": [
    "bool(\"\")"
   ]
  },
  {
   "cell_type": "code",
   "execution_count": null,
   "id": "39bda22e",
   "metadata": {},
   "outputs": [],
   "source": []
  },
  {
   "cell_type": "code",
   "execution_count": null,
   "id": "3ef1bd26",
   "metadata": {},
   "outputs": [],
   "source": []
  },
  {
   "cell_type": "code",
   "execution_count": null,
   "id": "48c6d20d",
   "metadata": {},
   "outputs": [],
   "source": []
  },
  {
   "cell_type": "code",
   "execution_count": null,
   "id": "54179609",
   "metadata": {},
   "outputs": [],
   "source": []
  },
  {
   "cell_type": "code",
   "execution_count": null,
   "id": "0b9c6c87",
   "metadata": {},
   "outputs": [],
   "source": []
  }
 ],
 "metadata": {
  "kernelspec": {
   "display_name": "Python 3 (ipykernel)",
   "language": "python",
   "name": "python3"
  },
  "language_info": {
   "codemirror_mode": {
    "name": "ipython",
    "version": 3
   },
   "file_extension": ".py",
   "mimetype": "text/x-python",
   "name": "python",
   "nbconvert_exporter": "python",
   "pygments_lexer": "ipython3",
   "version": "3.10.9"
  }
 },
 "nbformat": 4,
 "nbformat_minor": 5
}
