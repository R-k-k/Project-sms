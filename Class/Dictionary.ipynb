{
 "cells": [
  {
   "cell_type": "markdown",
   "id": "7e283c88",
   "metadata": {},
   "source": [
    "## Dictionary\n",
    "\n",
    "- represented by keys and values. \n",
    "- Here, VALUES are the actual ones you will be designing CODE for. and for reference you use KEYS\n",
    "- {}, {k1 : v1, k2 : v2 ....}\n",
    "- Dictionary is a mutable\n",
    "- Ordered object. ie, you can refer any VALUE by the KEY\n",
    "- key is a IMMUTABLE. values are MUTABLE and Immutable\n",
    "- store the multiple values\n",
    "\n",
    "\n"
   ]
  },
  {
   "cell_type": "code",
   "execution_count": 13,
   "id": "3acef888",
   "metadata": {},
   "outputs": [
    {
     "name": "stdout",
     "output_type": "stream",
     "text": [
      "0 delhi\n",
      "1 2j\n",
      "2 14\n",
      "3 -6.4\n",
      "4 False\n",
      "5 [1, 2, 3]\n",
      "6 {4}\n",
      "7 {'A': 100, 'B': 200}\n",
      "8 14\n"
     ]
    }
   ],
   "source": [
    "s1 = [\"delhi\", \n",
    "      2j, \n",
    "      14, \n",
    "      -6.4,\n",
    "      False, \n",
    "      [1, 2, 3], \n",
    "      {4, 4, 4}, \n",
    "      {\"A\" : 100, \"B\" : 200},\n",
    "     14]\n",
    "\n",
    "\n",
    "for i in range(len(s1)) : \n",
    "    print( i, s1[i] )\n",
    "\n",
    "# 0 1 2 3 5"
   ]
  },
  {
   "cell_type": "code",
   "execution_count": 3,
   "id": "42efe590",
   "metadata": {},
   "outputs": [
    {
     "name": "stdout",
     "output_type": "stream",
     "text": [
      "a delhi\n",
      "b 2j\n",
      "c 14\n",
      "d -6.4\n",
      "e False\n",
      "f [1, 2, 3]\n",
      "g {4}\n",
      "h {'A': 100, 'B': 200}\n"
     ]
    }
   ],
   "source": [
    "dt = {\"a\" : \"delhi\", \n",
    "      \"b\" : 2j, \n",
    "      \"c\" : 14, \n",
    "      \"d\" : -6.4,\n",
    "      \"e\" : False, \n",
    "      \"f\" : [1, 2, 3], \n",
    "      \"g\" : {4, 4, 4}, \n",
    "      \"h\" : {\"A\" : 100, \"B\" : 200}}\n",
    "\n",
    "\n",
    "for k, v in dt.items() : \n",
    "    print(k, v)\n",
    "\n"
   ]
  },
  {
   "cell_type": "code",
   "execution_count": 5,
   "id": "30034c42",
   "metadata": {},
   "outputs": [
    {
     "name": "stdout",
     "output_type": "stream",
     "text": [
      "1 delhi\n",
      "2 2j\n",
      "3 14\n",
      "4 -6.4\n",
      "5 False\n",
      "6 [1, 2, 3]\n",
      "7 {4}\n",
      "8 {'A': 100, 'B': 200}\n"
     ]
    }
   ],
   "source": [
    "dt = {1 : \"delhi\", \n",
    "      2 : 2j, \n",
    "      3 : 14, \n",
    "      4 : -6.4,\n",
    "      5 : False, \n",
    "      6 : [1, 2, 3], \n",
    "      7 : {4, 4, 4}, \n",
    "      8 : {\"A\" : 100, \"B\" : 200}}\n",
    "\n",
    "\n",
    "for k, v in dt.items() : \n",
    "    print(k, v)\n",
    "\n"
   ]
  },
  {
   "cell_type": "code",
   "execution_count": 18,
   "id": "5bceafcd",
   "metadata": {},
   "outputs": [
    {
     "name": "stdout",
     "output_type": "stream",
     "text": [
      "11 delhi\n",
      "2.5 2j\n",
      "3j 14\n",
      "(111, 222) -6.4\n",
      "True False\n",
      "listName [1, 2, 3]\n",
      "setName {4}\n",
      "dictName {'A': 100, 'B': 200}\n",
      "-----------------\n",
      "False\n"
     ]
    }
   ],
   "source": [
    "dt = {11 : \"delhi\", \n",
    "      2.5 : 2j, \n",
    "      3j : 14, \n",
    "      (111, 222) : -6.4,\n",
    "      True : False, \n",
    "      'listName' : [1, 2, 3], \n",
    "      'setName' : {4, 4, 4}, \n",
    "      'dictName' : {\"A\" : 100, \"B\" : 200}}\n",
    "\n",
    "\n",
    "for k, v in dt.items() : \n",
    "    print(k, v)\n",
    "\n",
    "print(\"-----------------\")\n",
    "print(dt[True])"
   ]
  },
  {
   "cell_type": "code",
   "execution_count": 8,
   "id": "43cfbf15",
   "metadata": {},
   "outputs": [
    {
     "ename": "TypeError",
     "evalue": "unhashable type: 'list'",
     "output_type": "error",
     "traceback": [
      "\u001b[1;31m---------------------------------------------------------------------------\u001b[0m",
      "\u001b[1;31mTypeError\u001b[0m                                 Traceback (most recent call last)",
      "\u001b[1;32m~\\AppData\\Local\\Temp\\ipykernel_640\\3157890841.py\u001b[0m in \u001b[0;36m<module>\u001b[1;34m\u001b[0m\n\u001b[1;32m----> 1\u001b[1;33m dt = {11 : \"delhi\", \n\u001b[0m\u001b[0;32m      2\u001b[0m       \u001b[1;36m2.5\u001b[0m \u001b[1;33m:\u001b[0m \u001b[1;36m2j\u001b[0m\u001b[1;33m,\u001b[0m\u001b[1;33m\u001b[0m\u001b[1;33m\u001b[0m\u001b[0m\n\u001b[0;32m      3\u001b[0m       \u001b[1;36m3j\u001b[0m \u001b[1;33m:\u001b[0m \u001b[1;36m14\u001b[0m\u001b[1;33m,\u001b[0m\u001b[1;33m\u001b[0m\u001b[1;33m\u001b[0m\u001b[0m\n\u001b[0;32m      4\u001b[0m       \u001b[1;33m(\u001b[0m\u001b[1;36m111\u001b[0m\u001b[1;33m,\u001b[0m \u001b[1;36m222\u001b[0m\u001b[1;33m)\u001b[0m \u001b[1;33m:\u001b[0m \u001b[1;33m-\u001b[0m\u001b[1;36m6.4\u001b[0m\u001b[1;33m,\u001b[0m\u001b[1;33m\u001b[0m\u001b[1;33m\u001b[0m\u001b[0m\n\u001b[0;32m      5\u001b[0m       \u001b[1;32mTrue\u001b[0m \u001b[1;33m:\u001b[0m \u001b[1;32mFalse\u001b[0m\u001b[1;33m,\u001b[0m\u001b[1;33m\u001b[0m\u001b[1;33m\u001b[0m\u001b[0m\n",
      "\u001b[1;31mTypeError\u001b[0m: unhashable type: 'list'"
     ]
    }
   ],
   "source": [
    "dt = {11 : \"delhi\", \n",
    "      2.5 : 2j, \n",
    "      3j : 14, \n",
    "      (111, 222) : -6.4,\n",
    "      True : False, \n",
    "      [1, 2, 3]:  'listName' , \n",
    "      'setName' : {4, 4, 4}, \n",
    "      'dictName' : {\"A\" : 100, \"B\" : 200}}\n",
    "\n",
    "\n",
    "for k, v in dt.items() : \n",
    "    print(k, v)\n",
    "\n"
   ]
  },
  {
   "cell_type": "code",
   "execution_count": 10,
   "id": "2aee929e",
   "metadata": {},
   "outputs": [
    {
     "ename": "TypeError",
     "evalue": "unhashable type: 'set'",
     "output_type": "error",
     "traceback": [
      "\u001b[1;31m---------------------------------------------------------------------------\u001b[0m",
      "\u001b[1;31mTypeError\u001b[0m                                 Traceback (most recent call last)",
      "\u001b[1;32m~\\AppData\\Local\\Temp\\ipykernel_640\\2485280272.py\u001b[0m in \u001b[0;36m<module>\u001b[1;34m\u001b[0m\n\u001b[1;32m----> 1\u001b[1;33m dt = {11 : \"delhi\", \n\u001b[0m\u001b[0;32m      2\u001b[0m       \u001b[1;36m2.5\u001b[0m \u001b[1;33m:\u001b[0m \u001b[1;36m2j\u001b[0m\u001b[1;33m,\u001b[0m\u001b[1;33m\u001b[0m\u001b[1;33m\u001b[0m\u001b[0m\n\u001b[0;32m      3\u001b[0m       \u001b[1;36m3j\u001b[0m \u001b[1;33m:\u001b[0m \u001b[1;36m14\u001b[0m\u001b[1;33m,\u001b[0m\u001b[1;33m\u001b[0m\u001b[1;33m\u001b[0m\u001b[0m\n\u001b[0;32m      4\u001b[0m       \u001b[1;33m(\u001b[0m\u001b[1;36m111\u001b[0m\u001b[1;33m,\u001b[0m \u001b[1;36m222\u001b[0m\u001b[1;33m)\u001b[0m \u001b[1;33m:\u001b[0m \u001b[1;33m-\u001b[0m\u001b[1;36m6.4\u001b[0m\u001b[1;33m,\u001b[0m\u001b[1;33m\u001b[0m\u001b[1;33m\u001b[0m\u001b[0m\n\u001b[0;32m      5\u001b[0m       \u001b[1;32mTrue\u001b[0m \u001b[1;33m:\u001b[0m \u001b[1;32mFalse\u001b[0m\u001b[1;33m,\u001b[0m\u001b[1;33m\u001b[0m\u001b[1;33m\u001b[0m\u001b[0m\n",
      "\u001b[1;31mTypeError\u001b[0m: unhashable type: 'set'"
     ]
    }
   ],
   "source": [
    "dt = {11 : \"delhi\", \n",
    "      2.5 : 2j, \n",
    "      3j : 14, \n",
    "      (111, 222) : -6.4,\n",
    "      True : False, \n",
    "      {4, 4, 4} : 'setName' , \n",
    "      'dictName' : {\"A\" : 100, \"B\" : 200}}\n",
    "\n",
    "\n",
    "for k, v in dt.items() : \n",
    "    print(k, v)\n",
    "\n"
   ]
  },
  {
   "cell_type": "code",
   "execution_count": 11,
   "id": "1eb8f55a",
   "metadata": {},
   "outputs": [
    {
     "ename": "TypeError",
     "evalue": "unhashable type: 'dict'",
     "output_type": "error",
     "traceback": [
      "\u001b[1;31m---------------------------------------------------------------------------\u001b[0m",
      "\u001b[1;31mTypeError\u001b[0m                                 Traceback (most recent call last)",
      "\u001b[1;32m~\\AppData\\Local\\Temp\\ipykernel_640\\696916689.py\u001b[0m in \u001b[0;36m<module>\u001b[1;34m\u001b[0m\n\u001b[1;32m----> 1\u001b[1;33m dt = {11 : \"delhi\", \n\u001b[0m\u001b[0;32m      2\u001b[0m       \u001b[1;36m2.5\u001b[0m \u001b[1;33m:\u001b[0m \u001b[1;36m2j\u001b[0m\u001b[1;33m,\u001b[0m\u001b[1;33m\u001b[0m\u001b[1;33m\u001b[0m\u001b[0m\n\u001b[0;32m      3\u001b[0m       \u001b[1;36m3j\u001b[0m \u001b[1;33m:\u001b[0m \u001b[1;36m14\u001b[0m\u001b[1;33m,\u001b[0m\u001b[1;33m\u001b[0m\u001b[1;33m\u001b[0m\u001b[0m\n\u001b[0;32m      4\u001b[0m       \u001b[1;33m(\u001b[0m\u001b[1;36m111\u001b[0m\u001b[1;33m,\u001b[0m \u001b[1;36m222\u001b[0m\u001b[1;33m)\u001b[0m \u001b[1;33m:\u001b[0m \u001b[1;33m-\u001b[0m\u001b[1;36m6.4\u001b[0m\u001b[1;33m,\u001b[0m\u001b[1;33m\u001b[0m\u001b[1;33m\u001b[0m\u001b[0m\n\u001b[0;32m      5\u001b[0m       \u001b[1;32mTrue\u001b[0m \u001b[1;33m:\u001b[0m \u001b[1;32mFalse\u001b[0m\u001b[1;33m,\u001b[0m\u001b[1;33m\u001b[0m\u001b[1;33m\u001b[0m\u001b[0m\n",
      "\u001b[1;31mTypeError\u001b[0m: unhashable type: 'dict'"
     ]
    }
   ],
   "source": [
    "dt = {11 : \"delhi\", \n",
    "      2.5 : 2j, \n",
    "      3j : 14, \n",
    "      (111, 222) : -6.4,\n",
    "      True : False, \n",
    "      {\"A\" : 100, \"B\" : 200} : 'dictName'}\n",
    "\n",
    "\n",
    "for k, v in dt.items() : \n",
    "    print(k, v)\n",
    "\n"
   ]
  },
  {
   "cell_type": "markdown",
   "id": "7e416afb",
   "metadata": {},
   "source": [
    "**TIP :** \n",
    "\n",
    "If key value is not present, then the key-value pair is  inserted\n",
    "If key value is present, then the value against key is  updated\n",
    "Keys are Unique, but values can be repeated\n"
   ]
  },
  {
   "cell_type": "code",
   "execution_count": 14,
   "id": "fd3ef62a",
   "metadata": {},
   "outputs": [
    {
     "name": "stdout",
     "output_type": "stream",
     "text": [
      "1 delhi\n",
      "2 {'A': 100, 'B': 200}\n",
      "3 [1, 2, 3]\n",
      "4 -6.4\n",
      "5 False\n",
      "7 delhi\n"
     ]
    }
   ],
   "source": [
    "dt = {1 : \"delhi\", \n",
    "      2 : 2j, \n",
    "      3 : 14, \n",
    "      4 : -6.4,\n",
    "      5 : False, \n",
    "      3 : [1, 2, 3], \n",
    "      7 : \"delhi\", \n",
    "      2 : {\"A\" : 100, \"B\" : 200}}\n",
    "\n",
    "\n",
    "for k, v in dt.items() : \n",
    "    print(k, v)\n",
    "\n"
   ]
  },
  {
   "cell_type": "code",
   "execution_count": null,
   "id": "deffdc79",
   "metadata": {},
   "outputs": [],
   "source": []
  },
  {
   "cell_type": "markdown",
   "id": "7a3df7c7",
   "metadata": {},
   "source": [
    "## Basic Methods"
   ]
  },
  {
   "cell_type": "code",
   "execution_count": 15,
   "id": "a235e23c",
   "metadata": {},
   "outputs": [
    {
     "name": "stdout",
     "output_type": "stream",
     "text": [
      "{1: 'delhi', 2: 2j, 3: 14, 4: -6.4, 5: False, 6: [1, 2, 3], 7: {4}, 8: {'A': 100, 'B': 200}}\n",
      "<class 'dict'>\n",
      "8\n"
     ]
    }
   ],
   "source": [
    "## 1. len : return key-value pairs\n",
    "\n",
    "dt = {1 : \"delhi\", \n",
    "      2 : 2j, \n",
    "      3 : 14, \n",
    "      4 : -6.4,\n",
    "      5 : False, \n",
    "      6 : [1, 2, 3], \n",
    "      7 : {4, 4, 4}, \n",
    "      8 : {\"A\" : 100, \"B\" : 200}}\n",
    "\n",
    "print(dt)\n",
    "print(type(dt))\n",
    "print(len(dt))\n",
    "\n"
   ]
  },
  {
   "cell_type": "code",
   "execution_count": 17,
   "id": "e9a6707e",
   "metadata": {},
   "outputs": [
    {
     "name": "stdout",
     "output_type": "stream",
     "text": [
      "{1: 'delhi', 2: 2j, 3: 14, 4: -6.4, 5: False, 6: [1, 2, 3], 7: {4}, 8: {'A': 100, 'B': 200}}\n",
      "14\n"
     ]
    }
   ],
   "source": [
    "## 2. Index and Slice ::: NOT THERE :: Because, we are referring each of them by keys, not  positions\n",
    "# Index : reading values against keys\n",
    "# dict[keyName]\n",
    "\n",
    "dt = {1 : \"delhi\", \n",
    "      2 : 2j, \n",
    "      3 : 14, \n",
    "      4 : -6.4,\n",
    "      5 : False, \n",
    "      6 : [1, 2, 3], \n",
    "      7 : {4, 4, 4}, \n",
    "      8 : {\"A\" : 100, \"B\" : 200}}\n",
    "\n",
    "print(dt)\n",
    "# print(dt[1 : 3])\n",
    "print(dt[3])\n",
    "\n",
    "\n"
   ]
  },
  {
   "cell_type": "code",
   "execution_count": 21,
   "id": "77b40f8a",
   "metadata": {},
   "outputs": [],
   "source": [
    "# 3. Concat and Repeat XXXX\n",
    "\n",
    "# {1 : 100, 2 : 200} + {\"a\" : 100, \"b\" : 200}\n",
    "# {1 : 100, 2 : 200} * 20"
   ]
  },
  {
   "cell_type": "code",
   "execution_count": 23,
   "id": "4c6c9ef7",
   "metadata": {},
   "outputs": [
    {
     "name": "stdout",
     "output_type": "stream",
     "text": [
      "True\n",
      "False\n"
     ]
    }
   ],
   "source": [
    "# 4. Membership : \n",
    "# return true if keyName is present inside the dictionary\n",
    "\n",
    "\n",
    "dt = {1 : \"delhi\", \n",
    "      2 : 2j, \n",
    "      3 : 14, \n",
    "      4 : -6.4,\n",
    "      5 : False, \n",
    "      6 : [1, 2, 3], \n",
    "      7 : {4, 4, 4}, \n",
    "      8 : {\"A\" : 100, \"B\" : 200}}\n",
    "\n",
    "print(5 in dt)\n",
    "print(14 in dt)\n"
   ]
  },
  {
   "cell_type": "code",
   "execution_count": null,
   "id": "eaf1ed08",
   "metadata": {},
   "outputs": [],
   "source": []
  },
  {
   "cell_type": "markdown",
   "id": "c164d49f",
   "metadata": {},
   "source": [
    "## Dictionary Methods"
   ]
  },
  {
   "cell_type": "code",
   "execution_count": 26,
   "id": "a84e1364",
   "metadata": {},
   "outputs": [],
   "source": [
    "# print(dir(dict) )\n",
    "\n",
    "# 'clear', 'copy', 'fromkeys', 'get', 'items', 'keys', 'pop', 'popitem', 'setdefault', 'update', 'values'\n",
    "\n",
    "# 'fromkeys', 'get', 'setdefault', ,\n",
    "\n"
   ]
  },
  {
   "cell_type": "code",
   "execution_count": 29,
   "id": "d159a5ee",
   "metadata": {},
   "outputs": [
    {
     "name": "stdout",
     "output_type": "stream",
     "text": [
      "dict_keys([1, 2, 3, 4, 5, 6, 7, 8])\n",
      "1\n",
      "2\n",
      "3\n",
      "4\n",
      "5\n",
      "6\n",
      "7\n",
      "8\n"
     ]
    }
   ],
   "source": [
    "## 1. keys : Read all the keys\n",
    "# dt.keys() ## This is IMMUTABLE object and can't be accessed\n",
    "\n",
    "dt = {1 : \"delhi\", \n",
    "      2 : 2j, \n",
    "      3 : 14, \n",
    "      4 : -6.4,\n",
    "      5 : False, \n",
    "      6 : [1, 2, 3], \n",
    "      7 : {4, 4, 4}, \n",
    "      8 : {\"A\" : 100, \"B\" : 200}}\n",
    "print(dt.keys())\n",
    "# print(dt.keys()[3])\n",
    "\n",
    "for iterator in dt.keys() : \n",
    "    print(iterator)\n"
   ]
  },
  {
   "cell_type": "code",
   "execution_count": 31,
   "id": "208ebe57",
   "metadata": {},
   "outputs": [
    {
     "name": "stdout",
     "output_type": "stream",
     "text": [
      "dict_values(['delhi', 2j, 14, -6.4, False, [1, 2, 3], {4}, {'A': 100, 'B': 200}])\n",
      "delhi\n",
      "2j\n",
      "14\n",
      "-6.4\n",
      "False\n",
      "[1, 2, 3]\n",
      "{4}\n",
      "{'A': 100, 'B': 200}\n"
     ]
    }
   ],
   "source": [
    "## 2. values : Read all the values\n",
    "# dt.values() ## This is IMMUTABLE object and can't be accessed\n",
    "\n",
    "dt = {1 : \"delhi\", \n",
    "      2 : 2j, \n",
    "      3 : 14, \n",
    "      4 : -6.4,\n",
    "      5 : False, \n",
    "      6 : [1, 2, 3], \n",
    "      7 : {4, 4, 4}, \n",
    "      8 : {\"A\" : 100, \"B\" : 200}}\n",
    "print(dt.values())\n",
    "# print(dt.keys()[3])\n",
    "\n",
    "for iterator in dt.values() : \n",
    "    print(iterator)\n"
   ]
  },
  {
   "cell_type": "code",
   "execution_count": 35,
   "id": "bd547013",
   "metadata": {},
   "outputs": [
    {
     "name": "stdout",
     "output_type": "stream",
     "text": [
      "dict_items([(1, 'delhi'), (2, 2j), (3, 14), (4, -6.4), (5, False), (6, [1, 2, 3]), (7, {4}), (8, {'A': 100, 'B': 200})])\n",
      "key : 1 \t Value : delhi\n",
      "key : 2 \t Value : 2j\n",
      "key : 3 \t Value : 14\n",
      "key : 4 \t Value : -6.4\n",
      "key : 5 \t Value : False\n",
      "key : 6 \t Value : [1, 2, 3]\n",
      "key : 7 \t Value : {4}\n",
      "key : 8 \t Value : {'A': 100, 'B': 200}\n",
      "------------------------------------------------------------------------------------------\n",
      "key : 1 \t Value : delhi\n",
      "key : 2 \t Value : 2j\n",
      "key : 3 \t Value : 14\n",
      "key : 4 \t Value : -6.4\n",
      "key : 5 \t Value : False\n",
      "key : 6 \t Value : [1, 2, 3]\n",
      "key : 7 \t Value : {4}\n",
      "key : 8 \t Value : {'A': 100, 'B': 200}\n"
     ]
    }
   ],
   "source": [
    "## 2. items : Read all the key-value\n",
    "# dt.items() ## This is IMMUTABLE object and can't be accessed\n",
    "\n",
    "dt = {1 : \"delhi\", \n",
    "      2 : 2j, \n",
    "      3 : 14, \n",
    "      4 : -6.4,\n",
    "      5 : False, \n",
    "      6 : [1, 2, 3], \n",
    "      7 : {4, 4, 4}, \n",
    "      8 : {\"A\" : 100, \"B\" : 200}}\n",
    "print(dt.items())\n",
    "# print(dt.items()[3])\n",
    "\n",
    "for iterator in dt.items() : \n",
    "    print(f\"key : {iterator[0]} \\t Value : {iterator[1]}\")\n",
    "\n",
    "print(\"---\" * 30)\n",
    "for k, v in dt.items() : \n",
    "    print(f\"key : {k} \\t Value : {v}\")\n"
   ]
  },
  {
   "cell_type": "code",
   "execution_count": 39,
   "id": "b8b1752a",
   "metadata": {},
   "outputs": [
    {
     "data": {
      "text/plain": [
       "{1: 'delhi', 2: 2j, 3: 14, 4: -6.4, 5: False, 10: 'Nitish'}"
      ]
     },
     "execution_count": 39,
     "metadata": {},
     "output_type": "execute_result"
    }
   ],
   "source": [
    "# 4. Insert a key value pair if KEY is not present\n",
    "# dt[keyName] = value\n",
    "# dt.update( {k : v} )\n",
    "\n",
    "dt = {1 : \"delhi\", \n",
    "      2 : 2j, \n",
    "      3 : 14, \n",
    "      4 : -6.4,\n",
    "      5 : False}\n",
    "\n",
    "dt[10] = \"Nitish\"\n",
    "dt"
   ]
  },
  {
   "cell_type": "code",
   "execution_count": 40,
   "id": "f8bd5974",
   "metadata": {},
   "outputs": [
    {
     "data": {
      "text/plain": [
       "{1: 'delhi', 2: 2j, 3: 14, 4: -6.4, 5: False, 10: 'Nitish'}"
      ]
     },
     "execution_count": 40,
     "metadata": {},
     "output_type": "execute_result"
    }
   ],
   "source": [
    "# 4. Insert a key value pair if KEY is not present\n",
    "# dt[keyName] = value\n",
    "# dt.update( {k : v} )\n",
    "\n",
    "dt = {1 : \"delhi\", \n",
    "      2 : 2j, \n",
    "      3 : 14, \n",
    "      4 : -6.4,\n",
    "      5 : False}\n",
    "\n",
    "dt.update( {10 : \"Nitish\"} )\n",
    "dt"
   ]
  },
  {
   "cell_type": "code",
   "execution_count": null,
   "id": "516a8006",
   "metadata": {},
   "outputs": [],
   "source": []
  },
  {
   "cell_type": "code",
   "execution_count": 41,
   "id": "c37eb3e0",
   "metadata": {},
   "outputs": [
    {
     "data": {
      "text/plain": [
       "{1: 'delhi', 2: 'Nitish', 3: 14, 4: -6.4, 5: False}"
      ]
     },
     "execution_count": 41,
     "metadata": {},
     "output_type": "execute_result"
    }
   ],
   "source": [
    "# 5. Update a key value pair if KEY is present\n",
    "# dt[keyName] = value\n",
    "# dt.update( {k : v} )\n",
    "\n",
    "dt = {1 : \"delhi\", \n",
    "      2 : 2j, \n",
    "      3 : 14, \n",
    "      4 : -6.4,\n",
    "      5 : False}\n",
    "\n",
    "dt[2] = \"Nitish\"\n",
    "dt"
   ]
  },
  {
   "cell_type": "code",
   "execution_count": 42,
   "id": "b4ac7564",
   "metadata": {},
   "outputs": [
    {
     "data": {
      "text/plain": [
       "{1: 'delhi', 2: 'Nitish', 3: 14, 4: -6.4, 5: False}"
      ]
     },
     "execution_count": 42,
     "metadata": {},
     "output_type": "execute_result"
    }
   ],
   "source": [
    "# 5. Update a key value pair if KEY is present\n",
    "# dt[keyName] = value\n",
    "# dt.update( {k : v} )\n",
    "\n",
    "dt = {1 : \"delhi\", \n",
    "      2 : 2j, \n",
    "      3 : 14, \n",
    "      4 : -6.4,\n",
    "      5 : False}\n",
    "\n",
    "dt.update( {2 : \"Nitish\"} )\n",
    "dt"
   ]
  },
  {
   "cell_type": "code",
   "execution_count": null,
   "id": "2885a77c",
   "metadata": {},
   "outputs": [],
   "source": []
  },
  {
   "cell_type": "code",
   "execution_count": 48,
   "id": "a4bd030b",
   "metadata": {},
   "outputs": [
    {
     "ename": "KeyError",
     "evalue": "10",
     "output_type": "error",
     "traceback": [
      "\u001b[1;31m---------------------------------------------------------------------------\u001b[0m",
      "\u001b[1;31mKeyError\u001b[0m                                  Traceback (most recent call last)",
      "\u001b[1;32m~\\AppData\\Local\\Temp\\ipykernel_640\\4091516061.py\u001b[0m in \u001b[0;36m<module>\u001b[1;34m\u001b[0m\n\u001b[0;32m      6\u001b[0m       \u001b[1;36m4\u001b[0m \u001b[1;33m:\u001b[0m \u001b[1;33m-\u001b[0m\u001b[1;36m6.4\u001b[0m\u001b[1;33m,\u001b[0m\u001b[1;33m\u001b[0m\u001b[1;33m\u001b[0m\u001b[0m\n\u001b[0;32m      7\u001b[0m       5 : False}\n\u001b[1;32m----> 8\u001b[1;33m \u001b[0mprint\u001b[0m\u001b[1;33m(\u001b[0m \u001b[0mdt\u001b[0m\u001b[1;33m.\u001b[0m\u001b[0mpop\u001b[0m\u001b[1;33m(\u001b[0m\u001b[1;36m10\u001b[0m\u001b[1;33m)\u001b[0m \u001b[1;33m)\u001b[0m\u001b[1;33m\u001b[0m\u001b[1;33m\u001b[0m\u001b[0m\n\u001b[0m\u001b[0;32m      9\u001b[0m \u001b[0mprint\u001b[0m\u001b[1;33m(\u001b[0m \u001b[0mdt\u001b[0m \u001b[1;33m)\u001b[0m\u001b[1;33m\u001b[0m\u001b[1;33m\u001b[0m\u001b[0m\n",
      "\u001b[1;31mKeyError\u001b[0m: 10"
     ]
    }
   ],
   "source": [
    "# 6. pop : remove the value against the key and return that value. shows key error if key is not found\n",
    "\n",
    "dt = {1 : \"delhi\", \n",
    "      2 : 2j, \n",
    "      3 : 14, \n",
    "      4 : -6.4,\n",
    "      5 : False}\n",
    "print( dt.pop(3) )\n",
    "print( dt )\n"
   ]
  },
  {
   "cell_type": "code",
   "execution_count": 52,
   "id": "89d01aeb",
   "metadata": {},
   "outputs": [
    {
     "name": "stdout",
     "output_type": "stream",
     "text": [
      "(5, False)\n",
      "{1: 'delhi', 2: 2j, 3: 14, 4: -6.4}\n",
      "(4, -6.4)\n",
      "{1: 'delhi', 2: 2j, 3: 14}\n",
      "(3, 14)\n",
      "{1: 'delhi', 2: 2j}\n",
      "(2, 2j)\n",
      "{1: 'delhi'}\n",
      "(1, 'delhi')\n",
      "{}\n"
     ]
    }
   ],
   "source": [
    "# 7. popitem : remove the last value and return key-value pair\n",
    "\n",
    "\n",
    "dt = {1 : \"delhi\", \n",
    "      2 : 2j, \n",
    "      3 : 14, \n",
    "      4 : -6.4,\n",
    "      5 : False}\n",
    "print( dt.popitem() )\n",
    "print( dt )\n",
    "\n",
    "print( dt.popitem() )\n",
    "print( dt )\n",
    "\n",
    "\n",
    "print( dt.popitem() )\n",
    "print( dt )\n",
    "\n",
    "\n",
    "print( dt.popitem() )\n",
    "print( dt )\n",
    "\n",
    "print( dt.popitem() )\n",
    "print( dt )\n",
    "\n"
   ]
  },
  {
   "cell_type": "code",
   "execution_count": null,
   "id": "0f2c57e3",
   "metadata": {},
   "outputs": [],
   "source": []
  },
  {
   "cell_type": "code",
   "execution_count": null,
   "id": "d816ffe2",
   "metadata": {},
   "outputs": [],
   "source": []
  }
 ],
 "metadata": {
  "kernelspec": {
   "display_name": "Python 3 (ipykernel)",
   "language": "python",
   "name": "python3"
  },
  "language_info": {
   "codemirror_mode": {
    "name": "ipython",
    "version": 3
   },
   "file_extension": ".py",
   "mimetype": "text/x-python",
   "name": "python",
   "nbconvert_exporter": "python",
   "pygments_lexer": "ipython3",
   "version": "3.10.9"
  }
 },
 "nbformat": 4,
 "nbformat_minor": 5
}
