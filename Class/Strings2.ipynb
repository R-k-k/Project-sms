{
 "cells": [
  {
   "cell_type": "code",
   "execution_count": null,
   "id": "982dc0e2",
   "metadata": {},
   "outputs": [],
   "source": [
    "# split, join, partition, "
   ]
  },
  {
   "cell_type": "code",
   "execution_count": null,
   "id": "63fd62d7",
   "metadata": {},
   "outputs": [],
   "source": [
    "# split : splits the string on the basis of some pattern and return list\n",
    "# pattern is not a part of the list\n",
    "# takes input as string and gives output as list\n",
    "\n",
    "# stringName.split(\"pattern\")\n"
   ]
  },
  {
   "cell_type": "code",
   "execution_count": 12,
   "id": "a4010ead",
   "metadata": {},
   "outputs": [
    {
     "name": "stdout",
     "output_type": "stream",
     "text": [
      "String =>  this is 1478 python @programming class 578 scheduled @ON s@turday\n",
      "type(String) =>  <class 'str'>\n",
      "res =>  ['this', 'is', '1478', 'python', '@programming', 'class', '578', 'scheduled', '@ON', 's@turday']\n",
      "type(res) =>  <class 'list'>\n",
      "len(res) =  10\n"
     ]
    }
   ],
   "source": [
    "myString = \"this is 1478 python @programming class 578 scheduled @ON s@turday\" # balnks = words - 1 = 9\n",
    "print(\"String => \", myString)\n",
    "print(\"type(String) => \", type(myString) )\n",
    "\n",
    "res =myString.split(\" \")\n",
    "print( \"res => \", res) # this, \n",
    "print( \"type(res) => \", type(res) )\n",
    "print( \"len(res) = \", len(res) )\n"
   ]
  },
  {
   "cell_type": "code",
   "execution_count": 8,
   "id": "31667d28",
   "metadata": {},
   "outputs": [],
   "source": [
    "# \"4655\".isdigit()"
   ]
  },
  {
   "cell_type": "code",
   "execution_count": 10,
   "id": "9ee324e3",
   "metadata": {},
   "outputs": [
    {
     "name": "stdout",
     "output_type": "stream",
     "text": [
      "String =>  this is 1478 python @programming class 578 scheduled @ON s@turday\n",
      "type(String) =>  <class 'str'>\n",
      "\n",
      "res =>  ['this is 1478 python ', 'programming class 578 scheduled ', 'ON s', 'turday']\n",
      "type(res) =>  <class 'list'>\n",
      "len(res) =  4\n"
     ]
    }
   ],
   "source": [
    "myString = \"this is 1478 python @programming class 578 scheduled @ON s@turday\"\n",
    "print(\"String => \", myString)\n",
    "print(\"type(String) => \", type(myString) )\n",
    "\n",
    "print()\n",
    "\n",
    "res =myString.split(\"@\")\n",
    "print( \"res => \", res) # this is 1478 python , programming class 578 scheduled , ON s, turday\n",
    "print( \"type(res) => \", type(res) )\n",
    "print( \"len(res) = \", len(res) ) \n"
   ]
  },
  {
   "cell_type": "code",
   "execution_count": 14,
   "id": "9d823b53",
   "metadata": {},
   "outputs": [
    {
     "name": "stdout",
     "output_type": "stream",
     "text": [
      "String =>  this is 1478 python @programming class 578 scheduled @ON s@turday\n",
      "type(String) =>  <class 'str'>\n",
      "\n",
      "res =>  ['this is 1478 ', 'ython @', 'rogramming class 578 scheduled @ON s@turday']\n",
      "type(res) =>  <class 'list'>\n",
      "len(res) =  3\n"
     ]
    }
   ],
   "source": [
    "myString = \"this is 1478 python @programming class 578 scheduled @ON s@turday\"\n",
    "print(\"String => \", myString)\n",
    "print(\"type(String) => \", type(myString) )\n",
    "\n",
    "print()\n",
    "\n",
    "res =myString.split(\"p\")\n",
    "print( \"res => \", res) \n",
    "print( \"type(res) => \", type(res) )\n",
    "print( \"len(res) = \", len(res) ) \n"
   ]
  },
  {
   "cell_type": "code",
   "execution_count": 41,
   "id": "f1493fa8",
   "metadata": {},
   "outputs": [
    {
     "name": "stdout",
     "output_type": "stream",
     "text": [
      "['Nitish', 'birthday', 'is', 'coming', 'soon,', 'set', 'a', 'reminder', 'for', '15-June']\n",
      "15-June\n",
      "['15', 'June']\n",
      "Date =  15\n",
      "Month =  June\n"
     ]
    }
   ],
   "source": [
    "message = \"Nitish birthday is coming soon, set a reminder for 15-June\"\n",
    "output = message.split(\" \")\n",
    "print(output)\n",
    "\n",
    "output = message.split(\" \")[-1]\n",
    "print(output)\n",
    "\n",
    "res = output.split(\"-\")\n",
    "print(res)\n",
    "\n",
    "print(\"Date = \", res[0] )\n",
    "print(\"Month = \", res[1] )\n"
   ]
  },
  {
   "cell_type": "code",
   "execution_count": 46,
   "id": "c4094d85",
   "metadata": {},
   "outputs": [
    {
     "name": "stdout",
     "output_type": "stream",
     "text": [
      "Date =  15\n",
      "Month =  June\n"
     ]
    }
   ],
   "source": [
    "message = \"Nitish birthday is coming soon, set a reminder for 15-June\"\n",
    "\n",
    "res = message.split(\" \")[-1].split(\"-\")\n",
    "res\n",
    "\n",
    "print(\"Date = \", res[0] )\n",
    "print(\"Month = \", res[1] )\n"
   ]
  },
  {
   "cell_type": "code",
   "execution_count": null,
   "id": "ecdab7a2",
   "metadata": {},
   "outputs": [],
   "source": [
    "Date = 15\n",
    "Month = June"
   ]
  },
  {
   "cell_type": "code",
   "execution_count": null,
   "id": "9559777f",
   "metadata": {},
   "outputs": [],
   "source": []
  },
  {
   "cell_type": "code",
   "execution_count": 36,
   "id": "d6a2780e",
   "metadata": {},
   "outputs": [
    {
     "name": "stdout",
     "output_type": "stream",
     "text": [
      "dheeraj gupta\n",
      "DHEERAJ GUPTA\n"
     ]
    }
   ],
   "source": [
    "name = ' dheeraj gupta    '\n",
    "o1 = name.strip()\n",
    "print(o1)\n",
    "o2 = o1.upper()\n",
    "print(o2)"
   ]
  },
  {
   "cell_type": "code",
   "execution_count": 37,
   "id": "5c6fbb94",
   "metadata": {},
   "outputs": [
    {
     "data": {
      "text/plain": [
       "'DHEERAJ GUPTA'"
      ]
     },
     "execution_count": 37,
     "metadata": {},
     "output_type": "execute_result"
    }
   ],
   "source": [
    "name = ' dheeraj gupta    '\n",
    "name.strip().upper()\n"
   ]
  },
  {
   "cell_type": "code",
   "execution_count": 39,
   "id": "8d143b55",
   "metadata": {},
   "outputs": [
    {
     "data": {
      "text/plain": [
       "['DHEERAJ', 'GUPTA']"
      ]
     },
     "execution_count": 39,
     "metadata": {},
     "output_type": "execute_result"
    }
   ],
   "source": [
    "name.strip().upper().split(\" \")\n"
   ]
  },
  {
   "cell_type": "code",
   "execution_count": 40,
   "id": "7e424b77",
   "metadata": {},
   "outputs": [
    {
     "data": {
      "text/plain": [
       "'GUPTA'"
      ]
     },
     "execution_count": 40,
     "metadata": {},
     "output_type": "execute_result"
    }
   ],
   "source": [
    "name.strip().upper().split(\" \")[1]\n"
   ]
  },
  {
   "cell_type": "code",
   "execution_count": 34,
   "id": "4f1273ef",
   "metadata": {},
   "outputs": [
    {
     "data": {
      "text/plain": [
       "'Gupta'"
      ]
     },
     "execution_count": 34,
     "metadata": {},
     "output_type": "execute_result"
    }
   ],
   "source": [
    "name.strip().upper().split(\" \")[1].title()\n"
   ]
  },
  {
   "cell_type": "code",
   "execution_count": null,
   "id": "16f69adb",
   "metadata": {},
   "outputs": [],
   "source": []
  },
  {
   "cell_type": "code",
   "execution_count": null,
   "id": "a9c9b0cd",
   "metadata": {},
   "outputs": [],
   "source": []
  },
  {
   "cell_type": "code",
   "execution_count": null,
   "id": "de64a161",
   "metadata": {},
   "outputs": [],
   "source": []
  },
  {
   "cell_type": "code",
   "execution_count": null,
   "id": "54217475",
   "metadata": {},
   "outputs": [],
   "source": [
    "# JOin : merge the list and make a single string on the basis of pattern\n",
    "# pattern will become a part of the string\n",
    "# takes input as list and gives output as string\n",
    "\n",
    "# stringName.split(\"pattern\")\n",
    "# (\"pattern\").join(listName)\n"
   ]
  },
  {
   "cell_type": "code",
   "execution_count": 52,
   "id": "979b44bc",
   "metadata": {},
   "outputs": [
    {
     "name": "stdout",
     "output_type": "stream",
     "text": [
      "String => this is 1478 python @programming class 578 scheduled @ON s@turday\n",
      "res => ['this', 'is', '1478', 'python', '@programming', 'class', '578', 'scheduled', '@ON', 's@turday']\n",
      "output = this is 1478 python @programming class 578 scheduled @ON s@turday\n"
     ]
    }
   ],
   "source": [
    "myString = \"this is 1478 python @programming class 578 scheduled @ON s@turday\" # balnks = words - 1 = 9\n",
    "print(\"String =>\", myString)\n",
    "\n",
    "res =myString.split(\" \")\n",
    "print( \"res =>\", res) \n",
    "\n",
    "output = (\" \").join(res)\n",
    "print(\"output =\", output )"
   ]
  },
  {
   "cell_type": "code",
   "execution_count": null,
   "id": "a036250b",
   "metadata": {},
   "outputs": [],
   "source": [
    "'this is 1478 python @programming class 578 scheduled @ON s@turday'"
   ]
  },
  {
   "cell_type": "code",
   "execution_count": 53,
   "id": "e8740e3e",
   "metadata": {},
   "outputs": [
    {
     "name": "stdout",
     "output_type": "stream",
     "text": [
      "String => this is 1478 python @programming class 578 scheduled @ON s@turday\n",
      "res => ['this is 1478 python ', 'programming class 578 scheduled ', 'ON s', 'turday']\n",
      "output = this is 1478 python #programming class 578 scheduled #ON s#turday\n"
     ]
    }
   ],
   "source": [
    "myString = \"this is 1478 python @programming class 578 scheduled @ON s@turday\" # balnks = words - 1 = 9\n",
    "print(\"String =>\", myString)\n",
    "\n",
    "res =myString.split(\"@\")\n",
    "print( \"res =>\", res) \n",
    "\n",
    "output = (\"#\").join(res)\n",
    "print(\"output =\", output )"
   ]
  },
  {
   "cell_type": "code",
   "execution_count": 55,
   "id": "336b4129",
   "metadata": {},
   "outputs": [
    {
     "name": "stdout",
     "output_type": "stream",
     "text": [
      "String => this is 1478 python @programming class 578 scheduled @ON s@turday\n",
      "res => ['this is 1478 python @programming class 578 scheduled @ON s@turday']\n"
     ]
    }
   ],
   "source": [
    "myString = \"this is 1478 python @programming class 578 scheduled @ON s@turday\" # balnks = words - 1 = 9\n",
    "print(\"String =>\", myString)\n",
    "\n",
    "res =myString.split(\"#\")\n",
    "print( \"res =>\", res) \n",
    "\n",
    "# output = (\"#\").join(res)\n",
    "# print(\"output =\", output )"
   ]
  },
  {
   "cell_type": "code",
   "execution_count": null,
   "id": "371a5871",
   "metadata": {},
   "outputs": [],
   "source": []
  },
  {
   "cell_type": "code",
   "execution_count": null,
   "id": "8d331eba",
   "metadata": {},
   "outputs": [],
   "source": [
    "# partition : splits the string on the basis of FIRST pattern and return tuple. \n",
    "            # return the left side of that pattern, pattern and right side of pattern\n",
    "# pattern is a part of the tuple\n",
    "# takes input as string and gives output as tuple\n",
    "\n",
    "# stringName.partition(\"pattern\")\n"
   ]
  },
  {
   "cell_type": "code",
   "execution_count": 62,
   "id": "9ee257cd",
   "metadata": {},
   "outputs": [
    {
     "name": "stdout",
     "output_type": "stream",
     "text": [
      "String => this is 1478 python @programming class 578 scheduled @ON s@turday\n",
      "res => ['this', 'is', '1478', 'python', '@programming', 'class', '578', 'scheduled', '@ON', 's@turday']\n",
      "len(res) =>  10\n",
      "\n",
      "res => ('this', ' ', 'is 1478 python @programming class 578 scheduled @ON s@turday')\n",
      "len(res) =>  3\n"
     ]
    }
   ],
   "source": [
    "myString = \"this is 1478 python @programming class 578 scheduled @ON s@turday\" # balnks = words - 1 = 9\n",
    "print(\"String =>\", myString)\n",
    "\n",
    "res =myString.split(\" \")\n",
    "print( \"res =>\", res) \n",
    "print( \"len(res) => \", len(res) )\n",
    "\n",
    "print()\n",
    "res =myString.partition(\" \")\n",
    "print( \"res =>\", res) \n",
    "print( \"len(res) => \", len(res) )\n"
   ]
  },
  {
   "cell_type": "code",
   "execution_count": 64,
   "id": "9f99c997",
   "metadata": {},
   "outputs": [
    {
     "name": "stdout",
     "output_type": "stream",
     "text": [
      "String => this is 1478 python \n",
      "@programming class 578 scheduled\n",
      "@ON s@turday\n",
      "res => ['this is 1478 python ', '@programming class 578 scheduled', '@ON s@turday']\n",
      "len(res) =>  3\n",
      "\n",
      "res => ('this is 1478 python ', '\\n', '@programming class 578 scheduled\\n@ON s@turday')\n",
      "len(res) =>  3\n"
     ]
    }
   ],
   "source": [
    "myString = \"\"\"this is 1478 python \n",
    "@programming class 578 scheduled\n",
    "@ON s@turday\"\"\" # balnks = words - 1 = 9\n",
    "print(\"String =>\", myString)\n",
    "\n",
    "res =myString.split(\"\\n\")\n",
    "print( \"res =>\", res) \n",
    "print( \"len(res) => \", len(res) )\n",
    "\n",
    "print()\n",
    "res =myString.partition(\"\\n\")\n",
    "print( \"res =>\", res) \n",
    "print( \"len(res) => \", len(res) )\n"
   ]
  },
  {
   "cell_type": "code",
   "execution_count": null,
   "id": "222d170e",
   "metadata": {},
   "outputs": [],
   "source": []
  },
  {
   "cell_type": "code",
   "execution_count": null,
   "id": "84346d36",
   "metadata": {},
   "outputs": [],
   "source": []
  },
  {
   "cell_type": "code",
   "execution_count": null,
   "id": "eb372f95",
   "metadata": {},
   "outputs": [],
   "source": []
  },
  {
   "cell_type": "code",
   "execution_count": null,
   "id": "c7e4c452",
   "metadata": {},
   "outputs": [],
   "source": []
  },
  {
   "cell_type": "code",
   "execution_count": null,
   "id": "986dce67",
   "metadata": {},
   "outputs": [],
   "source": []
  },
  {
   "cell_type": "code",
   "execution_count": null,
   "id": "57f0da9b",
   "metadata": {},
   "outputs": [],
   "source": []
  }
 ],
 "metadata": {
  "kernelspec": {
   "display_name": "Python 3 (ipykernel)",
   "language": "python",
   "name": "python3"
  },
  "language_info": {
   "codemirror_mode": {
    "name": "ipython",
    "version": 3
   },
   "file_extension": ".py",
   "mimetype": "text/x-python",
   "name": "python",
   "nbconvert_exporter": "python",
   "pygments_lexer": "ipython3",
   "version": "3.10.9"
  }
 },
 "nbformat": 4,
 "nbformat_minor": 5
}
