{
 "cells": [
  {
   "cell_type": "markdown",
   "id": "e8d4c8f5",
   "metadata": {},
   "source": [
    "# Tuple\n",
    "\n",
    "- collection of heterogeneous (different datatype) elements\n",
    "- ()\n",
    "- ImMutable object - CANNOT manipulate at any position inside the sequence\n",
    "- Ordered object - the positions will not change. access any element wrt POSITIONS\n",
    "- store the multiple values\n",
    "\n",
    "- multiple elements can be written like (x, y, z, q)\n",
    "- sinlge elements can be written like (x, )\n",
    "\n"
   ]
  },
  {
   "cell_type": "code",
   "execution_count": 29,
   "id": "f6903190",
   "metadata": {},
   "outputs": [
    {
     "data": {
      "text/plain": [
       "tuple"
      ]
     },
     "execution_count": 29,
     "metadata": {},
     "output_type": "execute_result"
    }
   ],
   "source": [
    "s1 = ()\n",
    "type(s1)"
   ]
  },
  {
   "cell_type": "code",
   "execution_count": 2,
   "id": "cd8f4e6e",
   "metadata": {},
   "outputs": [
    {
     "name": "stdout",
     "output_type": "stream",
     "text": [
      "<class 'tuple'>\n"
     ]
    },
    {
     "data": {
      "text/plain": [
       "('delhi', 2j, 14, -6.4, False)"
      ]
     },
     "execution_count": 2,
     "metadata": {},
     "output_type": "execute_result"
    }
   ],
   "source": [
    "s1 = (\"delhi\", 2j, 14, -6.4, False)\n",
    "print( type(s1) )\n",
    "s1"
   ]
  },
  {
   "cell_type": "code",
   "execution_count": 3,
   "id": "8d7808de",
   "metadata": {},
   "outputs": [],
   "source": [
    "## Basic Properties"
   ]
  },
  {
   "cell_type": "code",
   "execution_count": 4,
   "id": "e3d3a365",
   "metadata": {},
   "outputs": [
    {
     "data": {
      "text/plain": [
       "5"
      ]
     },
     "execution_count": 4,
     "metadata": {},
     "output_type": "execute_result"
    }
   ],
   "source": [
    "len(s1)"
   ]
  },
  {
   "cell_type": "code",
   "execution_count": 5,
   "id": "d736e08d",
   "metadata": {},
   "outputs": [
    {
     "data": {
      "text/plain": [
       "(14, 15, 'Nitish', False, -6)"
      ]
     },
     "execution_count": 5,
     "metadata": {},
     "output_type": "execute_result"
    }
   ],
   "source": [
    "# 4. concat - merge 2 or more tuple to create a single tuple\n",
    "\n",
    "\n",
    "(14 , 15) + (\"Nitish\", False, -6)"
   ]
  },
  {
   "cell_type": "code",
   "execution_count": 6,
   "id": "55245fa1",
   "metadata": {},
   "outputs": [
    {
     "data": {
      "text/plain": [
       "(14, 42, 20, 14, 42, 20, 14, 42, 20)"
      ]
     },
     "execution_count": 6,
     "metadata": {},
     "output_type": "execute_result"
    }
   ],
   "source": [
    "# 5. repeat\n",
    "# tupleName * number\n",
    "\n",
    "(14, 42, 20) * 3"
   ]
  },
  {
   "cell_type": "code",
   "execution_count": null,
   "id": "83633932",
   "metadata": {},
   "outputs": [],
   "source": []
  },
  {
   "cell_type": "code",
   "execution_count": 8,
   "id": "0c52f79b",
   "metadata": {},
   "outputs": [
    {
     "name": "stdout",
     "output_type": "stream",
     "text": [
      "-6.4\n",
      "delhi\n"
     ]
    }
   ],
   "source": [
    "# Index : tupleName[pos]\n",
    "\n",
    "s1 = (\"delhi\", 2j, 14, -6.4, False)\n",
    "# print( type(s1) )\n",
    "print( s1[3] )\n",
    "print( s1[0] )\n",
    "\n"
   ]
  },
  {
   "cell_type": "code",
   "execution_count": 18,
   "id": "1f3fee41",
   "metadata": {},
   "outputs": [
    {
     "data": {
      "text/plain": [
       "('delhi', 2j, 14)"
      ]
     },
     "execution_count": 18,
     "metadata": {},
     "output_type": "execute_result"
    }
   ],
   "source": [
    "s1 = (\"delhi\", 2j, 14, -6.4, False)\n",
    "\n",
    "s1[ : 3] # 0 1 2 ?????????????????"
   ]
  },
  {
   "cell_type": "code",
   "execution_count": null,
   "id": "023265c2",
   "metadata": {},
   "outputs": [],
   "source": []
  },
  {
   "cell_type": "code",
   "execution_count": 22,
   "id": "1ba0e061",
   "metadata": {},
   "outputs": [
    {
     "name": "stdout",
     "output_type": "stream",
     "text": [
      "<class 'list'>\n"
     ]
    }
   ],
   "source": [
    "x = [14]\n",
    "print( type(x) )"
   ]
  },
  {
   "cell_type": "code",
   "execution_count": 20,
   "id": "0f2501eb",
   "metadata": {},
   "outputs": [
    {
     "name": "stdout",
     "output_type": "stream",
     "text": [
      "<class 'int'>\n"
     ]
    }
   ],
   "source": [
    "x = 100\n",
    "print( type(x) )"
   ]
  },
  {
   "cell_type": "code",
   "execution_count": 21,
   "id": "d7d954d3",
   "metadata": {},
   "outputs": [
    {
     "name": "stdout",
     "output_type": "stream",
     "text": [
      "<class 'float'>\n"
     ]
    }
   ],
   "source": [
    "x = 100.5\n",
    "print( type(x) )"
   ]
  },
  {
   "cell_type": "code",
   "execution_count": 24,
   "id": "60d9de43",
   "metadata": {},
   "outputs": [
    {
     "name": "stdout",
     "output_type": "stream",
     "text": [
      "<class 'tuple'>\n"
     ]
    }
   ],
   "source": [
    "x = (145,)\n",
    "print( type(x) )"
   ]
  },
  {
   "cell_type": "code",
   "execution_count": null,
   "id": "62d9d2aa",
   "metadata": {},
   "outputs": [],
   "source": []
  },
  {
   "cell_type": "code",
   "execution_count": null,
   "id": "25e69a5e",
   "metadata": {},
   "outputs": [],
   "source": []
  },
  {
   "cell_type": "code",
   "execution_count": null,
   "id": "c3ee0639",
   "metadata": {},
   "outputs": [],
   "source": []
  },
  {
   "cell_type": "code",
   "execution_count": null,
   "id": "c6ab47b2",
   "metadata": {},
   "outputs": [],
   "source": []
  },
  {
   "cell_type": "code",
   "execution_count": null,
   "id": "68c7a407",
   "metadata": {},
   "outputs": [],
   "source": []
  },
  {
   "cell_type": "markdown",
   "id": "503c1eb6",
   "metadata": {},
   "source": [
    "## Tuple Methods"
   ]
  },
  {
   "cell_type": "code",
   "execution_count": 31,
   "id": "a867126a",
   "metadata": {},
   "outputs": [
    {
     "name": "stdout",
     "output_type": "stream",
     "text": [
      "['__add__', '__class__', '__class_getitem__', '__contains__', '__delattr__', '__dir__', '__doc__', '__eq__', '__format__', '__ge__', '__getattribute__', '__getitem__', '__getnewargs__', '__gt__', '__hash__', '__init__', '__init_subclass__', '__iter__', '__le__', '__len__', '__lt__', '__mul__', '__ne__', '__new__', '__reduce__', '__reduce_ex__', '__repr__', '__rmul__', '__setattr__', '__sizeof__', '__str__', '__subclasshook__', 'count', 'index']\n"
     ]
    }
   ],
   "source": [
    "print( dir(tuple) )\n",
    "\n",
    "# 'count', 'index'"
   ]
  },
  {
   "cell_type": "code",
   "execution_count": 12,
   "id": "00446524",
   "metadata": {},
   "outputs": [
    {
     "data": {
      "text/plain": [
       "0"
      ]
     },
     "execution_count": 12,
     "metadata": {},
     "output_type": "execute_result"
    }
   ],
   "source": [
    "s1 = (\"delhi\", 2j, 14, -6.4, False, 14, 14, False)\n",
    "\n",
    "s1.count(True)"
   ]
  },
  {
   "cell_type": "code",
   "execution_count": 15,
   "id": "3d72a7ed",
   "metadata": {},
   "outputs": [
    {
     "data": {
      "text/plain": [
       "2"
      ]
     },
     "execution_count": 15,
     "metadata": {},
     "output_type": "execute_result"
    }
   ],
   "source": [
    "s1.count(False)"
   ]
  },
  {
   "cell_type": "code",
   "execution_count": null,
   "id": "16b4ddb2",
   "metadata": {},
   "outputs": [],
   "source": []
  },
  {
   "cell_type": "code",
   "execution_count": 16,
   "id": "6975a83c",
   "metadata": {},
   "outputs": [
    {
     "data": {
      "text/plain": [
       "3"
      ]
     },
     "execution_count": 16,
     "metadata": {},
     "output_type": "execute_result"
    }
   ],
   "source": [
    "s1 = (\"delhi\", 2j, 14, -6.4, False, 14, 14, False)\n",
    "\n",
    "# -6.4\n",
    "s1.index(-6.4)"
   ]
  },
  {
   "cell_type": "code",
   "execution_count": 17,
   "id": "904d7e89",
   "metadata": {},
   "outputs": [
    {
     "data": {
      "text/plain": [
       "4"
      ]
     },
     "execution_count": 17,
     "metadata": {},
     "output_type": "execute_result"
    }
   ],
   "source": [
    "s1.index(False)"
   ]
  },
  {
   "cell_type": "code",
   "execution_count": null,
   "id": "21f35b3e",
   "metadata": {},
   "outputs": [],
   "source": []
  },
  {
   "cell_type": "code",
   "execution_count": 30,
   "id": "25388835",
   "metadata": {},
   "outputs": [
    {
     "ename": "AttributeError",
     "evalue": "'tuple' object has no attribute 'insert'",
     "output_type": "error",
     "traceback": [
      "\u001b[1;31m---------------------------------------------------------------------------\u001b[0m",
      "\u001b[1;31mAttributeError\u001b[0m                            Traceback (most recent call last)",
      "\u001b[1;32m~\\AppData\\Local\\Temp\\ipykernel_11324\\2679649444.py\u001b[0m in \u001b[0;36m<module>\u001b[1;34m\u001b[0m\n\u001b[0;32m      1\u001b[0m \u001b[0ms1\u001b[0m \u001b[1;33m=\u001b[0m \u001b[1;33m(\u001b[0m\u001b[1;34m\"delhi\"\u001b[0m\u001b[1;33m,\u001b[0m \u001b[1;36m2j\u001b[0m\u001b[1;33m,\u001b[0m \u001b[1;36m14\u001b[0m\u001b[1;33m,\u001b[0m \u001b[1;33m-\u001b[0m\u001b[1;36m6.4\u001b[0m\u001b[1;33m,\u001b[0m \u001b[1;32mFalse\u001b[0m\u001b[1;33m)\u001b[0m\u001b[1;33m\u001b[0m\u001b[1;33m\u001b[0m\u001b[0m\n\u001b[1;32m----> 2\u001b[1;33m \u001b[0ms1\u001b[0m\u001b[1;33m.\u001b[0m\u001b[0minsert\u001b[0m\u001b[1;33m(\u001b[0m\u001b[1;36m1\u001b[0m\u001b[1;33m,\u001b[0m \u001b[1;36m999\u001b[0m\u001b[1;33m)\u001b[0m\u001b[1;33m\u001b[0m\u001b[1;33m\u001b[0m\u001b[0m\n\u001b[0m",
      "\u001b[1;31mAttributeError\u001b[0m: 'tuple' object has no attribute 'insert'"
     ]
    }
   ],
   "source": [
    "s1 = (\"delhi\", 2j, 14, -6.4, False)\n",
    "s1.insert(1, 999)"
   ]
  },
  {
   "cell_type": "code",
   "execution_count": 32,
   "id": "5fa2590b",
   "metadata": {},
   "outputs": [
    {
     "ename": "AttributeError",
     "evalue": "'tuple' object has no attribute 'pop'",
     "output_type": "error",
     "traceback": [
      "\u001b[1;31m---------------------------------------------------------------------------\u001b[0m",
      "\u001b[1;31mAttributeError\u001b[0m                            Traceback (most recent call last)",
      "\u001b[1;32m~\\AppData\\Local\\Temp\\ipykernel_11324\\4157798531.py\u001b[0m in \u001b[0;36m<module>\u001b[1;34m\u001b[0m\n\u001b[0;32m      1\u001b[0m \u001b[0ms1\u001b[0m \u001b[1;33m=\u001b[0m \u001b[1;33m(\u001b[0m\u001b[1;34m\"delhi\"\u001b[0m\u001b[1;33m,\u001b[0m \u001b[1;36m2j\u001b[0m\u001b[1;33m,\u001b[0m \u001b[1;36m14\u001b[0m\u001b[1;33m,\u001b[0m \u001b[1;33m-\u001b[0m\u001b[1;36m6.4\u001b[0m\u001b[1;33m,\u001b[0m \u001b[1;32mFalse\u001b[0m\u001b[1;33m)\u001b[0m\u001b[1;33m\u001b[0m\u001b[1;33m\u001b[0m\u001b[0m\n\u001b[1;32m----> 2\u001b[1;33m \u001b[0ms1\u001b[0m\u001b[1;33m.\u001b[0m\u001b[0mpop\u001b[0m\u001b[1;33m(\u001b[0m\u001b[1;33m)\u001b[0m\u001b[1;33m\u001b[0m\u001b[1;33m\u001b[0m\u001b[0m\n\u001b[0m",
      "\u001b[1;31mAttributeError\u001b[0m: 'tuple' object has no attribute 'pop'"
     ]
    }
   ],
   "source": [
    "s1 = (\"delhi\", 2j, 14, -6.4, False)\n",
    "s1.pop()"
   ]
  },
  {
   "cell_type": "code",
   "execution_count": 34,
   "id": "85abee43",
   "metadata": {},
   "outputs": [
    {
     "ename": "TypeError",
     "evalue": "'tuple' object does not support item assignment",
     "output_type": "error",
     "traceback": [
      "\u001b[1;31m---------------------------------------------------------------------------\u001b[0m",
      "\u001b[1;31mTypeError\u001b[0m                                 Traceback (most recent call last)",
      "\u001b[1;32m~\\AppData\\Local\\Temp\\ipykernel_11324\\2561139879.py\u001b[0m in \u001b[0;36m<module>\u001b[1;34m\u001b[0m\n\u001b[0;32m      1\u001b[0m \u001b[0ms1\u001b[0m \u001b[1;33m=\u001b[0m \u001b[1;33m(\u001b[0m\u001b[1;34m\"delhi\"\u001b[0m\u001b[1;33m,\u001b[0m \u001b[1;36m2j\u001b[0m\u001b[1;33m,\u001b[0m \u001b[1;36m14\u001b[0m\u001b[1;33m,\u001b[0m \u001b[1;33m-\u001b[0m\u001b[1;36m6.4\u001b[0m\u001b[1;33m,\u001b[0m \u001b[1;32mFalse\u001b[0m\u001b[1;33m)\u001b[0m\u001b[1;33m\u001b[0m\u001b[1;33m\u001b[0m\u001b[0m\n\u001b[1;32m----> 2\u001b[1;33m \u001b[0ms1\u001b[0m\u001b[1;33m[\u001b[0m\u001b[1;36m2\u001b[0m\u001b[1;33m]\u001b[0m \u001b[1;33m=\u001b[0m \u001b[1;36m21545621\u001b[0m\u001b[1;33m\u001b[0m\u001b[1;33m\u001b[0m\u001b[0m\n\u001b[0m",
      "\u001b[1;31mTypeError\u001b[0m: 'tuple' object does not support item assignment"
     ]
    }
   ],
   "source": [
    "s1 = (\"delhi\", 2j, 14, -6.4, False)\n",
    "s1[2] = 21545621"
   ]
  },
  {
   "cell_type": "markdown",
   "id": "1fe6ff09",
   "metadata": {},
   "source": [
    "list\n",
    "\n",
    "- mutable\n",
    "- Less secure\n",
    "- application : csv, excel, text ....\n",
    "\n",
    "\n",
    "tuple\n",
    "- immutable\n",
    "- More secure\n",
    "- application : wifi packet, database records\n",
    "\n"
   ]
  },
  {
   "cell_type": "code",
   "execution_count": null,
   "id": "5d9b2cb9",
   "metadata": {},
   "outputs": [],
   "source": []
  },
  {
   "cell_type": "code",
   "execution_count": 36,
   "id": "48d5866d",
   "metadata": {},
   "outputs": [
    {
     "name": "stdout",
     "output_type": "stream",
     "text": [
      "('delhi', 2j, 14, -6.4, False)\n",
      "2373653347920\n",
      "['delhi', 2j, 14, -6.4, False]\n",
      "2373653371840\n",
      "('delhi', 2j, 14, -6.4)\n",
      "2373654578016\n"
     ]
    }
   ],
   "source": [
    "s1 = (\"delhi\", 2j, 14, -6.4, False)\n",
    "print(s1)\n",
    "print( id(s1) )\n",
    "\n",
    "s2 = list(s1)\n",
    "print(s2)\n",
    "print( id(s2) )\n",
    "\n",
    "s2.pop()\n",
    "s3 = tuple(s2)\n",
    "print(s3)\n",
    "print( id(s3) )\n"
   ]
  },
  {
   "cell_type": "code",
   "execution_count": null,
   "id": "333cbf2f",
   "metadata": {},
   "outputs": [],
   "source": []
  },
  {
   "cell_type": "code",
   "execution_count": 40,
   "id": "d3269123",
   "metadata": {},
   "outputs": [
    {
     "data": {
      "text/plain": [
       "[10, -6, 11, -4]"
      ]
     },
     "execution_count": 40,
     "metadata": {},
     "output_type": "execute_result"
    }
   ],
   "source": [
    "tt = [10 , -6 , 7 , 11 , -4]\n",
    "\n",
    "# remove 7 : Index + Slice + Concat\n",
    "pos = tt.index(7)\n",
    "pos\n",
    "\n",
    "res = tt[ : pos] + tt[pos+1 : ]\n",
    "res"
   ]
  },
  {
   "cell_type": "code",
   "execution_count": null,
   "id": "e318308d",
   "metadata": {},
   "outputs": [],
   "source": []
  },
  {
   "cell_type": "code",
   "execution_count": null,
   "id": "516729a3",
   "metadata": {},
   "outputs": [],
   "source": [
    "# [10 , -6, 11 , -4]"
   ]
  },
  {
   "cell_type": "code",
   "execution_count": 38,
   "id": "92d41db5",
   "metadata": {},
   "outputs": [
    {
     "data": {
      "text/plain": [
       "[10, -6]"
      ]
     },
     "execution_count": 38,
     "metadata": {},
     "output_type": "execute_result"
    }
   ],
   "source": [
    "tt[ : 2]"
   ]
  },
  {
   "cell_type": "code",
   "execution_count": 44,
   "id": "09cb7b7a",
   "metadata": {},
   "outputs": [
    {
     "data": {
      "text/plain": [
       "[11, -4]"
      ]
     },
     "execution_count": 44,
     "metadata": {},
     "output_type": "execute_result"
    }
   ],
   "source": [
    "tt[2 + 1    : ]"
   ]
  },
  {
   "cell_type": "code",
   "execution_count": null,
   "id": "9d83b767",
   "metadata": {},
   "outputs": [],
   "source": []
  },
  {
   "cell_type": "code",
   "execution_count": 45,
   "id": "d1ed039b",
   "metadata": {},
   "outputs": [
    {
     "data": {
      "text/plain": [
       "(10, -6, 11, -4)"
      ]
     },
     "execution_count": 45,
     "metadata": {},
     "output_type": "execute_result"
    }
   ],
   "source": [
    "tt = (10 , -6 , 7 , 11 , -4)\n",
    "\n",
    "# remove 7 : Index + Slice + Concat\n",
    "pos = tt.index(7)\n",
    "pos\n",
    "\n",
    "res = tt[ : pos] + tt[pos+1 : ]\n",
    "res"
   ]
  },
  {
   "cell_type": "code",
   "execution_count": 50,
   "id": "3ea05b8d",
   "metadata": {},
   "outputs": [
    {
     "data": {
      "text/plain": [
       "(10, -6, 0, 11, -4)"
      ]
     },
     "execution_count": 50,
     "metadata": {},
     "output_type": "execute_result"
    }
   ],
   "source": [
    "\n",
    "tt = (10 , -6 , 7 , 11 , -4)\n",
    "\n",
    "# replace 7 by 0\n",
    "pos = tt.index(7)\n",
    "pos\n",
    "\n",
    "res = tt[ : pos] + (0, ) +  tt[pos+1 : ]\n",
    "res"
   ]
  },
  {
   "cell_type": "code",
   "execution_count": null,
   "id": "1ee1b981",
   "metadata": {},
   "outputs": [],
   "source": []
  },
  {
   "cell_type": "code",
   "execution_count": 48,
   "id": "822f1f6f",
   "metadata": {},
   "outputs": [
    {
     "data": {
      "text/plain": [
       "2373653651920"
      ]
     },
     "execution_count": 48,
     "metadata": {},
     "output_type": "execute_result"
    }
   ],
   "source": [
    "id(tt)"
   ]
  },
  {
   "cell_type": "code",
   "execution_count": 49,
   "id": "859cc2ec",
   "metadata": {},
   "outputs": [
    {
     "data": {
      "text/plain": [
       "2373624079040"
      ]
     },
     "execution_count": 49,
     "metadata": {},
     "output_type": "execute_result"
    }
   ],
   "source": [
    "id(res)"
   ]
  },
  {
   "cell_type": "code",
   "execution_count": null,
   "id": "f303d6d3",
   "metadata": {},
   "outputs": [],
   "source": [
    "\n",
    "tt = (10 , -6 , 7 , 11 , -4)\n",
    "\n",
    "\n",
    "# insert 0 after 7 \n",
    "# (10 , -6 , 7, 0 , 11 , -4)\n",
    "\n",
    "pos = tt.index(7)\n",
    "pos\n",
    "\n",
    "res = tt[ : pos] + (0, ) +  tt[pos+1 : ]\n",
    "res"
   ]
  },
  {
   "cell_type": "code",
   "execution_count": null,
   "id": "a4d3f5b9",
   "metadata": {},
   "outputs": [],
   "source": [
    "# take the value from the user\n",
    "# value inside tuple\n",
    "# position of the tuple"
   ]
  },
  {
   "cell_type": "code",
   "execution_count": null,
   "id": "cc4cbb8f",
   "metadata": {},
   "outputs": [],
   "source": []
  },
  {
   "cell_type": "code",
   "execution_count": null,
   "id": "5a311ef4",
   "metadata": {},
   "outputs": [],
   "source": []
  },
  {
   "cell_type": "code",
   "execution_count": null,
   "id": "14ab7b72",
   "metadata": {},
   "outputs": [],
   "source": []
  },
  {
   "cell_type": "code",
   "execution_count": null,
   "id": "779aa9f1",
   "metadata": {},
   "outputs": [],
   "source": []
  },
  {
   "cell_type": "code",
   "execution_count": null,
   "id": "befa8664",
   "metadata": {},
   "outputs": [],
   "source": []
  },
  {
   "cell_type": "code",
   "execution_count": null,
   "id": "0defcc93",
   "metadata": {},
   "outputs": [],
   "source": []
  },
  {
   "cell_type": "code",
   "execution_count": null,
   "id": "e2030778",
   "metadata": {},
   "outputs": [],
   "source": []
  }
 ],
 "metadata": {
  "kernelspec": {
   "display_name": "Python 3 (ipykernel)",
   "language": "python",
   "name": "python3"
  },
  "language_info": {
   "codemirror_mode": {
    "name": "ipython",
    "version": 3
   },
   "file_extension": ".py",
   "mimetype": "text/x-python",
   "name": "python",
   "nbconvert_exporter": "python",
   "pygments_lexer": "ipython3",
   "version": "3.10.9"
  }
 },
 "nbformat": 4,
 "nbformat_minor": 5
}
