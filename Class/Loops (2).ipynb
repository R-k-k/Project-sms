{
 "cells": [
  {
   "cell_type": "markdown",
   "id": "3e07cd49",
   "metadata": {},
   "source": [
    "# Loops "
   ]
  },
  {
   "cell_type": "markdown",
   "id": "782d33ba",
   "metadata": {},
   "source": [
    "### for loop: \n",
    "\n",
    "#### TO Repeat something\n",
    "for i in range(start, end, step) : \n",
    "    statement\n",
    "    statement\n",
    "    statement   # i = i + step\n",
    "    \n",
    "    \n",
    "#### Here sequence conditions apply\n",
    "\n",
    "**Positions**\n",
    "\n",
    "for i in range( len(seqName) ) : \n",
    "    print(seqName[i])\n",
    "    \n",
    "**Values**\n",
    "for i in seqName : \n",
    "    print(i)"
   ]
  },
  {
   "cell_type": "code",
   "execution_count": 2,
   "id": "97df5171",
   "metadata": {},
   "outputs": [
    {
     "name": "stdout",
     "output_type": "stream",
     "text": [
      "Write Fruit Name :   apple       \n",
      "Apple has length 5\n"
     ]
    }
   ],
   "source": [
    "# Use a loop to take fruit name from the user and disply it to the output screen. also display the length and remove blank spaces....\n",
    "# do it for 5 fruits...\n",
    "\n",
    "#     apple               : \n",
    "# Apple has length 5\n",
    "\n",
    "\n",
    "#     mangoes: \n",
    "# Mangoes has length 7\n",
    "\n",
    "# for i in range(1, 6) : # 1 2 3 4 5\n",
    "fruit = input(\"Write Fruit Name : \").strip()\n",
    "# fruit = fruit.strip()\n",
    "print( f\"{fruit.title()} has length {len(fruit)}\" )\n"
   ]
  },
  {
   "cell_type": "code",
   "execution_count": 4,
   "id": "5d1675af",
   "metadata": {},
   "outputs": [
    {
     "name": "stdout",
     "output_type": "stream",
     "text": [
      "0\n",
      "1\n",
      "2\n",
      "3\n",
      "4\n"
     ]
    }
   ],
   "source": [
    "for i in range(5) : # start : 0 end : 4 \n",
    "    print(i)"
   ]
  },
  {
   "cell_type": "code",
   "execution_count": 5,
   "id": "5ac591aa",
   "metadata": {},
   "outputs": [
    {
     "name": "stdout",
     "output_type": "stream",
     "text": [
      "11\n",
      "12\n",
      "13\n",
      "14\n",
      "15\n"
     ]
    }
   ],
   "source": [
    "for i in range(11, 16) : \n",
    "    print(i)"
   ]
  },
  {
   "cell_type": "code",
   "execution_count": 8,
   "id": "a14b923d",
   "metadata": {},
   "outputs": [
    {
     "name": "stdout",
     "output_type": "stream",
     "text": [
      "0\n",
      "1\n",
      "2\n",
      "3\n",
      "4\n",
      "5\n",
      "6\n",
      "7\n",
      "8\n",
      "9\n"
     ]
    }
   ],
   "source": [
    "for nitish in range(10) : \n",
    "    print(nitish)   # nitish = nitish + 1"
   ]
  },
  {
   "cell_type": "code",
   "execution_count": 9,
   "id": "6cebfc9a",
   "metadata": {},
   "outputs": [
    {
     "name": "stdout",
     "output_type": "stream",
     "text": [
      "1\n",
      "3\n",
      "5\n",
      "7\n",
      "9\n"
     ]
    }
   ],
   "source": [
    "for i in range(1, 10, 2) : \n",
    "    print(i) # i = i + 2"
   ]
  },
  {
   "cell_type": "code",
   "execution_count": 10,
   "id": "2caf63be",
   "metadata": {},
   "outputs": [
    {
     "name": "stdout",
     "output_type": "stream",
     "text": [
      "6\n",
      "5\n",
      "4\n",
      "3\n",
      "2\n"
     ]
    }
   ],
   "source": [
    "for j in range(6, 1, -1) : # 6 5 4 3 2 XXX1\n",
    "    print(j)"
   ]
  },
  {
   "cell_type": "code",
   "execution_count": null,
   "id": "5e9fa41a",
   "metadata": {},
   "outputs": [],
   "source": []
  },
  {
   "cell_type": "code",
   "execution_count": 11,
   "id": "ebe9c5a9",
   "metadata": {},
   "outputs": [
    {
     "name": "stdout",
     "output_type": "stream",
     "text": [
      "Write Fruit Name :   apple   \n",
      "Apple has length 5\n",
      "Write Fruit Name : mangoes      \n",
      "Mangoes has length 7\n",
      "Write Fruit Name :    grapes    \n",
      "Grapes has length 6\n",
      "Write Fruit Name :    custard apple     \n",
      "Custard Apple has length 13\n",
      "Write Fruit Name :                        kiwi  \n",
      "Kiwi has length 4\n"
     ]
    }
   ],
   "source": [
    "for i in range(1, 6) : # 1 2 3 4 5\n",
    "    fruit = input(\"Write Fruit Name : \").strip()\n",
    "    print( f\"{fruit.title()} has length {len(fruit)}\" )\n"
   ]
  },
  {
   "cell_type": "code",
   "execution_count": 12,
   "id": "64d0ffe0",
   "metadata": {},
   "outputs": [],
   "source": [
    "# for i in range(len(list)) : #########[10 20 30 58 48]  #5 times\n",
    "#     pop : \n",
    "        \n",
    "#         [10 20 30 58 ]\n",
    "#         [10 20 30 ]"
   ]
  },
  {
   "cell_type": "code",
   "execution_count": null,
   "id": "3b29d01f",
   "metadata": {},
   "outputs": [],
   "source": []
  },
  {
   "cell_type": "code",
   "execution_count": null,
   "id": "a6646834",
   "metadata": {},
   "outputs": [],
   "source": []
  },
  {
   "cell_type": "code",
   "execution_count": null,
   "id": "b546d605",
   "metadata": {},
   "outputs": [],
   "source": []
  },
  {
   "cell_type": "code",
   "execution_count": null,
   "id": "977c9981",
   "metadata": {},
   "outputs": [],
   "source": [
    "## Pattterns : \n",
    "\n",
    "*\n",
    "**\n",
    "***"
   ]
  },
  {
   "cell_type": "code",
   "execution_count": 16,
   "id": "7151ea2b",
   "metadata": {},
   "outputs": [
    {
     "name": "stdout",
     "output_type": "stream",
     "text": [
      "0 *\n",
      "1 *\n",
      "2 *\n"
     ]
    }
   ],
   "source": [
    "for i in range(3) : # 0 1 2\n",
    "    print(i, \"*\")\n",
    "\n"
   ]
  },
  {
   "cell_type": "code",
   "execution_count": 22,
   "id": "812bf37b",
   "metadata": {},
   "outputs": [
    {
     "name": "stdout",
     "output_type": "stream",
     "text": [
      "*\n",
      "**\n",
      "***\n"
     ]
    }
   ],
   "source": [
    "for i in range(3) :     # 0 1 2\n",
    "    print( (i+1) * \"*\") # 1 2 3"
   ]
  },
  {
   "cell_type": "code",
   "execution_count": 23,
   "id": "43927b1b",
   "metadata": {},
   "outputs": [
    {
     "name": "stdout",
     "output_type": "stream",
     "text": [
      "*\n",
      "**\n",
      "***\n"
     ]
    }
   ],
   "source": [
    "for i in range(1, 4) : #  1 2 3\n",
    "    print(i * \"*\")"
   ]
  },
  {
   "cell_type": "code",
   "execution_count": null,
   "id": "595e8106",
   "metadata": {},
   "outputs": [],
   "source": []
  },
  {
   "cell_type": "code",
   "execution_count": null,
   "id": "123418f6",
   "metadata": {},
   "outputs": [],
   "source": []
  },
  {
   "cell_type": "code",
   "execution_count": null,
   "id": "7a99a132",
   "metadata": {},
   "outputs": [],
   "source": [
    "## Pattterns : \n",
    "\n",
    "*****\n",
    "****\n",
    "***\n",
    "**\n",
    "*"
   ]
  },
  {
   "cell_type": "code",
   "execution_count": 25,
   "id": "0d7f5768",
   "metadata": {},
   "outputs": [
    {
     "name": "stdout",
     "output_type": "stream",
     "text": [
      "*****\n",
      "****\n",
      "***\n",
      "**\n",
      "*\n"
     ]
    }
   ],
   "source": [
    "for s in range(5, 0, -1) : # 5 4 3 2 1\n",
    "    print(s * \"*\")"
   ]
  },
  {
   "cell_type": "code",
   "execution_count": null,
   "id": "77e1b9d3",
   "metadata": {},
   "outputs": [],
   "source": []
  },
  {
   "cell_type": "code",
   "execution_count": null,
   "id": "3f82f37f",
   "metadata": {},
   "outputs": [],
   "source": []
  },
  {
   "cell_type": "code",
   "execution_count": null,
   "id": "aa0bfbd3",
   "metadata": {},
   "outputs": [],
   "source": [
    "## Pattterns : \n",
    "\n",
    "1\n",
    "22\n",
    "333\n",
    "4444\n",
    "55555\n",
    "666666"
   ]
  },
  {
   "cell_type": "code",
   "execution_count": 27,
   "id": "d4c2ab0e",
   "metadata": {},
   "outputs": [
    {
     "name": "stdout",
     "output_type": "stream",
     "text": [
      "1\n",
      "2\n",
      "3\n",
      "4\n",
      "5\n",
      "6\n"
     ]
    }
   ],
   "source": [
    "for i in range(1, 7) : # 1 2 3 4 5 6\n",
    "    print(i)"
   ]
  },
  {
   "cell_type": "code",
   "execution_count": 30,
   "id": "1dd79fc6",
   "metadata": {},
   "outputs": [
    {
     "name": "stdout",
     "output_type": "stream",
     "text": [
      "1\n",
      "22\n",
      "333\n",
      "4444\n",
      "55555\n",
      "666666\n"
     ]
    }
   ],
   "source": [
    "for i in range(1, 7) : # 1 2 3 4 5 6\n",
    "    print(str(i) * i)"
   ]
  },
  {
   "cell_type": "code",
   "execution_count": null,
   "id": "1d325e8c",
   "metadata": {},
   "outputs": [],
   "source": []
  },
  {
   "cell_type": "code",
   "execution_count": null,
   "id": "a75606ab",
   "metadata": {},
   "outputs": [],
   "source": []
  },
  {
   "cell_type": "code",
   "execution_count": null,
   "id": "f8972242",
   "metadata": {},
   "outputs": [],
   "source": []
  },
  {
   "cell_type": "code",
   "execution_count": null,
   "id": "044ccc12",
   "metadata": {},
   "outputs": [],
   "source": [
    "## Pattterns : \n",
    "\n",
    "j\n",
    "aa\n",
    "vvv\n",
    "aaaa"
   ]
  },
  {
   "cell_type": "code",
   "execution_count": 50,
   "id": "49ce42f4",
   "metadata": {},
   "outputs": [
    {
     "name": "stdout",
     "output_type": "stream",
     "text": [
      "0 j\n",
      "1 a\n",
      "2 v\n",
      "3 a\n"
     ]
    }
   ],
   "source": [
    "word = \"java\"\n",
    "\n",
    "for w in range( len(word) ) : \n",
    "    print(w, word[w])"
   ]
  },
  {
   "cell_type": "code",
   "execution_count": 52,
   "id": "b041fc22",
   "metadata": {},
   "outputs": [
    {
     "name": "stdout",
     "output_type": "stream",
     "text": [
      "j\n",
      "aa\n",
      "vvv\n",
      "aaaa\n"
     ]
    }
   ],
   "source": [
    "word = \"java\"\n",
    "\n",
    "for w in range( len(word) ) : \n",
    "    print((w+1) * word[w])"
   ]
  },
  {
   "cell_type": "code",
   "execution_count": null,
   "id": "85e2c9dd",
   "metadata": {},
   "outputs": [],
   "source": []
  },
  {
   "cell_type": "code",
   "execution_count": null,
   "id": "807293e4",
   "metadata": {},
   "outputs": [],
   "source": []
  },
  {
   "cell_type": "code",
   "execution_count": null,
   "id": "c272fa77",
   "metadata": {},
   "outputs": [],
   "source": []
  },
  {
   "cell_type": "markdown",
   "id": "13e5a655",
   "metadata": {},
   "source": [
    "## Using For Loops to iterate over the sequence by referring to its POSITIONS"
   ]
  },
  {
   "cell_type": "code",
   "execution_count": null,
   "id": "71c78605",
   "metadata": {},
   "outputs": [],
   "source": [
    "## How to Iterate on the String\n",
    "# By referring to character's positions inside string"
   ]
  },
  {
   "cell_type": "code",
   "execution_count": 33,
   "id": "b23b2b26",
   "metadata": {},
   "outputs": [
    {
     "name": "stdout",
     "output_type": "stream",
     "text": [
      "i = 0 Charachter Value : p\n",
      "i = 1 Charachter Value : y\n",
      "i = 2 Charachter Value : t\n",
      "i = 3 Charachter Value : h\n",
      "i = 4 Charachter Value : o\n",
      "i = 5 Charachter Value : n\n"
     ]
    }
   ],
   "source": [
    "stringName = \"python\"\n",
    "             #0 1 2 3 4 5 \n",
    "\n",
    "for i in range( 0, len(stringName) ) : \n",
    "    print( f\"i = {i}\", f\"Charachter Value : {stringName[i]}\" )"
   ]
  },
  {
   "cell_type": "code",
   "execution_count": 54,
   "id": "647bc8e2",
   "metadata": {},
   "outputs": [
    {
     "name": "stdout",
     "output_type": "stream",
     "text": [
      "i = 0 Charachter Value : p\n",
      "i = 1 Charachter Value : y\n",
      "i = 2 Charachter Value : t\n",
      "i = 3 Charachter Value : h\n",
      "i = 4 Charachter Value : o\n",
      "i = 5 Charachter Value : n\n"
     ]
    },
    {
     "ename": "IndexError",
     "evalue": "string index out of range",
     "output_type": "error",
     "traceback": [
      "\u001b[1;31m---------------------------------------------------------------------------\u001b[0m",
      "\u001b[1;31mIndexError\u001b[0m                                Traceback (most recent call last)",
      "\u001b[1;32m~\\AppData\\Local\\Temp\\ipykernel_6340\\1056918068.py\u001b[0m in \u001b[0;36m<module>\u001b[1;34m\u001b[0m\n\u001b[0;32m      3\u001b[0m \u001b[1;33m\u001b[0m\u001b[0m\n\u001b[0;32m      4\u001b[0m \u001b[1;32mfor\u001b[0m \u001b[0mi\u001b[0m \u001b[1;32min\u001b[0m \u001b[0mrange\u001b[0m\u001b[1;33m(\u001b[0m \u001b[1;36m0\u001b[0m\u001b[1;33m,\u001b[0m \u001b[1;36m10\u001b[0m \u001b[1;33m)\u001b[0m \u001b[1;33m:\u001b[0m\u001b[1;33m\u001b[0m\u001b[1;33m\u001b[0m\u001b[0m\n\u001b[1;32m----> 5\u001b[1;33m     \u001b[0mprint\u001b[0m\u001b[1;33m(\u001b[0m \u001b[1;34mf\"i = {i}\"\u001b[0m\u001b[1;33m,\u001b[0m \u001b[1;34mf\"Charachter Value : {stringName[i]}\"\u001b[0m \u001b[1;33m)\u001b[0m\u001b[1;33m\u001b[0m\u001b[1;33m\u001b[0m\u001b[0m\n\u001b[0m",
      "\u001b[1;31mIndexError\u001b[0m: string index out of range"
     ]
    }
   ],
   "source": [
    "stringName = \"python\"\n",
    "             #0 1 2 3 4 5 \n",
    "\n",
    "for i in range( 0, 10 ) : \n",
    "    print( f\"i = {i}\", f\"Charachter Value : {stringName[i]}\" )"
   ]
  },
  {
   "cell_type": "code",
   "execution_count": null,
   "id": "7b6137b5",
   "metadata": {},
   "outputs": [],
   "source": []
  },
  {
   "cell_type": "code",
   "execution_count": 36,
   "id": "bf48bd45",
   "metadata": {},
   "outputs": [
    {
     "name": "stdout",
     "output_type": "stream",
     "text": [
      "0 #\n",
      "1 $\n",
      "2 %\n",
      "3 ^\n",
      "4 &\n",
      "5 A\n",
      "6 ]\n",
      "7 [\n",
      "8 '\n",
      "9 .\n",
      "10 5\n",
      "11 5\n",
      "12 I\n",
      "13 5\n",
      "14 8\n",
      "15 5\n",
      "16 /\n",
      "17 *\n",
      "18 -\n",
      "19 *\n",
      "20 &\n",
      "21 ^\n",
      "22 %\n",
      "23 $\n",
      "24 M\n",
      "25 '\n",
      "26 ]\n"
     ]
    }
   ],
   "source": [
    "# find the message if you use alphabet...\n",
    "encryptedCode = \"#$%^&A]['.55I585/*-*&^%$M']\"\n",
    "\n",
    "for s in range( len(encryptedCode) ) : \n",
    "    print(s, encryptedCode[s])\n"
   ]
  },
  {
   "cell_type": "code",
   "execution_count": 49,
   "id": "0b52ab6b",
   "metadata": {},
   "outputs": [
    {
     "name": "stdout",
     "output_type": "stream",
     "text": [
      "A\n",
      "I\n",
      "M\n"
     ]
    }
   ],
   "source": [
    "# find the message if you use alphabet...\n",
    "encryptedCode = \"#$%^&A]['.55I585/*-*&^%$M']\"\n",
    "\n",
    "for s in range( len(encryptedCode) ) : \n",
    "    if encryptedCode[s].isalpha() : \n",
    "        print(encryptedCode[s])\n"
   ]
  },
  {
   "cell_type": "code",
   "execution_count": 46,
   "id": "2f12466c",
   "metadata": {},
   "outputs": [
    {
     "name": "stdout",
     "output_type": "stream",
     "text": [
      "AIM\n"
     ]
    }
   ],
   "source": [
    "# find the message if you use alphabet...\n",
    "encryptedCode = \"#$%^&A]['.55I585/*-*&^%$M']\"\n",
    "result = \"\"\n",
    "\n",
    "for s in range( len(encryptedCode) ) : \n",
    "    if encryptedCode[s].isalpha() : \n",
    "        result = result + encryptedCode[s]\n",
    "\n",
    "print(result)"
   ]
  },
  {
   "cell_type": "code",
   "execution_count": null,
   "id": "cf2a222f",
   "metadata": {},
   "outputs": [],
   "source": []
  },
  {
   "cell_type": "code",
   "execution_count": null,
   "id": "8ba032ce",
   "metadata": {},
   "outputs": [],
   "source": []
  },
  {
   "cell_type": "code",
   "execution_count": null,
   "id": "d6d3380d",
   "metadata": {},
   "outputs": [],
   "source": []
  },
  {
   "cell_type": "code",
   "execution_count": null,
   "id": "16c37218",
   "metadata": {},
   "outputs": [],
   "source": []
  },
  {
   "cell_type": "code",
   "execution_count": null,
   "id": "285c570b",
   "metadata": {},
   "outputs": [],
   "source": [
    "## How to Iterate on the List\n",
    "# By referring to element positions inside list"
   ]
  },
  {
   "cell_type": "code",
   "execution_count": 55,
   "id": "17553f15",
   "metadata": {},
   "outputs": [
    {
     "name": "stdout",
     "output_type": "stream",
     "text": [
      "Position : 0, Value : 10\n",
      "Position : 1, Value : 25\n",
      "Position : 2, Value : 47\n",
      "Position : 3, Value : -54\n",
      "Position : 4, Value : 23\n"
     ]
    }
   ],
   "source": [
    "listName = [10, 25, 47, -54 , 23]\n",
    "#           0  1    2   3    4\n",
    "\n",
    "for i in range(len(listName)) : \n",
    "    print(f\"Position : {i}, Value : {listName[i]}\")"
   ]
  },
  {
   "cell_type": "code",
   "execution_count": null,
   "id": "7ac328ab",
   "metadata": {},
   "outputs": [],
   "source": []
  },
  {
   "cell_type": "code",
   "execution_count": null,
   "id": "7b2703c0",
   "metadata": {},
   "outputs": [],
   "source": []
  },
  {
   "cell_type": "code",
   "execution_count": null,
   "id": "9bc35c4d",
   "metadata": {},
   "outputs": [],
   "source": []
  },
  {
   "cell_type": "code",
   "execution_count": null,
   "id": "1cf250da",
   "metadata": {},
   "outputs": [],
   "source": [
    "## Hint : string split + testcase + list append"
   ]
  },
  {
   "cell_type": "code",
   "execution_count": 60,
   "id": "2f59d3ee",
   "metadata": {},
   "outputs": [
    {
     "name": "stdout",
     "output_type": "stream",
     "text": [
      "['an', 'otp', '5454', 'is', 'shared', 'on', 'mobile.', '']\n",
      "OPT Received : 5454\n"
     ]
    }
   ],
   "source": [
    "# Find the OTP\n",
    "message = \"an otp 5454 is shared on mobile. \"\n",
    "res = message.split(\" \")\n",
    "print(res)\n",
    "otp = \"\"\n",
    "\n",
    "\n",
    "for i in range( len(res) ) : \n",
    "#     print(i, res[i])\n",
    "    if res[i].isdigit() : \n",
    "        otp = res[i]\n",
    "print(f\"OPT Received : {otp}\")\n"
   ]
  },
  {
   "cell_type": "code",
   "execution_count": 64,
   "id": "9316ef1a",
   "metadata": {},
   "outputs": [
    {
     "name": "stdout",
     "output_type": "stream",
     "text": [
      "['an', 'otp', '5454', 'is', 'shared', 'on', 'mobile', 'number', '8745121203']\n",
      "5454\n",
      "8745121203\n"
     ]
    }
   ],
   "source": [
    "# Find the OTP and mobile number\n",
    "message = \"an otp 5454 is shared on mobile number 8745121203\"\n",
    "\n",
    "res = message.split(\" \")\n",
    "print(res)\n",
    "otp = \"\"\n",
    "mobile = \"\"\n",
    "\n",
    "for i in range( len(res) ) : \n",
    "#     print(i, res[i])\n",
    "    if res[i].isdigit() and len(res[i])<10: \n",
    "        otp = res[i]\n",
    "        print(otp)\n",
    "    elif res[i].isdigit() and len(res[i])==10: \n",
    "        mobile = res[i]\n",
    "        print(mobile)\n",
    "\n",
    "# print(f\"OPT Received : {otp}\")\n",
    "\n"
   ]
  },
  {
   "cell_type": "code",
   "execution_count": 73,
   "id": "542373a6",
   "metadata": {},
   "outputs": [
    {
     "name": "stdout",
     "output_type": "stream",
     "text": [
      "['an', 'otp', '5454', 'is', 'shared', 'on', 'mobile', 'number', '8745121203']\n",
      "OTP : 5454\n",
      "Mobile : 8745121203\n"
     ]
    }
   ],
   "source": [
    "# Find the OTP and mobile number\n",
    "message = \"an otp 5454 is shared on mobile number 8745121203\"\n",
    "# message = \"an otp shared on mobile \"\n",
    "\n",
    "res = message.split(\" \")\n",
    "print(res)\n",
    "\n",
    "for i in range( len(res) ) : \n",
    "#     print(i, res[i])\n",
    "    if res[i].isdigit():\n",
    "        if len(res[i]) < 10 : \n",
    "            print(f\"OTP : {res[i]}\")\n",
    "        elif len(res[i])==10: \n",
    "            print(f\"Mobile : {res[i]}\")\n",
    "    else : \n",
    "        pass\n",
    "\n",
    "# print(f\"OPT Received : {otp}\")\n",
    "\n"
   ]
  },
  {
   "cell_type": "code",
   "execution_count": null,
   "id": "b6b69150",
   "metadata": {},
   "outputs": [],
   "source": []
  },
  {
   "cell_type": "code",
   "execution_count": null,
   "id": "87fca695",
   "metadata": {},
   "outputs": [],
   "source": [
    "# Find Valid mobile number and email\n",
    "\n",
    "# message = an otp 5454 is shared on mobile number 8745121203 and nitish@gmail.com"
   ]
  },
  {
   "cell_type": "code",
   "execution_count": 78,
   "id": "e49e06c0",
   "metadata": {},
   "outputs": [
    {
     "name": "stdout",
     "output_type": "stream",
     "text": [
      "['an', 'otp', '5454', 'is', 'shared', 'on', 'mobile', 'number', '8745121203', 'and', 'nitish@gmail.com']\n",
      "Mobile : 8745121203\n",
      "Email : nitish@gmail.com\n"
     ]
    }
   ],
   "source": [
    "message = \"an otp 5454 is shared on mobile number 8745121203 and nitish@gmail.com\"\n",
    "res = message.split(\" \")\n",
    "print(res)\n",
    "\n",
    "for i in range( len(res) ) : \n",
    "    if res[i].isdigit() and len(res[i])==10: \n",
    "        print(f\"Mobile : {res[i]}\")\n",
    "   \n",
    "    if   \"@\" in res[i]: \n",
    "        print(f\"Email : {res[i]}\")\n",
    "        "
   ]
  },
  {
   "cell_type": "code",
   "execution_count": null,
   "id": "54af0fba",
   "metadata": {},
   "outputs": [],
   "source": [
    "# Find Valid mobile number and email\n",
    "# message = an otp 5454 is shared on mobile number 8745121203 9965842 nitish@gmail.com and company@yahoo@.com"
   ]
  },
  {
   "cell_type": "code",
   "execution_count": 89,
   "id": "24749358",
   "metadata": {},
   "outputs": [
    {
     "name": "stdout",
     "output_type": "stream",
     "text": [
      "['an', 'otp', '5454', 'is', 'shared', 'on', 'mobile', 'number', '8745121203', '9965842', 'nitish@gmail.com', 'and', 'company@yahoo@.com']\n",
      "Mobile : 8745121203\n",
      "Email : nitish@gmail.com\n"
     ]
    }
   ],
   "source": [
    "# Find Valid mobile number and email\n",
    "message = \"an otp 5454 is shared on mobile number 8745121203 9965842 nitish@gmail.com and company@yahoo@.com\"\n",
    "res = message.split(\" \")\n",
    "print(res)\n",
    "\n",
    "for i in range( len(res) ) : \n",
    "    if res[i].isdigit() and len(res[i])==10: \n",
    "        print(f\"Mobile : {res[i]}\")\n",
    "   \n",
    "    if   \"@\" in res[i]: \n",
    "        if res[i].count(\"@\") == 1 : \n",
    "            print(f\"Email : {res[i]}\")\n",
    "        "
   ]
  },
  {
   "cell_type": "code",
   "execution_count": null,
   "id": "cb30e284",
   "metadata": {},
   "outputs": [],
   "source": [
    "\"8745121203\"\n",
    "\"nitish@gmail.com\""
   ]
  },
  {
   "cell_type": "code",
   "execution_count": 94,
   "id": "7aac6cbb",
   "metadata": {},
   "outputs": [
    {
     "name": "stdout",
     "output_type": "stream",
     "text": [
      "['an', 'otp', '5454', 'is', 'shared', 'on', 'mobile', 'number', '8745121203', '9965842', 'nitish@gmail.com', 'and', 'company@yahoo@.com']\n",
      "Mobile : 8745121203\n",
      "Email : nitish@gmail.com\n"
     ]
    }
   ],
   "source": [
    "# Find Valid mobile number and email\n",
    "message = \"an otp 5454 is shared on mobile number 8745121203 9965842 nitish@gmail.com and company@yahoo@.com\"\n",
    "res = message.split(\" \")\n",
    "print(res)\n",
    "\n",
    "for i in range( len(res) ) : # 0 - len(res)\n",
    "#     print(i, res[i])\n",
    "    if res[i].isdigit() and len(res[i])==10: \n",
    "        print(f\"Mobile : {res[i]}\")\n",
    "   \n",
    "    if   \"@\" in res[i] and res[i].count(\"@\") == 1 : \n",
    "            print(f\"Email : {res[i]}\")\n",
    "\n",
    "        "
   ]
  },
  {
   "cell_type": "code",
   "execution_count": 126,
   "id": "608a741b",
   "metadata": {},
   "outputs": [
    {
     "name": "stdout",
     "output_type": "stream",
     "text": [
      "['an', 'otp', '5454', 'is', 'shared', 'on', 'mobile', 'number', '8744121035', '8745121203', '9965842', 'nitish@gmail.com', 'and', 'company@yahoo@.com', 'abc@hotmail.com']\n",
      "Mobile numbers => ['8744121035', '8745121203']\n",
      "Email Addresses => ['nitish@gmail.com', 'abc@hotmail.com']\n"
     ]
    }
   ],
   "source": [
    "# Find Valid mobile number and email and save it\n",
    "\n",
    "message = \"an otp 5454 is shared on mobile number 8744121035 8745121203 9965842 nitish@gmail.com and company@yahoo@.com abc@hotmail.com\"\n",
    "res = message.split(\" \")\n",
    "print(res)\n",
    "\n",
    "mobile = []\n",
    "email = []\n",
    "\n",
    "\n",
    "\n",
    "for i in range( len(res) ) : # 0 - len(res)\n",
    "#     print(i, res[i])\n",
    "    if res[i].isdigit() and len(res[i])==10: \n",
    "#         print(f\"Mobile : {res[i]}\")\n",
    "        mobile.append(res[i])\n",
    "    else : \n",
    "        pass\n",
    "   \n",
    "    if   \"@\" in res[i] and res[i].count(\"@\") == 1 : \n",
    "#             print(f\"Email : {res[i]}\")\n",
    "        email.append(res[i])\n",
    "    else : \n",
    "        pass\n",
    "\n",
    "print(f\"Mobile numbers => {mobile}\")\n",
    "print(f\"Email Addresses => {email}\")"
   ]
  },
  {
   "cell_type": "code",
   "execution_count": null,
   "id": "ca72742a",
   "metadata": {},
   "outputs": [],
   "source": []
  },
  {
   "cell_type": "markdown",
   "id": "4a532d86",
   "metadata": {},
   "source": [
    "## Using For Loops to iterate over the sequence by referring to its VALUES"
   ]
  },
  {
   "cell_type": "code",
   "execution_count": null,
   "id": "f7c90160",
   "metadata": {},
   "outputs": [],
   "source": []
  },
  {
   "cell_type": "code",
   "execution_count": 99,
   "id": "77191140",
   "metadata": {},
   "outputs": [],
   "source": [
    "## How to Iterate on the String\n",
    "# By referring to character's VALUES inside string"
   ]
  },
  {
   "cell_type": "code",
   "execution_count": 33,
   "id": "f8afb32d",
   "metadata": {},
   "outputs": [
    {
     "name": "stdout",
     "output_type": "stream",
     "text": [
      "i = 0 Charachter Value : p\n",
      "i = 1 Charachter Value : y\n",
      "i = 2 Charachter Value : t\n",
      "i = 3 Charachter Value : h\n",
      "i = 4 Charachter Value : o\n",
      "i = 5 Charachter Value : n\n"
     ]
    }
   ],
   "source": [
    "stringName = \"python\"\n",
    "\n",
    "for i in range( 0, len(stringName) ) : \n",
    "    print( f\"i = {i}\", f\"Charachter Value : {stringName[i]}\" )"
   ]
  },
  {
   "cell_type": "code",
   "execution_count": 100,
   "id": "dca5d23a",
   "metadata": {},
   "outputs": [
    {
     "name": "stdout",
     "output_type": "stream",
     "text": [
      "Charachter Value : p\n",
      "Charachter Value : y\n",
      "Charachter Value : t\n",
      "Charachter Value : h\n",
      "Charachter Value : o\n",
      "Charachter Value : n\n"
     ]
    }
   ],
   "source": [
    "stringName = \"python\"\n",
    "\n",
    "for i in stringName : \n",
    "    print( f\"Charachter Value : {i}\" )"
   ]
  },
  {
   "cell_type": "code",
   "execution_count": 103,
   "id": "477ea38b",
   "metadata": {},
   "outputs": [
    {
     "name": "stdout",
     "output_type": "stream",
     "text": [
      "5 A\n",
      "12 I\n",
      "24 M\n",
      "AIM\n"
     ]
    }
   ],
   "source": [
    "# find the message if you use alphabet...\n",
    "encryptedCode = \"#$%^&A]['.55I585/*-*&^%$M']\"\n",
    "result = \"\"\n",
    "\n",
    "for s in range( len(encryptedCode) ) : \n",
    "    if encryptedCode[s].isalpha() : \n",
    "        print(s, encryptedCode[s])\n",
    "        result = result + encryptedCode[s]\n",
    "\n",
    "print(result)"
   ]
  },
  {
   "cell_type": "code",
   "execution_count": 104,
   "id": "c930fbbe",
   "metadata": {},
   "outputs": [
    {
     "name": "stdout",
     "output_type": "stream",
     "text": [
      "A\n",
      "I\n",
      "M\n",
      "AIM\n"
     ]
    }
   ],
   "source": [
    "# find the message if you use alphabet...\n",
    "encryptedCode = \"#$%^&A]['.55I585/*-*&^%$M']\"\n",
    "result = \"\"\n",
    "\n",
    "for s in encryptedCode : \n",
    "    if s.isalpha() : \n",
    "        print(s)\n",
    "        result = result + s\n",
    "\n",
    "print(result)"
   ]
  },
  {
   "cell_type": "code",
   "execution_count": null,
   "id": "e9f33670",
   "metadata": {},
   "outputs": [],
   "source": []
  },
  {
   "cell_type": "markdown",
   "id": "eb6c4a55",
   "metadata": {},
   "source": [
    "# Break and Continue"
   ]
  },
  {
   "cell_type": "markdown",
   "id": "62939bb9",
   "metadata": {},
   "source": [
    "### Break\n",
    "\n",
    "- It will terminate the LOOP in which it is applied\n",
    "- It will stop the program if expression is TRUE\n",
    "- NO statement written after break is executed"
   ]
  },
  {
   "cell_type": "code",
   "execution_count": 108,
   "id": "f3dea0de",
   "metadata": {},
   "outputs": [
    {
     "name": "stdout",
     "output_type": "stream",
     "text": [
      "Position : 0, Value : 10\n",
      "Position : 1, Value : 25\n",
      "Position : 2, Value : 47\n",
      "Position : 3, Value : -54\n",
      "Position : 4, Value : 23\n",
      "Position : 5, Value : -11\n",
      "Position : 6, Value : 70\n"
     ]
    }
   ],
   "source": [
    "listName = [10, 25, 47, -54 , 23 , -11, 70]\n",
    "\n",
    "for i in range(len(listName)) : \n",
    "    print(f\"Position : {i}, Value : {listName[i]}\")\n",
    "        "
   ]
  },
  {
   "cell_type": "code",
   "execution_count": 109,
   "id": "1debc396",
   "metadata": {},
   "outputs": [
    {
     "name": "stdout",
     "output_type": "stream",
     "text": [
      "Position : 0, Value : 10\n",
      "Position : 1, Value : 25\n",
      "Position : 2, Value : 47\n",
      "Its Negative\n"
     ]
    }
   ],
   "source": [
    "# Display all the positive values and stop if any negative values comes up\n",
    "listName = [10, 25, 47, -54 , 23 , -11, 70]\n",
    "\n",
    "for i in range(len(listName)) : \n",
    "    if listName[i] < 0 : \n",
    "        print(\"Its Negative\")\n",
    "        break\n",
    "        print(\".............. ENDING.........\")\n",
    "    else : \n",
    "        print(f\"Position : {i}, Value : {listName[i]}\")\n",
    "        "
   ]
  },
  {
   "cell_type": "code",
   "execution_count": null,
   "id": "0e9bed77",
   "metadata": {},
   "outputs": [],
   "source": []
  },
  {
   "cell_type": "code",
   "execution_count": null,
   "id": "5eca5d11",
   "metadata": {},
   "outputs": [],
   "source": []
  },
  {
   "cell_type": "markdown",
   "id": "d9b1ed01",
   "metadata": {},
   "source": [
    "### Continue\n",
    "\n",
    "- It will skip the program if expression is TRUE\n",
    "- NO statement written after continue is executed"
   ]
  },
  {
   "cell_type": "code",
   "execution_count": 108,
   "id": "1d1cbd65",
   "metadata": {},
   "outputs": [
    {
     "name": "stdout",
     "output_type": "stream",
     "text": [
      "Position : 0, Value : 10\n",
      "Position : 1, Value : 25\n",
      "Position : 2, Value : 47\n",
      "Position : 3, Value : -54\n",
      "Position : 4, Value : 23\n",
      "Position : 5, Value : -11\n",
      "Position : 6, Value : 70\n"
     ]
    }
   ],
   "source": [
    "listName = [10, 25, 47, -54 , 23 , -11, 70]\n",
    "\n",
    "for i in range(len(listName)) : \n",
    "    print(f\"Position : {i}, Value : {listName[i]}\")\n",
    "        "
   ]
  },
  {
   "cell_type": "code",
   "execution_count": 124,
   "id": "bb60e9ec",
   "metadata": {},
   "outputs": [
    {
     "name": "stdout",
     "output_type": "stream",
     "text": [
      "Position : 0, Value : 10\n",
      "Position : 1, Value : 25\n",
      "Position : 2, Value : 47\n",
      "Position : 4, Value : 23\n",
      "Position : 6, Value : 70\n"
     ]
    }
   ],
   "source": [
    "# Display ONLY positive values \n",
    "\n",
    "## This is working fine.....\n",
    "pass\n",
    "listName = [10, 25, 47, -54 , 23 , -11, 70]\n",
    "\n",
    "for i in range(len(listName)) : \n",
    "    if listName[i] < 0 : \n",
    "        continue\n",
    "        print(\".............. ENDING.........\")\n",
    "    else : \n",
    "        print(f\"Position : {i}, Value : {listName[i]}\")\n",
    "        "
   ]
  },
  {
   "cell_type": "markdown",
   "id": "52680643",
   "metadata": {},
   "source": [
    "### PASS\n",
    "\n",
    "- it just passes"
   ]
  },
  {
   "cell_type": "code",
   "execution_count": 129,
   "id": "dcb6309d",
   "metadata": {},
   "outputs": [
    {
     "name": "stdout",
     "output_type": "stream",
     "text": [
      "658\n",
      "84\n"
     ]
    }
   ],
   "source": [
    "pass\n",
    "pass\n",
    "pass\n",
    "pass\n",
    "print(14 * 47)\n",
    "pass\n",
    "pass\n",
    "pass\n",
    "pass\n",
    "print(14 * 6)"
   ]
  },
  {
   "cell_type": "code",
   "execution_count": null,
   "id": "281c6727",
   "metadata": {},
   "outputs": [],
   "source": []
  },
  {
   "cell_type": "code",
   "execution_count": 1,
   "id": "a0057d4b",
   "metadata": {},
   "outputs": [],
   "source": [
    "### sssjuc\n",
    "# display total characters and remove blank space\n",
    "\n",
    "# apple\n",
    "# apple has lenght 5\n",
    "pmmmmmmmmmmmmmmmmmmm]p;;u.p\n",
    "#    grapes   \n",
    "# grapes has lenght 6\n",
    "\n",
    "#  6874561\n",
    "# INVALID NAME. STOP\n"
   ]
  },
  {
   "cell_type": "code",
   "execution_count": 130,
   "id": "0f0dfd3e",
   "metadata": {
    "collapsed": true
   },
   "outputs": [
    {
     "name": "stdout",
     "output_type": "stream",
     "text": [
      "Fruit Name :apple    \n",
      "apple has length 5\n",
      "Fruit Name :   mangoes\n",
      "mangoes has length 7\n",
      "Fruit Name :grape                \n",
      "grape has length 5\n",
      "Fruit Name :   custard apple\n",
      "custard apple has length 13\n",
      "Fruit Name :   kiwi   \n",
      "kiwi has length 4\n"
     ]
    }
   ],
   "source": [
    "\n",
    "for i in range(5) : \n",
    "    \n",
    "    fruit = input(\"Fruit Name :\").strip()\n",
    "    print(f\"{fruit} has length {len(fruit)}\")"
   ]
  },
  {
   "cell_type": "code",
   "execution_count": 1,
   "id": "67f27581",
   "metadata": {},
   "outputs": [
    {
     "name": "stdout",
     "output_type": "stream",
     "text": [
      "Fruit Name :asdfasd\n",
      "asdfasd has length 7\n",
      "Fruit Name :dsafe65e6\n",
      "dsafe65e6 has length 9\n",
      "Fruit Name :56356345\n",
      "INVALID NAME\n"
     ]
    }
   ],
   "source": [
    "for i in range(5) : \n",
    "    \n",
    "    fruit = input(\"Fruit Name :\").strip()\n",
    "    if fruit.isdigit() : # isspace()\n",
    "        print(\"INVALID NAME\")\n",
    "        break\n",
    "    \n",
    "    else : \n",
    "        print(f\"{fruit} has length {len(fruit)}\")"
   ]
  },
  {
   "cell_type": "code",
   "execution_count": 133,
   "id": "e0b81432",
   "metadata": {},
   "outputs": [
    {
     "name": "stdout",
     "output_type": "stream",
     "text": [
      "Fruit Name :  apple\n",
      "apple has length 5\n",
      "Fruit Name :mangoes   \n",
      "mangoes has length 7\n",
      "Fruit Name :4542\n",
      "INVALID NAME\n"
     ]
    }
   ],
   "source": [
    "for i in range(5) : \n",
    "    \n",
    "    fruit = input(\"Fruit Name :\").strip()\n",
    "    if fruit.isdigit() : # isspace()\n",
    "        print(\"INVALID NAME\")\n",
    "        break\n",
    "    print(f\"{fruit} has length {len(fruit)}\")"
   ]
  },
  {
   "cell_type": "code",
   "execution_count": null,
   "id": "f98788bd",
   "metadata": {},
   "outputs": [],
   "source": []
  },
  {
   "cell_type": "code",
   "execution_count": null,
   "id": "a2c97262",
   "metadata": {},
   "outputs": [],
   "source": [
    "### Take fruit name from the user and if that word is digit then skip\n",
    "# maximum loop is 5\n",
    "# display total characters and remove blank space\n",
    "\n",
    "# apple\n",
    "# apple has lenght 5\n",
    "\n",
    "#    grapes   \n",
    "# grapes has lenght 6\n",
    "\n",
    "#  6874561\n",
    "# INVALID NAME. skip\n",
    "\n",
    "#    kiwi   \n",
    "# kiwi has lenght 4\n",
    "\n"
   ]
  },
  {
   "cell_type": "code",
   "execution_count": 134,
   "id": "5d1b2f7b",
   "metadata": {},
   "outputs": [
    {
     "name": "stdout",
     "output_type": "stream",
     "text": [
      "Fruit Name :  apple\n",
      "apple has length 5\n",
      "Fruit Name :grapes    \n",
      "grapes has length 6\n",
      "Fruit Name :38425\n",
      "INVALID NAME\n",
      "Fruit Name :kiwi\n",
      "kiwi has length 4\n",
      "Fruit Name :       watermelon  \n",
      "watermelon has length 10\n"
     ]
    }
   ],
   "source": [
    "for i in range(5) : \n",
    "    \n",
    "    fruit = input(\"Fruit Name :\").strip()\n",
    "    if fruit.isdigit() : # isspace()\n",
    "        print(\"INVALID NAME\")\n",
    "        continue\n",
    "    \n",
    "    print(f\"{fruit} has length {len(fruit)}\")"
   ]
  },
  {
   "cell_type": "code",
   "execution_count": 135,
   "id": "f5fbd8dd",
   "metadata": {},
   "outputs": [
    {
     "name": "stdout",
     "output_type": "stream",
     "text": [
      "please enter fruit name: apple\n",
      "apple has length \n",
      "please enter fruit name:541254\n",
      "invalid fruit name\n"
     ]
    }
   ],
   "source": [
    "for i in range(5):\n",
    "    \n",
    "    frt=input(\"please enter fruit name:\")\n",
    "    frt=frt.strip()\n",
    "    if frt[i].isalpha():\n",
    "        print(f\"{frt} has length \")\n",
    "    else:\n",
    "        print(\"invalid fruit name\")\n",
    "        break"
   ]
  },
  {
   "cell_type": "code",
   "execution_count": null,
   "id": "9d0075b1",
   "metadata": {},
   "outputs": [],
   "source": []
  },
  {
   "cell_type": "code",
   "execution_count": null,
   "id": "480a89e5",
   "metadata": {},
   "outputs": [],
   "source": []
  },
  {
   "cell_type": "code",
   "execution_count": null,
   "id": "b0ff84c4",
   "metadata": {},
   "outputs": [],
   "source": []
  },
  {
   "cell_type": "code",
   "execution_count": null,
   "id": "c6eaf105",
   "metadata": {},
   "outputs": [],
   "source": []
  },
  {
   "cell_type": "markdown",
   "id": "8e3da82c",
   "metadata": {},
   "source": [
    "## Ternary Operations\n",
    "\n",
    "- if else in a single line. its possible if you have single statement to be worked on\n",
    "\n",
    "Synatx : \n",
    "\n",
    "if expression : \n",
    "    output_if\n",
    "else : \n",
    "    output_else\n",
    "\n",
    "output_if if expression else output_else\n"
   ]
  },
  {
   "cell_type": "code",
   "execution_count": null,
   "id": "672920c4",
   "metadata": {},
   "outputs": [],
   "source": [
    "import math # just a Python package\n",
    "# import means call the package/library to the python enviroment"
   ]
  },
  {
   "cell_type": "code",
   "execution_count": 137,
   "id": "a55509af",
   "metadata": {},
   "outputs": [
    {
     "name": "stdout",
     "output_type": "stream",
     "text": [
      "Number : -3\n",
      "square of number = 9.0\n"
     ]
    }
   ],
   "source": [
    "## given a string find suqre of number if its less that 0 else find log\n",
    "import math\n",
    "\n",
    "number = int( input(\"Number : \") )\n",
    "if number < 0 : \n",
    "    print(f\"square of number = { math.pow(number , 2)  }\")\n",
    "else : \n",
    "    print(f\"log of number = { math.log(number) }\")\n"
   ]
  },
  {
   "cell_type": "code",
   "execution_count": 141,
   "id": "b46c3f27",
   "metadata": {},
   "outputs": [
    {
     "name": "stdout",
     "output_type": "stream",
     "text": [
      "Number : -65\n",
      "square of number = 4225.0\n"
     ]
    }
   ],
   "source": [
    "## given a string find suqre of number if its less that 0 else find log\n",
    "import math\n",
    "\n",
    "number = int( input(\"Number : \") )\n",
    "output = f\"square of number = { math.pow(number , 2)  }\" if number < 0 else f\"log of number = { math.log(number) }\"\n",
    "print(output)"
   ]
  },
  {
   "cell_type": "code",
   "execution_count": 145,
   "id": "653c4574",
   "metadata": {},
   "outputs": [
    {
     "name": "stdout",
     "output_type": "stream",
     "text": [
      "enter the word : Naman\n",
      "not palindrome\n"
     ]
    }
   ],
   "source": [
    "# naman is palindrome\n",
    "# pool is not palindrome\n",
    "\n",
    "word = input ('enter the word : ')\n",
    "output = 'palindrome' if word[::1] == word [::-1] else 'not palindrome'\n",
    "print (output)\n"
   ]
  },
  {
   "cell_type": "code",
   "execution_count": 146,
   "id": "e32bd681",
   "metadata": {},
   "outputs": [
    {
     "data": {
      "text/plain": [
       "'Naman'"
      ]
     },
     "execution_count": 146,
     "metadata": {},
     "output_type": "execute_result"
    }
   ],
   "source": [
    "word[::1]\n"
   ]
  },
  {
   "cell_type": "code",
   "execution_count": 147,
   "id": "ddb83797",
   "metadata": {},
   "outputs": [
    {
     "data": {
      "text/plain": [
       "'namaN'"
      ]
     },
     "execution_count": 147,
     "metadata": {},
     "output_type": "execute_result"
    }
   ],
   "source": [
    "word [::-1]"
   ]
  },
  {
   "cell_type": "code",
   "execution_count": 149,
   "id": "dbd4c744",
   "metadata": {},
   "outputs": [
    {
     "name": "stdout",
     "output_type": "stream",
     "text": [
      "Yellow\n"
     ]
    }
   ],
   "source": [
    "if 0 : \n",
    "    print(\"Blue\")\n",
    "else :\n",
    "    print(\"Yellow\")"
   ]
  },
  {
   "cell_type": "code",
   "execution_count": 150,
   "id": "71225b85",
   "metadata": {},
   "outputs": [
    {
     "name": "stdout",
     "output_type": "stream",
     "text": [
      "yellow\n"
     ]
    }
   ],
   "source": [
    "print( 'yellow' if True else \"blue\" )"
   ]
  },
  {
   "cell_type": "code",
   "execution_count": 151,
   "id": "c69fcfed",
   "metadata": {},
   "outputs": [
    {
     "name": "stdout",
     "output_type": "stream",
     "text": [
      "yellow\n"
     ]
    }
   ],
   "source": [
    "print( 'yellow' if 1 else \"blue\" )"
   ]
  },
  {
   "cell_type": "code",
   "execution_count": 152,
   "id": "6b61eedc",
   "metadata": {},
   "outputs": [
    {
     "name": "stdout",
     "output_type": "stream",
     "text": [
      "0\n"
     ]
    }
   ],
   "source": [
    "word = \"pool\"\n",
    "print( 1 if word[::1] == word [::-1] else 0 )"
   ]
  },
  {
   "cell_type": "code",
   "execution_count": 153,
   "id": "eb72fc7c",
   "metadata": {},
   "outputs": [
    {
     "data": {
      "text/plain": [
       "'Yellow'"
      ]
     },
     "execution_count": 153,
     "metadata": {},
     "output_type": "execute_result"
    }
   ],
   "source": [
    "word = \"pool\"\n",
    "myList = ['Yellow', \"Blue\"]\n",
    "myList[1 if word[::1] == word [::-1] else 0]   # List Ternary"
   ]
  },
  {
   "cell_type": "code",
   "execution_count": null,
   "id": "94d7e02e",
   "metadata": {},
   "outputs": [],
   "source": []
  },
  {
   "cell_type": "code",
   "execution_count": null,
   "id": "061e1366",
   "metadata": {},
   "outputs": [],
   "source": []
  },
  {
   "cell_type": "code",
   "execution_count": null,
   "id": "48edc934",
   "metadata": {},
   "outputs": [],
   "source": []
  },
  {
   "cell_type": "code",
   "execution_count": null,
   "id": "b171d704",
   "metadata": {},
   "outputs": [],
   "source": []
  },
  {
   "cell_type": "code",
   "execution_count": null,
   "id": "47ada932",
   "metadata": {},
   "outputs": [],
   "source": []
  },
  {
   "cell_type": "code",
   "execution_count": null,
   "id": "4ec5115e",
   "metadata": {},
   "outputs": [],
   "source": []
  },
  {
   "cell_type": "markdown",
   "id": "f2c3bd72",
   "metadata": {},
   "source": [
    "## List Comprehension\n",
    "\n",
    "- Creating a list by using ternary operations and loops\n",
    "- You can use ternary only if single statements are there\n",
    "\n",
    "- Store the values only\n",
    "\n",
    "    [output_of_FOR for value in listName]\n",
    "    \n",
    "    [output_of_FOR for value in range()]\n",
    "\n",
    "\n",
    "- Store the values when ONLY IF expression is applied\n",
    "\n",
    "    [output_of_FOR for value in listName if expression]\n",
    "\n",
    "\n",
    "- Store the values when ONLY IF-ELSE expression is applied\n",
    "\n",
    "    [output_of_if if expression else OUTPUT_Else for value in listName ]\n",
    "\n",
    "\n"
   ]
  },
  {
   "cell_type": "code",
   "execution_count": 154,
   "id": "c538a86c",
   "metadata": {},
   "outputs": [
    {
     "name": "stdout",
     "output_type": "stream",
     "text": [
      "Fruit Name :apple\n",
      "Fruit Name :g\n",
      "Fruit Name :g\n",
      "Fruit Name :r\n",
      "Fruit Name :a\n",
      "['apple', 'g', 'g', 'r', 'a']\n"
     ]
    }
   ],
   "source": [
    "# Take 5 fruit names and save it into list\n",
    "\n",
    "myList = []\n",
    "for i in range(5) : \n",
    "    fruit = input(\"Fruit Name :\").strip()\n",
    "    myList.append(fruit)\n",
    "print( myList )"
   ]
  },
  {
   "cell_type": "code",
   "execution_count": 161,
   "id": "2b3764b4",
   "metadata": {},
   "outputs": [
    {
     "name": "stdout",
     "output_type": "stream",
     "text": [
      "Fruit Name :a\n",
      "Fruit Name :s\n",
      "Fruit Name :d\n",
      "Fruit Name :f\n",
      "Fruit Name :g\n",
      "['a', 's', 'd', 'f', 'g']\n",
      "Fruit Name :a\n",
      "Fruit Name :s\n",
      "Fruit Name :d\n",
      "Fruit Name :f\n",
      "Fruit Name :g\n",
      "['a', 's', 'd', 'f', 'g']\n"
     ]
    }
   ],
   "source": [
    "# Take 5 fruit names and save it into list\n",
    "\n",
    "myList = []\n",
    "for i in range(5) : \n",
    "    myList.append(input(\"Fruit Name :\").strip())\n",
    "print( myList )\n",
    "\n",
    "\n",
    "myList = [ input(\"Fruit Name :\") for i in range(5) ]\n",
    "print( myList )\n",
    "\n"
   ]
  },
  {
   "cell_type": "code",
   "execution_count": null,
   "id": "3b0ed914",
   "metadata": {},
   "outputs": [],
   "source": [
    "# Take 5 fruit names and save it into list by LIST Comprehension\n",
    "\n",
    "# myList = []\n",
    "# for i in range(5) : \n",
    "#     myList.append(input(\"Fruit Name :\").strip())\n",
    "# print( myList )\n",
    "\n"
   ]
  },
  {
   "cell_type": "code",
   "execution_count": null,
   "id": "2cc752e5",
   "metadata": {},
   "outputs": [],
   "source": []
  },
  {
   "cell_type": "code",
   "execution_count": 159,
   "id": "a70952a5",
   "metadata": {},
   "outputs": [
    {
     "name": "stdout",
     "output_type": "stream",
     "text": [
      "[10, -6, 70, 4, -14]\n"
     ]
    }
   ],
   "source": [
    "# you have a list of numbers. you have to save it inot another list using loops\n",
    "\n",
    "inputList = [10 , -6 , 70 , 4 , -14]\n",
    "myList = inputList.copy()\n",
    "print( myList )"
   ]
  },
  {
   "cell_type": "code",
   "execution_count": 160,
   "id": "725d321d",
   "metadata": {},
   "outputs": [
    {
     "name": "stdout",
     "output_type": "stream",
     "text": [
      "[10, -6, 70, 4, -14]\n"
     ]
    }
   ],
   "source": [
    "# you have a list of numbers. you have to save it inot another list using loops\n",
    "\n",
    "inputList = [10 , -6 , 70 , 4 , -14]\n",
    "myList = []\n",
    "for i in inputList : \n",
    "    myList.append( i )\n",
    "print( myList )"
   ]
  },
  {
   "cell_type": "code",
   "execution_count": 162,
   "id": "ec94fb08",
   "metadata": {},
   "outputs": [
    {
     "name": "stdout",
     "output_type": "stream",
     "text": [
      "[10, -6, 70, 4, -14]\n"
     ]
    }
   ],
   "source": [
    "# you have a list of numbers. you have to save it inot another list using loops\n",
    "\n",
    "inputList = [10 , -6 , 70 , 4 , -14]\n",
    "myList = [i for i in inputList]\n",
    "\n",
    "print( myList )"
   ]
  },
  {
   "cell_type": "code",
   "execution_count": null,
   "id": "5e5d75ca",
   "metadata": {},
   "outputs": [],
   "source": []
  },
  {
   "cell_type": "code",
   "execution_count": 168,
   "id": "527e64b9",
   "metadata": {},
   "outputs": [
    {
     "name": "stdout",
     "output_type": "stream",
     "text": [
      "[10, 70, 4]\n",
      "[10, 70, 4]\n"
     ]
    }
   ],
   "source": [
    "# you have a list of numbers. you have to save it inot another list using loops such that only POSITIVE numbers are there\n",
    "\n",
    "inputList = [10 , -6 , 70 , 4 , -14]\n",
    "myList = []\n",
    "for i in inputList : \n",
    "    if i > 0 : \n",
    "        myList.append( i )\n",
    "print( myList )\n",
    "\n",
    "myList = [ i for i in inputList if i > 0  ]\n",
    "print( myList )\n",
    "\n"
   ]
  },
  {
   "cell_type": "code",
   "execution_count": 174,
   "id": "729b5614",
   "metadata": {},
   "outputs": [
    {
     "name": "stdout",
     "output_type": "stream",
     "text": [
      "[10, 70, 4]\n",
      "[10, 70, 4]\n"
     ]
    }
   ],
   "source": [
    "# you have a list of numbers. you have to save it inot another list using loops such that only POSITIVE numbers are there\n",
    "\n",
    "inputList = [10 , -6 , 70 , 4 , -14]\n",
    "myList = []\n",
    "for i in range( len(inputList) ) : \n",
    "    if inputList[i] > 0 : \n",
    "        myList.append( inputList[i] )\n",
    "print( myList )\n",
    "\n",
    "myList = [ inputList[i] for i in range(len(inputList)) if inputList[i] > 0  ]\n",
    "print( myList )\n",
    "\n",
    "\n",
    "# myList = [ inputList[i] if inputList[i] > 0  for i in range(len(inputList))  ]\n",
    "# print( myList )\n"
   ]
  },
  {
   "cell_type": "code",
   "execution_count": 170,
   "id": "edb4129d",
   "metadata": {},
   "outputs": [
    {
     "name": "stdout",
     "output_type": "stream",
     "text": [
      "[2.302585092994046, 36.0, 4.248495242049359, 1.3862943611198906, 196.0]\n"
     ]
    }
   ],
   "source": [
    "# you have a list of numbers. you have to save it inot another list using loops\n",
    "# such that, positive numbers log is taken and negative numbers square is taken\n",
    "\n",
    "import math\n",
    "inputList = [10 , -6 , 70 , 4 , -14]\n",
    "myList = []\n",
    "\n",
    "for i in inputList : \n",
    "    if i < 0 : \n",
    "        myList.append( math.pow(i, 2) )\n",
    "    else : \n",
    "        myList.append( math.log(i) )\n",
    "\n",
    "print( myList )"
   ]
  },
  {
   "cell_type": "code",
   "execution_count": 171,
   "id": "fc673b21",
   "metadata": {},
   "outputs": [
    {
     "name": "stdout",
     "output_type": "stream",
     "text": [
      "[2.302585092994046, 36.0, 4.248495242049359, 1.3862943611198906, 196.0]\n"
     ]
    }
   ],
   "source": [
    "# you have a list of numbers. you have to save it inot another list using List Comprehension\n",
    "# such that, positive numbers log is taken and negative numbers square is taken\n",
    "\n",
    "import math\n",
    "inputList = [10 , -6 , 70 , 4 , -14]\n",
    "myList = [ math.pow(i, 2) if i < 0 else math.log(i) for i in inputList ]\n",
    "print( myList )"
   ]
  },
  {
   "cell_type": "code",
   "execution_count": 172,
   "id": "f9732186",
   "metadata": {},
   "outputs": [
    {
     "ename": "SyntaxError",
     "evalue": "invalid syntax (2834286947.py, line 6)",
     "output_type": "error",
     "traceback": [
      "\u001b[1;36m  File \u001b[1;32m\"C:\\Users\\Nitish\\AppData\\Local\\Temp\\ipykernel_6340\\2834286947.py\"\u001b[1;36m, line \u001b[1;32m6\u001b[0m\n\u001b[1;33m    myList = [ math.pow(i, 2) for i in inputList if i < 0 else math.log(i)  ]\u001b[0m\n\u001b[1;37m                                                          ^\u001b[0m\n\u001b[1;31mSyntaxError\u001b[0m\u001b[1;31m:\u001b[0m invalid syntax\n"
     ]
    }
   ],
   "source": [
    "### ERROR\n",
    "\n",
    "# you have a list of numbers. you have to save it inot another list using List Comprehension\n",
    "# such that, positive numbers log is taken and negative numbers square is taken\n",
    "\n",
    "import math\n",
    "inputList = [10 , -6 , 70 , 4 , -14]\n",
    "myList = [ math.pow(i, 2) for i in inputList if i < 0 else math.log(i)  ]\n",
    "print( myList )"
   ]
  },
  {
   "cell_type": "code",
   "execution_count": null,
   "id": "6b79e2ce",
   "metadata": {},
   "outputs": [],
   "source": [
    "# input : \n",
    "fruit = [ \"apple\", \"CustARD Apple\", \" ManGO   \", \"   kiWI\", \" pineAPPLE  \" ]\n",
    "\n",
    "# output : \n",
    "fruit = [ \"apple\", \"CustARD Apple\",\" pineAPPLE  \" ]\n",
    "\n",
    "# extracting only fruits containing apple"
   ]
  },
  {
   "cell_type": "code",
   "execution_count": null,
   "id": "e1f9192e",
   "metadata": {},
   "outputs": [],
   "source": [
    "# input : \n",
    "fruit = [ \"apple\", \"CustARD Apple\", \" ManGO   \", \"   kiWI\", \" pineAPPLE  \" ]\n",
    "\n",
    "# output : \n",
    "fruit = [ \"APPLE\", \"CUSTARD APPLE\", \"mango\", \"kiwi\", \"PINEAPPLE\" ]\n",
    "\n",
    "# if apple is there then uppercase + strip else lowercase + strip"
   ]
  },
  {
   "cell_type": "code",
   "execution_count": null,
   "id": "841a8d88",
   "metadata": {},
   "outputs": [],
   "source": []
  },
  {
   "cell_type": "code",
   "execution_count": null,
   "id": "675756b8",
   "metadata": {},
   "outputs": [],
   "source": []
  },
  {
   "cell_type": "code",
   "execution_count": null,
   "id": "205bcff4",
   "metadata": {},
   "outputs": [],
   "source": []
  },
  {
   "cell_type": "code",
   "execution_count": null,
   "id": "439ab156",
   "metadata": {},
   "outputs": [],
   "source": []
  },
  {
   "cell_type": "code",
   "execution_count": null,
   "id": "780d6d56",
   "metadata": {},
   "outputs": [],
   "source": []
  }
 ],
 "metadata": {
  "kernelspec": {
   "display_name": "Python 3 (ipykernel)",
   "language": "python",
   "name": "python3"
  },
  "language_info": {
   "codemirror_mode": {
    "name": "ipython",
    "version": 3
   },
   "file_extension": ".py",
   "mimetype": "text/x-python",
   "name": "python",
   "nbconvert_exporter": "python",
   "pygments_lexer": "ipython3",
   "version": "3.10.9"
  }
 },
 "nbformat": 4,
 "nbformat_minor": 5
}
