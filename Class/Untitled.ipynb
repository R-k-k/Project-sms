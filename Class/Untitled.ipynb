{
 "cells": [
  {
   "cell_type": "code",
   "execution_count": null,
   "id": "7cb9d3df",
   "metadata": {},
   "outputs": [],
   "source": [
    "for i in range(5):\n",
    "    fruits= input('enter the fruits Name ==>')\n",
    "    print(f\"fruits name taken as input = {fruits.strip()}\")\n",
    "        "
   ]
  },
  {
   "cell_type": "code",
   "execution_count": null,
   "id": "83946aab",
   "metadata": {},
   "outputs": [
    {
     "name": "stdout",
     "output_type": "stream",
     "text": [
      "enter the fruits Name ==>   Apple\n",
      "fruits name taken as input = Apple\n",
      "enter the fruits Name ==>                             Apple\n",
      "fruits name taken as input = Apple\n"
     ]
    }
   ],
   "source": [
    "for i in range(5):\n",
    "    fruits= input('enter the fruits Name ==>')\n",
    "    print(f\"fruits name taken as input = {fruits.strip()}\")"
   ]
  },
  {
   "cell_type": "code",
   "execution_count": 23,
   "id": "0b325025",
   "metadata": {},
   "outputs": [
    {
     "name": "stdout",
     "output_type": "stream",
     "text": [
      "100\n"
     ]
    }
   ],
   "source": [
    "#Write a Python program to find the sum of all elements in a list using loop.\n",
    "#Input:- [10,20,30,40]\n",
    "#Output:- 100\n",
    "\n",
    "numb = [10,20,30,40]\n",
    "total = 0\n",
    "for i in numb : \n",
    "    total = total+i\n",
    "\n",
    "print( total )"
   ]
  },
  {
   "cell_type": "code",
   "execution_count": 25,
   "id": "a3831530",
   "metadata": {},
   "outputs": [
    {
     "name": "stdout",
     "output_type": "stream",
     "text": [
      "240000\n"
     ]
    }
   ],
   "source": [
    "#Write a Python program to find the multiplication of all elements in a list using loop.\n",
    "#Input:- [10,20,30,40]\n",
    "#Output:- 240000\n",
    "\n",
    "numb = [10,20,30,40]\n",
    "total = 1\n",
    "for i in numb : \n",
    "    total = total*i\n",
    "\n",
    "print( total )"
   ]
  },
  {
   "cell_type": "code",
   "execution_count": 31,
   "id": "9bb672e8",
   "metadata": {},
   "outputs": [
    {
     "name": "stdout",
     "output_type": "stream",
     "text": [
      "the max_value in the given list :2321\n"
     ]
    }
   ],
   "source": [
    "#Write a Python program to find the largest number from a list using loop.\n",
    "#Input:- [10,100,2321, 1,200,2]\n",
    "#Output:- 2321\n",
    "\n",
    "values = [10,100,2321, 1,200,2]\n",
    "max_value= values[0]\n",
    "for i in range(len(values)):\n",
    "    if max_value<values[i]:\n",
    "        max_value=values[i]\n",
    "print(f\"the max_value in the given list :{max_value}\")\n",
    "        "
   ]
  },
  {
   "cell_type": "code",
   "execution_count": 32,
   "id": "a8215abf",
   "metadata": {},
   "outputs": [
    {
     "name": "stdout",
     "output_type": "stream",
     "text": [
      "the min_value in the given list :1\n"
     ]
    }
   ],
   "source": [
    "#Write a Python program to find the smallest number from a list using loop.\n",
    "#Input:- [10,100,2321, 1,200,2]\n",
    "#Output:- 1\n",
    "\n",
    "values = [10,100,2321, 1,200,2]\n",
    "min_value= values[0]\n",
    "for i in range(len(values)):\n",
    "    if min_value>values[i]:\n",
    "        min_value=values[i]\n",
    "print(f\"the min_value in the given list :{min_value}\")\n",
    "        \n"
   ]
  },
  {
   "cell_type": "code",
   "execution_count": 39,
   "id": "4009f4d2",
   "metadata": {},
   "outputs": [
    {
     "name": "stdout",
     "output_type": "stream",
     "text": [
      "2\n"
     ]
    }
   ],
   "source": [
    "#Write a Python program to count the number of strings having length more than 2 and are palindrome in a list using loop.\n",
    "#Input:- ['ab', 'abc', 'aba', 'xyz', '1991']\n",
    "#Output:- 2\n",
    "\n",
    "Input= ['ab', 'abc', 'aba', 'xyz', '1991']\n",
    "count=0\n",
    "for i in Input:\n",
    "    if len(i)>2 and i[ : :1]==i[ : :-1]:\n",
    "        count=count+1\n",
    "    \n",
    "print(count)"
   ]
  },
  {
   "cell_type": "code",
   "execution_count": 42,
   "id": "0346f6cc",
   "metadata": {},
   "outputs": [
    {
     "ename": "TypeError",
     "evalue": "bad operand type for unary -: 'list'",
     "output_type": "error",
     "traceback": [
      "\u001b[1;31m---------------------------------------------------------------------------\u001b[0m",
      "\u001b[1;31mTypeError\u001b[0m                                 Traceback (most recent call last)",
      "Cell \u001b[1;32mIn[42], line 5\u001b[0m\n\u001b[0;32m      1\u001b[0m \u001b[38;5;66;03m#Write a Python program to sort a list in ascending order using loop.\u001b[39;00m\n\u001b[0;32m      2\u001b[0m \u001b[38;5;66;03m#Input:- [100,10,1,298,65,483,49876,2,80,9,9213]\u001b[39;00m\n\u001b[0;32m      3\u001b[0m \u001b[38;5;66;03m#Output:- [1,2,9,10,65,80,100,298,483,9213,49876]\u001b[39;00m\n\u001b[1;32m----> 5\u001b[0m Input:\u001b[38;5;241;43m-\u001b[39;49m\u001b[43m \u001b[49m\u001b[43m[\u001b[49m\u001b[38;5;241;43m100\u001b[39;49m\u001b[43m,\u001b[49m\u001b[38;5;241;43m10\u001b[39;49m\u001b[43m,\u001b[49m\u001b[38;5;241;43m1\u001b[39;49m\u001b[43m,\u001b[49m\u001b[38;5;241;43m298\u001b[39;49m\u001b[43m,\u001b[49m\u001b[38;5;241;43m65\u001b[39;49m\u001b[43m,\u001b[49m\u001b[38;5;241;43m483\u001b[39;49m\u001b[43m,\u001b[49m\u001b[38;5;241;43m49876\u001b[39;49m\u001b[43m,\u001b[49m\u001b[38;5;241;43m2\u001b[39;49m\u001b[43m,\u001b[49m\u001b[38;5;241;43m80\u001b[39;49m\u001b[43m,\u001b[49m\u001b[38;5;241;43m9\u001b[39;49m\u001b[43m,\u001b[49m\u001b[38;5;241;43m9213\u001b[39;49m\u001b[43m]\u001b[49m\n\u001b[0;32m      7\u001b[0m \u001b[38;5;28mprint\u001b[39m(Input\u001b[38;5;241m.\u001b[39msort())\n",
      "\u001b[1;31mTypeError\u001b[0m: bad operand type for unary -: 'list'"
     ]
    }
   ],
   "source": [
    "#Write a Python program to sort a list in ascending order using loop.\n",
    "#Input:- [100,10,1,298,65,483,49876,2,80,9,9213]\n",
    "#Output:- [1,2,9,10,65,80,100,298,483,9213,49876]\n",
    "\n",
    "Input:- [100,10,1,298,65,483,49876,2,80,9,9213]\n",
    "    \n",
    "print(Input.sort())"
   ]
  },
  {
   "cell_type": "code",
   "execution_count": 43,
   "id": "c910a2d6",
   "metadata": {},
   "outputs": [
    {
     "name": "stdout",
     "output_type": "stream",
     "text": [
      "write fruit Name : Apple\n"
     ]
    },
    {
     "ename": "TypeError",
     "evalue": "'<' not supported between instances of 'str' and 'int'",
     "output_type": "error",
     "traceback": [
      "\u001b[1;31m---------------------------------------------------------------------------\u001b[0m",
      "\u001b[1;31mTypeError\u001b[0m                                 Traceback (most recent call last)",
      "Cell \u001b[1;32mIn[43], line 9\u001b[0m\n\u001b[0;32m      3\u001b[0m \u001b[38;5;124;03m'''\u001b[39;00m\n\u001b[0;32m      4\u001b[0m \u001b[38;5;124;03mfor i in range(1, 6) : # 1 2 3 4 5\u001b[39;00m\n\u001b[0;32m      5\u001b[0m \u001b[38;5;124;03m    fruit = input(\"Write Fruit Name : \").strip()\u001b[39;00m\n\u001b[0;32m      6\u001b[0m \u001b[38;5;124;03m    print( f\"{fruit.title()} has length {len(fruit)}\" )\u001b[39;00m\n\u001b[0;32m      7\u001b[0m \u001b[38;5;124;03m'''\u001b[39;00m\n\u001b[0;32m      8\u001b[0m i \u001b[38;5;241m=\u001b[39m\u001b[38;5;28minput\u001b[39m(\u001b[38;5;124m\"\u001b[39m\u001b[38;5;124mwrite fruit Name : \u001b[39m\u001b[38;5;124m\"\u001b[39m)\u001b[38;5;241m.\u001b[39mstrip()\n\u001b[1;32m----> 9\u001b[0m \u001b[38;5;28;01mwhile\u001b[39;00m \u001b[43mi\u001b[49m\u001b[43m \u001b[49m\u001b[38;5;241;43m<\u001b[39;49m\u001b[43m \u001b[49m\u001b[38;5;241;43m5\u001b[39;49m : \n\u001b[0;32m     10\u001b[0m     \u001b[38;5;28mprint\u001b[39m(i)\n\u001b[0;32m     11\u001b[0m     i \u001b[38;5;241m=\u001b[39m i \u001b[38;5;241m+\u001b[39m \u001b[38;5;241m1\u001b[39m\n",
      "\u001b[1;31mTypeError\u001b[0m: '<' not supported between instances of 'str' and 'int'"
     ]
    }
   ],
   "source": [
    "# take the fruit name 5 times\n",
    "\n",
    "'''\n",
    "for i in range(1, 6) : # 1 2 3 4 5\n",
    "    fruit = input(\"Write Fruit Name : \").strip()\n",
    "    print( f\"{fruit.title()} has length {len(fruit)}\" )\n",
    "'''\n",
    "i =input(\"write fruit Name : \").strip()\n",
    "while i < 5 : \n",
    "    print(i)\n",
    "    i = i + 1"
   ]
  },
  {
   "cell_type": "code",
   "execution_count": null,
   "id": "f0818066",
   "metadata": {},
   "outputs": [],
   "source": [
    "*****\n",
    "****\n",
    "***\n",
    "**\n",
    "*\n",
    "\n",
    "for s in range(5, 0, -1) : # 5 4 3 2 1\n",
    "    print(s * \"*\")\n",
    "    \n",
    "    "
   ]
  },
  {
   "cell_type": "code",
   "execution_count": null,
   "id": "db305a5d",
   "metadata": {},
   "outputs": [],
   "source": [
    "Display all the positive values and stop if any negative values comes up\n",
    "listName = [10, 25, 47, -54 , 23 , -11, 70]\n",
    "\n",
    "for i in range(len(listName)) : \n",
    "    if listName[i] < 0 : \n",
    "        print(\"Its Negative\")\n",
    "        break\n",
    "        print(\".............. ENDING.........\")\n",
    "    else : \n",
    "        print(f\"Position : {i}, Value : {listName[i]}\")"
   ]
  },
  {
   "cell_type": "code",
   "execution_count": 51,
   "id": "658cd5f1",
   "metadata": {},
   "outputs": [
    {
     "ename": "SyntaxError",
     "evalue": "expected 'else' after 'if' expression (377234969.py, line 1)",
     "output_type": "error",
     "traceback": [
      "\u001b[1;36m  Cell \u001b[1;32mIn[51], line 1\u001b[1;36m\u001b[0m\n\u001b[1;33m    Display all the positive values and stop if any negative values comes up\u001b[0m\n\u001b[1;37m                             ^\u001b[0m\n\u001b[1;31mSyntaxError\u001b[0m\u001b[1;31m:\u001b[0m expected 'else' after 'if' expression\n"
     ]
    }
   ],
   "source": [
    "Display all the positive values and stop if any negative values comes up\n",
    "listName = [10, 25, 47, -54 , 23 , -11, 70]\n",
    " \n",
    "i=0\n",
    "while i < len(listName):\n",
    "    if listName[i]<0:\n",
    "        break\n",
    "    else : \n",
    "        print(f\"Position : {i}, Value : {listName[i]}\")\n",
    "        i=i+1"
   ]
  },
  {
   "cell_type": "code",
   "execution_count": null,
   "id": "5185eab9",
   "metadata": {},
   "outputs": [],
   "source": [
    "while True : \n",
    "    \n",
    "    Statements\n",
    "    Statements\n",
    "    value = input()\n",
    "    \n",
    "    if expresssion : ########### value\n",
    "        break\n",
    "    \n",
    "    Statements\n",
    "    Statements"
   ]
  },
  {
   "cell_type": "code",
   "execution_count": 55,
   "id": "6a238b8e",
   "metadata": {},
   "outputs": [
    {
     "name": "stdout",
     "output_type": "stream",
     "text": [
      "Enter the employee name : asdjf\n",
      " Name--------> asdjf\n",
      "Enter the employee name : asldkjl\n",
      " Name--------> asldkjl\n",
      "Enter the employee name : qq\n"
     ]
    }
   ],
   "source": [
    "while True : \n",
    "    \n",
    "    Employee = input(\"Enter the employee name : \")\n",
    "    if Employee.strip().lower() ==\"qq\":\n",
    "        break\n",
    "        \n",
    "\n",
    "    print(f\" Name--------> {Employee}\")"
   ]
  },
  {
   "cell_type": "code",
   "execution_count": null,
   "id": "82079a77",
   "metadata": {},
   "outputs": [],
   "source": []
  },
  {
   "cell_type": "code",
   "execution_count": 58,
   "id": "cdec750b",
   "metadata": {},
   "outputs": [
    {
     "ename": "IndentationError",
     "evalue": "unexpected indent (1086130803.py, line 7)",
     "output_type": "error",
     "traceback": [
      "\u001b[1;36m  Cell \u001b[1;32mIn[58], line 7\u001b[1;36m\u001b[0m\n\u001b[1;33m    break\u001b[0m\n\u001b[1;37m    ^\u001b[0m\n\u001b[1;31mIndentationError\u001b[0m\u001b[1;31m:\u001b[0m unexpected indent\n"
     ]
    }
   ],
   "source": [
    " mylist=[]\n",
    "while True : \n",
    "    \n",
    "    Employee = input(\"Enter the employee name : \")\n",
    "    if len(Employee)==5:\n",
    "        mylist.append()\n",
    "         break\n",
    "        print(\"stopped\")\n",
    "   \n",
    "print(mylist)"
   ]
  },
  {
   "cell_type": "code",
   "execution_count": null,
   "id": "2e65ca5e",
   "metadata": {},
   "outputs": [],
   "source": [
    "0,   1,   1\n",
    "num1 num2 nextNumber\n",
    "     num1 num2"
   ]
  },
  {
   "cell_type": "code",
   "execution_count": 5,
   "id": "627d594e",
   "metadata": {},
   "outputs": [
    {
     "name": "stdout",
     "output_type": "stream",
     "text": [
      "0\n",
      "1\n",
      "1\n",
      "2\n",
      "3\n",
      "5\n",
      "8\n",
      "13\n",
      "21\n",
      "34\n"
     ]
    }
   ],
   "source": [
    "#fibinocci series\n",
    "\n",
    "num1 = 0\n",
    "num2 = 1\n",
    "upperRange = 10\n",
    "print(num1)\n",
    "print(num2)\n",
    "for i in range ( upperRange - 2):\n",
    "    nextnum= num1 + num2\n",
    "    print(nextnum)\n",
    "    num1 = num2\n",
    "    num2 = nextnum\n"
   ]
  },
  {
   "cell_type": "code",
   "execution_count": 11,
   "id": "790208d5",
   "metadata": {},
   "outputs": [
    {
     "name": "stdout",
     "output_type": "stream",
     "text": [
      "1\n",
      "2\n",
      "3\n",
      "4\n",
      "5\n"
     ]
    }
   ],
   "source": [
    "for i in range (1,numberr+1)\n"
   ]
  },
  {
   "cell_type": "code",
   "execution_count": 19,
   "id": "e88c1e17",
   "metadata": {},
   "outputs": [
    {
     "name": "stdout",
     "output_type": "stream",
     "text": [
      "Enter the number : 10\n",
      "factorial number of 1 : 1\n",
      "factorial number of 2 : 2\n",
      "factorial number of 3 : 6\n",
      "factorial number of 4 : 24\n",
      "factorial number of 5 : 120\n",
      "factorial number of 6 : 720\n",
      "factorial number of 7 : 5040\n",
      "factorial number of 8 : 40320\n",
      "factorial number of 9 : 362880\n",
      "factorial number of 10 : 3628800\n"
     ]
    }
   ],
   "source": [
    "number = int(input(\"Enter the number : \"))\n",
    "\n",
    "finalAnswer = 1\n",
    "for i in range(1,number+1):\n",
    "    finalAnswer= finalAnswer*i\n",
    "    print(f\"factorial number of {i} : {finalAnswer}\")"
   ]
  },
  {
   "cell_type": "code",
   "execution_count": 24,
   "id": "e1c2016c",
   "metadata": {},
   "outputs": [
    {
     "name": "stdout",
     "output_type": "stream",
     "text": [
      "Prime Number\n",
      "Prime Number\n",
      "Prime Number\n",
      "Not a prime\n"
     ]
    }
   ],
   "source": [
    "number = 25\n",
    "\n",
    "\n",
    "for divisor in range (2,number-1):\n",
    "    if number%divisor==0:\n",
    "        print('Not a prime')\n",
    "        break\n",
    "    else:\n",
    "        print('Prime Number')"
   ]
  },
  {
   "cell_type": "code",
   "execution_count": 26,
   "id": "e690e008",
   "metadata": {},
   "outputs": [
    {
     "name": "stdout",
     "output_type": "stream",
     "text": [
      "NOT PRIME\n"
     ]
    }
   ],
   "source": [
    "number = 26\n",
    "\n",
    "\n",
    "dummyVariable = True  # Hypothesis : \n",
    "\n",
    "for divisor in range(2, number - 1) : \n",
    "    if number % divisor == 0 : \n",
    "#         print(\"Not A Prime\")\n",
    "        dummyVariable = False  # Ultimate solution before BREAKING out\n",
    "        break\n",
    "    else : \n",
    "#         print(\"PRime Number\")\n",
    "        dummyVariable = True # 3 times\n",
    "\n",
    "\n",
    "if dummyVariable : # True\n",
    "    print(\"Number is a Prime Number\")\n",
    "else :  # False\n",
    "    print(\"NOT PRIME\")"
   ]
  },
  {
   "cell_type": "code",
   "execution_count": 33,
   "id": "00a4da9e",
   "metadata": {},
   "outputs": [
    {
     "name": "stdout",
     "output_type": "stream",
     "text": [
      "0.7877471351928417\n",
      "0.6923160211051188\n",
      "0.28586057033361456\n"
     ]
    }
   ],
   "source": [
    "import random\n",
    "\n",
    "print(random.random())\n",
    "print(random.random())\n",
    "print(random.random())"
   ]
  },
  {
   "cell_type": "code",
   "execution_count": 39,
   "id": "e6019391",
   "metadata": {},
   "outputs": [
    {
     "name": "stdout",
     "output_type": "stream",
     "text": [
      "8\n",
      "5\n"
     ]
    }
   ],
   "source": [
    "import random\n",
    "\n",
    "random.seed(50)\n",
    "print(random.randint(1,10))\n",
    "print(random.randint(1,10))"
   ]
  }
 ],
 "metadata": {
  "kernelspec": {
   "display_name": "Python 3 (ipykernel)",
   "language": "python",
   "name": "python3"
  },
  "language_info": {
   "codemirror_mode": {
    "name": "ipython",
    "version": 3
   },
   "file_extension": ".py",
   "mimetype": "text/x-python",
   "name": "python",
   "nbconvert_exporter": "python",
   "pygments_lexer": "ipython3",
   "version": "3.10.9"
  }
 },
 "nbformat": 4,
 "nbformat_minor": 5
}
