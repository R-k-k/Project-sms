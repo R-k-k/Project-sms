{
 "cells": [
  {
   "cell_type": "markdown",
   "id": "971f34eb",
   "metadata": {},
   "source": [
    "## Sets\n",
    "\n",
    "- collection of UNQIUE heterogeneous elements\n",
    "- set()\n",
    "- {''} , {a, b, 10 , False}\n",
    "- Unordered -> You cannot access any element with positions\n",
    "- Set is a Mutable object, but elements written inside are immutable\n",
    "\n",
    "\n",
    "#### Application : \n",
    "- unique elements inside the sequence\n",
    "- set operations : intersection, union, difference, symmetric difference\n",
    "- set operations : superset and subset\n"
   ]
  },
  {
   "cell_type": "code",
   "execution_count": 1,
   "id": "d0b0d041",
   "metadata": {},
   "outputs": [
    {
     "data": {
      "text/plain": [
       "set"
      ]
     },
     "execution_count": 1,
     "metadata": {},
     "output_type": "execute_result"
    }
   ],
   "source": [
    "s1 = {\"\"}\n",
    "type(s1)"
   ]
  },
  {
   "cell_type": "code",
   "execution_count": 3,
   "id": "68cffb56",
   "metadata": {},
   "outputs": [
    {
     "data": {
      "text/plain": [
       "{10, False, 'a', 'b'}"
      ]
     },
     "execution_count": 3,
     "metadata": {},
     "output_type": "execute_result"
    }
   ],
   "source": [
    "s1 = {\"a\", \"b\", 10, False}\n",
    "type(s1)\n",
    "s1"
   ]
  },
  {
   "cell_type": "code",
   "execution_count": 4,
   "id": "508f3f85",
   "metadata": {},
   "outputs": [
    {
     "data": {
      "text/plain": [
       "{10, False, 'a', 'b'}"
      ]
     },
     "execution_count": 4,
     "metadata": {},
     "output_type": "execute_result"
    }
   ],
   "source": [
    "s1 = {\"a\", \"b\", 10, 10, False, \"a\", False, \"a\", 10, 10, 10}\n",
    "type(s1)\n",
    "s1"
   ]
  },
  {
   "cell_type": "code",
   "execution_count": 6,
   "id": "baaadead",
   "metadata": {},
   "outputs": [
    {
     "name": "stdout",
     "output_type": "stream",
     "text": [
      "{False, -6.5, 1j, 10, 'Hello'}\n"
     ]
    }
   ],
   "source": [
    "s2 = { 10, -6.5, 1j, False, \"Hello\" }\n",
    "print(s2)"
   ]
  },
  {
   "cell_type": "code",
   "execution_count": 7,
   "id": "f25afc56",
   "metadata": {},
   "outputs": [
    {
     "name": "stdout",
     "output_type": "stream",
     "text": [
      "{False, -6.5, 1j, 10, 'Hello', (10, 20)}\n"
     ]
    }
   ],
   "source": [
    "s2 = { 10, -6.5, 1j, False, \"Hello\", (10, 20) }\n",
    "print(s2)"
   ]
  },
  {
   "cell_type": "code",
   "execution_count": 9,
   "id": "278c5ccd",
   "metadata": {},
   "outputs": [
    {
     "ename": "TypeError",
     "evalue": "unhashable type: 'set'",
     "output_type": "error",
     "traceback": [
      "\u001b[1;31m---------------------------------------------------------------------------\u001b[0m",
      "\u001b[1;31mTypeError\u001b[0m                                 Traceback (most recent call last)",
      "\u001b[1;32m~\\AppData\\Local\\Temp\\ipykernel_21544\\2641332109.py\u001b[0m in \u001b[0;36m<module>\u001b[1;34m\u001b[0m\n\u001b[1;32m----> 1\u001b[1;33m \u001b[0ms2\u001b[0m \u001b[1;33m=\u001b[0m \u001b[1;33m{\u001b[0m \u001b[1;36m10\u001b[0m\u001b[1;33m,\u001b[0m \u001b[1;33m-\u001b[0m\u001b[1;36m6.5\u001b[0m\u001b[1;33m,\u001b[0m \u001b[1;36m1j\u001b[0m\u001b[1;33m,\u001b[0m \u001b[1;32mFalse\u001b[0m\u001b[1;33m,\u001b[0m \u001b[1;34m\"Hello\"\u001b[0m\u001b[1;33m,\u001b[0m \u001b[1;33m(\u001b[0m\u001b[1;36m10\u001b[0m\u001b[1;33m,\u001b[0m \u001b[1;36m20\u001b[0m\u001b[1;33m)\u001b[0m\u001b[1;33m,\u001b[0m \u001b[1;33m{\u001b[0m\u001b[1;36m1\u001b[0m\u001b[1;33m,\u001b[0m \u001b[1;36m2\u001b[0m\u001b[1;33m,\u001b[0m \u001b[1;36m3\u001b[0m\u001b[1;33m}\u001b[0m \u001b[1;33m}\u001b[0m\u001b[1;33m\u001b[0m\u001b[1;33m\u001b[0m\u001b[0m\n\u001b[0m\u001b[0;32m      2\u001b[0m \u001b[0mprint\u001b[0m\u001b[1;33m(\u001b[0m\u001b[0ms2\u001b[0m\u001b[1;33m)\u001b[0m\u001b[1;33m\u001b[0m\u001b[1;33m\u001b[0m\u001b[0m\n",
      "\u001b[1;31mTypeError\u001b[0m: unhashable type: 'set'"
     ]
    }
   ],
   "source": [
    "s2 = { 10, -6.5, 1j, False, \"Hello\", (10, 20), {1, 2, 3} }\n",
    "print(s2)"
   ]
  },
  {
   "cell_type": "code",
   "execution_count": 10,
   "id": "47ed95b6",
   "metadata": {},
   "outputs": [
    {
     "ename": "TypeError",
     "evalue": "unhashable type: 'list'",
     "output_type": "error",
     "traceback": [
      "\u001b[1;31m---------------------------------------------------------------------------\u001b[0m",
      "\u001b[1;31mTypeError\u001b[0m                                 Traceback (most recent call last)",
      "\u001b[1;32m~\\AppData\\Local\\Temp\\ipykernel_21544\\1062504718.py\u001b[0m in \u001b[0;36m<module>\u001b[1;34m\u001b[0m\n\u001b[1;32m----> 1\u001b[1;33m \u001b[0ms2\u001b[0m \u001b[1;33m=\u001b[0m \u001b[1;33m{\u001b[0m \u001b[1;36m10\u001b[0m\u001b[1;33m,\u001b[0m \u001b[1;33m-\u001b[0m\u001b[1;36m6.5\u001b[0m\u001b[1;33m,\u001b[0m \u001b[1;36m1j\u001b[0m\u001b[1;33m,\u001b[0m \u001b[1;32mFalse\u001b[0m\u001b[1;33m,\u001b[0m \u001b[1;34m\"Hello\"\u001b[0m\u001b[1;33m,\u001b[0m \u001b[1;33m(\u001b[0m\u001b[1;36m10\u001b[0m\u001b[1;33m,\u001b[0m \u001b[1;36m20\u001b[0m\u001b[1;33m)\u001b[0m\u001b[1;33m,\u001b[0m \u001b[1;33m[\u001b[0m\u001b[1;36m1\u001b[0m\u001b[1;33m,\u001b[0m \u001b[1;36m2\u001b[0m\u001b[1;33m,\u001b[0m \u001b[1;36m3\u001b[0m\u001b[1;33m]\u001b[0m \u001b[1;33m}\u001b[0m\u001b[1;33m\u001b[0m\u001b[1;33m\u001b[0m\u001b[0m\n\u001b[0m\u001b[0;32m      2\u001b[0m \u001b[0mprint\u001b[0m\u001b[1;33m(\u001b[0m\u001b[0ms2\u001b[0m\u001b[1;33m)\u001b[0m\u001b[1;33m\u001b[0m\u001b[1;33m\u001b[0m\u001b[0m\n",
      "\u001b[1;31mTypeError\u001b[0m: unhashable type: 'list'"
     ]
    }
   ],
   "source": [
    "s2 = { 10, -6.5, 1j, False, \"Hello\", (10, 20), [1, 2, 3] }\n",
    "print(s2)"
   ]
  },
  {
   "cell_type": "code",
   "execution_count": 11,
   "id": "e99dcd77",
   "metadata": {},
   "outputs": [
    {
     "ename": "TypeError",
     "evalue": "unhashable type: 'dict'",
     "output_type": "error",
     "traceback": [
      "\u001b[1;31m---------------------------------------------------------------------------\u001b[0m",
      "\u001b[1;31mTypeError\u001b[0m                                 Traceback (most recent call last)",
      "\u001b[1;32m~\\AppData\\Local\\Temp\\ipykernel_21544\\1596569614.py\u001b[0m in \u001b[0;36m<module>\u001b[1;34m\u001b[0m\n\u001b[1;32m----> 1\u001b[1;33m \u001b[0ms2\u001b[0m \u001b[1;33m=\u001b[0m \u001b[1;33m{\u001b[0m \u001b[1;36m10\u001b[0m\u001b[1;33m,\u001b[0m \u001b[1;33m-\u001b[0m\u001b[1;36m6.5\u001b[0m\u001b[1;33m,\u001b[0m \u001b[1;36m1j\u001b[0m\u001b[1;33m,\u001b[0m \u001b[1;32mFalse\u001b[0m\u001b[1;33m,\u001b[0m \u001b[1;34m\"Hello\"\u001b[0m\u001b[1;33m,\u001b[0m \u001b[1;33m(\u001b[0m\u001b[1;36m10\u001b[0m\u001b[1;33m,\u001b[0m \u001b[1;36m20\u001b[0m\u001b[1;33m)\u001b[0m\u001b[1;33m,\u001b[0m \u001b[1;33m{\u001b[0m\u001b[1;36m1\u001b[0m \u001b[1;33m:\u001b[0m \u001b[1;36m100\u001b[0m\u001b[1;33m,\u001b[0m \u001b[1;36m2\u001b[0m \u001b[1;33m:\u001b[0m \u001b[1;36m200\u001b[0m\u001b[1;33m}\u001b[0m \u001b[1;33m}\u001b[0m\u001b[1;33m\u001b[0m\u001b[1;33m\u001b[0m\u001b[0m\n\u001b[0m\u001b[0;32m      2\u001b[0m \u001b[0mprint\u001b[0m\u001b[1;33m(\u001b[0m\u001b[0ms2\u001b[0m\u001b[1;33m)\u001b[0m\u001b[1;33m\u001b[0m\u001b[1;33m\u001b[0m\u001b[0m\n",
      "\u001b[1;31mTypeError\u001b[0m: unhashable type: 'dict'"
     ]
    }
   ],
   "source": [
    "s2 = { 10, -6.5, 1j, False, \"Hello\", (10, 20), {1 : 100, 2 : 200} }\n",
    "print(s2)"
   ]
  },
  {
   "cell_type": "code",
   "execution_count": null,
   "id": "89dbe985",
   "metadata": {},
   "outputs": [],
   "source": []
  },
  {
   "cell_type": "markdown",
   "id": "4a26c570",
   "metadata": {},
   "source": [
    "## Basic Properties"
   ]
  },
  {
   "cell_type": "code",
   "execution_count": 13,
   "id": "2ed87c42",
   "metadata": {},
   "outputs": [
    {
     "name": "stdout",
     "output_type": "stream",
     "text": [
      "{False, -6.5, 1j, 10, 'Hello', (10, 20)}\n",
      "6\n"
     ]
    }
   ],
   "source": [
    "# 1. length : returns total unique elements\n",
    "\n",
    "setName = { 10, -6.5, 1j, False, \"Hello\", (10, 20), 10, False, 10, False }\n",
    "print(setName)\n",
    "print( len(setName)\n"
   ]
  },
  {
   "cell_type": "code",
   "execution_count": 16,
   "id": "6fc63bd9",
   "metadata": {},
   "outputs": [
    {
     "name": "stdout",
     "output_type": "stream",
     "text": [
      "[10, -6.5, 1j, False, 'Hello', (10, 20), 10, False, 10, False]\n",
      "10\n",
      "newset ::  {False, 1j, 10, (10, 20), -6.5, 'Hello'}\n",
      "newList ::  [False, 1j, 10, (10, 20), -6.5, 'Hello']\n"
     ]
    }
   ],
   "source": [
    "listName = [10, -6.5, 1j, False, \"Hello\", (10, 20), 10, False, 10, False ]\n",
    "print(listName)\n",
    "print( len(listName) )\n",
    "\n",
    "newset = set(listName)\n",
    "print(\"newset :: \", newset )\n",
    "\n",
    "newList = list( set( listName ) )\n",
    "print(\"newList :: \", newList )\n"
   ]
  },
  {
   "cell_type": "code",
   "execution_count": 18,
   "id": "345ffbc2",
   "metadata": {},
   "outputs": [
    {
     "name": "stdout",
     "output_type": "stream",
     "text": [
      "{False, -6.5, 1j, 10, 'Hello', (10, 20)}\n"
     ]
    },
    {
     "ename": "TypeError",
     "evalue": "'set' object is not subscriptable",
     "output_type": "error",
     "traceback": [
      "\u001b[1;31m---------------------------------------------------------------------------\u001b[0m",
      "\u001b[1;31mTypeError\u001b[0m                                 Traceback (most recent call last)",
      "\u001b[1;32m~\\AppData\\Local\\Temp\\ipykernel_21544\\3396543444.py\u001b[0m in \u001b[0;36m<module>\u001b[1;34m\u001b[0m\n\u001b[0;32m      5\u001b[0m \u001b[1;33m\u001b[0m\u001b[0m\n\u001b[0;32m      6\u001b[0m \u001b[1;31m# setName[3]\u001b[0m\u001b[1;33m\u001b[0m\u001b[1;33m\u001b[0m\u001b[0m\n\u001b[1;32m----> 7\u001b[1;33m \u001b[0msetName\u001b[0m\u001b[1;33m[\u001b[0m \u001b[1;36m0\u001b[0m \u001b[1;33m:\u001b[0m \u001b[1;36m5\u001b[0m\u001b[1;33m]\u001b[0m\u001b[1;33m\u001b[0m\u001b[1;33m\u001b[0m\u001b[0m\n\u001b[0m",
      "\u001b[1;31mTypeError\u001b[0m: 'set' object is not subscriptable"
     ]
    }
   ],
   "source": [
    "# 2. Index or Slice ???\n",
    "\n",
    "setName = { 10, -6.5, 1j, False, \"Hello\", (10, 20), 10, False, 10, False }\n",
    "print(setName)\n",
    "\n",
    "# setName[3]\n",
    "# setName[ 0 : 5]\n"
   ]
  },
  {
   "cell_type": "code",
   "execution_count": 19,
   "id": "5c14b78a",
   "metadata": {},
   "outputs": [
    {
     "ename": "TypeError",
     "evalue": "unsupported operand type(s) for +: 'set' and 'set'",
     "output_type": "error",
     "traceback": [
      "\u001b[1;31m---------------------------------------------------------------------------\u001b[0m",
      "\u001b[1;31mTypeError\u001b[0m                                 Traceback (most recent call last)",
      "\u001b[1;32m~\\AppData\\Local\\Temp\\ipykernel_21544\\4202320325.py\u001b[0m in \u001b[0;36m<module>\u001b[1;34m\u001b[0m\n\u001b[0;32m      1\u001b[0m \u001b[1;31m# 3. Concat ???\u001b[0m\u001b[1;33m\u001b[0m\u001b[1;33m\u001b[0m\u001b[0m\n\u001b[1;32m----> 2\u001b[1;33m \u001b[1;33m{\u001b[0m\u001b[1;36m10\u001b[0m\u001b[1;33m,\u001b[0m \u001b[1;36m20\u001b[0m\u001b[1;33m}\u001b[0m \u001b[1;33m+\u001b[0m \u001b[1;33m{\u001b[0m\u001b[1;36m20\u001b[0m \u001b[1;33m,\u001b[0m \u001b[1;36m30\u001b[0m\u001b[1;33m}\u001b[0m\u001b[1;33m\u001b[0m\u001b[1;33m\u001b[0m\u001b[0m\n\u001b[0m",
      "\u001b[1;31mTypeError\u001b[0m: unsupported operand type(s) for +: 'set' and 'set'"
     ]
    }
   ],
   "source": [
    "# 3. Concat ???\n",
    "{10, 20} + {20 , 30}\n"
   ]
  },
  {
   "cell_type": "code",
   "execution_count": 20,
   "id": "74ae1c02",
   "metadata": {},
   "outputs": [
    {
     "ename": "TypeError",
     "evalue": "unsupported operand type(s) for *: 'set' and 'int'",
     "output_type": "error",
     "traceback": [
      "\u001b[1;31m---------------------------------------------------------------------------\u001b[0m",
      "\u001b[1;31mTypeError\u001b[0m                                 Traceback (most recent call last)",
      "\u001b[1;32m~\\AppData\\Local\\Temp\\ipykernel_21544\\216264399.py\u001b[0m in \u001b[0;36m<module>\u001b[1;34m\u001b[0m\n\u001b[0;32m      1\u001b[0m \u001b[1;31m# 4. repeat\u001b[0m\u001b[1;33m\u001b[0m\u001b[1;33m\u001b[0m\u001b[0m\n\u001b[1;32m----> 2\u001b[1;33m \u001b[1;33m{\u001b[0m\u001b[1;36m10\u001b[0m\u001b[1;33m,\u001b[0m \u001b[1;36m20\u001b[0m\u001b[1;33m}\u001b[0m \u001b[1;33m*\u001b[0m \u001b[1;36m20\u001b[0m\u001b[1;33m\u001b[0m\u001b[1;33m\u001b[0m\u001b[0m\n\u001b[0m",
      "\u001b[1;31mTypeError\u001b[0m: unsupported operand type(s) for *: 'set' and 'int'"
     ]
    }
   ],
   "source": [
    "# 4. repeat \n",
    "{10, 20} * 20\n"
   ]
  },
  {
   "cell_type": "code",
   "execution_count": 21,
   "id": "66919233",
   "metadata": {},
   "outputs": [
    {
     "name": "stdout",
     "output_type": "stream",
     "text": [
      "{False, -6.5, 1j, 10, 'Hello', (10, 20)}\n",
      "True\n",
      "False\n"
     ]
    }
   ],
   "source": [
    "# 5. Memebership\n",
    "\n",
    "setName = { 10, -6.5, 1j, False, \"Hello\", (10, 20), 10, False, 10, False }\n",
    "print(setName)\n",
    "\n",
    "print( 10 in setName )\n",
    "print( \"hello\" in setName )\n"
   ]
  },
  {
   "cell_type": "code",
   "execution_count": null,
   "id": "1fd33465",
   "metadata": {},
   "outputs": [],
   "source": []
  },
  {
   "cell_type": "markdown",
   "id": "8331f2c0",
   "metadata": {},
   "source": [
    "## Set methods"
   ]
  },
  {
   "cell_type": "code",
   "execution_count": 22,
   "id": "a7408bbe",
   "metadata": {},
   "outputs": [
    {
     "name": "stdout",
     "output_type": "stream",
     "text": [
      "['__and__', '__class__', '__class_getitem__', '__contains__', '__delattr__', '__dir__', '__doc__', '__eq__', '__format__', '__ge__', '__getattribute__', '__gt__', '__hash__', '__iand__', '__init__', '__init_subclass__', '__ior__', '__isub__', '__iter__', '__ixor__', '__le__', '__len__', '__lt__', '__ne__', '__new__', '__or__', '__rand__', '__reduce__', '__reduce_ex__', '__repr__', '__ror__', '__rsub__', '__rxor__', '__setattr__', '__sizeof__', '__str__', '__sub__', '__subclasshook__', '__xor__', 'add', 'clear', 'copy', 'difference', 'difference_update', 'discard', 'intersection', 'intersection_update', 'isdisjoint', 'issubset', 'issuperset', 'pop', 'remove', 'symmetric_difference', 'symmetric_difference_update', 'union', 'update']\n"
     ]
    }
   ],
   "source": [
    "# print( dir(set) )\n",
    "\n",
    "'add', 'clear', 'copy', 'difference', '', 'discard', 'intersection', \n",
    "'symmetric_difference', 'isdisjoint', 'issubset', 'issuperset', 'pop', 'remove', \n",
    "'', '', 'union', 'update'\n",
    "\n",
    "\n",
    "#### delete from here...\n",
    "'',  '', '', '', '', \n",
    "'', '', '', '', '', '', \n",
    "'', '', '', ''\n"
   ]
  },
  {
   "cell_type": "code",
   "execution_count": 25,
   "id": "db37f822",
   "metadata": {},
   "outputs": [
    {
     "name": "stdout",
     "output_type": "stream",
     "text": [
      "{False, -6.5, 1j, 10, 'Hello', (10, 20)}\n",
      "{False, -6.5, 1j, 999, 10, 'Hello', (10, 20)}\n"
     ]
    }
   ],
   "source": [
    "# 1. add : inserting a SINGLE element to the set\n",
    "\n",
    "setName = { 10, -6.5, 1j, False, \"Hello\", (10, 20), 10, False, 10, False }\n",
    "print(setName)\n",
    "\n",
    "setName.add(999)\n",
    "print(setName)\n",
    "\n",
    "# setName.add(999, 40)\n",
    "# print(setName)\n"
   ]
  },
  {
   "cell_type": "code",
   "execution_count": 28,
   "id": "e04301e2",
   "metadata": {},
   "outputs": [
    {
     "name": "stdout",
     "output_type": "stream",
     "text": [
      "{False, -6.5, 1j, 10, 'Hello', (10, 20)}\n",
      "{False, -6.5, 1j, 999, 10, 'Hello', (10, 20)}\n",
      "{False, -6.5, 1j, 999, 10, 'Hello', (999, 40), (10, 20)}\n"
     ]
    }
   ],
   "source": [
    "# 2. update : inserting a MULTIPLE element to the set\n",
    "## Use list format to insert...\n",
    "\n",
    "setName = { 10, -6.5, 1j, False, \"Hello\", (10, 20), 10, False, 10, False }\n",
    "print(setName)\n",
    "\n",
    "setName.update([999])\n",
    "print(setName)\n",
    "\n",
    "setName.update([(999, 40)])\n",
    "print(setName)\n"
   ]
  },
  {
   "cell_type": "code",
   "execution_count": 31,
   "id": "90342827",
   "metadata": {},
   "outputs": [
    {
     "name": "stdout",
     "output_type": "stream",
     "text": [
      "False\n",
      "{-6.5, 1j, 10, 'Hello', (10, 20)}\n",
      "-6.5\n",
      "{1j, 10, 'Hello', (10, 20)}\n",
      "1j\n",
      "{10, 'Hello', (10, 20)}\n"
     ]
    }
   ],
   "source": [
    "# 3. pop : delete the random element and also return it...\n",
    "\n",
    "setName = { 10, -6.5, 1j, False, \"Hello\", (10, 20), 10, False, 10, False }\n",
    "print( setName.pop() )\n",
    "print(setName)\n",
    "\n",
    "\n",
    "print( setName.pop() )\n",
    "print(setName)\n",
    "\n",
    "print( setName.pop() )\n",
    "print(setName)\n"
   ]
  },
  {
   "cell_type": "code",
   "execution_count": 39,
   "id": "02c32cfd",
   "metadata": {},
   "outputs": [
    {
     "name": "stdout",
     "output_type": "stream",
     "text": [
      "{False, -6.5, 1j, 10, 'Hello', (10, 20)}\n",
      "{-6.5, 1j, 10, 'Hello', (10, 20)}\n",
      "{-6.5, 1j, 'Hello', (10, 20)}\n"
     ]
    },
    {
     "ename": "KeyError",
     "evalue": "99999",
     "output_type": "error",
     "traceback": [
      "\u001b[1;31m---------------------------------------------------------------------------\u001b[0m",
      "\u001b[1;31mKeyError\u001b[0m                                  Traceback (most recent call last)",
      "\u001b[1;32m~\\AppData\\Local\\Temp\\ipykernel_21544\\46618747.py\u001b[0m in \u001b[0;36m<module>\u001b[1;34m\u001b[0m\n\u001b[0;32m     11\u001b[0m \u001b[0mprint\u001b[0m\u001b[1;33m(\u001b[0m\u001b[0msetName\u001b[0m\u001b[1;33m)\u001b[0m\u001b[1;33m\u001b[0m\u001b[1;33m\u001b[0m\u001b[0m\n\u001b[0;32m     12\u001b[0m \u001b[1;33m\u001b[0m\u001b[0m\n\u001b[1;32m---> 13\u001b[1;33m \u001b[0msetName\u001b[0m\u001b[1;33m.\u001b[0m\u001b[0mremove\u001b[0m\u001b[1;33m(\u001b[0m\u001b[1;36m99999\u001b[0m\u001b[1;33m)\u001b[0m\u001b[1;33m\u001b[0m\u001b[1;33m\u001b[0m\u001b[0m\n\u001b[0m\u001b[0;32m     14\u001b[0m \u001b[0mprint\u001b[0m\u001b[1;33m(\u001b[0m\u001b[0msetName\u001b[0m\u001b[1;33m)\u001b[0m\u001b[1;33m\u001b[0m\u001b[1;33m\u001b[0m\u001b[0m\n\u001b[0;32m     15\u001b[0m \u001b[1;33m\u001b[0m\u001b[0m\n",
      "\u001b[1;31mKeyError\u001b[0m: 99999"
     ]
    }
   ],
   "source": [
    "# 4. remove : remove element by \n",
    "# raises key error if element is not present\n",
    "\n",
    "setName = { 10, -6.5, 1j, False, \"Hello\", (10, 20), 10, False, 10, False }\n",
    "print(setName)\n",
    "\n",
    "setName.remove(False)\n",
    "print(setName)\n",
    "\n",
    "setName.remove(10)\n",
    "print(setName)\n",
    "\n",
    "setName.remove(99999)\n",
    "print(setName)\n",
    "\n"
   ]
  },
  {
   "cell_type": "code",
   "execution_count": 37,
   "id": "5f8111a0",
   "metadata": {},
   "outputs": [
    {
     "name": "stdout",
     "output_type": "stream",
     "text": [
      "{-6.5, 1j, 10, 'Hello', (10, 20)}\n",
      "{-6.5, 1j, 'Hello', (10, 20)}\n",
      "{-6.5, 1j, 'Hello', (10, 20)}\n"
     ]
    }
   ],
   "source": [
    "# 4. discard : remove element by \n",
    "# does not raises key error if element is not present\n",
    "\n",
    "setName = { 10, -6.5, 1j, False, \"Hello\", (10, 20), 10, False, 10, False }\n",
    "setName.discard(False)\n",
    "print(setName)\n",
    "\n",
    "setName.discard(10)\n",
    "print(setName)\n",
    "\n",
    "setName.discard(99999)\n",
    "print(setName)\n"
   ]
  },
  {
   "cell_type": "code",
   "execution_count": null,
   "id": "0a0e05e1",
   "metadata": {},
   "outputs": [],
   "source": []
  },
  {
   "cell_type": "code",
   "execution_count": null,
   "id": "73d1fcb1",
   "metadata": {},
   "outputs": [],
   "source": []
  },
  {
   "cell_type": "code",
   "execution_count": null,
   "id": "e18931a6",
   "metadata": {},
   "outputs": [],
   "source": []
  },
  {
   "cell_type": "code",
   "execution_count": null,
   "id": "fe50c33b",
   "metadata": {},
   "outputs": [],
   "source": []
  },
  {
   "cell_type": "code",
   "execution_count": null,
   "id": "691dd3d8",
   "metadata": {},
   "outputs": [],
   "source": []
  },
  {
   "attachments": {
    "image.png": {
     "image/png": "[encoded data removed]"
    }
   },
   "cell_type": "markdown",
   "id": "24264a56",
   "metadata": {},
   "source": [
    "![image.png](attachment:image.png)"
   ]
  },
  {
   "cell_type": "code",
   "execution_count": null,
   "id": "189c15a1",
   "metadata": {},
   "outputs": [],
   "source": []
  },
  {
   "attachments": {
    "image.png": {
     "image/png": "[encoded data removed]"
    }
   },
   "cell_type": "markdown",
   "id": "c6b004bc",
   "metadata": {},
   "source": [
    "#### Superset :: Parent -> Child\n",
    "                    A -> B\n",
    "\n",
    "#### Subset ::   Child -> Parent\n",
    "                B -> A\n",
    "\n",
    "\n",
    "![image.png](attachment:image.png)"
   ]
  },
  {
   "cell_type": "code",
   "execution_count": 40,
   "id": "448a6bf4",
   "metadata": {},
   "outputs": [],
   "source": [
    "setA = {\"@\", \"$\", 10, \"!\", 5, 10, '@', \"!\"}\n",
    "setB = {\"@\", \"#\", '#', 10, 20, '#'}\n",
    "setC = {\"@\", \"$\"}\n",
    "setD = {9, 1}\n"
   ]
  },
  {
   "cell_type": "code",
   "execution_count": 44,
   "id": "158103bc",
   "metadata": {},
   "outputs": [
    {
     "name": "stdout",
     "output_type": "stream",
     "text": [
      "True\n"
     ]
    }
   ],
   "source": [
    "print( setC.issubset(setA) )"
   ]
  },
  {
   "cell_type": "code",
   "execution_count": 45,
   "id": "203dcadd",
   "metadata": {},
   "outputs": [
    {
     "name": "stdout",
     "output_type": "stream",
     "text": [
      "False\n"
     ]
    }
   ],
   "source": [
    "print( setB.issubset(setA) )"
   ]
  },
  {
   "cell_type": "code",
   "execution_count": 46,
   "id": "a303a82c",
   "metadata": {},
   "outputs": [
    {
     "name": "stdout",
     "output_type": "stream",
     "text": [
      "False\n"
     ]
    }
   ],
   "source": [
    "print( setD.issubset(setA) )"
   ]
  },
  {
   "cell_type": "code",
   "execution_count": 41,
   "id": "e8a721ab",
   "metadata": {},
   "outputs": [
    {
     "name": "stdout",
     "output_type": "stream",
     "text": [
      "True\n"
     ]
    }
   ],
   "source": [
    "print( setA.issuperset(setC) )"
   ]
  },
  {
   "cell_type": "code",
   "execution_count": 42,
   "id": "33d244a9",
   "metadata": {},
   "outputs": [
    {
     "name": "stdout",
     "output_type": "stream",
     "text": [
      "False\n"
     ]
    }
   ],
   "source": [
    "print( setA.issuperset(setD) )"
   ]
  },
  {
   "cell_type": "code",
   "execution_count": 43,
   "id": "1b9dbe5a",
   "metadata": {},
   "outputs": [
    {
     "name": "stdout",
     "output_type": "stream",
     "text": [
      "False\n"
     ]
    }
   ],
   "source": [
    "print( setA.issuperset(setB) )"
   ]
  },
  {
   "cell_type": "code",
   "execution_count": null,
   "id": "6dd432c2",
   "metadata": {},
   "outputs": [],
   "source": []
  },
  {
   "cell_type": "code",
   "execution_count": null,
   "id": "9595d727",
   "metadata": {},
   "outputs": [],
   "source": []
  },
  {
   "attachments": {
    "image-2.png": {
     "image/png": "[encoded data removed]"
    }
   },
   "cell_type": "markdown",
   "id": "1c4281eb",
   "metadata": {},
   "source": [
    "#### Disjoint :: Parent XXXX Child\n",
    "                    A XXX B\n",
    "\n",
    "![image-2.png](attachment:image-2.png)"
   ]
  },
  {
   "cell_type": "code",
   "execution_count": 40,
   "id": "191db6a4",
   "metadata": {},
   "outputs": [],
   "source": [
    "setA = {\"@\", \"$\", 10, \"!\", 5, 10, '@', \"!\"}\n",
    "setB = {\"@\", \"#\", '#', 10, 20, '#'}\n",
    "setC = {\"@\", \"$\"}\n",
    "setD = {9, 1}\n"
   ]
  },
  {
   "cell_type": "code",
   "execution_count": 47,
   "id": "c9ec02af",
   "metadata": {},
   "outputs": [
    {
     "name": "stdout",
     "output_type": "stream",
     "text": [
      "False\n"
     ]
    }
   ],
   "source": [
    "print( setA.isdisjoint(setB) )"
   ]
  },
  {
   "cell_type": "code",
   "execution_count": 48,
   "id": "cfe76fa1",
   "metadata": {},
   "outputs": [
    {
     "name": "stdout",
     "output_type": "stream",
     "text": [
      "False\n"
     ]
    }
   ],
   "source": [
    "print( setA.isdisjoint(setC) )\n",
    "print( setC.isdisjoint(setA) )   ## a x b == b * a"
   ]
  },
  {
   "cell_type": "code",
   "execution_count": 49,
   "id": "9822ef80",
   "metadata": {},
   "outputs": [
    {
     "name": "stdout",
     "output_type": "stream",
     "text": [
      "True\n"
     ]
    }
   ],
   "source": [
    "print( setA.isdisjoint(setD) )"
   ]
  },
  {
   "cell_type": "code",
   "execution_count": null,
   "id": "873575e2",
   "metadata": {},
   "outputs": [],
   "source": []
  },
  {
   "attachments": {
    "image.png": {
     "image/png": "[encoded data removed]"
    }
   },
   "cell_type": "markdown",
   "id": "8c01a81c",
   "metadata": {},
   "source": [
    "#### Intersection :: Common Elements\n",
    "\n",
    "![image.png](attachment:image.png)"
   ]
  },
  {
   "cell_type": "code",
   "execution_count": 50,
   "id": "7a4c677b",
   "metadata": {},
   "outputs": [],
   "source": [
    "setA = {\"@\", \"$\", 10, \"!\", 5, 10, '@', \"!\"}\n",
    "setB = {\"@\", \"#\", '#', 10, 20, '#'}\n",
    "setC = {\"@\", \"$\"}\n",
    "setD = {9, 1}"
   ]
  },
  {
   "cell_type": "code",
   "execution_count": 51,
   "id": "1ea89859",
   "metadata": {},
   "outputs": [
    {
     "name": "stdout",
     "output_type": "stream",
     "text": [
      "{10, '@'}\n"
     ]
    }
   ],
   "source": [
    "print( setA.intersection(setB) ) "
   ]
  },
  {
   "cell_type": "code",
   "execution_count": 52,
   "id": "250a1547",
   "metadata": {},
   "outputs": [
    {
     "name": "stdout",
     "output_type": "stream",
     "text": [
      "{'$', '@'}\n"
     ]
    }
   ],
   "source": [
    "print( setA.intersection(setC) ) "
   ]
  },
  {
   "cell_type": "code",
   "execution_count": 53,
   "id": "1d5ae4f2",
   "metadata": {},
   "outputs": [
    {
     "name": "stdout",
     "output_type": "stream",
     "text": [
      "set()\n"
     ]
    }
   ],
   "source": [
    "print( setA.intersection(setD) ) "
   ]
  },
  {
   "cell_type": "code",
   "execution_count": null,
   "id": "db712a9d",
   "metadata": {},
   "outputs": [],
   "source": []
  },
  {
   "attachments": {
    "image.png": {
     "image/png": "[encoded data removed]"
    }
   },
   "cell_type": "markdown",
   "id": "2f0ad7c4",
   "metadata": {},
   "source": [
    "#### Union\n",
    "\n",
    "![image.png](attachment:image.png)"
   ]
  },
  {
   "cell_type": "code",
   "execution_count": null,
   "id": "81854c14",
   "metadata": {},
   "outputs": [],
   "source": [
    "setA = {\"@\", \"$\", 10, \"!\", 5, 10, '@', \"!\"}\n",
    "setB = {\"@\", \"#\", '#', 10, 20, '#'}\n",
    "setC = {\"@\", \"$\"}\n",
    "setD = {9, 1}"
   ]
  },
  {
   "cell_type": "code",
   "execution_count": 54,
   "id": "c7b63bbc",
   "metadata": {},
   "outputs": [
    {
     "name": "stdout",
     "output_type": "stream",
     "text": [
      "{'$', '!', 5, '@', 10, 20, '#'}\n"
     ]
    }
   ],
   "source": [
    "print( setA.union(setB) )"
   ]
  },
  {
   "cell_type": "code",
   "execution_count": 55,
   "id": "5afe3492",
   "metadata": {},
   "outputs": [
    {
     "name": "stdout",
     "output_type": "stream",
     "text": [
      "{'$', '!', 5, '@', 10}\n"
     ]
    }
   ],
   "source": [
    "print( setA.union(setC) )"
   ]
  },
  {
   "cell_type": "code",
   "execution_count": 56,
   "id": "48891cf0",
   "metadata": {},
   "outputs": [
    {
     "name": "stdout",
     "output_type": "stream",
     "text": [
      "{1, '$', '!', 5, '@', 9, 10}\n"
     ]
    }
   ],
   "source": [
    "print( setA.union(setD) )"
   ]
  },
  {
   "cell_type": "code",
   "execution_count": null,
   "id": "82234b21",
   "metadata": {},
   "outputs": [],
   "source": []
  },
  {
   "attachments": {
    "image.png": {
     "image/png": "[encoded data removed]"
    }
   },
   "cell_type": "markdown",
   "id": "8fba7230",
   "metadata": {},
   "source": [
    "#### Difference :: Only Element of Particular SET | Pure Set\n",
    "\n",
    "##### non-blue part\n",
    "###### B_diiference = B - (A intersect B)\n",
    "\n",
    "![image.png](attachment:image.png)"
   ]
  },
  {
   "cell_type": "code",
   "execution_count": null,
   "id": "400cbe10",
   "metadata": {},
   "outputs": [],
   "source": [
    "setA = {\"@\", \"$\", 10, \"!\", 5, 10, '@', \"!\"}\n",
    "setB = {\"@\", \"#\", '#', 10, 20, '#'}\n",
    "setC = {\"@\", \"$\"}\n",
    "setD = {9, 1}"
   ]
  },
  {
   "cell_type": "code",
   "execution_count": 64,
   "id": "d339dccc",
   "metadata": {},
   "outputs": [
    {
     "name": "stdout",
     "output_type": "stream",
     "text": [
      "{'$', '!', 5, '@', 10}\n",
      "{10, 20, '#', '@'}\n",
      "{10, '@'}\n",
      "------\n",
      "{5, '$', '!'}\n"
     ]
    }
   ],
   "source": [
    "print(setA)\n",
    "print(setB)\n",
    "print(setA.intersection(setB))\n",
    "\n",
    "\n",
    "print(\"------\")\n",
    "print( setA.difference(setB) )  \n",
    "# print( setB.difference(setA) )"
   ]
  },
  {
   "cell_type": "code",
   "execution_count": 65,
   "id": "862c942b",
   "metadata": {},
   "outputs": [
    {
     "name": "stdout",
     "output_type": "stream",
     "text": [
      "{'$', 5, '!', '@', 10}\n"
     ]
    }
   ],
   "source": [
    "print( setA.difference(setD) )  "
   ]
  },
  {
   "cell_type": "code",
   "execution_count": 66,
   "id": "b500c67a",
   "metadata": {},
   "outputs": [
    {
     "name": "stdout",
     "output_type": "stream",
     "text": [
      "{5, 10, '!'}\n"
     ]
    }
   ],
   "source": [
    "print( setA.difference(setC) )  "
   ]
  },
  {
   "cell_type": "code",
   "execution_count": null,
   "id": "9555a067",
   "metadata": {},
   "outputs": [],
   "source": []
  },
  {
   "attachments": {
    "image-3.png": {
     "image/png": "[encoded data removed]"
    }
   },
   "cell_type": "markdown",
   "id": "bd09154a",
   "metadata": {},
   "source": [
    "#### Symmetric Difference :: Element of Both PURE SET\n",
    "\n",
    "![image-3.png](attachment:image-3.png)"
   ]
  },
  {
   "cell_type": "code",
   "execution_count": null,
   "id": "fb677650",
   "metadata": {},
   "outputs": [],
   "source": [
    "setA = {\"@\", \"$\", 10, \"!\", 5, 10, '@', \"!\"}\n",
    "setB = {\"@\", \"#\", '#', 10, 20, '#'}\n",
    "setC = {\"@\", \"$\"}\n",
    "setD = {9, 1}"
   ]
  },
  {
   "cell_type": "code",
   "execution_count": 67,
   "id": "8ff94e83",
   "metadata": {},
   "outputs": [
    {
     "name": "stdout",
     "output_type": "stream",
     "text": [
      "{9, '$', 1, '@'}\n"
     ]
    }
   ],
   "source": [
    "print( setC.symmetric_difference(setD) )"
   ]
  },
  {
   "cell_type": "code",
   "execution_count": 68,
   "id": "73aab678",
   "metadata": {},
   "outputs": [
    {
     "name": "stdout",
     "output_type": "stream",
     "text": [
      "{'$', 10, 20, '#'}\n"
     ]
    }
   ],
   "source": [
    "print( setC.symmetric_difference(setB) )"
   ]
  },
  {
   "cell_type": "code",
   "execution_count": 70,
   "id": "07861171",
   "metadata": {},
   "outputs": [
    {
     "name": "stdout",
     "output_type": "stream",
     "text": [
      "{'$', '!', 5, '@', 10}\n",
      "{10, 20, '#', '@'}\n",
      "{'$', '!', 5, 20, '#'}\n",
      "{'$', '!', 5, '@', 10}\n"
     ]
    }
   ],
   "source": [
    "print(setA)\n",
    "print(setB)\n",
    "\n",
    "print( setA.symmetric_difference(setB) )\n",
    "# print(setA)\n",
    "\n",
    "# setA.symmetric_difference_update(setB) < === > setA = setA.symmetric_difference(setB) "
   ]
  },
  {
   "cell_type": "code",
   "execution_count": null,
   "id": "2888a1e6",
   "metadata": {},
   "outputs": [],
   "source": [
    "## listA = listA + listB  <===> listA.extend(listB)"
   ]
  },
  {
   "cell_type": "code",
   "execution_count": null,
   "id": "47847256",
   "metadata": {},
   "outputs": [],
   "source": []
  }
 ],
 "metadata": {
  "kernelspec": {
   "display_name": "Python 3 (ipykernel)",
   "language": "python",
   "name": "python3"
  },
  "language_info": {
   "codemirror_mode": {
    "name": "ipython",
    "version": 3
   },
   "file_extension": ".py",
   "mimetype": "text/x-python",
   "name": "python",
   "nbconvert_exporter": "python",
   "pygments_lexer": "ipython3",
   "version": "3.10.9"
  }
 },
 "nbformat": 4,
 "nbformat_minor": 5
}
