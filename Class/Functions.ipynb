{
 "cells": [
  {
   "cell_type": "markdown",
   "id": "6d6b5c70",
   "metadata": {},
   "source": [
    "# Function\n",
    "\n",
    "- Save lines of code\n",
    "- avoid repititive task\n",
    "- speeds up the process\n",
    "- Modular Approach\n",
    "- Updation is easier : Changing the values oftenly\n",
    "- Debugging is easy\n",
    "- function can be used from one python file to another python file [Modules and Packages]\n",
    "- Function Code on generation is stored at some memory location. Once you call the function, then that code is executed.\n",
    "    \n",
    "Functions : Methods : Modules\n",
    "\n",
    "Function inside a Class : Method\n",
    "Function From Python File : Module\n"
   ]
  },
  {
   "cell_type": "markdown",
   "id": "66f1b772",
   "metadata": {},
   "source": [
    "Docstring : Custom MEssage written as Multiple Line Comment immediately after def ..."
   ]
  },
  {
   "cell_type": "code",
   "execution_count": null,
   "id": "cc0c704a",
   "metadata": {},
   "outputs": [],
   "source": [
    "## Syntax : \n",
    "\n",
    "# Function Generation / Declaration / Creation\n",
    "def functionName(args) : \n",
    "    statement\n",
    "    statement\n",
    "    statement\n",
    "    \n",
    "    value = __________________\n",
    "    return value\n",
    "\n",
    "## Function Calling\n",
    "functionName(args)\n"
   ]
  },
  {
   "cell_type": "code",
   "execution_count": null,
   "id": "61c8a3a0",
   "metadata": {},
   "outputs": [],
   "source": []
  },
  {
   "cell_type": "code",
   "execution_count": null,
   "id": "a494ba6d",
   "metadata": {},
   "outputs": [],
   "source": []
  },
  {
   "cell_type": "code",
   "execution_count": null,
   "id": "7bdb8c36",
   "metadata": {},
   "outputs": [],
   "source": []
  },
  {
   "cell_type": "markdown",
   "id": "66f09401",
   "metadata": {},
   "source": [
    "## First Draft"
   ]
  },
  {
   "cell_type": "code",
   "execution_count": null,
   "id": "455bde5d",
   "metadata": {},
   "outputs": [],
   "source": [
    "import datetime\n",
    "\n",
    "currentTimestamp = datetime.datetime.now()\n",
    "currentTimestamp\n",
    "curretTime = currentTimestamp.strftime(\"%d-%m-%y %H : %M\")\n",
    "curretTime"
   ]
  },
  {
   "cell_type": "code",
   "execution_count": null,
   "id": "1ba4a793",
   "metadata": {},
   "outputs": [],
   "source": [
    "## Factorial Of a Number \n",
    "\n",
    "print(\" Code to fuind out factorial of the number... \")\n",
    "number = int(input(\"Number : \"))\n",
    "\n",
    "finalAnswer = 1\n",
    "\n",
    "for i in range(1, number+1) : \n",
    "    finalAnswer = finalAnswer * i # 1 * 1 = 1, 1 * 2 = 2, 2 * 3 = 6, 6 * 4 = 24, 24 * 5 = 120\n",
    "print( f\"Factorial of {number} = {finalAnswer}\" )\n",
    "\n",
    "\n",
    "import datetime\n",
    "\n",
    "currentTimestamp = datetime.datetime.now()\n",
    "currentTimestamp\n",
    "curretTime = currentTimestamp.strftime(\"%d-%m-%y %H : %M\")\n",
    "curretTime"
   ]
  },
  {
   "cell_type": "code",
   "execution_count": null,
   "id": "479ef884",
   "metadata": {},
   "outputs": [],
   "source": [
    "\n",
    "print(\" Code to Find out Prime number... \")\n",
    "number = int(input(\"Number : \"))\n",
    "\n",
    "dummyVariable = True \n",
    "\n",
    "for divisor in range(2, number - 1) : \n",
    "    if number % divisor == 0 : \n",
    "        dummyVariable = False  # Ultimate solution before BREAKING out\n",
    "        break\n",
    "    else : \n",
    "        dummyVariable = True # 3 times\n",
    "\n",
    "if dummyVariable : # True\n",
    "    print(\"Number is a Prime Number\")\n",
    "else :  # False\n",
    "    print(\"NOT PRIME\")\n",
    "\n",
    "    \n",
    "import datetime\n",
    "\n",
    "currentTimestamp = datetime.datetime.now()\n",
    "currentTimestamp\n",
    "curretTime = currentTimestamp.strftime(\"%d-%m-%y %H : %M\")\n",
    "curretTime"
   ]
  },
  {
   "cell_type": "code",
   "execution_count": null,
   "id": "c35a1a0d",
   "metadata": {},
   "outputs": [],
   "source": [
    "print(\" Code to Find out Fibanocci... \")\n",
    "\n",
    "num1 = int(input(\"First Number : \"))\n",
    "num2 = int(input(\"Second Number : \"))\n",
    "upperRange = int(input(\"How Many : \"))\n",
    "\n",
    "print(\"Series --> \")\n",
    "for i in range( upperRange ) : \n",
    "    nextNumber = num1+num2  # 0 + 1 = 1\n",
    "    print(nextNumber)\n",
    "    num1 = num2\n",
    "    num2 = nextNumber\n",
    "    \n",
    "import datetime\n",
    "\n",
    "currentTimestamp = datetime.datetime.now()\n",
    "currentTimestamp\n",
    "curretTime = currentTimestamp.strftime(\"%d-%m-%y %H : %M\")\n",
    "curretTime"
   ]
  },
  {
   "cell_type": "code",
   "execution_count": null,
   "id": "a78f2db1",
   "metadata": {},
   "outputs": [],
   "source": []
  },
  {
   "cell_type": "code",
   "execution_count": null,
   "id": "1cfcaf5f",
   "metadata": {},
   "outputs": [],
   "source": []
  },
  {
   "cell_type": "code",
   "execution_count": null,
   "id": "55ec96a1",
   "metadata": {},
   "outputs": [],
   "source": []
  },
  {
   "cell_type": "code",
   "execution_count": null,
   "id": "1c9d2f4e",
   "metadata": {},
   "outputs": [],
   "source": []
  },
  {
   "cell_type": "markdown",
   "id": "e864909a",
   "metadata": {},
   "source": [
    "## Second Draft"
   ]
  },
  {
   "cell_type": "code",
   "execution_count": null,
   "id": "f1a9634a",
   "metadata": {},
   "outputs": [],
   "source": [
    "import datetime\n",
    "\n",
    "# Function to check current Date and Time\n",
    "def currentTime() : \n",
    "    currentTimestamp = datetime.datetime.now()\n",
    "#     curretTime = currentTimestamp.strftime(\"%d-%m-%y %H : %M\")\n",
    "    curretTime = currentTimestamp.strftime(\"%H : %M\")\n",
    "    print(curretTime)\n",
    "    \n",
    "    \n",
    "## Factorial Of a Number \n",
    "print(\" Code to fuind out factorial of the number... \")\n",
    "number = int(input(\"Number : \"))\n",
    "finalAnswer = 1\n",
    "\n",
    "for i in range(1, number+1) : \n",
    "    finalAnswer = finalAnswer * i # 1 * 1 = 1, 1 * 2 = 2, 2 * 3 = 6, 6 * 4 = 24, 24 * 5 = 120\n",
    "print( f\"Factorial of {number} = {finalAnswer}\" )\n",
    "\n",
    "currentTime()  # Call the Function to check current Date and Time\n",
    "\n",
    "print(\" Code to Find out Prime number... \")\n",
    "number = int(input(\"Number : \"))\n",
    "dummyVariable = True \n",
    "for divisor in range(2, number - 1) : \n",
    "    if number % divisor == 0 : \n",
    "        dummyVariable = False  # Ultimate solution before BREAKING out\n",
    "        break\n",
    "    else : \n",
    "        dummyVariable = True # 3 times\n",
    "\n",
    "if dummyVariable : # True\n",
    "    print(\"Number is a Prime Number\")\n",
    "else :  # False\n",
    "    print(\"NOT PRIME\")\n",
    "\n",
    "currentTime()  # Call the Function to check current Date and Time\n",
    "   \n",
    "\n",
    "print(\" Code to Find out Fibanocci... \")\n",
    "num1 = int(input(\"First Number : \"))\n",
    "num2 = int(input(\"Second Number : \"))\n",
    "upperRange = int(input(\"How Many : \"))\n",
    "\n",
    "print(\"Series --> \")\n",
    "for i in range( upperRange ) : \n",
    "    nextNumber = num1+num2  # 0 + 1 = 1\n",
    "    print(nextNumber)\n",
    "    num1 = num2\n",
    "    num2 = nextNumber\n",
    "    \n",
    "currentTime()  # Call the Function to check current Date and Time\n"
   ]
  },
  {
   "cell_type": "code",
   "execution_count": null,
   "id": "6b1d100a",
   "metadata": {},
   "outputs": [],
   "source": []
  },
  {
   "cell_type": "code",
   "execution_count": null,
   "id": "c7c1234e",
   "metadata": {},
   "outputs": [],
   "source": []
  },
  {
   "cell_type": "markdown",
   "id": "af2ffe49",
   "metadata": {},
   "source": [
    "## Theory"
   ]
  },
  {
   "cell_type": "markdown",
   "id": "f4c9fc12",
   "metadata": {},
   "source": [
    "#### Types of Variables : \n",
    "\n",
    "\n",
    "**Global Variable**\n",
    "- These variables have scope inside the entire Python Program\n",
    "- You can use the keyword global to use that variable across anywhere\n",
    "\n",
    "**Local Variable**\n",
    "- These variables have scope inside the FUNCTION only\n",
    "\n",
    "\n",
    "#### Types of Arguments  (args): \n",
    "\n",
    "**Formal Arguments**\n",
    "- Any name that is given to the variables inside the function\n",
    "- They might or might not exist\n",
    "\n",
    "**Actual Arguments**\n",
    "- Actual Names that is given to the variables outside the function\n",
    "- They will exist\n",
    "\n",
    "\n",
    "Syntax : \n",
    "\n",
    "Function Generation / Declaration / Creation\n",
    "def functionName(args) : \n",
    "    statement\n",
    "    statement\n",
    "    statement\n",
    "    \n",
    "    value = __________________\n",
    "    return value\n",
    "\n",
    "Function Calling\n",
    "functionName(args)\n",
    "\n"
   ]
  },
  {
   "cell_type": "code",
   "execution_count": null,
   "id": "a9c5b03b",
   "metadata": {},
   "outputs": [],
   "source": []
  },
  {
   "cell_type": "code",
   "execution_count": null,
   "id": "59294131",
   "metadata": {},
   "outputs": [],
   "source": [
    "# Function without Arguments\n",
    "\n",
    "import datetime\n",
    "\n",
    "# Function to check current Date and Time\n",
    "def currentTime() : \n",
    "    currentTimestamp = datetime.datetime.now()\n",
    "#     curretTime = currentTimestamp.strftime(\"%d-%m-%y %H : %M\")\n",
    "    curretTime = currentTimestamp.strftime(\"%H : %M\")\n",
    "    print(curretTime)\n",
    "    \n",
    "print( currentTime() )\n",
    "\n",
    "print(14 * 30)"
   ]
  },
  {
   "cell_type": "code",
   "execution_count": null,
   "id": "924a3600",
   "metadata": {},
   "outputs": [],
   "source": [
    "list append\n"
   ]
  },
  {
   "cell_type": "code",
   "execution_count": null,
   "id": "2791848b",
   "metadata": {},
   "outputs": [],
   "source": [
    "myList = [10, 20, 25]\n",
    "print( myList.append(99) )\n",
    "print( myList )\n"
   ]
  },
  {
   "cell_type": "code",
   "execution_count": null,
   "id": "4bf901ec",
   "metadata": {},
   "outputs": [],
   "source": [
    "# Function without Arguments\n",
    "\n",
    "import datetime\n",
    "\n",
    "# Function to check current Date and Time\n",
    "def currentTime() : \n",
    "    currentTimestamp = datetime.datetime.now()\n",
    "#     curretTime = currentTimestamp.strftime(\"%d-%m-%y %H : %M\")\n",
    "    curretTime = currentTimestamp.strftime(\"%H : %M\")\n",
    "    return curretTime\n",
    "    \n",
    "print( currentTime() )\n",
    "myTime = currentTime()\n",
    "print(myTime)"
   ]
  },
  {
   "cell_type": "code",
   "execution_count": null,
   "id": "a13bde6a",
   "metadata": {},
   "outputs": [],
   "source": []
  },
  {
   "cell_type": "code",
   "execution_count": null,
   "id": "03bc0633",
   "metadata": {},
   "outputs": [],
   "source": [
    "# Function without Arguments\n",
    "\n",
    "import datetime\n",
    "\n",
    "# Function to check current Date and Time\n",
    "def currentTime() : \n",
    "    \"\"\"This will return Current Time in Format Hour : Minute \"\"\"\n",
    "    currentTimestamp = datetime.datetime.now()\n",
    "#     curretTime = currentTimestamp.strftime(\"%d-%m-%y %H : %M\")\n",
    "    curretTime = currentTimestamp.strftime(\"%H : %M\")\n",
    "    return curretTime\n",
    "    \n"
   ]
  },
  {
   "cell_type": "code",
   "execution_count": null,
   "id": "d3257523",
   "metadata": {},
   "outputs": [],
   "source": [
    "myTime = currentTime()\n",
    "print(myTime)"
   ]
  },
  {
   "cell_type": "code",
   "execution_count": null,
   "id": "0ddb530f",
   "metadata": {},
   "outputs": [],
   "source": []
  },
  {
   "cell_type": "code",
   "execution_count": null,
   "id": "995fb0e8",
   "metadata": {},
   "outputs": [],
   "source": [
    "## On Making A function\n",
    "# - Do you want Function to execute only, or Execute and Return\n",
    "# - Do you wish to pass the arguments or do with it"
   ]
  },
  {
   "cell_type": "code",
   "execution_count": 9,
   "id": "0ecbc80b",
   "metadata": {},
   "outputs": [
    {
     "name": "stdout",
     "output_type": "stream",
     "text": [
      " Code to fuind out factorial of the number... \n",
      "Number : 5\n",
      "Factorial of 5 = 120\n"
     ]
    }
   ],
   "source": [
    "# Make A function on Factorial : \n",
    "## Factorial Of a Number \n",
    "\n",
    "\n",
    "## Step 1 : \n",
    "print(\" Code to fuind out factorial of the number... \")\n",
    "number = int(input(\"Number : \"))\n",
    "\n",
    "finalAnswer = 1\n",
    "\n",
    "for i in range(1, number+1) : \n",
    "    finalAnswer = finalAnswer * i # 1 * 1 = 1, 1 * 2 = 2, 2 * 3 = 6, 6 * 4 = 24, 24 * 5 = 120\n",
    "print( f\"Factorial of {number} = {finalAnswer}\" )"
   ]
  },
  {
   "cell_type": "code",
   "execution_count": 17,
   "id": "ef76ce98",
   "metadata": {},
   "outputs": [
    {
     "name": "stdout",
     "output_type": "stream",
     "text": [
      " Code to fuind out factorial of the number... \n"
     ]
    }
   ],
   "source": [
    "## Step 2 : Function to execute only\n",
    "print(\" Code to fuind out factorial of the number... \")\n",
    "\n",
    "\n",
    "def factorial() : \n",
    "    number = int(input(\"Number : \"))\n",
    "    finalAnswer = 1\n",
    "    for i in range(1, number+1) : \n",
    "        finalAnswer = finalAnswer * i # 1 * 1 = 1, 1 * 2 = 2, 2 * 3 = 6, 6 * 4 = 24, 24 * 5 = 120\n",
    "    print( f\"Factorial of {number} = {finalAnswer}\" )\n",
    "    \n"
   ]
  },
  {
   "cell_type": "code",
   "execution_count": 18,
   "id": "fd07000c",
   "metadata": {},
   "outputs": [
    {
     "name": "stdout",
     "output_type": "stream",
     "text": [
      "Number : 5\n",
      "Factorial of 5 = 120\n"
     ]
    }
   ],
   "source": [
    "factorial()"
   ]
  },
  {
   "cell_type": "code",
   "execution_count": 12,
   "id": "61403039",
   "metadata": {},
   "outputs": [
    {
     "name": "stdout",
     "output_type": "stream",
     "text": [
      " Code to fuind out factorial of the number... \n"
     ]
    }
   ],
   "source": [
    "## Step 2 : Function to execute only with Arguments\n",
    "print(\" Code to find out factorial of the number... \")\n",
    "\n",
    "\n",
    "def factorial(number) : \n",
    "    finalAnswer = 1\n",
    "\n",
    "    for i in range(1, number+1) : \n",
    "        finalAnswer = finalAnswer * i # 1 * 1 = 1, 1 * 2 = 2, 2 * 3 = 6, 6 * 4 = 24, 24 * 5 = 120\n",
    "    print( f\"Factorial of {number} = {finalAnswer}\" )\n",
    "    "
   ]
  },
  {
   "cell_type": "code",
   "execution_count": 14,
   "id": "26455659",
   "metadata": {},
   "outputs": [
    {
     "name": "stdout",
     "output_type": "stream",
     "text": [
      "Number : 5\n",
      "Factorial of 5 = 120\n"
     ]
    }
   ],
   "source": [
    "number = int(input(\"Number : \"))\n",
    "factorial(number)"
   ]
  },
  {
   "cell_type": "code",
   "execution_count": 19,
   "id": "78b40921",
   "metadata": {},
   "outputs": [
    {
     "name": "stdout",
     "output_type": "stream",
     "text": [
      " Code to find out factorial of the number... \n"
     ]
    }
   ],
   "source": [
    "## Step 2 : Function to execute and Return  with Arguments  # Best Practice\n",
    "print(\" Code to find out factorial of the number... \")\n",
    "\n",
    "\n",
    "def factorial(number) : \n",
    "    finalAnswer = 1\n",
    "    for i in range(1, number+1) : \n",
    "        finalAnswer = finalAnswer * i # 1 * 1 = 1, 1 * 2 = 2, 2 * 3 = 6, 6 * 4 = 24, 24 * 5 = 120\n",
    "    return finalAnswer"
   ]
  },
  {
   "cell_type": "code",
   "execution_count": 20,
   "id": "ece2f72f",
   "metadata": {},
   "outputs": [
    {
     "name": "stdout",
     "output_type": "stream",
     "text": [
      "Number : 5\n",
      "Factorial of 5 = 120\n"
     ]
    }
   ],
   "source": [
    "number = int(input(\"Number : \"))\n",
    "fact = factorial(number)\n",
    "print( f\"Factorial of {number} = {fact}\" )\n"
   ]
  },
  {
   "cell_type": "code",
   "execution_count": null,
   "id": "b084bc2b",
   "metadata": {},
   "outputs": [],
   "source": []
  },
  {
   "cell_type": "code",
   "execution_count": 21,
   "id": "fbd82549",
   "metadata": {},
   "outputs": [
    {
     "name": "stdout",
     "output_type": "stream",
     "text": [
      "{5, 10, '!', '#', '$', 20, '@'}\n",
      "{10, '@'}\n",
      "{'$', '!', 5}\n",
      "{5, '!', '#', '$', 20}\n"
     ]
    }
   ],
   "source": [
    "setA = {\"@\", \"$\", 10, \"!\", 5, 10, '@', \"!\"}\n",
    "setB = {\"@\", \"#\", '#', 10, 20, '#'}\n",
    "\n",
    "print( setA.union(setB) ) \n",
    "print( setA.intersection(setB) ) \n",
    "print( setA.difference(setB) ) \n",
    "print( setA.symmetric_difference(setB) ) "
   ]
  },
  {
   "cell_type": "code",
   "execution_count": null,
   "id": "0f8c2dd2",
   "metadata": {},
   "outputs": [],
   "source": []
  },
  {
   "cell_type": "code",
   "execution_count": null,
   "id": "a67f7e0c",
   "metadata": {},
   "outputs": [],
   "source": []
  },
  {
   "cell_type": "code",
   "execution_count": 28,
   "id": "ba109327",
   "metadata": {},
   "outputs": [],
   "source": [
    "def setOps(A, B) :               # Formal Args\n",
    "    print( A.union(B) ) \n",
    "    print( A.intersection(B) ) \n",
    "    print( A.difference(B) ) \n",
    "    print( A.symmetric_difference(B) )     "
   ]
  },
  {
   "cell_type": "code",
   "execution_count": 31,
   "id": "63fcc182",
   "metadata": {},
   "outputs": [
    {
     "name": "stdout",
     "output_type": "stream",
     "text": [
      "{5, 10, '!', '#', '$', 20, '@'}\n",
      "{10, '@'}\n",
      "{'$', '!', 5}\n",
      "{5, '!', '#', '$', 20}\n"
     ]
    }
   ],
   "source": [
    "setA = {\"@\", \"$\", 10, \"!\", 5, 10, '@', \"!\"}\n",
    "setB = {\"@\", \"#\", '#', 10, 20, '#'}\n",
    "\n",
    "setOps(setA, setB)   # Actual Args"
   ]
  },
  {
   "cell_type": "code",
   "execution_count": null,
   "id": "4ccff4bb",
   "metadata": {},
   "outputs": [],
   "source": []
  },
  {
   "cell_type": "code",
   "execution_count": 43,
   "id": "190e46f1",
   "metadata": {},
   "outputs": [],
   "source": [
    "def setOps(A, B) :               # Formal Args\n",
    "    union =  A.union(B)  \n",
    "    intersect =  A.intersection(B) \n",
    "    diff = A.difference(B) \n",
    "    symm_diff = A.symmetric_difference(B) \n",
    "    return union, intersect"
   ]
  },
  {
   "cell_type": "code",
   "execution_count": 44,
   "id": "92be9c9e",
   "metadata": {},
   "outputs": [
    {
     "data": {
      "text/plain": [
       "[{'!', '#', '$', 10, 20, 5, '@'}, {10, '@'}]"
      ]
     },
     "execution_count": 44,
     "metadata": {},
     "output_type": "execute_result"
    }
   ],
   "source": [
    "setA = {\"@\", \"$\", 10, \"!\", 5, 10, '@', \"!\"}\n",
    "setB = {\"@\", \"#\", '#', 10, 20, '#'}\n",
    "\n",
    "setOps(setA, setB)   # Actual Args"
   ]
  },
  {
   "cell_type": "code",
   "execution_count": 38,
   "id": "03431791",
   "metadata": {},
   "outputs": [
    {
     "name": "stdout",
     "output_type": "stream",
     "text": [
      "{5, 10, '!', '#', '$', 20, '@'}\n",
      "{10, '@'}\n"
     ]
    }
   ],
   "source": [
    "setA = {\"@\", \"$\", 10, \"!\", 5, 10, '@', \"!\"}\n",
    "setB = {\"@\", \"#\", '#', 10, 20, '#'}\n",
    "\n",
    "u, i = setOps(setA, setB)   # Actual Args\n",
    "print(u)\n",
    "print(i)\n"
   ]
  },
  {
   "cell_type": "code",
   "execution_count": 42,
   "id": "5b81a341",
   "metadata": {},
   "outputs": [
    {
     "name": "stdout",
     "output_type": "stream",
     "text": [
      "({5, 10, '!', '#', '$', 20, '@'}, {10, '@'})\n",
      "{5, 10, '!', '#', '$', 20, '@'}\n",
      "{10, '@'}\n"
     ]
    }
   ],
   "source": [
    "setA = {\"@\", \"$\", 10, \"!\", 5, 10, '@', \"!\"}\n",
    "setB = {\"@\", \"#\", '#', 10, 20, '#'}\n",
    "\n",
    "ans = setOps(setA, setB)   # Actual Args\n",
    "print( ans )\n",
    "\n",
    "for i in ans :\n",
    "    print(i)\n"
   ]
  },
  {
   "cell_type": "code",
   "execution_count": null,
   "id": "897de444",
   "metadata": {},
   "outputs": [],
   "source": []
  },
  {
   "cell_type": "code",
   "execution_count": null,
   "id": "479f0da7",
   "metadata": {},
   "outputs": [],
   "source": []
  },
  {
   "cell_type": "code",
   "execution_count": 37,
   "id": "16be7c50",
   "metadata": {},
   "outputs": [
    {
     "name": "stdout",
     "output_type": "stream",
     "text": [
      "10\n",
      "20\n"
     ]
    }
   ],
   "source": [
    "x = 10\n",
    "y = 20\n",
    "x, y = 10, 20\n",
    "print(x)\n",
    "print(y)\n"
   ]
  },
  {
   "cell_type": "code",
   "execution_count": null,
   "id": "fa212079",
   "metadata": {},
   "outputs": [],
   "source": []
  },
  {
   "cell_type": "markdown",
   "id": "c84fbcc2",
   "metadata": {},
   "source": [
    "### Types of Arguments  (args): "
   ]
  },
  {
   "cell_type": "code",
   "execution_count": 45,
   "id": "e46f91ee",
   "metadata": {},
   "outputs": [],
   "source": [
    "# 1. Positional Arguments : Referencing with Args Position\n",
    "# - Number of Arguments shall match\n",
    "\n",
    "def area_circle(r, p) : \n",
    "    return p * r * r"
   ]
  },
  {
   "cell_type": "code",
   "execution_count": 46,
   "id": "a771badb",
   "metadata": {},
   "outputs": [
    {
     "name": "stdout",
     "output_type": "stream",
     "text": [
      "314.0\n",
      "98.596\n"
     ]
    }
   ],
   "source": [
    "print( area_circle(10, 3.14) )\n",
    "print( area_circle(3.14, 10) )"
   ]
  },
  {
   "cell_type": "code",
   "execution_count": 47,
   "id": "53cf97b0",
   "metadata": {},
   "outputs": [
    {
     "ename": "TypeError",
     "evalue": "area_circle() takes 2 positional arguments but 3 were given",
     "output_type": "error",
     "traceback": [
      "\u001b[1;31m---------------------------------------------------------------------------\u001b[0m",
      "\u001b[1;31mTypeError\u001b[0m                                 Traceback (most recent call last)",
      "\u001b[1;32m~\\AppData\\Local\\Temp\\ipykernel_19812\\1128210091.py\u001b[0m in \u001b[0;36m<module>\u001b[1;34m\u001b[0m\n\u001b[1;32m----> 1\u001b[1;33m \u001b[0mprint\u001b[0m\u001b[1;33m(\u001b[0m \u001b[0marea_circle\u001b[0m\u001b[1;33m(\u001b[0m\u001b[1;36m10\u001b[0m\u001b[1;33m,\u001b[0m \u001b[1;36m3.14\u001b[0m\u001b[1;33m,\u001b[0m \u001b[1;36m99\u001b[0m\u001b[1;33m)\u001b[0m \u001b[1;33m)\u001b[0m\u001b[1;33m\u001b[0m\u001b[1;33m\u001b[0m\u001b[0m\n\u001b[0m",
      "\u001b[1;31mTypeError\u001b[0m: area_circle() takes 2 positional arguments but 3 were given"
     ]
    }
   ],
   "source": [
    "print( area_circle(10, 3.14, 99) )"
   ]
  },
  {
   "cell_type": "code",
   "execution_count": 48,
   "id": "3c6404e7",
   "metadata": {},
   "outputs": [
    {
     "ename": "TypeError",
     "evalue": "area_circle() missing 1 required positional argument: 'p'",
     "output_type": "error",
     "traceback": [
      "\u001b[1;31m---------------------------------------------------------------------------\u001b[0m",
      "\u001b[1;31mTypeError\u001b[0m                                 Traceback (most recent call last)",
      "\u001b[1;32m~\\AppData\\Local\\Temp\\ipykernel_19812\\2392564877.py\u001b[0m in \u001b[0;36m<module>\u001b[1;34m\u001b[0m\n\u001b[1;32m----> 1\u001b[1;33m \u001b[0mprint\u001b[0m\u001b[1;33m(\u001b[0m \u001b[0marea_circle\u001b[0m\u001b[1;33m(\u001b[0m\u001b[1;36m10\u001b[0m\u001b[1;33m)\u001b[0m \u001b[1;33m)\u001b[0m\u001b[1;33m\u001b[0m\u001b[1;33m\u001b[0m\u001b[0m\n\u001b[0m",
      "\u001b[1;31mTypeError\u001b[0m: area_circle() missing 1 required positional argument: 'p'"
     ]
    }
   ],
   "source": [
    "print( area_circle(10) )"
   ]
  },
  {
   "cell_type": "code",
   "execution_count": null,
   "id": "7f2e6f47",
   "metadata": {},
   "outputs": [],
   "source": []
  },
  {
   "cell_type": "code",
   "execution_count": 51,
   "id": "48d95e10",
   "metadata": {},
   "outputs": [],
   "source": [
    "# 2. keyword  Arguments : Referencing with Args Name\n",
    "# - Number of Arguments shall match\n",
    "\n",
    "def area_circle(r, p) : \n",
    "    return p * r * r"
   ]
  },
  {
   "cell_type": "code",
   "execution_count": 52,
   "id": "4ab092ab",
   "metadata": {},
   "outputs": [
    {
     "name": "stdout",
     "output_type": "stream",
     "text": [
      "314.0\n",
      "314.0\n"
     ]
    }
   ],
   "source": [
    "print( area_circle(r = 10, p = 3.14) )\n",
    "print( area_circle(p = 3.14, r = 10) )"
   ]
  },
  {
   "cell_type": "code",
   "execution_count": 53,
   "id": "317f689c",
   "metadata": {},
   "outputs": [
    {
     "ename": "SyntaxError",
     "evalue": "positional argument follows keyword argument (4059418375.py, line 1)",
     "output_type": "error",
     "traceback": [
      "\u001b[1;36m  File \u001b[1;32m\"C:\\Users\\Nitish\\AppData\\Local\\Temp\\ipykernel_19812\\4059418375.py\"\u001b[1;36m, line \u001b[1;32m1\u001b[0m\n\u001b[1;33m    print( area_circle(r = 10, p = 3.14, 99) )\u001b[0m\n\u001b[1;37m                                           ^\u001b[0m\n\u001b[1;31mSyntaxError\u001b[0m\u001b[1;31m:\u001b[0m positional argument follows keyword argument\n"
     ]
    }
   ],
   "source": [
    "print( area_circle(r = 10, p = 3.14, 99) )\n"
   ]
  },
  {
   "cell_type": "code",
   "execution_count": 54,
   "id": "b3a5b3ec",
   "metadata": {},
   "outputs": [
    {
     "ename": "TypeError",
     "evalue": "area_circle() missing 1 required positional argument: 'p'",
     "output_type": "error",
     "traceback": [
      "\u001b[1;31m---------------------------------------------------------------------------\u001b[0m",
      "\u001b[1;31mTypeError\u001b[0m                                 Traceback (most recent call last)",
      "\u001b[1;32m~\\AppData\\Local\\Temp\\ipykernel_19812\\210095880.py\u001b[0m in \u001b[0;36m<module>\u001b[1;34m\u001b[0m\n\u001b[1;32m----> 1\u001b[1;33m \u001b[0mprint\u001b[0m\u001b[1;33m(\u001b[0m \u001b[0marea_circle\u001b[0m\u001b[1;33m(\u001b[0m\u001b[0mr\u001b[0m \u001b[1;33m=\u001b[0m \u001b[1;36m10\u001b[0m\u001b[1;33m)\u001b[0m \u001b[1;33m)\u001b[0m\u001b[1;33m\u001b[0m\u001b[1;33m\u001b[0m\u001b[0m\n\u001b[0m",
      "\u001b[1;31mTypeError\u001b[0m: area_circle() missing 1 required positional argument: 'p'"
     ]
    }
   ],
   "source": [
    "print( area_circle(r = 10) )"
   ]
  },
  {
   "cell_type": "code",
   "execution_count": null,
   "id": "6bbf6828",
   "metadata": {},
   "outputs": [],
   "source": []
  },
  {
   "cell_type": "code",
   "execution_count": 55,
   "id": "27618e89",
   "metadata": {},
   "outputs": [],
   "source": [
    "# 3.  Default Arguments : Formal Args can also be Actual Args\n",
    "# - Number of arguments depend on Default\n",
    "\n",
    "def area_circle_2(r, p = 3.14) : \n",
    "    return p * r * r"
   ]
  },
  {
   "cell_type": "code",
   "execution_count": 56,
   "id": "ac2e033a",
   "metadata": {},
   "outputs": [
    {
     "name": "stdout",
     "output_type": "stream",
     "text": [
      "314.0\n",
      "300\n"
     ]
    }
   ],
   "source": [
    "print( area_circle_2(r = 10, p = 3.14) )\n",
    "print( area_circle_2(p = 3, r = 10) )\n"
   ]
  },
  {
   "cell_type": "code",
   "execution_count": 57,
   "id": "26bc860f",
   "metadata": {},
   "outputs": [
    {
     "name": "stdout",
     "output_type": "stream",
     "text": [
      "314.0\n"
     ]
    }
   ],
   "source": [
    "print( area_circle_2(r = 10) )\n"
   ]
  },
  {
   "cell_type": "code",
   "execution_count": 72,
   "id": "47f5e3af",
   "metadata": {},
   "outputs": [
    {
     "name": "stdout",
     "output_type": "stream",
     "text": [
      "314.0\n",
      "10000\n",
      "10\n"
     ]
    }
   ],
   "source": [
    "def area_circle_2(r = 10, p = 3.14) : \n",
    "    return p * r * r\n",
    "print( area_circle_2() )\n",
    "print( area_circle_2(100, 1) )           # Update wrt Positon\n",
    "print( area_circle_2(p = 10, r = 1) )    # Update wrt Keyword\n",
    "# print( area_circle_2(p = 10, r = 1, 9999) )    # Update wrt Keyword\n"
   ]
  },
  {
   "cell_type": "code",
   "execution_count": null,
   "id": "b4359053",
   "metadata": {},
   "outputs": [],
   "source": []
  },
  {
   "cell_type": "code",
   "execution_count": null,
   "id": "7204f375",
   "metadata": {},
   "outputs": [],
   "source": [
    "# 4.  Variable Length Arguments : the *args will take it as tuple\n",
    "\n",
    "# def fun(formal, *args) : \n",
    "#     first = formal\n",
    "#     seq = args\n",
    "\n",
    "    \n",
    "# fun( a1, a2, a3 .... )"
   ]
  },
  {
   "cell_type": "code",
   "execution_count": null,
   "id": "a56c380f",
   "metadata": {},
   "outputs": [],
   "source": [
    "def totalSum(first, second) : \n",
    "    x = first\n",
    "    seqName = second  # list, tuple\n",
    "    \n",
    "    total_sum = 0\n",
    "    for i in seqName : \n",
    "        total_sum = total_sum + i\n",
    "        \n",
    "    return total_sum"
   ]
  },
  {
   "cell_type": "code",
   "execution_count": 64,
   "id": "3b16a485",
   "metadata": {},
   "outputs": [
    {
     "name": "stdout",
     "output_type": "stream",
     "text": [
      "5\n"
     ]
    }
   ],
   "source": [
    "print( totalSum(10, [1, 2, -5, 7]) )"
   ]
  },
  {
   "cell_type": "code",
   "execution_count": 65,
   "id": "7bd6e93c",
   "metadata": {},
   "outputs": [
    {
     "name": "stdout",
     "output_type": "stream",
     "text": [
      "5\n"
     ]
    }
   ],
   "source": [
    "print( totalSum(10, (1, 2, -5, 7)  ) )"
   ]
  },
  {
   "cell_type": "code",
   "execution_count": 68,
   "id": "b19a66bb",
   "metadata": {},
   "outputs": [
    {
     "name": "stdout",
     "output_type": "stream",
     "text": [
      "15\n"
     ]
    }
   ],
   "source": [
    "def totalSum(*second) :  \n",
    "#     x = first\n",
    "    seqName = second  # list, tuple\n",
    "    \n",
    "    total_sum = 0\n",
    "    for i in seqName : \n",
    "        total_sum = total_sum + i\n",
    "        \n",
    "    return total_sum\n",
    "\n",
    "print( totalSum(10, 1, 2, -5, 7  ) )"
   ]
  },
  {
   "cell_type": "code",
   "execution_count": 70,
   "id": "c83732ed",
   "metadata": {},
   "outputs": [
    {
     "name": "stdout",
     "output_type": "stream",
     "text": [
      "4\n"
     ]
    }
   ],
   "source": [
    "def totalSum(first, third, *second) : \n",
    "#     x = first\n",
    "    seqName = second  # list, tuple\n",
    "    \n",
    "    total_sum = 0\n",
    "    for i in seqName : \n",
    "        total_sum = total_sum + i\n",
    "        \n",
    "    return total_sum\n",
    "\n",
    "print( totalSum(10, 1, 2, -5, 7  ) )"
   ]
  },
  {
   "cell_type": "code",
   "execution_count": 73,
   "id": "6dd23660",
   "metadata": {},
   "outputs": [],
   "source": [
    "def myFun(*abc) : \n",
    "    print(abc)\n",
    "    print( type(abc) )"
   ]
  },
  {
   "cell_type": "code",
   "execution_count": 74,
   "id": "ee3dae9a",
   "metadata": {},
   "outputs": [
    {
     "name": "stdout",
     "output_type": "stream",
     "text": [
      "(1,)\n",
      "<class 'tuple'>\n"
     ]
    }
   ],
   "source": [
    "myFun( 1 )"
   ]
  },
  {
   "cell_type": "code",
   "execution_count": 75,
   "id": "295a54d7",
   "metadata": {},
   "outputs": [
    {
     "name": "stdout",
     "output_type": "stream",
     "text": [
      "(1, 10)\n",
      "<class 'tuple'>\n"
     ]
    }
   ],
   "source": [
    "myFun( 1, 10 )"
   ]
  },
  {
   "cell_type": "code",
   "execution_count": 76,
   "id": "c976c854",
   "metadata": {},
   "outputs": [
    {
     "name": "stdout",
     "output_type": "stream",
     "text": [
      "([10, 25],)\n",
      "<class 'tuple'>\n"
     ]
    }
   ],
   "source": [
    "myFun( [10, 25] )"
   ]
  },
  {
   "cell_type": "code",
   "execution_count": 78,
   "id": "c959af9f",
   "metadata": {},
   "outputs": [
    {
     "name": "stdout",
     "output_type": "stream",
     "text": [
      "({1: 10, 2: 20}, [1, 2, -3], 'Hello', False, 10j)\n",
      "<class 'tuple'>\n"
     ]
    }
   ],
   "source": [
    "myFun( {1 : 10, 2 : 20}, [1 , 2, -3], \"Hello\", False, 10j )"
   ]
  },
  {
   "cell_type": "code",
   "execution_count": 79,
   "id": "69732cb0",
   "metadata": {},
   "outputs": [
    {
     "ename": "TypeError",
     "evalue": "myFun() takes 1 positional argument but 5 were given",
     "output_type": "error",
     "traceback": [
      "\u001b[1;31m---------------------------------------------------------------------------\u001b[0m",
      "\u001b[1;31mTypeError\u001b[0m                                 Traceback (most recent call last)",
      "\u001b[1;32m~\\AppData\\Local\\Temp\\ipykernel_19812\\560954864.py\u001b[0m in \u001b[0;36m<module>\u001b[1;34m\u001b[0m\n\u001b[0;32m      3\u001b[0m     \u001b[0mprint\u001b[0m\u001b[1;33m(\u001b[0m \u001b[0mtype\u001b[0m\u001b[1;33m(\u001b[0m\u001b[0mabc\u001b[0m\u001b[1;33m)\u001b[0m \u001b[1;33m)\u001b[0m\u001b[1;33m\u001b[0m\u001b[1;33m\u001b[0m\u001b[0m\n\u001b[0;32m      4\u001b[0m \u001b[1;33m\u001b[0m\u001b[0m\n\u001b[1;32m----> 5\u001b[1;33m \u001b[0mmyFun\u001b[0m\u001b[1;33m(\u001b[0m \u001b[1;33m{\u001b[0m\u001b[1;36m1\u001b[0m \u001b[1;33m:\u001b[0m \u001b[1;36m10\u001b[0m\u001b[1;33m,\u001b[0m \u001b[1;36m2\u001b[0m \u001b[1;33m:\u001b[0m \u001b[1;36m20\u001b[0m\u001b[1;33m}\u001b[0m\u001b[1;33m,\u001b[0m \u001b[1;33m[\u001b[0m\u001b[1;36m1\u001b[0m \u001b[1;33m,\u001b[0m \u001b[1;36m2\u001b[0m\u001b[1;33m,\u001b[0m \u001b[1;33m-\u001b[0m\u001b[1;36m3\u001b[0m\u001b[1;33m]\u001b[0m\u001b[1;33m,\u001b[0m \u001b[1;34m\"Hello\"\u001b[0m\u001b[1;33m,\u001b[0m \u001b[1;32mFalse\u001b[0m\u001b[1;33m,\u001b[0m \u001b[1;36m10j\u001b[0m \u001b[1;33m)\u001b[0m\u001b[1;33m\u001b[0m\u001b[1;33m\u001b[0m\u001b[0m\n\u001b[0m",
      "\u001b[1;31mTypeError\u001b[0m: myFun() takes 1 positional argument but 5 were given"
     ]
    }
   ],
   "source": [
    "def myFun(abc) : \n",
    "    print(abc)\n",
    "    print( type(abc) )\n",
    "    \n",
    "myFun( {1 : 10, 2 : 20}, [1 , 2, -3], \"Hello\", False, 10j )"
   ]
  },
  {
   "cell_type": "code",
   "execution_count": null,
   "id": "abcb74fc",
   "metadata": {},
   "outputs": [],
   "source": [
    "# 5.  Variable Length Arguments : the **args will take it as Dict\n"
   ]
  },
  {
   "cell_type": "code",
   "execution_count": 81,
   "id": "668b5e78",
   "metadata": {},
   "outputs": [
    {
     "name": "stdout",
     "output_type": "stream",
     "text": [
      "{'a': {1: 10, 2: 20}, 'b': [1, 2, -3], 'c': 'Hello', 'd': False, 'e': 10j}\n",
      "<class 'dict'>\n"
     ]
    }
   ],
   "source": [
    "def myFun(**abc) : \n",
    "    print(abc)\n",
    "    print( type(abc) )\n",
    "    \n",
    "myFun( a = {1 : 10, 2 : 20}, b = [1 , 2, -3], c = \"Hello\", d = False, e =  10j )"
   ]
  },
  {
   "cell_type": "code",
   "execution_count": null,
   "id": "4b63ba71",
   "metadata": {},
   "outputs": [],
   "source": []
  },
  {
   "cell_type": "code",
   "execution_count": null,
   "id": "09342ab1",
   "metadata": {},
   "outputs": [],
   "source": []
  },
  {
   "cell_type": "code",
   "execution_count": null,
   "id": "c0ff123d",
   "metadata": {},
   "outputs": [],
   "source": []
  },
  {
   "cell_type": "code",
   "execution_count": null,
   "id": "51323901",
   "metadata": {},
   "outputs": [],
   "source": [
    "pen = \"red\"\n",
    "\n",
    "def fun() :\n",
    "    a = 10\n",
    "    b = 25\n",
    "    c = 30\n",
    "    print( a * b )\n",
    "    print( c / b )\n",
    "    print(a  c )"
   ]
  },
  {
   "cell_type": "code",
   "execution_count": null,
   "id": "128f9ea2",
   "metadata": {},
   "outputs": [],
   "source": [
    "pen = \"red\"\n",
    "\n",
    "def fun() :\n",
    "    a = 10\n",
    "    b = 25\n",
    "    c = 30\n",
    "    print( a * b )\n",
    "    print( c / b )\n",
    "    print(a - d )"
   ]
  },
  {
   "cell_type": "code",
   "execution_count": null,
   "id": "d7817f3b",
   "metadata": {},
   "outputs": [],
   "source": [
    "print( id(fun) )"
   ]
  },
  {
   "cell_type": "code",
   "execution_count": null,
   "id": "3656db61",
   "metadata": {},
   "outputs": [],
   "source": [
    "fun()  # RUN............"
   ]
  },
  {
   "cell_type": "code",
   "execution_count": null,
   "id": "7fe5876d",
   "metadata": {},
   "outputs": [],
   "source": [
    "a = 10\n",
    "b = 25\n",
    "c = 30\n",
    "print( a * b )\n",
    "print( c / b )\n",
    "print(a - d )"
   ]
  },
  {
   "cell_type": "code",
   "execution_count": null,
   "id": "ec88ab9a",
   "metadata": {},
   "outputs": [],
   "source": []
  },
  {
   "cell_type": "code",
   "execution_count": 82,
   "id": "d0569c61",
   "metadata": {},
   "outputs": [],
   "source": [
    "pen = \"red\"\n",
    "\n",
    "def fun() :\n",
    "    pen = \"yellow\"\n",
    "    print(pen)\n"
   ]
  },
  {
   "cell_type": "code",
   "execution_count": 83,
   "id": "8e461251",
   "metadata": {},
   "outputs": [
    {
     "name": "stdout",
     "output_type": "stream",
     "text": [
      "red\n",
      "yellow\n",
      "red\n"
     ]
    }
   ],
   "source": [
    "print(pen)\n",
    "fun()\n",
    "print(pen)"
   ]
  },
  {
   "cell_type": "code",
   "execution_count": null,
   "id": "18f0d640",
   "metadata": {},
   "outputs": [],
   "source": [
    "ry\n",
    "yy\n",
    "yr\n",
    "rr"
   ]
  },
  {
   "cell_type": "code",
   "execution_count": 113,
   "id": "ee158bac",
   "metadata": {},
   "outputs": [
    {
     "name": "stdout",
     "output_type": "stream",
     "text": [
      "10.0\n",
      "20.0\n"
     ]
    }
   ],
   "source": [
    "x = 100\n",
    "print( x / 10 )\n",
    "\n",
    "x = 200\n",
    "print( x / 10 )\n"
   ]
  },
  {
   "cell_type": "code",
   "execution_count": null,
   "id": "68a214e8",
   "metadata": {},
   "outputs": [],
   "source": []
  },
  {
   "cell_type": "code",
   "execution_count": 5,
   "id": "b718d215",
   "metadata": {},
   "outputs": [],
   "source": [
    "pen = \"red\"\n",
    "\n",
    "def fun() :\n",
    "    print(pen)\n"
   ]
  },
  {
   "cell_type": "code",
   "execution_count": 6,
   "id": "18fe331b",
   "metadata": {},
   "outputs": [
    {
     "name": "stdout",
     "output_type": "stream",
     "text": [
      "red\n",
      "red\n"
     ]
    }
   ],
   "source": [
    "print(pen)\n",
    "fun()\n"
   ]
  },
  {
   "cell_type": "code",
   "execution_count": null,
   "id": "1e6d3faf",
   "metadata": {},
   "outputs": [],
   "source": [
    "ry\n",
    "yy\n",
    "yr\n",
    "rr"
   ]
  },
  {
   "cell_type": "code",
   "execution_count": null,
   "id": "2e935188",
   "metadata": {},
   "outputs": [],
   "source": []
  },
  {
   "cell_type": "code",
   "execution_count": 1,
   "id": "231a3305",
   "metadata": {},
   "outputs": [],
   "source": [
    "\n",
    "def fun() :\n",
    "    pen = \"yellow\"\n",
    "    print(pen)\n"
   ]
  },
  {
   "cell_type": "code",
   "execution_count": 4,
   "id": "f22d9a7c",
   "metadata": {},
   "outputs": [
    {
     "ename": "NameError",
     "evalue": "name 'pen' is not defined",
     "output_type": "error",
     "traceback": [
      "\u001b[1;31m---------------------------------------------------------------------------\u001b[0m",
      "\u001b[1;31mNameError\u001b[0m                                 Traceback (most recent call last)",
      "\u001b[1;32m~\\AppData\\Local\\Temp\\ipykernel_19812\\3824473748.py\u001b[0m in \u001b[0;36m<module>\u001b[1;34m\u001b[0m\n\u001b[1;32m----> 1\u001b[1;33m \u001b[0mprint\u001b[0m\u001b[1;33m(\u001b[0m\u001b[0mpen\u001b[0m\u001b[1;33m)\u001b[0m\u001b[1;33m\u001b[0m\u001b[1;33m\u001b[0m\u001b[0m\n\u001b[0m\u001b[0;32m      2\u001b[0m \u001b[0mfun\u001b[0m\u001b[1;33m(\u001b[0m\u001b[1;33m)\u001b[0m\u001b[1;33m\u001b[0m\u001b[1;33m\u001b[0m\u001b[0m\n",
      "\u001b[1;31mNameError\u001b[0m: name 'pen' is not defined"
     ]
    }
   ],
   "source": [
    "print(pen)\n",
    "fun()\n"
   ]
  },
  {
   "cell_type": "code",
   "execution_count": null,
   "id": "ff3fff64",
   "metadata": {},
   "outputs": [],
   "source": [
    "ry\n",
    "yy\n",
    "yr\n",
    "rr"
   ]
  },
  {
   "cell_type": "code",
   "execution_count": null,
   "id": "59a6c2fd",
   "metadata": {},
   "outputs": [],
   "source": []
  },
  {
   "cell_type": "code",
   "execution_count": 114,
   "id": "9314e148",
   "metadata": {},
   "outputs": [],
   "source": [
    "pen = \"red\"\n",
    "\n",
    "def fun() :\n",
    "    global pen\n",
    "    pen = \"yellow\"\n",
    "    print(pen.upper())\n",
    "    global notebook\n",
    "    notebook = pen.upper().center(30)\n"
   ]
  },
  {
   "cell_type": "code",
   "execution_count": 115,
   "id": "c1d6356a",
   "metadata": {},
   "outputs": [
    {
     "name": "stdout",
     "output_type": "stream",
     "text": [
      "YELLOW\n"
     ]
    }
   ],
   "source": [
    "fun()"
   ]
  },
  {
   "cell_type": "code",
   "execution_count": 116,
   "id": "e5cdddfc",
   "metadata": {},
   "outputs": [],
   "source": [
    "def fun2() : \n",
    "    print(notebook)"
   ]
  },
  {
   "cell_type": "code",
   "execution_count": 117,
   "id": "3ad710bf",
   "metadata": {},
   "outputs": [
    {
     "name": "stdout",
     "output_type": "stream",
     "text": [
      "            YELLOW            \n"
     ]
    }
   ],
   "source": [
    "fun2()"
   ]
  },
  {
   "cell_type": "code",
   "execution_count": 118,
   "id": "0e4a4f1b",
   "metadata": {},
   "outputs": [
    {
     "data": {
      "text/plain": [
       "'yellow'"
      ]
     },
     "execution_count": 118,
     "metadata": {},
     "output_type": "execute_result"
    }
   ],
   "source": [
    "pen"
   ]
  },
  {
   "cell_type": "code",
   "execution_count": 97,
   "id": "07d17ac5",
   "metadata": {},
   "outputs": [
    {
     "data": {
      "text/plain": [
       "'            YELLOW            '"
      ]
     },
     "execution_count": 97,
     "metadata": {},
     "output_type": "execute_result"
    }
   ],
   "source": [
    "notebook"
   ]
  },
  {
   "cell_type": "code",
   "execution_count": null,
   "id": "87bdaf4c",
   "metadata": {},
   "outputs": [],
   "source": []
  },
  {
   "cell_type": "code",
   "execution_count": null,
   "id": "70491bb4",
   "metadata": {},
   "outputs": [],
   "source": []
  },
  {
   "cell_type": "code",
   "execution_count": 104,
   "id": "9783c6bc",
   "metadata": {},
   "outputs": [],
   "source": [
    "def f1()  : \n",
    "    def f2() :  # you can make it global using decorators... Website using Python...\n",
    "        return 'Fun 2'\n",
    "    return 'Fun 1'\n",
    "    "
   ]
  },
  {
   "cell_type": "code",
   "execution_count": 105,
   "id": "8d7e6991",
   "metadata": {},
   "outputs": [
    {
     "ename": "NameError",
     "evalue": "name 'f2' is not defined",
     "output_type": "error",
     "traceback": [
      "\u001b[1;31m---------------------------------------------------------------------------\u001b[0m",
      "\u001b[1;31mNameError\u001b[0m                                 Traceback (most recent call last)",
      "\u001b[1;32m~\\AppData\\Local\\Temp\\ipykernel_19812\\1603317987.py\u001b[0m in \u001b[0;36m<module>\u001b[1;34m\u001b[0m\n\u001b[1;32m----> 1\u001b[1;33m \u001b[0mf2\u001b[0m\u001b[1;33m(\u001b[0m\u001b[1;33m)\u001b[0m\u001b[1;33m\u001b[0m\u001b[1;33m\u001b[0m\u001b[0m\n\u001b[0m",
      "\u001b[1;31mNameError\u001b[0m: name 'f2' is not defined"
     ]
    }
   ],
   "source": [
    "f2()"
   ]
  },
  {
   "cell_type": "code",
   "execution_count": 106,
   "id": "290b49bf",
   "metadata": {},
   "outputs": [
    {
     "data": {
      "text/plain": [
       "'Fun 1'"
      ]
     },
     "execution_count": 106,
     "metadata": {},
     "output_type": "execute_result"
    }
   ],
   "source": [
    "f1()"
   ]
  },
  {
   "cell_type": "code",
   "execution_count": null,
   "id": "0c45fa5d",
   "metadata": {},
   "outputs": [],
   "source": []
  },
  {
   "cell_type": "code",
   "execution_count": null,
   "id": "e0d1fd16",
   "metadata": {},
   "outputs": [],
   "source": []
  },
  {
   "cell_type": "code",
   "execution_count": null,
   "id": "d5cd10a2",
   "metadata": {},
   "outputs": [],
   "source": []
  },
  {
   "cell_type": "code",
   "execution_count": null,
   "id": "50185d4a",
   "metadata": {},
   "outputs": [],
   "source": []
  },
  {
   "cell_type": "code",
   "execution_count": null,
   "id": "c9c064c3",
   "metadata": {},
   "outputs": [],
   "source": []
  },
  {
   "cell_type": "code",
   "execution_count": null,
   "id": "e43befab",
   "metadata": {},
   "outputs": [],
   "source": []
  },
  {
   "cell_type": "code",
   "execution_count": null,
   "id": "d996588d",
   "metadata": {},
   "outputs": [],
   "source": []
  },
  {
   "cell_type": "code",
   "execution_count": null,
   "id": "80d29272",
   "metadata": {},
   "outputs": [],
   "source": []
  },
  {
   "cell_type": "code",
   "execution_count": null,
   "id": "35e30960",
   "metadata": {},
   "outputs": [],
   "source": []
  }
 ],
 "metadata": {
  "kernelspec": {
   "display_name": "Python 3 (ipykernel)",
   "language": "python",
   "name": "python3"
  },
  "language_info": {
   "codemirror_mode": {
    "name": "ipython",
    "version": 3
   },
   "file_extension": ".py",
   "mimetype": "text/x-python",
   "name": "python",
   "nbconvert_exporter": "python",
   "pygments_lexer": "ipython3",
   "version": "3.10.9"
  }
 },
 "nbformat": 4,
 "nbformat_minor": 5
}
