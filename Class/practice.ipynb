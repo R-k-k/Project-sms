{
 "cells": [
  {
   "cell_type": "code",
   "execution_count": 4,
   "id": "664d75bb",
   "metadata": {},
   "outputs": [
    {
     "name": "stdout",
     "output_type": "stream",
     "text": [
      "Mention Place ::       Rohith\n",
      "Rohith\n",
      "Rohith\n",
      "      Rohith\n"
     ]
    }
   ],
   "source": [
    "stringName = input(\"Mention Place :: \")\n",
    "print( stringName.strip() )\n",
    "print( stringName.lstrip() )\n",
    "print( stringName.rstrip() )"
   ]
  },
  {
   "cell_type": "code",
   "execution_count": 18,
   "id": "59be5d1e",
   "metadata": {},
   "outputs": [
    {
     "name": "stdout",
     "output_type": "stream",
     "text": [
      "13\n"
     ]
    }
   ],
   "source": [
    "R='i like cricket'\n",
    "pos=R.find(\"t\")\n",
    "print(pos)"
   ]
  },
  {
   "cell_type": "code",
   "execution_count": 22,
   "id": "3ad7e4b1",
   "metadata": {},
   "outputs": [
    {
     "name": "stdout",
     "output_type": "stream",
     "text": [
      "res : ['this is 1478 python ', 'programming class 578 scheduled ', 'ON s', 'turday']\n"
     ]
    }
   ],
   "source": [
    "myString = \"this is 1478 python @programming class 578 scheduled @ON s@turday\"\n",
    "print(f\"res : {myString.split('@')}\")"
   ]
  },
  {
   "cell_type": "code",
   "execution_count": 39,
   "id": "07edab4c",
   "metadata": {},
   "outputs": [
    {
     "ename": "IndentationError",
     "evalue": "unexpected indent (2192441300.py, line 6)",
     "output_type": "error",
     "traceback": [
      "\u001b[1;36m  Cell \u001b[1;32mIn[39], line 6\u001b[1;36m\u001b[0m\n\u001b[1;33m    print(f\"date : {message[0]}\",f\"{\\n}\",f\"month : {message[1]}\")\u001b[0m\n\u001b[1;37m    ^\u001b[0m\n\u001b[1;31mIndentationError\u001b[0m\u001b[1;31m:\u001b[0m unexpected indent\n"
     ]
    }
   ],
   "source": [
    "message = \"Nitish birthday is coming soon, set a reminder for 15-June\"\n",
    "res=message.split(\" \")\n",
    "res\n",
    "message= res[-1].split('-')\n",
    "message\n",
    "    print(f\"date : {message[0]}\",f\"{\\n}\",f\"month : {message[1]}\")"
   ]
  },
  {
   "cell_type": "code",
   "execution_count": 51,
   "id": "5902a5ee",
   "metadata": {},
   "outputs": [
    {
     "name": "stdout",
     "output_type": "stream",
     "text": [
      "1\n"
     ]
    }
   ],
   "source": [
    "s2 = [7 , \"P\", False, 4.0]\n",
    "\n",
    "#print(str(s2[0])*5)\n",
    "print(s2.count(7))"
   ]
  },
  {
   "cell_type": "code",
   "execution_count": 60,
   "id": "00480f46",
   "metadata": {},
   "outputs": [
    {
     "name": "stdout",
     "output_type": "stream",
     "text": [
      "earth\n",
      "earth\n",
      "earth\n",
      "earth\n",
      "earth\n"
     ]
    }
   ],
   "source": [
    "for i in range(5):\n",
    "    print('earth')"
   ]
  },
  {
   "cell_type": "code",
   "execution_count": 65,
   "id": "f242d8d8",
   "metadata": {},
   "outputs": [
    {
     "name": "stdout",
     "output_type": "stream",
     "text": [
      "Mention the animal name ==>tiger\n",
      "Animal name taken as in put = tiger\n",
      "Mention the animal name ==>lion\n",
      "Animal name taken as in put = lion\n",
      "Mention the animal name ==>bear\n",
      "Animal name taken as in put = bear\n"
     ]
    }
   ],
   "source": [
    "for i in range(3):\n",
    " animalname= input('Mention the animal name ==>')\n",
    " print(f'Animal name taken as in put = {animalname}')"
   ]
  },
  {
   "cell_type": "code",
   "execution_count": null,
   "id": "ed7c7cb1",
   "metadata": {},
   "outputs": [],
   "source": [
    "stringName = \"python\"\n",
    "for i in range(len(stringName)):\n",
    "    print(i,stringName[i])\n",
    "    "
   ]
  },
  {
   "cell_type": "code",
   "execution_count": null,
   "id": "9ba34b33",
   "metadata": {},
   "outputs": [],
   "source": [
    "listName = [10, 20 , 50]\n",
    "for i in range(len(listName)):\n",
    "    print(i,listName[i])"
   ]
  },
  {
   "cell_type": "code",
   "execution_count": null,
   "id": "520ffc9d",
   "metadata": {},
   "outputs": [],
   "source": [
    "# Use a loop to take fruit name from the user and disply it to the output screen. also display the length and remove blank spaces....\n",
    "# do it for 5 fruits...\n",
    "\n",
    "for i in range(5):\n",
    "    fruits= input('enter the fruits Name ==>')\n",
    "    print(f\"fruits name taken as input = {fruits}\")"
   ]
  },
  {
   "cell_type": "code",
   "execution_count": null,
   "id": "c355f624",
   "metadata": {},
   "outputs": [],
   "source": [
    "for i in range(5):\n",
    "    fruits= input('enter the fruits Name ==>')\n",
    "    print(f\"fruits name taken as input = {fruits}\""
   ]
  },
  {
   "cell_type": "code",
   "execution_count": null,
   "id": "b420b0c4",
   "metadata": {},
   "outputs": [],
   "source": [
    "for i in range(5):\n",
    "    fruits= input('enter the fruits Name ==>')\n",
    "    print(f\"fruits name taken as input = {fruits}\"\n",
    "          "
   ]
  },
  {
   "cell_type": "code",
   "execution_count": null,
   "id": "734ea6fd",
   "metadata": {},
   "outputs": [],
   "source": [
    "for i in range(5):\n",
    "    fruits= input('enter the fruits Name ==>')\n",
    "    print(f\"fruits name taken as input = {fruits}\""
   ]
  },
  {
   "cell_type": "code",
   "execution_count": null,
   "id": "86c4d123",
   "metadata": {},
   "outputs": [
    {
     "name": "stdout",
     "output_type": "stream",
     "text": [
      "enter the fruits Name ==>  Apple\n",
      "fruits name taken as input = Apple has length 7\n"
     ]
    }
   ],
   "source": [
    "for i in range(5):\n",
    "    fruits= input('enter the fruits Name ==>')\n",
    "    print(f\"fruits name taken as input = {fruits.strip()} has length {len(fruits)}\")"
   ]
  },
  {
   "cell_type": "code",
   "execution_count": 6,
   "id": "aada940a",
   "metadata": {},
   "outputs": [],
   "source": [
    "for i in range(5,1,1):\n",
    "    print(i*'*')"
   ]
  },
  {
   "cell_type": "code",
   "execution_count": 17,
   "id": "5bd1e944",
   "metadata": {},
   "outputs": [
    {
     "name": "stdout",
     "output_type": "stream",
     "text": [
      "*****\n",
      "****\n",
      "***\n",
      "**\n",
      "*\n"
     ]
    }
   ],
   "source": [
    "for i in range(5, 0,-1):\n",
    "    print(i*'*')"
   ]
  },
  {
   "cell_type": "code",
   "execution_count": 16,
   "id": "3c3d9f7d",
   "metadata": {
    "scrolled": true
   },
   "outputs": [
    {
     "name": "stdout",
     "output_type": "stream",
     "text": [
      "*****\n",
      "****\n",
      "***\n",
      "**\n",
      "*\n"
     ]
    }
   ],
   "source": [
    "for s in range(5, 0, -1) : # 5 4 3 2 1\n",
    "    print(s * \"*\")"
   ]
  },
  {
   "cell_type": "code",
   "execution_count": 26,
   "id": "a154c9e2",
   "metadata": {},
   "outputs": [
    {
     "name": "stdout",
     "output_type": "stream",
     "text": [
      "1\n",
      "22\n",
      "333\n",
      "4444\n",
      "55555\n"
     ]
    }
   ],
   "source": [
    "for i in range(1,6):\n",
    "    print(str(i)*i)"
   ]
  },
  {
   "cell_type": "code",
   "execution_count": 46,
   "id": "fd94ae20",
   "metadata": {},
   "outputs": [
    {
     "name": "stdout",
     "output_type": "stream",
     "text": [
      "j\n",
      "aa\n",
      "vvv\n",
      "aaaa\n"
     ]
    }
   ],
   "source": [
    "word='java'\n",
    "for i in range(len(word)):\n",
    "    print((i+1)* word[i])"
   ]
  },
  {
   "cell_type": "code",
   "execution_count": 45,
   "id": "53820873",
   "metadata": {},
   "outputs": [
    {
     "name": "stdout",
     "output_type": "stream",
     "text": [
      "j\n",
      "aa\n",
      "vvv\n",
      "aaaa\n"
     ]
    }
   ],
   "source": [
    "word = \"java\"\n",
    "\n",
    "for w in range( len(word) ) : \n",
    "    print((w+1) * word[w])"
   ]
  },
  {
   "cell_type": "code",
   "execution_count": 50,
   "id": "d0dd8adf",
   "metadata": {},
   "outputs": [
    {
     "name": "stdout",
     "output_type": "stream",
     "text": [
      "i=0 character value=p\n",
      "i=1 character value=y\n",
      "i=2 character value=t\n",
      "i=3 character value=h\n",
      "i=4 character value=o\n",
      "i=5 character value=n\n"
     ]
    }
   ],
   "source": [
    "word=\"python\"\n",
    "\n",
    "for i in range(len(word)):\n",
    "    print(f\"i={i}\",f\"character value={word[i]}\")"
   ]
  },
  {
   "cell_type": "code",
   "execution_count": 2,
   "id": "b34b1020",
   "metadata": {},
   "outputs": [
    {
     "name": "stdout",
     "output_type": "stream",
     "text": [
      "['an', 'otp', '5454', 'is', 'shared', 'on', 'mobile.', '']\n",
      "otp received - 5454\n"
     ]
    }
   ],
   "source": [
    "message = \"an otp 5454 is shared on mobile. \"\n",
    "res=message.split(\" \")\n",
    "print(res)\n",
    "\n",
    "for i in range(len(res)):\n",
    "    if res[i].isdigit():\n",
    "        otp=res[i]\n",
    "        print(f\"otp received - {otp}\")\n"
   ]
  },
  {
   "cell_type": "code",
   "execution_count": 40,
   "id": "0d3aba5f",
   "metadata": {},
   "outputs": [
    {
     "name": "stdout",
     "output_type": "stream",
     "text": [
      "otp received - 5454\n",
      "mobile no is - 8745121203\n"
     ]
    }
   ],
   "source": [
    "message = \"an otp 5454 is shared on mobile number 8745121203\"\n",
    "res=message.split(\" \")\n",
    "res\n",
    "\n",
    "\n",
    "for i in range(len(res)):\n",
    "     if res[i].isdigit() and len(res[i])<10:\n",
    "        otp=res[i]\n",
    "        print(f\"otp received - {otp}\")\n",
    "     elif res[i].isdigit() and len(res[i])==10:\n",
    "        mobilenum=res[i]\n",
    "        print(f\"mobile no is - {mobilenum}\")"
   ]
  },
  {
   "cell_type": "code",
   "execution_count": 33,
   "id": "84188c9f",
   "metadata": {},
   "outputs": [
    {
     "name": "stdout",
     "output_type": "stream",
     "text": [
      "['an', 'otp', '5454', 'is', 'shared', 'on', 'mobile', 'number', '8745121203']\n",
      "5454\n",
      "8745121203\n"
     ]
    }
   ],
   "source": [
    "# Find the OTP and mobile number\n",
    "message = \"an otp 5454 is shared on mobile number 8745121203\"\n",
    "\n",
    "res = message.split(\" \")\n",
    "print(res)\n",
    "otp = \"\"\n",
    "mobile = \"\"\n",
    "\n",
    "for i in range( len(res) ) : \n",
    "#     print(i, res[i])\n",
    "    if res[i].isdigit() and len(res[i])<10: \n",
    "        otp = res[i]\n",
    "        print(otp)\n",
    "    elif res[i].isdigit() and len(res[i])==10: \n",
    "        mobile = res[i]\n",
    "        print(mobile)\n",
    "\n",
    "# print(f\"OPT Received : {otp}\")\n",
    "\n"
   ]
  },
  {
   "cell_type": "code",
   "execution_count": 45,
   "id": "065e462a",
   "metadata": {},
   "outputs": [
    {
     "name": "stdout",
     "output_type": "stream",
     "text": [
      "the valid mobile num is: 8745121203\n",
      " Mail id is :nitish@gmail.com\n"
     ]
    }
   ],
   "source": [
    "message = \"an otp 5454 is shared on mobile number 8745121203 and nitish@gmail.com\"\n",
    "res=message.split(\" \")\n",
    "res\n",
    "\n",
    "for i in range(len(res)):\n",
    "    if res[i].isdigit() and len(res[i])==10:\n",
    "        mobilenum=res[i]\n",
    "        print(f\"the valid mobile num is: {mobilenum}\")\n",
    "    elif res[i].count('@'):\n",
    "        mailid=res[i]\n",
    "        print(f\" Mail id is :{mailid}\")\n",
    "    \n",
    "    \n"
   ]
  },
  {
   "cell_type": "code",
   "execution_count": 46,
   "id": "4b77ffa6",
   "metadata": {},
   "outputs": [
    {
     "name": "stdout",
     "output_type": "stream",
     "text": [
      "the valid mobile num is: 8745121203\n",
      " Mail id is :nitish@gmail.com\n"
     ]
    }
   ],
   "source": [
    "message = \"an otp 5454 is shared on mobile number 8745121203 9965842 nitish@gmail.com and company@yahoo@.com\"\n",
    "for i in range(len(res)):\n",
    "    if res[i].isdigit() and len(res[i])==10:\n",
    "        mobilenum=res[i]\n",
    "        print(f\"the valid mobile num is: {mobilenum}\")\n",
    "    elif res[i].count('@')==1:\n",
    "        mailid=res[i]\n",
    "        print(f\" Mail id is :{mailid}\")\n",
    "    \n"
   ]
  }
 ],
 "metadata": {
  "kernelspec": {
   "display_name": "Python 3 (ipykernel)",
   "language": "python",
   "name": "python3"
  },
  "language_info": {
   "codemirror_mode": {
    "name": "ipython",
    "version": 3
   },
   "file_extension": ".py",
   "mimetype": "text/x-python",
   "name": "python",
   "nbconvert_exporter": "python",
   "pygments_lexer": "ipython3",
   "version": "3.10.9"
  }
 },
 "nbformat": 4,
 "nbformat_minor": 5
}
